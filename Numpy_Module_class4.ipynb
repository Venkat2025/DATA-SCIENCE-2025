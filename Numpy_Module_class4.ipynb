{
 "cells": [
  {
   "cell_type": "code",
   "execution_count": 1,
   "id": "0c4668ac",
   "metadata": {},
   "outputs": [
    {
     "data": {
      "text/plain": [
       "array([ 4,  4,  8,  0,  5, 17, 14,  1, 17, 12], dtype=int32)"
      ]
     },
     "execution_count": 1,
     "metadata": {},
     "output_type": "execute_result"
    }
   ],
   "source": [
    "import numpy as np\n",
    "data=np.random.randint(0,20,10)\n",
    "data"
   ]
  },
  {
   "cell_type": "code",
   "execution_count": 2,
   "id": "932da437",
   "metadata": {},
   "outputs": [
    {
     "data": {
      "text/plain": [
       "np.float64(4.0)"
      ]
     },
     "execution_count": 2,
     "metadata": {},
     "output_type": "execute_result"
    }
   ],
   "source": [
    "np.quantile(data,0.25)"
   ]
  },
  {
   "cell_type": "code",
   "execution_count": 3,
   "id": "1402d961",
   "metadata": {},
   "outputs": [
    {
     "data": {
      "text/plain": [
       "np.float64(6.5)"
      ]
     },
     "execution_count": 3,
     "metadata": {},
     "output_type": "execute_result"
    }
   ],
   "source": [
    "np.quantile(data,0.5)"
   ]
  },
  {
   "cell_type": "code",
   "execution_count": 6,
   "id": "fdb35034",
   "metadata": {},
   "outputs": [
    {
     "data": {
      "text/plain": [
       "np.float64(13.5)"
      ]
     },
     "execution_count": 6,
     "metadata": {},
     "output_type": "execute_result"
    }
   ],
   "source": [
    "np.quantile(data,0.75)"
   ]
  },
  {
   "cell_type": "code",
   "execution_count": 5,
   "id": "6bf9eca7",
   "metadata": {},
   "outputs": [
    {
     "data": {
      "text/plain": [
       "np.int32(17)"
      ]
     },
     "execution_count": 5,
     "metadata": {},
     "output_type": "execute_result"
    }
   ],
   "source": [
    "np.quantile(data,1)"
   ]
  },
  {
   "cell_type": "code",
   "execution_count": 9,
   "id": "21545ecf",
   "metadata": {},
   "outputs": [
    {
     "data": {
      "text/plain": [
       "array([[ 9,  0,  5],\n",
       "       [11, 14,  9],\n",
       "       [16, 17,  9]], dtype=int32)"
      ]
     },
     "execution_count": 9,
     "metadata": {},
     "output_type": "execute_result"
    }
   ],
   "source": [
    "d=np.random.randint(0,20,(3,3))\n",
    "d"
   ]
  },
  {
   "cell_type": "code",
   "execution_count": 10,
   "id": "da7f4c0b",
   "metadata": {},
   "outputs": [
    {
     "data": {
      "text/plain": [
       "array([[ 1.        , -0.64622084, -0.17806844],\n",
       "       [-0.64622084,  1.        ,  0.8660254 ],\n",
       "       [-0.17806844,  0.8660254 ,  1.        ]])"
      ]
     },
     "execution_count": 10,
     "metadata": {},
     "output_type": "execute_result"
    }
   ],
   "source": [
    "np.corrcoef(d)"
   ]
  },
  {
   "cell_type": "code",
   "execution_count": 11,
   "id": "1eccf610",
   "metadata": {},
   "outputs": [
    {
     "name": "stderr",
     "output_type": "stream",
     "text": [
      "<>:2: SyntaxWarning: invalid escape sequence '\\D'\n",
      "<>:2: SyntaxWarning: invalid escape sequence '\\D'\n",
      "C:\\Users\\P VENKATA RAKESH\\AppData\\Local\\Temp\\ipykernel_25808\\2087543841.py:2: SyntaxWarning: invalid escape sequence '\\D'\n",
      "  np.loadtxt(\"E:\\DATA SCIENCE\\Python\\Sample.csv\",delimiter=',',skiprows=1)\n"
     ]
    },
    {
     "data": {
      "text/plain": [
       "array([[ 21.,  54.,  40.],\n",
       "       [ 96.,  46.,  83.],\n",
       "       [ 75.,  86.,  76.],\n",
       "       [ 17.,  81.,  83.],\n",
       "       [100.,  78.,  28.],\n",
       "       [ 72.,  41., 100.]])"
      ]
     },
     "execution_count": 11,
     "metadata": {},
     "output_type": "execute_result"
    }
   ],
   "source": [
    "import numpy as np\n",
    "np.loadtxt(\"E:\\DATA SCIENCE\\Python\\Sample.csv\",delimiter=',',skiprows=1)"
   ]
  },
  {
   "cell_type": "code",
   "execution_count": 13,
   "id": "27a245ee",
   "metadata": {},
   "outputs": [
    {
     "data": {
      "text/plain": [
       "array([[17, 41, 98, 14, 15, 76, 93, 16, 33, 71],\n",
       "       [15, 11, 28,  8, 92, 63, 79, 37, 71, 45],\n",
       "       [ 4, 74, 16,  1, 52, 42, 82, 46, 22, 56],\n",
       "       [66, 61, 66, 22, 43,  8, 90, 36, 91, 52],\n",
       "       [89, 73, 48, 62, 24, 28, 11,  6, 13, 81],\n",
       "       [67, 11, 56, 18, 23, 14, 27, 66, 12, 16],\n",
       "       [12, 86, 69, 59, 44,  8, 14, 44,  7, 55],\n",
       "       [39, 47, 31, 48, 85, 18, 73, 52, 29, 76],\n",
       "       [93, 74, 86, 12, 54, 62, 10, 28, 78, 36],\n",
       "       [90, 67,  8, 54, 34, 87, 15, 19, 56, 84]], dtype=int32)"
      ]
     },
     "execution_count": 13,
     "metadata": {},
     "output_type": "execute_result"
    }
   ],
   "source": [
    "data=np.random.randint(0,100,(10,10))\n",
    "data"
   ]
  },
  {
   "cell_type": "code",
   "execution_count": 15,
   "id": "2a817000",
   "metadata": {},
   "outputs": [],
   "source": [
    "x=np.save(\"array.npy\",data)\n",
    "x"
   ]
  },
  {
   "cell_type": "code",
   "execution_count": null,
   "id": "5f70ced4",
   "metadata": {},
   "outputs": [
    {
     "name": "stdout",
     "output_type": "stream",
     "text": [
      "Loaded from npy [[32 27 78 56 81]\n",
      " [98 76 19 76 90]\n",
      " [12  9 25 12 68]\n",
      " [29 83 10 92 68]\n",
      " [34 96 13 90 80]\n",
      " [20 29 26 20 25]\n",
      " [ 1  4 22 26 18]\n",
      " [72  3  1 21 95]\n",
      " [23 70 97 54 66]\n",
      " [19 79 75 33 23]]\n"
     ]
    }
   ],
   "source": [
    "import numpy as np\n",
    "arr=np.random.randint(0,100,(10,5))\n",
    "np.save(\"array.npy\",arr)  #save file first\n",
    "load=np.load(\"array.npy\",) # then load\n",
    "print(\"Loaded from npy\",load)"
   ]
  },
  {
   "cell_type": "code",
   "execution_count": 20,
   "id": "03e53ca8",
   "metadata": {},
   "outputs": [
    {
     "data": {
      "text/plain": [
       "array([1, 2, 3, 4, 5])"
      ]
     },
     "execution_count": 20,
     "metadata": {},
     "output_type": "execute_result"
    }
   ],
   "source": [
    "arr=np.fromstring(\"1 2 3 4 5\",sep=' ',dtype=int)\n",
    "arr"
   ]
  },
  {
   "cell_type": "code",
   "execution_count": 30,
   "id": "f1820eaf",
   "metadata": {},
   "outputs": [
    {
     "name": "stdout",
     "output_type": "stream",
     "text": [
      "[1.1 2.2 3.3 4.4 5.5]\n"
     ]
    }
   ],
   "source": [
    "arr=np.fromstring(\"1.1,2.2,3.3,4.4,5.5\",sep=',')\n",
    "print(arr)"
   ]
  },
  {
   "cell_type": "code",
   "execution_count": 31,
   "id": "d8d37ce1",
   "metadata": {},
   "outputs": [
    {
     "name": "stdout",
     "output_type": "stream",
     "text": [
      "[1.1 2.2 3.3]\n"
     ]
    }
   ],
   "source": [
    "arr=np.fromstring(\"1.1,2.2,3.3,4.4,5.5\",sep=',',count=3)\n",
    "print(arr)"
   ]
  },
  {
   "cell_type": "code",
   "execution_count": 35,
   "id": "77373f20",
   "metadata": {},
   "outputs": [
    {
     "name": "stdout",
     "output_type": "stream",
     "text": [
      "Data Science\n",
      "Machine Learning\n",
      "Gen AI\n",
      "Python\n",
      "SQL\n"
     ]
    },
    {
     "name": "stderr",
     "output_type": "stream",
     "text": [
      "<>:1: SyntaxWarning: invalid escape sequence '\\D'\n",
      "<>:1: SyntaxWarning: invalid escape sequence '\\D'\n",
      "C:\\Users\\P VENKATA RAKESH\\AppData\\Local\\Temp\\ipykernel_25808\\416439599.py:1: SyntaxWarning: invalid escape sequence '\\D'\n",
      "  txt=open(\"E:\\DATA SCIENCE\\Python\\samp.txt\")\n"
     ]
    }
   ],
   "source": [
    "txt=open(\"E:\\DATA SCIENCE\\Python\\samp.txt\")\n",
    "print(txt.read())"
   ]
  },
  {
   "cell_type": "code",
   "execution_count": 49,
   "id": "16a859a4",
   "metadata": {},
   "outputs": [
    {
     "name": "stdout",
     "output_type": "stream",
     "text": [
      "['ata Science', 'Machine Learning', 'Gen AI', 'Python', 'SQL']\n"
     ]
    }
   ],
   "source": [
    "txt.seek(1)\n",
    "print(txt.read().splitlines())"
   ]
  },
  {
   "cell_type": "code",
   "execution_count": null,
   "id": "ca9715e3",
   "metadata": {},
   "outputs": [],
   "source": [
    "| Mode  | Meaning                   | Can Read? | Can Write? | File Created if Missing? |\n",
    "|-------|---------------------------|-----------|------------|--------------------------|\n",
    "| `r`   | Read text                 | ✅        | ❌         | ❌                       |\n",
    "| `w`   | Write text (overwrite)    | ❌        | ✅         | ✅                       |\n",
    "| `a`   | Append text               | ❌        | ✅         | ✅                       |\n",
    "| `r+`  | Read + write              | ✅        | ✅         | ❌                       |\n",
    "| `rb`  | Read binary               | ✅        | ❌         | ❌                       |\n",
    "| `wb`  | Write binary              | ❌        | ✅         | ✅                       |\n"
   ]
  },
  {
   "cell_type": "code",
   "execution_count": 4,
   "id": "33e9dd53",
   "metadata": {},
   "outputs": [],
   "source": [
    "with open(\"first.txt\",'w') as file:\n",
    "    file.write(\"rakesh\")"
   ]
  },
  {
   "cell_type": "code",
   "execution_count": 3,
   "id": "be7ce2e5",
   "metadata": {},
   "outputs": [
    {
     "name": "stdout",
     "output_type": "stream",
     "text": [
      "rakesh\n"
     ]
    }
   ],
   "source": [
    "with open(\"first.txt\",'r') as f:\n",
    "    content=f.read()\n",
    "    print(content)"
   ]
  },
  {
   "cell_type": "code",
   "execution_count": 22,
   "id": "7e2d4a4f",
   "metadata": {},
   "outputs": [],
   "source": [
    "with open(\"first.txt\",'a') as file:\n",
    "    file.write(\"data\\n\")\n",
    "    file.write(\"science\\n\")\n",
    "    file.write(\"ML\\n\")"
   ]
  },
  {
   "cell_type": "code",
   "execution_count": 9,
   "id": "6d158c75",
   "metadata": {},
   "outputs": [
    {
     "name": "stdout",
     "output_type": "stream",
     "text": [
      "rakeshdatascienceMLdata\n",
      "science\n",
      "ML\n",
      "\n"
     ]
    }
   ],
   "source": [
    "with open(\"first.txt\",'r') as f:\n",
    "    content=f.read()\n",
    "    print(content)"
   ]
  },
  {
   "cell_type": "code",
   "execution_count": 23,
   "id": "191d1032",
   "metadata": {},
   "outputs": [],
   "source": [
    "with open(\"first.txt\",'r+') as f:\n",
    "    txt=f.read()\n",
    "    f.seek(1)\n",
    "    f.write(\"updated content\"+txt)"
   ]
  },
  {
   "cell_type": "code",
   "execution_count": 24,
   "id": "0a4fd30d",
   "metadata": {},
   "outputs": [
    {
     "name": "stdout",
     "output_type": "stream",
     "text": [
      "dupdated contentdata\n",
      "science\n",
      "ML\n",
      "\n"
     ]
    }
   ],
   "source": [
    "with open(\"first.txt\",'r') as f:\n",
    "    print(f.read())"
   ]
  },
  {
   "cell_type": "code",
   "execution_count": 34,
   "id": "c17126bd",
   "metadata": {},
   "outputs": [
    {
     "name": "stderr",
     "output_type": "stream",
     "text": [
      "<>:3: SyntaxWarning: invalid escape sequence '\\D'\n",
      "<>:3: SyntaxWarning: invalid escape sequence '\\D'\n",
      "C:\\Users\\P VENKATA RAKESH\\AppData\\Local\\Temp\\ipykernel_10816\\4234107093.py:3: SyntaxWarning: invalid escape sequence '\\D'\n",
      "  with open(\"E:\\DATA SCIENCE\\Python\\Design and Implementation of Sensor-IntegratedGesture-Controlled Smart Water Tap.pdf\",'rb') as f:\n"
     ]
    },
    {
     "name": "stdout",
     "output_type": "stream",
     "text": [
      "number of pages 7\n",
      "pages 0 :  \n",
      " \n",
      " \n",
      " \n",
      "Design and Implementation of Sensor -Integrated \n",
      "Gesture -Controlled  Smart Water Tap  \n",
      " \n",
      "Chidananda H1, Hamsini P2, Geetha Sri Jaya CH3, Sahana D4 and Galibhe Neeraja5 \n",
      "1-5Ballari Institute of Technology and Management Ballari, Karnataka, India  \n",
      "Email: chidably999@bitm.edu.in, hamsinireddy481@gmail.com, geethasrijayach@gmail.com, dsahana0321@gm ail.com, \n",
      "galibheneeraja1611@gmail.com  \n",
      "  \n",
      " \n",
      "Abstract — This work introduces an innovative system that interfaces Arduino with an ultrasonic \n",
      "sensor to create an intelligent water tap. The system utilizes the proximity in formation gathered \n",
      "by the ultrasonic sensor to dynamically adjust the water flow based on the distance between the \n",
      "hand and the water tap. Additionally, the system incorporates an automatic water filling feature \n",
      "when a container is placed, in the range of ultrasonic sensor. The water flow is controlled through \n",
      "an AC dimmer module and a water pump, ensuring variable flow rates and efficient water usage. \n",
      "Furthermore, the integration of a USB camera adds an element of automation, where the system \n",
      "detects the p resence of a hand in the camera frame, triggering the tap to run automatically. The \n",
      "proposed system uses sensor - integrated gesture - controlled smart water tap. When hand is \n",
      "moved upwards then water will flow at maximum rate and when hand is detected dow nwards \n",
      "then the flow of water will be at minimum rate. System also uses ultrasonic sensor to sense when \n",
      "the container is placed near sensor then the system automatically turns on the water tap and \n",
      "when the container is removed then the system turns off the  water tap. The system turns on the \n",
      "water tap when hand is detected near the tap.  \n",
      " \n",
      "Index Terms — Smart Tap , Intelligent tap, touchless tap, gesture controlled tap, Ultrasonic \n",
      "sensor . \n",
      "I. INTRODUCTION  \n",
      "Smart taps, an integral component of the burgeoning realm  of smart home technology, represent a fusion of modern \n",
      "innovation with traditional plumbing fixtures. These taps are equipped with a range of features aime d at elevating \n",
      "use experience and promoting water efficiency. Offering intuitive controls, users can  precisely regulate water \n",
      "temperature and flow through touchless sensors or smart applications. Many smart taps also incorpora te motion \n",
      "sensors, allowing hands -free operation for enhanced hygiene. Beyond convenience, these taps often integrate \n",
      "water -saving  mechanisms, contributing to eco -friendly practices by minimizing water wastage. Some models \n",
      "include advanced filtration systems, providing users with purified water directly from the tap. Addi tionally, \n",
      "connectivity features enable users to monitor and man age water usage remotely, fostering sustainability and cost -\n",
      "effective resource management. With the rise of smart homes, smart taps exemplify the harmonious int egration of \n",
      "technology into everyday utilities, emphasizing not just convenience but also enviro nmental consciousness.  \n",
      "II. LITERATURE SURVEY  \n",
      "This water dispenser with a manual faucet is considered impractical, especially during a pandemic, b ecause users  \n",
      " \n",
      " \n",
      "Grenze ID : 01.GIJET .10.2.401 \n",
      "© Grenze  Scientific Society , 2024   Grenze  International Journal of Engineering and Technology , June Issue  \n",
      "\n",
      "pages 1 :  \n",
      "5241  still have to press the water faucet on the dispenser so that it is prone to disease transmission. Therefo re, it is \n",
      "necessary to do automation to prevent disease transmission through this dispenser faucet. Previous r esearch on the \n",
      "automation of drinking water d ispensers such as [1], but the study is only for water dispensers with one water \n",
      "faucet. It uses ultrasonic sensors to detect the glass as well as a switch to drain the water. Smart  dispenser research \n",
      "for blind people [2], but only for water dispensers wit h one type of water faucet and using sound detection as a \n",
      "switch to drain water. Clean water dispenser research [3], Most people try to limit themselves from interacting \n",
      "with crowds during a pandemic. This is one way to prevent the spread of disease during  a pandemic. Various \n",
      "methods are used to minimize touching objects that are widely held by others. Several technological innovations \n",
      "have been carried out to prevent the spread of disease during the pandemic by making hand -washing devices that \n",
      "are activate d by footrests [4], automatic hand sanitizer [5], touchless automatic hand -washer [6], automatic faucet \n",
      "without turning for handwashing [7], Arduino is an open microcontroller module that is widely used a s a controller \n",
      "in various fields such as control sys tems [8][9][10] and automation systems [11][12][13]. The ultrasonic sensor \n",
      "that is often found in the market is the ultrasonic sensor HC -SR04. This sensor works on the principle of wave \n",
      "reflection. The ultrasonic sensor functions to convert a sound value i nto an electrical value. So it is widely used to \n",
      "interpret the magnitude of the distance. Widely applied to various applications, including water lev el detection \n",
      "[14] [15], object detection, and water level [16], In [17], smart water monitoring system usin g wireless sensor \n",
      "network at Home/office: this paper is about developing a water monitoring system. By using monitorin g system, \n",
      "we can find a more optional way to preserve the water, hence saving it for the present and the futur e generations. \n",
      "The smart tap  system is used to turn over water from source point to usage point in an efficient way and avoids \n",
      "human error. Automated water supply can be done through embedded system in cost effective way.  \n",
      "III. HARDWARE USED \n",
      "All the hardware devices used in the system  are shown in fig 1 – 5.1 \n",
      "Arduino UNO This microcontroller is based on the ATmega328P. There are total of 20 pins (0 -19) out of which 6 \n",
      "are analog inputs,14 are digital input output pins(6 pins provide PWM voltage) which can also be use d as general \n",
      "purpose  pins, a ceramic resonator of frequency 16 MHz, an USB connection, a power jack and a reset button. I t \n",
      "has an operating voltage of 5V. It contains everything needed to support a microcontroller.  \n",
      " \n",
      "  Fig-1: Arduino Uno  \n",
      "A. LCD  \n",
      "Liquid Crystal Display, which we are using in our project is16*2 LCD. This display consists of 16 columns and 2 \n",
      "rows. This is programmed using the library.  \n",
      " \n",
      "Fig-2:16*2 LCD  \n",
      "\n",
      "pages 2 :  \n",
      "5242  B. Relay  \n",
      "A relay is an electrical switch that opens and closes under the control of another electrical circui t. A relay is able \n",
      "to control an output circuit of higher power than the input circuit. Relays are usually SPDT (single  pole double \n",
      "through switch) or DPDT (double pole double through switch).  \n",
      " \n",
      " \n",
      " \n",
      " \n",
      " \n",
      " Fig -3: Relay  \n",
      "C. HC-SR04 Ultrasonic Sensor  \n",
      "The HC -SR04 Ultrasonic (US) sensor is a 4 -pin module with pin names vcc, Trigger, Echo and Ground. The \n",
      "ultrasonic transmitter emits an ultrasonic wave, this wave travels through the air, and if it underg oes any \n",
      "obstruction from some object, it is reflected  back to the sensor, its reflected wave is detected by the Ultrasonic \n",
      "receiver module.  \n",
      " \n",
      " \n",
      " \n",
      " \n",
      " \n",
      " \n",
      " \n",
      " \n",
      " \n",
      "Fig-4: HC -SR04Ultrasonic sensor  \n",
      "IV. METHODOLOGY   \n",
      "Circuit Diagram And Explanation  \n",
      " \n",
      "Fig-5: Circuit Diagram  \n",
      "4 data pins of LCD are connected to 4 digital input/output pins of Arduino.  \n",
      " D7 of LCD connected to 7th pin of Arduino.  \n",
      " D6 of LCD connected to 6th pin of Arduino.  \n",
      " D5 of LCD connected to 5th pin of Arduino.  \n",
      " D4 of LCD connected to 4th pin of Arduino RS of L CD connected to 2nd pin of Arduino and E(enable) of \n",
      "LCD connected to 3rd pin of Arduino. Echo and Trigger pins of Ultrasonic sensor are connected to 12t h and \n",
      "11th pin of Arduino Buzzer connected to 9th pin of Arduino NO pin of Relay connected to Water pump  IN \n",
      "pin of Relay connected to 8th pin of Arduino.  \n",
      "\n",
      "pages 3 :  \n",
      "5243  V. GESTURE RECOGNITION SYSTEM   \n",
      "The entire process is depicted in fig 6. The first step here is to capture frames from an input visu als, recognition \n",
      "of hand actions, classifying the visuals into invalid and valid hand actions.  \n",
      " \n",
      "Fig: 6 Flowchart for Hand gesture . \n",
      "A. Capturing A Frame From The Video Sequence  \n",
      "To identify a hand motion, the first step is to take a picture of the video sequence. Camera models vary in terms \n",
      "of their frame rates. The camera can ta ke 30 pictures per second at the typical frame rate of 30 Hz. Retouching \n",
      "each and every frame yields superior results if time is not of the essence or if the system's requir ements are high \n",
      "enough to generate results in real time. However, in many instances , manipulating every frame is not necessary \n",
      "because doing so would increase the processing power needed to produce results quickly or because em ploying \n",
      "some frames can often yield the same results. To put it briefly, this is a resource -dependent problem th at is unique \n",
      "to the system. This issue is not present in the suggested system, which generates results instantly.  The behaviour \n",
      "can be adjusted to work with computers with lower processing power because it has been verified that  if every \n",
      "fifth frame is rec orded and altered, there is a high likelihood of obtaining the same outcome. This is as a result of \n",
      "the hand's waving frequency, or how frequently it passes in front of a camera each second. This is d ue to the fact \n",
      "that the human hand's waving frequency, o r the number of times it passes in front of a camera per second, is far \n",
      "lower than 30Hz.  \n",
      "B. Static Gesture  \n",
      "                   \n",
      "Fig 7. Static Hand gestures                                                       Fig : 8. Experimental Setup  \n",
      "Static gestures are  those where the hand is present exactly beneath the tap without moving upward or downward \n",
      "to start the water flow at some rate of flow depends on the threshold distance as shown in fig7 and the experimental \n",
      "set is shown in fig 8.  \n",
      "C. Existing System  \n",
      "Smart  taps, an integral component of the burgeoning realm of smart home technology, represent a fusion of modern \n",
      "innovation with traditional plumbing fixtures. These taps are equipped with a range of technological  features aimed \n",
      "at elevating user experience and  promoting water efficiency. Offering intuitive controls, users can precisely \n",
      "regulate water temperature and flow through touchless sensors or smart applications. Many smart taps  also \n",
      "incorporate motion sensors, allowing hands -free operation for enhanced h ygiene. Beyond convenience, these taps \n",
      "often integrate water -saving mechanisms, contributing to eco -friendly practices by minimizing water wastage. \n",
      "\n",
      "pages 4 :  \n",
      "5244  Some models include advanced filtration systems, providing users with purified water directly from t he tap. \n",
      "Additionally, connectivity features enable users to monitor and manage water usage remotely, fosteri ng \n",
      "sustainability and cost -effective resource management. With the rise of smart homes, smart taps exemplify the \n",
      "harmonious integration of technology into e veryday utilities, emphasizing not just convenience but also \n",
      "environmental consciousness Problem occurs in the existing sensor  based water taps when individuals, particularly \n",
      "un-matured human or those who has lack of awareness, unnecessarily use smart taps , leaving them running for \n",
      "extended periods. This reckless behaviour leads to significant water wastage, leads to environmental  concerns and \n",
      "water scarcity issues. It's crucial to educate people about responsible water usage and the importan ce of conservin g \n",
      "this precious resource. Implementing measures such as smart sensors and awareness campaigns can help  mitigate \n",
      "drawback and promote sustainable water management practices.  \n",
      "D. PROPOSED SYSTEM   \n",
      "The proposed model, \"Smart Tap,\" integrates cutting -edge techn ologies to revolutionize water flow control and \n",
      "enhance user interaction. This intelligent tap system incorporates an AC light dimmer module for pre cise control \n",
      "over the water pump, allowing users to adjust water flow according to their preferences. The in tegration of a USB \n",
      "web camera serves the dual purpose of detecting hands and enabling touchless operation. An Arduino U NO acts \n",
      "as the central processing unit, orchestrating the functionalities of the system. The AC water pumpin g motor ensures \n",
      "efficient wat er delivery. To optimize water usage, two ultrasonic sensors are employed —one for detecting the \n",
      "presence of a water bottle to facilitate automated filling and another for measuring the distance of  hands from the \n",
      "tap. This distance data is then used to dyna mically control the water flow, ensuring an intuitive and hands -free \n",
      "experience. The Smart Tap not only combines elements of automation and user convenience but also und erscores \n",
      "a commitment to water conservation by incorporating smart features that respon d to user behaviour and promote \n",
      "sustainable usage practices.  \n",
      "VI. WORKING   \n",
      "In this work, the system uses sensor - integrated gesture - controlled smart water tap. When hand is detected, \n",
      "moving upwards then water will flow at maximum rate and when hand is de tected moving downwards then, the \n",
      "flow of water will be at minimum rate. The system also uses Ultrasonic sensor, which acts as an inpu t device, \n",
      "water pump acts a load or output device, a relay to control the load and an LCD display as data moni tor unit. Th e \n",
      "system works by detecting ultrasonic sensor. Ultrasonic sensor continuously measure the distance bet ween \n",
      "container and the tap to control the water flow whenever a container is placed and removed exactly u nder the water \n",
      "tap. Therefore, at any moment the sensor distance reaches its threshold limits Arduino sends a control signal to the \n",
      "Relay module to trigger the water pump. That means, when the distance is at threshold limits the Rel ay module \n",
      "will turn ON the water motor and if the distance is above the t hreshold limits the Relay module turns OFF the \n",
      "water pump.  \n",
      "VII EXPERIMENTAL RESULT  \n",
      "The basic experimental setup is shown in fig 9 and the system that regulates water flow by using han d gesture and \n",
      "detection of container that regulates water flow is shown in fig 10 and 11 respectively . Table 1 shows efficiency \n",
      "of recognising hand movements and controlling the water flow in three different types of user hands.  \n",
      "                         \n",
      "Fig 9: Experimental Setup                                                           Fig 10: Tap detects hand and regulates water.  \n",
      "\n",
      "pages 5 :  \n",
      "5245   \n",
      " \n",
      " \n",
      " \n",
      " \n",
      " \n",
      " \n",
      " \n",
      " \n",
      " \n",
      " \n",
      " \n",
      " \n",
      " \n",
      "Fig 11: Tap detects the presence of container and regulates the water flow  \n",
      "Future Scope : Develop a system to control the flow of hot and cold water in a correct proportion based on the hand \n",
      "movements.  \n",
      "TABLE I : \n",
      "User Hand with  Efficiency (%)  \n",
      "Under good \n",
      "light \n",
      "condition  Under bad \n",
      "light \n",
      "condition  \n",
      "< 5 fingers  96% 94% \n",
      ">5 fingers  96% 94% \n",
      "Normal  98% 96% \n",
      "VIII. CONCLUSION   \n",
      "Smart taps represent a significant advancement in the realm of water management, which automates rate of flow \n",
      "of water. With their touchless operation, water conservation features, connectivity, they offer user s a convenient \n",
      "and eco -friendly solution for their daily water usage needs. By promoting hygiene, reducing wa ter wastage, and \n",
      "enabling monitoring, smart taps contribute to a more sustainable and efficient living environment. T he system \n",
      "works efficiently in all environment for different aged people without any error.  \n",
      "REFERENCES  \n",
      "[1] Ryan Laksmana Singgeta, et al. \"Ran cang Bangun Dispenser Otomatis Menggunakan Sensor Ultrasonik Berbasis. \n",
      "Mikrokontroller Atmega2560,\" JURNAL REALTECH , vol. 14, no. 1,pp. 31 -36, April 2018.  \n",
      "[2] Asrori Firman Mawardi, Achmad Ubaidillah, and Kunto Aji Wibisono, \"Rancang Bangun Smart Dispenser Un tuk \n",
      "Penyandang Tunanetra Menggunakan Pola Pengenalan Suara (Voice Recognition) Dengan Algoritma Fast Fou rier \n",
      "Transform Dan Autocorrelation,\"JURNAL RISET REKAYASA ELEKTRO, vol. 2, no. 1, p. 23~30, Juni 2020.  \n",
      "[3] Muhammad Reni Sehaffudin, Nur Indrihastuti, and Ery Gunawan,\"Pengisi Air Minum Otomatis Dengan Gelas Khusus \n",
      "Berbasis Arduino  \n",
      "[4] Sulaiman Ali, Syurkarni Ali, Herdi Susanto, Rita Hartati, and Zahir Raditya, \"Perancangan Touchless Hand Washer \n",
      "Sistem Pijakan Kaki untuk Pencegahan Penyebaran COVID -19,\" Jurnal M ekanova, vol. 6, no. 2, pp. 179 -186, Oktober \n",
      "2020.  \n",
      "[5] Ari Rahayuningtyas et al., \"Rancang Bangun Hand Sanitizer Otomatis Dan Sistem Monitoring Jarak Jauh Dalam Upaya \n",
      "Mengurangi Penyebaran Covid 19,\" Jurnal Riset Teknologi Industri, vol. 14, no. 2, pp. 320 -330, Desember 2020.  \n",
      "[6] Suraidi , \"Perancangan Sistem Pencuci Tangan Otomatis Tanpa Sentuh Untuk Mencegah Penularan Virus Co vid-19,\" \n",
      "TESLA, vol. 23.  \n",
      "[7] Finsen Thomas Missa, Ichsan Fahmi, and Zet Y Baitanu, \"Perancangan Keran Air Cuci Tangan Otomatis Ya ng \n",
      "Dikendalika n Oleh LDR (Light Dependent Resistor) Dengan Pencahayaan Laser,\" Jurnal Spektro, vol.3, no. 2, pp. 7 -14, \n",
      "November 2020.  \n",
      "[8] Adewasti , Emilia Hesti, Sholihin , and Sarjana , \"Sistem Kendali Robot Hand Gesture Berbasis Wirele ss,\" Jurnal Surya \n",
      "Energy, vol. 3, no . 1, pp.192 -197, September 2018.  \n",
      "[9] Bahrin , \"Sistem Kontrol Penerangan Menggunakan Arduino Uno Pada Universitas Ichsan Gorontalo,\" Ilko m, vol. 9, no. \n",
      "3, pp. 282 - 289, Desember 2017.  \n",
      "\n",
      "pages 6 :  \n",
      "5246  [10] W. Parmadi Putra, I. W. Arta Wijaya, and I. N. Budiastra, \"Perancangan Siste m Pemanas Air Menggunakan Sistem \n",
      "Kendali PID,\"Jurnal SPEKTRUM , vol. 7, no. 1, pp. 116 -122, Maret 2020. Yesi Triawan and Juli Sardi, \"Perancangan \n",
      "Sistem Otomatisasi pada Aquascape Berbasis Mikrokontroller Arduino Nano,\" Jurnal Teknik Elektro Indo nesia, vol . 1, \n",
      "no. 2, pp. 76 -83, Oktober 2020.  \n",
      "[11] Ari Lesmono Bangala, Lianly Rompis, and Junaidy B. Sanger, \"Perancangan Sistem Otomatisasi Suhu RUan gan Berbasis \n",
      "Mikrokontroler,\" Jurnal Realtech, vol. 14, no. 1, pp. 1 -7, April 2018.  \n",
      "[12] Eltra E. Barus, Andreas Ch. Louk, and Redi K. Pinggak, \"Otomatisasi Sistem Kontrol Ph Dan Informasi Suhu Pada \n",
      "Akuarium Menggunakan Arduino Uno Dan Raspberry Pi 3,\" Jurnal Fisika Sains dan Aplikasinya ,vol. 3, n o. 2, pp. 117 -\n",
      "125, Agustus 2018.  \n",
      "[13] Zikrul Khalid, Sayed Achmady, and Poppy Agustin i, \"Otomatisasi Sistem Keamanan Kunci Lemari Menggunakan Sensor \n",
      "Sidik Jari Berbasis Arduino Uno,\" Jurnal TEKSAGRO, vol. 1, no. 1, pp. 1 -11,Agustus 2020.  \n",
      "[14] Ryan Laksmana Singgeta and Pinrolinvic D. K. Manembu, \"Rancang Bangun Dispenser Air Bersih Otomatis Berbasis \n",
      "Web Menggunakan Teknologi RFID,\" Jurnal Teknik Elektro dan Komputer, vol. 8, no. 3, pp.153 -160, Desember 2019.  \n",
      "[15] Heru Purwanto and Malik Riyadi, \"Komparasi Sensor Ultrasonik HCSR04 Dan JSN -SR04T ntuk Aplikasi Sistem Deteksi \n",
      "Ketinggian Air, \"Jurnal SIM ETRIS, vol. 10, no. 2, pp. 717 -724, November 2019.  \n",
      "[16] Bagas Alvando, \"Dispenser Otomatis Menggunakan Arduino Sensor Gelombang Ultrasonik Dengan Internet O f Things,\" \n",
      "Jurnal Perencanaan, sains, Teknologi, dan Komputer, vol. 4, no. 1, pp. 766 -770, Juli 2021.  \n",
      "[17] Khaled Reza (2010). “microcontroller based automated water level sensing”.  \n",
      "[18] Poonam J. Chavan, Manoj Mechkul “IoT Based Water quality Monitoring”, IJMTER Journal, Vol 3, 2016, p p.746 -75. \n",
      " \n",
      " \n",
      " \n"
     ]
    }
   ],
   "source": [
    "import PyPDF2\n",
    "# Open the PDF in read-binary mode\n",
    "with open(\"E:\\DATA SCIENCE\\Python\\Design and Implementation of Sensor-IntegratedGesture-Controlled Smart Water Tap.pdf\",'rb') as f:\n",
    "    reader=PyPDF2.PdfReader(f)\n",
    "    print(\"number of pages\",len(reader.pages))\n",
    "# Extracting  pages from pdf\n",
    "    for i in range(0,len(reader.pages)):\n",
    "        page=reader.pages[i]\n",
    "        txt=page.extract_text()\n",
    "        print(f\"pages {i} :\",txt)\n",
    "        \n",
    "\n",
    "\n"
   ]
  },
  {
   "cell_type": "code",
   "execution_count": 35,
   "id": "ec7f2bfd",
   "metadata": {},
   "outputs": [
    {
     "name": "stdout",
     "output_type": "stream",
     "text": [
      "JSON file created successfully!\n"
     ]
    }
   ],
   "source": [
    "import json\n",
    "\n",
    "# Python dictionary\n",
    "data = {\n",
    "    \"name\": \"John Doe\",\n",
    "    \"age\": 30,\n",
    "    \"skills\": [\"Python\", \"Data Engineering\", \"AWS\"]\n",
    "}\n",
    "\n",
    "# Write to JSON file\n",
    "with open(\"data.json\", \"w\") as file:\n",
    "    json.dump(data, file, indent=4)\n",
    "\n",
    "print(\"JSON file created successfully!\")"
   ]
  },
  {
   "cell_type": "code",
   "execution_count": 36,
   "id": "2d445983",
   "metadata": {},
   "outputs": [
    {
     "name": "stdout",
     "output_type": "stream",
     "text": [
      "Loaded JSON content: {'name': 'John Doe', 'age': 30, 'skills': ['Python', 'Data Engineering', 'AWS']}\n"
     ]
    }
   ],
   "source": [
    "with open(\"data.json\", \"r\") as file:\n",
    "    loaded_data = json.load(file)\n",
    "\n",
    "print(\"Loaded JSON content:\", loaded_data)"
   ]
  },
  {
   "cell_type": "code",
   "execution_count": 2,
   "id": "29702cf2",
   "metadata": {},
   "outputs": [
    {
     "name": "stderr",
     "output_type": "stream",
     "text": [
      "<>:4: SyntaxWarning: invalid escape sequence '\\D'\n",
      "<>:4: SyntaxWarning: invalid escape sequence '\\D'\n",
      "C:\\Users\\P VENKATA RAKESH\\AppData\\Local\\Temp\\ipykernel_11548\\1306931120.py:4: SyntaxWarning: invalid escape sequence '\\D'\n",
      "  img = cv2.imread(\"E:\\DATA SCIENCE\\Python\\img.png\")\n"
     ]
    }
   ],
   "source": [
    "import cv2\n",
    "\n",
    "# Read an image\n",
    "img = cv2.imread(\"E:\\DATA SCIENCE\\Python\\img.png\")\n",
    "\n",
    "# Show the image\n",
    "cv2.imshow(\"Image Window\", img)\n",
    "\n",
    "# Wait for a key press (0 means wait indefinitely)\n",
    "cv2.waitKey(0)\n",
    "\n",
    "# Close all OpenCV windows\n",
    "cv2.destroyAllWindows()\n"
   ]
  },
  {
   "cell_type": "code",
   "execution_count": 3,
   "id": "a22b18fe",
   "metadata": {},
   "outputs": [
    {
     "data": {
      "text/plain": [
       "numpy.ndarray"
      ]
     },
     "execution_count": 3,
     "metadata": {},
     "output_type": "execute_result"
    }
   ],
   "source": [
    "type(img)"
   ]
  },
  {
   "cell_type": "code",
   "execution_count": 4,
   "id": "f5e26618",
   "metadata": {},
   "outputs": [
    {
     "data": {
      "text/plain": [
       "(758, 760, 3)"
      ]
     },
     "execution_count": 4,
     "metadata": {},
     "output_type": "execute_result"
    }
   ],
   "source": [
    "img.shape"
   ]
  },
  {
   "cell_type": "code",
   "execution_count": 5,
   "id": "302bd7aa",
   "metadata": {},
   "outputs": [
    {
     "data": {
      "text/plain": [
       "array([49, 49, 49], dtype=uint8)"
      ]
     },
     "execution_count": 5,
     "metadata": {},
     "output_type": "execute_result"
    }
   ],
   "source": [
    "img[0,0]"
   ]
  },
  {
   "cell_type": "code",
   "execution_count": null,
   "id": "5939b9f9",
   "metadata": {},
   "outputs": [],
   "source": [
    "import cv2\n",
    "img = cv2.imread(\"E:\\DATA SCIENCE\\Python\\img.png\")\n",
    "cv2.imshow(\"MY IMAGE\",img)"
   ]
  },
  {
   "cell_type": "code",
   "execution_count": null,
   "id": "f3f03486",
   "metadata": {},
   "outputs": [],
   "source": []
  },
  {
   "cell_type": "code",
   "execution_count": null,
   "id": "83eeefb1",
   "metadata": {},
   "outputs": [],
   "source": []
  },
  {
   "cell_type": "code",
   "execution_count": null,
   "id": "f7e6e86e",
   "metadata": {},
   "outputs": [],
   "source": []
  },
  {
   "cell_type": "code",
   "execution_count": null,
   "id": "2eed1ce4",
   "metadata": {},
   "outputs": [],
   "source": []
  }
 ],
 "metadata": {
  "kernelspec": {
   "display_name": "Python 3",
   "language": "python",
   "name": "python3"
  },
  "language_info": {
   "codemirror_mode": {
    "name": "ipython",
    "version": 3
   },
   "file_extension": ".py",
   "mimetype": "text/x-python",
   "name": "python",
   "nbconvert_exporter": "python",
   "pygments_lexer": "ipython3",
   "version": "3.13.5"
  }
 },
 "nbformat": 4,
 "nbformat_minor": 5
}
