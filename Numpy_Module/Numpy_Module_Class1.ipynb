{
 "cells": [
  {
   "cell_type": "code",
   "execution_count": 8,
   "id": "5ad3a8ad",
   "metadata": {},
   "outputs": [
    {
     "data": {
      "text/plain": [
       "array([[3, 9, 1, 8, 4],\n",
       "       [3, 2, 6, 4, 5],\n",
       "       [9, 6, 4, 1, 7],\n",
       "       [6, 3, 3, 5, 4],\n",
       "       [1, 5, 7, 4, 0]], dtype=int32)"
      ]
     },
     "execution_count": 8,
     "metadata": {},
     "output_type": "execute_result"
    }
   ],
   "source": [
    "import numpy as np\n",
    "data=np.random.randint(0,10,(5,5))\n",
    "data"
   ]
  },
  {
   "cell_type": "code",
   "execution_count": 9,
   "id": "1001479d",
   "metadata": {},
   "outputs": [
    {
     "data": {
      "text/plain": [
       "numpy.ndarray"
      ]
     },
     "execution_count": 9,
     "metadata": {},
     "output_type": "execute_result"
    }
   ],
   "source": [
    "type(data)"
   ]
  },
  {
   "cell_type": "code",
   "execution_count": 10,
   "id": "b1fa3771",
   "metadata": {},
   "outputs": [
    {
     "data": {
      "text/plain": [
       "numpy.ndarray"
      ]
     },
     "execution_count": 10,
     "metadata": {},
     "output_type": "execute_result"
    }
   ],
   "source": [
    "type(np.array([1,2,3]))"
   ]
  },
  {
   "cell_type": "code",
   "execution_count": 11,
   "id": "81200a50",
   "metadata": {},
   "outputs": [
    {
     "data": {
      "text/plain": [
       "np.int32(3)"
      ]
     },
     "execution_count": 11,
     "metadata": {},
     "output_type": "execute_result"
    }
   ],
   "source": [
    "data[0,0]"
   ]
  },
  {
   "cell_type": "code",
   "execution_count": 12,
   "id": "a8648730",
   "metadata": {},
   "outputs": [
    {
     "data": {
      "text/plain": [
       "array([[3, 9, 1, 8, 4],\n",
       "       [3, 2, 6, 4, 5],\n",
       "       [9, 6, 4, 1, 7],\n",
       "       [6, 3, 3, 5, 4],\n",
       "       [1, 5, 7, 4, 0]], dtype=int32)"
      ]
     },
     "execution_count": 12,
     "metadata": {},
     "output_type": "execute_result"
    }
   ],
   "source": [
    "data"
   ]
  },
  {
   "cell_type": "code",
   "execution_count": 13,
   "id": "c1478687",
   "metadata": {},
   "outputs": [
    {
     "data": {
      "text/plain": [
       "array([[23, 79, 73, 87, 48],\n",
       "       [13,  8, 31,  5, 17],\n",
       "       [30, 54, 72, 77, 28],\n",
       "       [87, 51, 57, 92, 44],\n",
       "       [14, 11, 66, 95, 19]], dtype=int32)"
      ]
     },
     "execution_count": 13,
     "metadata": {},
     "output_type": "execute_result"
    }
   ],
   "source": [
    "import numpy as np\n",
    "d=np.random.randint(0,100,(5,5))\n",
    "d"
   ]
  },
  {
   "cell_type": "code",
   "execution_count": 14,
   "id": "e97349b3",
   "metadata": {},
   "outputs": [
    {
     "data": {
      "text/plain": [
       "np.int32(23)"
      ]
     },
     "execution_count": 14,
     "metadata": {},
     "output_type": "execute_result"
    }
   ],
   "source": [
    " d[0,0]"
   ]
  },
  {
   "cell_type": "code",
   "execution_count": null,
   "id": "7b2c9af1",
   "metadata": {},
   "outputs": [
    {
     "name": "stdout",
     "output_type": "stream",
     "text": [
      "[[72 77]\n",
      " [57 92]]\n"
     ]
    }
   ],
   "source": [
    "print(d[-3:-1,-3:-1])  "
   ]
  },
  {
   "cell_type": "code",
   "execution_count": 17,
   "id": "65ff6db3",
   "metadata": {},
   "outputs": [
    {
     "data": {
      "text/plain": [
       "array([[92]], dtype=int32)"
      ]
     },
     "execution_count": 17,
     "metadata": {},
     "output_type": "execute_result"
    }
   ],
   "source": [
    "d[-2:-1,-2:-1]"
   ]
  },
  {
   "cell_type": "code",
   "execution_count": 21,
   "id": "e49d46ba",
   "metadata": {},
   "outputs": [
    {
     "name": "stdout",
     "output_type": "stream",
     "text": [
      "<class 'list'>\n",
      "<class 'numpy.ndarray'>\n"
     ]
    }
   ],
   "source": [
    "x=[1,3,2]\n",
    "print(type(x))\n",
    "y=np.array([1,3,2])\n",
    "print(type(y))"
   ]
  },
  {
   "cell_type": "code",
   "execution_count": 23,
   "id": "285da791",
   "metadata": {},
   "outputs": [
    {
     "ename": "TypeError",
     "evalue": "unsupported operand type(s) for /: 'list' and 'int'",
     "output_type": "error",
     "traceback": [
      "\u001b[1;31m---------------------------------------------------------------------------\u001b[0m",
      "\u001b[1;31mTypeError\u001b[0m                                 Traceback (most recent call last)",
      "Cell \u001b[1;32mIn[23], line 3\u001b[0m\n\u001b[0;32m      1\u001b[0m \u001b[38;5;66;03m#differences\u001b[39;00m\n\u001b[0;32m      2\u001b[0m \u001b[38;5;66;03m# 1. If we perform operations(like +,-,/,*) on list  it throws error showing cannot perform operations on list where as in numpy array it is designed to perfrom all element arithmentic operations\u001b[39;00m\n\u001b[1;32m----> 3\u001b[0m \u001b[43mx\u001b[49m\u001b[38;5;241;43m/\u001b[39;49m\u001b[38;5;241;43m2\u001b[39;49m\n",
      "\u001b[1;31mTypeError\u001b[0m: unsupported operand type(s) for /: 'list' and 'int'"
     ]
    }
   ],
   "source": [
    "#differences\n",
    "# 1. If we perform operations(like +,-,/,*) on list  it throws error showing cannot perform operations on list where as in numpy array it is designed to perfrom all element arithmentic operations\n",
    "x/2"
   ]
  },
  {
   "cell_type": "code",
   "execution_count": 24,
   "id": "edd49f1f",
   "metadata": {},
   "outputs": [
    {
     "data": {
      "text/plain": [
       "array([0.5, 1.5, 1. ])"
      ]
     },
     "execution_count": 24,
     "metadata": {},
     "output_type": "execute_result"
    }
   ],
   "source": [
    "y/2"
   ]
  },
  {
   "cell_type": "code",
   "execution_count": null,
   "id": "b7dd22fc",
   "metadata": {},
   "outputs": [
    {
     "name": "stdout",
     "output_type": "stream",
     "text": [
      "[1, 2, 3, 6.0, 'data']\n",
      "['1' '2' '3' '5.0' 'data']\n"
     ]
    }
   ],
   "source": [
    "# 2. In list float type and int type elements remains same  where as in numpy array if few elements are int,float,str type then it converts the priority of datatype for all elements in a numpy array because it numpy elements must contain same data type\n",
    "# priority order is str > float > int \n",
    "# list is a collection of heterogeneous elements\n",
    "# numpy is a collection of same type elements\n",
    "x=[1,2,3,6.0,\"data\"]\n",
    "y=np.array([1,2,3,5.0,\"data\"])\n",
    "print(x)\n",
    "print(y)"
   ]
  },
  {
   "cell_type": "code",
   "execution_count": null,
   "id": "31ba6e3d",
   "metadata": {},
   "outputs": [],
   "source": [
    "# 3.performance wise numpy is better than list because Much faster for large numerical data and  Takes less Memmory where as list is Slower for large computations and More memory"
   ]
  },
  {
   "cell_type": "code",
   "execution_count": null,
   "id": "f3f077e2",
   "metadata": {},
   "outputs": [],
   "source": [
    "#Random family functions"
   ]
  },
  {
   "cell_type": "code",
   "execution_count": 1,
   "id": "1407713c",
   "metadata": {},
   "outputs": [
    {
     "data": {
      "text/plain": [
       "array([[77, 76,  3, 25, 45, 31, 67,  5, 47, 92],\n",
       "       [25, 35, 89, 34, 25, 33, 41, 73, 83, 34],\n",
       "       [ 1, 27, 89,  9, 40, 93, 47, 10, 51, 15],\n",
       "       [25, 87, 93, 84, 69, 63, 44, 44, 44, 25],\n",
       "       [45, 13, 67, 93, 19, 55,  5, 56, 12, 54]], dtype=int32)"
      ]
     },
     "execution_count": 1,
     "metadata": {},
     "output_type": "execute_result"
    }
   ],
   "source": [
    "import numpy as np\n",
    "np.random.randint(0,100,(5,10))"
   ]
  },
  {
   "cell_type": "code",
   "execution_count": null,
   "id": "4797677e",
   "metadata": {},
   "outputs": [
    {
     "data": {
      "text/plain": [
       "array([[0.54291466, 0.90520764, 0.66119092],\n",
       "       [0.25432481, 0.35111582, 0.27845391],\n",
       "       [0.54279499, 0.33015373, 0.03516078]])"
      ]
     },
     "execution_count": 2,
     "metadata": {},
     "output_type": "execute_result"
    }
   ],
   "source": [
    "np.random.rand(3,3)  # rand will give numeric values ranging form 0 to 1"
   ]
  },
  {
   "cell_type": "code",
   "execution_count": 3,
   "id": "dad2bcf0",
   "metadata": {},
   "outputs": [
    {
     "data": {
      "text/plain": [
       "array([0.57284117, 0.06762774, 0.70148756, 0.66737805, 0.30279624,\n",
       "       0.12167779, 0.86974589, 0.23846375, 0.63767035, 0.63776219,\n",
       "       0.67701865, 0.48993402, 0.15341398, 0.46679731, 0.04499935,\n",
       "       0.86027091, 0.99752502, 0.56892094, 0.17266969, 0.00129775,\n",
       "       0.31514844, 0.61812572, 0.94197594, 0.82394556, 0.86933684,\n",
       "       0.2324305 , 0.69557781, 0.80749592, 0.60294898, 0.01545797,\n",
       "       0.8401198 , 0.28693566, 0.13139597, 0.41909058, 0.34667723,\n",
       "       0.34920208, 0.00120389, 0.62947208, 0.43261115, 0.25360801,\n",
       "       0.3202631 , 0.28974499, 0.54114169, 0.49415406, 0.21907012,\n",
       "       0.11428799, 0.44841058, 0.06415589, 0.23285866, 0.58193744,\n",
       "       0.3942718 , 0.11997555, 0.5166176 , 0.01706216, 0.57209484,\n",
       "       0.22946199, 0.15094236, 0.51264981, 0.99962925, 0.38618444,\n",
       "       0.23252623, 0.72085192, 0.68435721, 0.98815056, 0.68495817,\n",
       "       0.83263405, 0.10443957, 0.58042367, 0.38757087, 0.09238135,\n",
       "       0.3066737 , 0.38308238, 0.01119431, 0.98350214, 0.05994305,\n",
       "       0.09842576, 0.59011317, 0.29391642, 0.68459068, 0.43350498,\n",
       "       0.93583826, 0.40592867, 0.70631615, 0.65949534, 0.97977517,\n",
       "       0.87839247, 0.19054997, 0.58793854, 0.50540676, 0.12293386,\n",
       "       0.98096916, 0.2895778 , 0.79258199, 0.47512938, 0.03842302,\n",
       "       0.38656278, 0.12580031, 0.76489202, 0.22204842, 0.87219196])"
      ]
     },
     "execution_count": 3,
     "metadata": {},
     "output_type": "execute_result"
    }
   ],
   "source": [
    "np.random.rand(100)"
   ]
  },
  {
   "cell_type": "code",
   "execution_count": null,
   "id": "521f0143",
   "metadata": {},
   "outputs": [
    {
     "data": {
      "text/plain": [
       "array([0.        , 0.33333333, 0.66666667, 1.        ])"
      ]
     },
     "execution_count": 2,
     "metadata": {},
     "output_type": "execute_result"
    }
   ],
   "source": [
    "import numpy as np\n",
    "data=np.array([1,2,3,4])\n",
    "(data-data.min())/(data.max()-data.min())    # scaling the data , this is also known as normalization of data and it is also known as min-max scaling "
   ]
  },
  {
   "cell_type": "code",
   "execution_count": null,
   "id": "e32ae910",
   "metadata": {},
   "outputs": [],
   "source": []
  },
  {
   "cell_type": "code",
   "execution_count": null,
   "id": "50752c07",
   "metadata": {},
   "outputs": [],
   "source": []
  }
 ],
 "metadata": {
  "kernelspec": {
   "display_name": "Python 3",
   "language": "python",
   "name": "python3"
  },
  "language_info": {
   "codemirror_mode": {
    "name": "ipython",
    "version": 3
   },
   "file_extension": ".py",
   "mimetype": "text/x-python",
   "name": "python",
   "nbconvert_exporter": "python",
   "pygments_lexer": "ipython3",
   "version": "3.13.5"
  }
 },
 "nbformat": 4,
 "nbformat_minor": 5
}
