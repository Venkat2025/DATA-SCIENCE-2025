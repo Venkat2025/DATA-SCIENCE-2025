{
 "cells": [
  {
   "cell_type": "code",
   "execution_count": 1,
   "id": "ab775e28",
   "metadata": {},
   "outputs": [
    {
     "ename": "SyntaxError",
     "evalue": "invalid character '×' (U+00D7) (3681616340.py, line 2)",
     "output_type": "error",
     "traceback": [
      "\u001b[1;36m  Cell \u001b[1;32mIn[1], line 2\u001b[1;36m\u001b[0m\n\u001b[1;33m    The assignment uses banking industry data with 10 rows × 5 columns:\u001b[0m\n\u001b[1;37m                                                           ^\u001b[0m\n\u001b[1;31mSyntaxError\u001b[0m\u001b[1;31m:\u001b[0m invalid character '×' (U+00D7)\n"
     ]
    }
   ],
   "source": [
    "## Dataset Overview\n",
    "The assignment uses banking industry data with 10 rows × 5 columns:\n",
    "- **Customer_ID**: Unique identifier for each customer\n",
    "- **Account_Balance**: Customer's account balance in dollars\n",
    "- **Credit_Score**: Customer's credit score (300-900 range)\n",
    "- **Transaction_Count**: Number of transactions in the last month\n",
    "- **Years_Active**: Number of years the customer has been with the bank\n"
   ]
  },
  {
   "cell_type": "code",
   "execution_count": null,
   "id": "7671b072",
   "metadata": {},
   "outputs": [
    {
     "name": "stdout",
     "output_type": "stream",
     "text": [
      "[[    1  5200   720    15     2]\n",
      " [    2 15000   650    42     8]\n",
      " [    3   300   500     5     1]\n",
      " [    4  8700   810    30     6]\n",
      " [    5  4300   690    18     3]\n",
      " [    6 12000   745    55    10]\n",
      " [    7   760   600     8     1]\n",
      " [    8 22000   860    70    12]\n",
      " [    9  9000   700    17     5]\n",
      " [   10  6700   675    22     4]]\n"
     ]
    }
   ],
   "source": [
    "import numpy as np\n",
    "#[Customer_ID,Account_Balance,Credit_Score,Transaction_Count,Years_active]\n",
    "banking_data=np.array([\n",
    "    [1,5200,720,15,2],\n",
    "    [2,15000,650,42,8],\n",
    "    [3,300,500,5,1],\n",
    "    [4,8700,810,30,6],\n",
    "    [5,4300,690,18,3],\n",
    "    [6,12000,745,55,10],\n",
    "    [7,760,600,8,1],\n",
    "    [8,22000,860,70,12],\n",
    "    [9,9000,700,17,5],\n",
    "    [10,6700,675,22,4]\n",
    "])\n",
    "print(banking_data)"
   ]
  },
  {
   "cell_type": "code",
   "execution_count": null,
   "id": "3f89589d",
   "metadata": {},
   "outputs": [],
   "source": [
    "### Question 1: Array Creation and Manipulation\n",
    "\n",
    "**Q1.1:** Create a 4x4 identity matrix using `np.eye()`\n",
    "\n",
    "**Q1.2:** Create an array of 8 zeros using `np.zeros()`\n",
    "\n",
    "**Q1.3:** Create an array of 6 ones using `np.ones()`\n",
    "\n",
    "**Q1.4:** Create an array with values from 0 to 15 using `np.arange()`\n",
    "\n",
    "**Q1.5:** Create an array with 8 evenly spaced values from 0 to 100 using `np.linspace()`"
   ]
  },
  {
   "cell_type": "code",
   "execution_count": null,
   "id": "0ae8febb",
   "metadata": {},
   "outputs": [
    {
     "data": {
      "text/plain": [
       "array([[1., 0., 0., 0.],\n",
       "       [0., 1., 0., 0.],\n",
       "       [0., 0., 1., 0.],\n",
       "       [0., 0., 0., 1.]])"
      ]
     },
     "execution_count": 8,
     "metadata": {},
     "output_type": "execute_result"
    }
   ],
   "source": [
    "# **Q1.1:** Create a 4x4 identity matrix using `np.eye()`\n",
    "import numpy as np\n",
    "np.eye(4)\n",
    "\n"
   ]
  },
  {
   "cell_type": "code",
   "execution_count": null,
   "id": "4954f15e",
   "metadata": {},
   "outputs": [
    {
     "data": {
      "text/plain": [
       "array([0., 0., 0., 0., 0., 0., 0., 0.])"
      ]
     },
     "execution_count": 9,
     "metadata": {},
     "output_type": "execute_result"
    }
   ],
   "source": [
    "#**Q1.2:** Create an array of 8 zeros using `np.zeros()`\n",
    "np.zeros(8)"
   ]
  },
  {
   "cell_type": "code",
   "execution_count": null,
   "id": "3c07a8cf",
   "metadata": {},
   "outputs": [
    {
     "data": {
      "text/plain": [
       "array([1., 1., 1., 1., 1., 1.])"
      ]
     },
     "execution_count": 10,
     "metadata": {},
     "output_type": "execute_result"
    }
   ],
   "source": [
    "# **Q1.3:** Create an array of 6 ones using `np.ones()`\n",
    "np.ones(6)"
   ]
  },
  {
   "cell_type": "code",
   "execution_count": null,
   "id": "3a44a967",
   "metadata": {},
   "outputs": [
    {
     "data": {
      "text/plain": [
       "array([ 0,  1,  2,  3,  4,  5,  6,  7,  8,  9, 10, 11, 12, 13, 14])"
      ]
     },
     "execution_count": 11,
     "metadata": {},
     "output_type": "execute_result"
    }
   ],
   "source": [
    "# **Q1.4:** Create an array with values from 0 to 15 using `np.arange()`\n",
    "np.arange(0,15)"
   ]
  },
  {
   "cell_type": "code",
   "execution_count": null,
   "id": "3057d3c3",
   "metadata": {},
   "outputs": [
    {
     "data": {
      "text/plain": [
       "array([  0.        ,  14.28571429,  28.57142857,  42.85714286,\n",
       "        57.14285714,  71.42857143,  85.71428571, 100.        ])"
      ]
     },
     "execution_count": 12,
     "metadata": {},
     "output_type": "execute_result"
    }
   ],
   "source": [
    "# **Q1.5:** Create an array with 8 evenly spaced values from 0 to 100 using `np.linspace()`\n",
    "np.linspace(0,100,8)"
   ]
  },
  {
   "cell_type": "code",
   "execution_count": null,
   "id": "293848ba",
   "metadata": {},
   "outputs": [],
   "source": [
    "### Question 2: Array Attributes and Information\n",
    "\n",
    "**Q2.1:** What is the shape of the `banking_data` array?\n",
    "\n",
    "**Q2.2:** What is the data type of the `banking_data` array?\n",
    "\n",
    "**Q2.3:** What is the size (total number of elements) of the `banking_data` array?\n",
    "\n",
    "**Q2.4:** What is the number of dimensions of the `banking_data` array?\n",
    "\n",
    "**Q2.5:** What is the memory size of the `banking_data` array in bytes?"
   ]
  },
  {
   "cell_type": "code",
   "execution_count": null,
   "id": "7a02af0d",
   "metadata": {},
   "outputs": [
    {
     "name": "stdout",
     "output_type": "stream",
     "text": [
      "[[    1  5200   720    15     2]\n",
      " [    2 15000   650    42     8]\n",
      " [    3   300   500     5     1]\n",
      " [    4  8700   810    30     6]\n",
      " [    5  4300   690    18     3]\n",
      " [    6 12000   745    55    10]\n",
      " [    7   760   600     8     1]\n",
      " [    8 22000   860    70    12]\n",
      " [    9  9000   700    17     5]\n",
      " [   10  6700   675    22     4]]\n",
      "Shape : (10, 5)\n"
     ]
    }
   ],
   "source": [
    "# **Q2.1:** What is the shape of the `banking_data` array?\n",
    "import numpy as np\n",
    "#[Customer_ID,Account_Balance,Credit_Score,Transaction_Count,Years_active]\n",
    "banking_data=np.array([\n",
    "    [1,5200,720,15,2],\n",
    "    [2,15000,650,42,8],\n",
    "    [3,300,500,5,1],\n",
    "    [4,8700,810,30,6],\n",
    "    [5,4300,690,18,3],\n",
    "    [6,12000,745,55,10],\n",
    "    [7,760,600,8,1],\n",
    "    [8,22000,860,70,12],\n",
    "    [9,9000,700,17,5],\n",
    "    [10,6700,675,22,4]\n",
    "])\n",
    "print(banking_data)\n",
    "print(\"Shape :\",np.shape(banking_data))"
   ]
  },
  {
   "cell_type": "code",
   "execution_count": null,
   "id": "6c113295",
   "metadata": {},
   "outputs": [
    {
     "data": {
      "text/plain": [
       "dtype('int64')"
      ]
     },
     "execution_count": 18,
     "metadata": {},
     "output_type": "execute_result"
    }
   ],
   "source": [
    "# **Q2.2:** What is the data type of the `banking_data` array?\n",
    "banking_data.dtype"
   ]
  },
  {
   "cell_type": "code",
   "execution_count": null,
   "id": "20964e97",
   "metadata": {},
   "outputs": [
    {
     "data": {
      "text/plain": [
       "50"
      ]
     },
     "execution_count": 19,
     "metadata": {},
     "output_type": "execute_result"
    }
   ],
   "source": [
    "# **Q2.3:** What is the size (total number of elements) of the `banking_data` array?\n",
    "banking_data.size "
   ]
  },
  {
   "cell_type": "code",
   "execution_count": null,
   "id": "cbdf2c41",
   "metadata": {},
   "outputs": [
    {
     "data": {
      "text/plain": [
       "2"
      ]
     },
     "execution_count": 20,
     "metadata": {},
     "output_type": "execute_result"
    }
   ],
   "source": [
    "# **Q2.4:** What is the number of dimensions of the `banking_data` array?\n",
    "banking_data.ndim"
   ]
  },
  {
   "cell_type": "code",
   "execution_count": null,
   "id": "604229cf",
   "metadata": {},
   "outputs": [
    {
     "data": {
      "text/plain": [
       "400"
      ]
     },
     "execution_count": 22,
     "metadata": {},
     "output_type": "execute_result"
    }
   ],
   "source": [
    "# **Q2.5:** What is the memory size of the `banking_data` array in bytes?\n",
    "banking_data.nbytes"
   ]
  },
  {
   "cell_type": "code",
   "execution_count": null,
   "id": "80605536",
   "metadata": {},
   "outputs": [],
   "source": [
    "### Question 3: Indexing and Slicing\n",
    "\n",
    "**Q3.1:** Extract the first row of `banking_data`\n",
    "\n",
    "**Q3.2:** Extract the last row of `banking_data`\n",
    "\n",
    "**Q3.3:** Extract the Account_Balance column (column index 1)\n",
    "\n",
    "**Q3.4:** Extract the first 4 rows and first 3 columns\n",
    "\n",
    "**Q3.5:** Extract rows 3 to 7 (inclusive)"
   ]
  },
  {
   "cell_type": "code",
   "execution_count": null,
   "id": "c58258f3",
   "metadata": {},
   "outputs": [
    {
     "data": {
      "text/plain": [
       "array([   1, 5200,  720,   15,    2])"
      ]
     },
     "execution_count": 23,
     "metadata": {},
     "output_type": "execute_result"
    }
   ],
   "source": [
    "# **Q3.1:** Extract the first row of `banking_data`\n",
    "banking_data[0]"
   ]
  },
  {
   "cell_type": "code",
   "execution_count": null,
   "id": "2a445fcd",
   "metadata": {},
   "outputs": [
    {
     "data": {
      "text/plain": [
       "array([  10, 6700,  675,   22,    4])"
      ]
     },
     "execution_count": 24,
     "metadata": {},
     "output_type": "execute_result"
    }
   ],
   "source": [
    "# **Q3.2:** Extract the last row of `banking_data`\n",
    "banking_data[9]"
   ]
  },
  {
   "cell_type": "code",
   "execution_count": null,
   "id": "2976143d",
   "metadata": {},
   "outputs": [
    {
     "name": "stdout",
     "output_type": "stream",
     "text": [
      "[[    1  5200   720    15     2]\n",
      " [    2 15000   650    42     8]\n",
      " [    3   300   500     5     1]\n",
      " [    4  8700   810    30     6]\n",
      " [    5  4300   690    18     3]\n",
      " [    6 12000   745    55    10]\n",
      " [    7   760   600     8     1]\n",
      " [    8 22000   860    70    12]\n",
      " [    9  9000   700    17     5]\n",
      " [   10  6700   675    22     4]]\n"
     ]
    },
    {
     "data": {
      "text/plain": [
       "array([ 5200, 15000,   300,  8700,  4300, 12000,   760, 22000,  9000,\n",
       "        6700])"
      ]
     },
     "execution_count": 27,
     "metadata": {},
     "output_type": "execute_result"
    }
   ],
   "source": [
    "# **Q3.3:** Extract the Account_Balance column (column index 1)\n",
    "print(banking_data)\n",
    "banking_data[0:,1]"
   ]
  },
  {
   "cell_type": "code",
   "execution_count": null,
   "id": "75b6e0fb",
   "metadata": {},
   "outputs": [
    {
     "data": {
      "text/plain": [
       "array([[    1,  5200,   720],\n",
       "       [    2, 15000,   650],\n",
       "       [    3,   300,   500],\n",
       "       [    4,  8700,   810]])"
      ]
     },
     "execution_count": 29,
     "metadata": {},
     "output_type": "execute_result"
    }
   ],
   "source": [
    "# **Q3.4:** Extract the first 4 rows and first 3 columns\n",
    "banking_data[0:4,0:3]"
   ]
  },
  {
   "cell_type": "code",
   "execution_count": null,
   "id": "6db2d28b",
   "metadata": {},
   "outputs": [
    {
     "data": {
      "text/plain": [
       "array([[    3,   300,   500,     5,     1],\n",
       "       [    4,  8700,   810,    30,     6],\n",
       "       [    5,  4300,   690,    18,     3],\n",
       "       [    6, 12000,   745,    55,    10],\n",
       "       [    7,   760,   600,     8,     1]])"
      ]
     },
     "execution_count": 34,
     "metadata": {},
     "output_type": "execute_result"
    }
   ],
   "source": [
    "#**Q3.5:** Extract rows 3 to 7 (inclusive)\n",
    "banking_data[2:7,0:]"
   ]
  },
  {
   "cell_type": "code",
   "execution_count": null,
   "id": "56892486",
   "metadata": {},
   "outputs": [],
   "source": [
    "## Question 4: Mathematical Operations\n",
    "\n",
    "**Q4.1:** Calculate the sum of all account balances\n",
    "\n",
    "**Q4.2:** Calculate the mean account balance\n",
    "\n",
    "**Q4.3:** Calculate the standard deviation of account balances\n",
    "\n",
    "**Q4.4:** Calculate the variance of account balances\n",
    "\n",
    "**Q4.5:** Calculate the median account balance"
   ]
  },
  {
   "cell_type": "code",
   "execution_count": null,
   "id": "39196ae7",
   "metadata": {},
   "outputs": [
    {
     "data": {
      "text/plain": [
       "array([[    1,  5200,   720,    15,     2],\n",
       "       [    2, 15000,   650,    42,     8],\n",
       "       [    3,   300,   500,     5,     1],\n",
       "       [    4,  8700,   810,    30,     6],\n",
       "       [    5,  4300,   690,    18,     3],\n",
       "       [    6, 12000,   745,    55,    10],\n",
       "       [    7,   760,   600,     8,     1],\n",
       "       [    8, 22000,   860,    70,    12],\n",
       "       [    9,  9000,   700,    17,     5],\n",
       "       [   10,  6700,   675,    22,     4]])"
      ]
     },
     "execution_count": 8,
     "metadata": {},
     "output_type": "execute_result"
    }
   ],
   "source": [
    "#[Customer_ID,Account_Balance,Credit_Score,Transaction_Count,Years_active]\n",
    "banking_data"
   ]
  },
  {
   "cell_type": "code",
   "execution_count": null,
   "id": "deb18794",
   "metadata": {},
   "outputs": [
    {
     "data": {
      "text/plain": [
       "np.int64(83960)"
      ]
     },
     "execution_count": 9,
     "metadata": {},
     "output_type": "execute_result"
    }
   ],
   "source": [
    "# **Q4.1:** Calculate the sum of all account balances\n",
    "banking_data[0:,1].sum()"
   ]
  },
  {
   "cell_type": "code",
   "execution_count": null,
   "id": "2490cb54",
   "metadata": {},
   "outputs": [
    {
     "data": {
      "text/plain": [
       "np.float64(8396.0)"
      ]
     },
     "execution_count": 10,
     "metadata": {},
     "output_type": "execute_result"
    }
   ],
   "source": [
    "# **Q4.2:** Calculate the mean account balance\n",
    "banking_data[0:,1].mean()"
   ]
  },
  {
   "cell_type": "code",
   "execution_count": null,
   "id": "470dcbfa",
   "metadata": {},
   "outputs": [
    {
     "data": {
      "text/plain": [
       "np.float64(6291.656697563846)"
      ]
     },
     "execution_count": 11,
     "metadata": {},
     "output_type": "execute_result"
    }
   ],
   "source": [
    "# **Q4.3:** Calculate the standard deviation of account balances\n",
    "banking_data[0:,1].std()"
   ]
  },
  {
   "cell_type": "code",
   "execution_count": null,
   "id": "b1ee2d61",
   "metadata": {},
   "outputs": [
    {
     "data": {
      "text/plain": [
       "np.float64(39584944.0)"
      ]
     },
     "execution_count": 12,
     "metadata": {},
     "output_type": "execute_result"
    }
   ],
   "source": [
    "# **Q4.4:** Calculate the variance of account balances\n",
    "banking_data[0:,1].var()"
   ]
  },
  {
   "cell_type": "code",
   "execution_count": null,
   "id": "5f37a906",
   "metadata": {},
   "outputs": [
    {
     "data": {
      "text/plain": [
       "np.float64(7700.0)"
      ]
     },
     "execution_count": 15,
     "metadata": {},
     "output_type": "execute_result"
    }
   ],
   "source": [
    "#**Q4.5:** Calculate the median account balance\n",
    "np.median(banking_data[0:,1])"
   ]
  },
  {
   "cell_type": "code",
   "execution_count": null,
   "id": "413d233d",
   "metadata": {},
   "outputs": [],
   "source": [
    "### Question 5: Statistical Functions\n",
    "\n",
    "**Q5.1:** Find the minimum and maximum account balances\n",
    "\n",
    "**Q5.2:** Find the minimum and maximum credit scores\n",
    "\n",
    "**Q5.3:** Calculate the percentile values for account balances (25th, 50th, 75th)\n",
    "\n",
    "**Q5.4:** Calculate the correlation between account balance and credit score\n",
    "\n",
    "**Q5.5:** Calculate the covariance between account balance and credit score\n"
   ]
  },
  {
   "cell_type": "code",
   "execution_count": null,
   "id": "16ab1a28",
   "metadata": {},
   "outputs": [
    {
     "name": "stdout",
     "output_type": "stream",
     "text": [
      "minimum : 300\n",
      "maximum : 22000\n"
     ]
    }
   ],
   "source": [
    "# **Q5.1:** Find the minimum and maximum account balances\n",
    "print(\"minimum :\",banking_data[0:,1].min())\n",
    "print(\"maximum :\",banking_data[0:,1].max())"
   ]
  },
  {
   "cell_type": "code",
   "execution_count": null,
   "id": "1ba061c6",
   "metadata": {},
   "outputs": [
    {
     "name": "stdout",
     "output_type": "stream",
     "text": [
      "minimum : 500\n",
      "maximum : 860\n"
     ]
    }
   ],
   "source": [
    "# **Q5.2:** Find the minimum and maximum credit scores\n",
    "print(\"minimum :\",banking_data[0:,2].min())\n",
    "print(\"maximum :\",banking_data[0:,2].max())"
   ]
  },
  {
   "cell_type": "code",
   "execution_count": null,
   "id": "4d5fa5d3",
   "metadata": {},
   "outputs": [
    {
     "name": "stdout",
     "output_type": "stream",
     "text": [
      "Q25 : 4525.0\n",
      "Q50 : 7700.0\n",
      "Q75 : 11250.0\n"
     ]
    }
   ],
   "source": [
    "# **Q5.3:** Calculate the percentile values for account balances (25th, 50th, 75th)\n",
    "print(\"Q25 :\",np.quantile(banking_data[0:,1],0.25))\n",
    "print(\"Q50 :\",np.quantile(banking_data[0:,1],0.50))\n",
    "print(\"Q75 :\",np.quantile(banking_data[0:,1],0.75))"
   ]
  },
  {
   "cell_type": "code",
   "execution_count": null,
   "id": "ba15aa17",
   "metadata": {},
   "outputs": [
    {
     "data": {
      "text/plain": [
       "array([[1.        , 0.73208837],\n",
       "       [0.73208837, 1.        ]])"
      ]
     },
     "execution_count": 30,
     "metadata": {},
     "output_type": "execute_result"
    }
   ],
   "source": [
    "# **Q5.4:** Calculate the correlation between account balance and credit score\n",
    "np.corrcoef(banking_data[0:,1],banking_data[0:,2])"
   ]
  },
  {
   "cell_type": "code",
   "execution_count": null,
   "id": "44eedf7d",
   "metadata": {},
   "outputs": [
    {
     "data": {
      "text/plain": [
       "array([[4.39832711e+07, 4.93811111e+05],\n",
       "       [4.93811111e+05, 1.03444444e+04]])"
      ]
     },
     "execution_count": 31,
     "metadata": {},
     "output_type": "execute_result"
    }
   ],
   "source": [
    "#**Q5.5:** Calculate the covariance between account balance and credit score\n",
    "np.cov(banking_data[0:,1],banking_data[0:,2])"
   ]
  },
  {
   "cell_type": "code",
   "execution_count": null,
   "id": "b21fdaa3",
   "metadata": {},
   "outputs": [],
   "source": [
    "### Question 6: Array Reshaping and Manipulation\n",
    "\n",
    "**Q6.1:** Reshape the `banking_data` to 5 rows × 10 columns\n",
    "\n",
    "**Q6.2:** Flatten the `banking_data` to a 1D array\n",
    "\n",
    "**Q6.3:** Transpose the `banking_data`\n",
    "\n",
    "**Q6.4:** Split the `banking_data` into 2 equal parts vertically\n",
    "\n",
    "**Q6.5:** Split the `banking_data` into 2 equal parts horizontally"
   ]
  },
  {
   "cell_type": "code",
   "execution_count": null,
   "id": "efcbba1f",
   "metadata": {},
   "outputs": [
    {
     "data": {
      "text/plain": [
       "array([[    1,  5200,   720,    15,     2],\n",
       "       [    2, 15000,   650,    42,     8],\n",
       "       [    3,   300,   500,     5,     1],\n",
       "       [    4,  8700,   810,    30,     6],\n",
       "       [    5,  4300,   690,    18,     3],\n",
       "       [    6, 12000,   745,    55,    10],\n",
       "       [    7,   760,   600,     8,     1],\n",
       "       [    8, 22000,   860,    70,    12],\n",
       "       [    9,  9000,   700,    17,     5],\n",
       "       [   10,  6700,   675,    22,     4]])"
      ]
     },
     "execution_count": 32,
     "metadata": {},
     "output_type": "execute_result"
    }
   ],
   "source": [
    "\n",
    "banking_data"
   ]
  },
  {
   "cell_type": "code",
   "execution_count": null,
   "id": "0aae97b5",
   "metadata": {},
   "outputs": [
    {
     "data": {
      "text/plain": [
       "array([[    1,  5200,   720,    15,     2,     2, 15000,   650,    42,\n",
       "            8],\n",
       "       [    3,   300,   500,     5,     1,     4,  8700,   810,    30,\n",
       "            6],\n",
       "       [    5,  4300,   690,    18,     3,     6, 12000,   745,    55,\n",
       "           10],\n",
       "       [    7,   760,   600,     8,     1,     8, 22000,   860,    70,\n",
       "           12],\n",
       "       [    9,  9000,   700,    17,     5,    10,  6700,   675,    22,\n",
       "            4]])"
      ]
     },
     "execution_count": 36,
     "metadata": {},
     "output_type": "execute_result"
    }
   ],
   "source": [
    "# **Q6.1:** Reshape the `banking_data` to 5 rows × 10 columns\n",
    "banking_data.reshape(5,10)"
   ]
  },
  {
   "cell_type": "code",
   "execution_count": null,
   "id": "0b07e17c",
   "metadata": {},
   "outputs": [
    {
     "data": {
      "text/plain": [
       "array([    1,  5200,   720,    15,     2,     2, 15000,   650,    42,\n",
       "           8,     3,   300,   500,     5,     1,     4,  8700,   810,\n",
       "          30,     6,     5,  4300,   690,    18,     3,     6, 12000,\n",
       "         745,    55,    10,     7,   760,   600,     8,     1,     8,\n",
       "       22000,   860,    70,    12,     9,  9000,   700,    17,     5,\n",
       "          10,  6700,   675,    22,     4])"
      ]
     },
     "execution_count": 37,
     "metadata": {},
     "output_type": "execute_result"
    }
   ],
   "source": [
    "#**Q6.2:** Flatten the `banking_data` to a 1D array\n",
    "np.ravel(banking_data)"
   ]
  },
  {
   "cell_type": "code",
   "execution_count": null,
   "id": "69d60ef0",
   "metadata": {},
   "outputs": [
    {
     "data": {
      "text/plain": [
       "array([[    1,     2,     3,     4,     5,     6,     7,     8,     9,\n",
       "           10],\n",
       "       [ 5200, 15000,   300,  8700,  4300, 12000,   760, 22000,  9000,\n",
       "         6700],\n",
       "       [  720,   650,   500,   810,   690,   745,   600,   860,   700,\n",
       "          675],\n",
       "       [   15,    42,     5,    30,    18,    55,     8,    70,    17,\n",
       "           22],\n",
       "       [    2,     8,     1,     6,     3,    10,     1,    12,     5,\n",
       "            4]])"
      ]
     },
     "execution_count": 38,
     "metadata": {},
     "output_type": "execute_result"
    }
   ],
   "source": [
    "# **Q6.3:** Transpose the `banking_data`\n",
    "banking_data.T"
   ]
  },
  {
   "cell_type": "code",
   "execution_count": null,
   "id": "3245ea1f",
   "metadata": {},
   "outputs": [
    {
     "data": {
      "text/plain": [
       "[array([[    1,  5200,   720,    15,     2],\n",
       "        [    2, 15000,   650,    42,     8],\n",
       "        [    3,   300,   500,     5,     1],\n",
       "        [    4,  8700,   810,    30,     6],\n",
       "        [    5,  4300,   690,    18,     3]]),\n",
       " array([[    6, 12000,   745,    55,    10],\n",
       "        [    7,   760,   600,     8,     1],\n",
       "        [    8, 22000,   860,    70,    12],\n",
       "        [    9,  9000,   700,    17,     5],\n",
       "        [   10,  6700,   675,    22,     4]])]"
      ]
     },
     "execution_count": 46,
     "metadata": {},
     "output_type": "execute_result"
    }
   ],
   "source": [
    "# **Q6.4:** Split the `banking_data` into 2 equal parts vertically\n",
    "np.vsplit(banking_data,2)"
   ]
  },
  {
   "cell_type": "code",
   "execution_count": null,
   "id": "9ce5a742",
   "metadata": {},
   "outputs": [
    {
     "data": {
      "text/plain": [
       "[array([[    1,  5200],\n",
       "        [    2, 15000],\n",
       "        [    3,   300],\n",
       "        [    4,  8700],\n",
       "        [    5,  4300],\n",
       "        [    6, 12000],\n",
       "        [    7,   760],\n",
       "        [    8, 22000],\n",
       "        [    9,  9000],\n",
       "        [   10,  6700]]),\n",
       " array([[720,  15,   2],\n",
       "        [650,  42,   8],\n",
       "        [500,   5,   1],\n",
       "        [810,  30,   6],\n",
       "        [690,  18,   3],\n",
       "        [745,  55,  10],\n",
       "        [600,   8,   1],\n",
       "        [860,  70,  12],\n",
       "        [700,  17,   5],\n",
       "        [675,  22,   4]])]"
      ]
     },
     "execution_count": 52,
     "metadata": {},
     "output_type": "execute_result"
    }
   ],
   "source": [
    "# **Q6.5:** Split the `banking_data` into 2 equal parts horizontally\n",
    "np.hsplit(banking_data,[2])"
   ]
  },
  {
   "cell_type": "code",
   "execution_count": null,
   "id": "c94973ff",
   "metadata": {},
   "outputs": [],
   "source": [
    "### Question 7: Logical Operations and Filtering\n",
    "\n",
    "**Q7.1:** Find customers with account balance greater than $100,000\n",
    "\n",
    "**Q7.2:** Find customers with credit score greater than 800\n",
    "\n",
    "**Q7.3:** Find customers with transaction count greater than 50 AND credit score less than 750\n",
    "\n",
    "**Q7.4:** Count how many customers have account balance between $10,000 and $100,000\n",
    "\n",
    "**Q7.5:** Find the index of the customer with the highest credit score"
   ]
  },
  {
   "cell_type": "code",
   "execution_count": null,
   "id": "47563cea",
   "metadata": {},
   "outputs": [
    {
     "data": {
      "text/plain": [
       "array([[    8, 22000,   860,    70,    12]])"
      ]
     },
     "execution_count": 58,
     "metadata": {},
     "output_type": "execute_result"
    }
   ],
   "source": [
    "# **Q7.1:** Find customers with account balance greater than $100,000(15000)\n",
    "banking_data[banking_data[0:,1]>15000]"
   ]
  },
  {
   "cell_type": "code",
   "execution_count": null,
   "id": "90db1291",
   "metadata": {},
   "outputs": [
    {
     "data": {
      "text/plain": [
       "array([[    1,  5200,   720,    15,     2],\n",
       "       [    2, 15000,   650,    42,     8],\n",
       "       [    3,   300,   500,     5,     1],\n",
       "       [    4,  8700,   810,    30,     6],\n",
       "       [    5,  4300,   690,    18,     3],\n",
       "       [    6, 12000,   745,    55,    10],\n",
       "       [    7,   760,   600,     8,     1],\n",
       "       [    8, 22000,   860,    70,    12],\n",
       "       [    9,  9000,   700,    17,     5],\n",
       "       [   10,  6700,   675,    22,     4]])"
      ]
     },
     "execution_count": 59,
     "metadata": {},
     "output_type": "execute_result"
    }
   ],
   "source": [
    "#[Customer_ID,Account_Balance,Credit_Score,Transaction_Count,Years_active]\n",
    "banking_data\n"
   ]
  },
  {
   "cell_type": "code",
   "execution_count": null,
   "id": "ee761ea1",
   "metadata": {},
   "outputs": [
    {
     "data": {
      "text/plain": [
       "array([[    4,  8700,   810,    30,     6],\n",
       "       [    8, 22000,   860,    70,    12]])"
      ]
     },
     "execution_count": 70,
     "metadata": {},
     "output_type": "execute_result"
    }
   ],
   "source": [
    "# **Q7.2:** Find customers with credit score greater than 800\n",
    "banking_data[banking_data[0:,2]>800]      \n"
   ]
  },
  {
   "cell_type": "code",
   "execution_count": null,
   "id": "e4d8a7b5",
   "metadata": {},
   "outputs": [
    {
     "data": {
      "text/plain": [
       "array([[    6, 12000,   745,    55,    10],\n",
       "       [    8, 22000,   860,    70,    12]])"
      ]
     },
     "execution_count": 69,
     "metadata": {},
     "output_type": "execute_result"
    }
   ],
   "source": [
    "#**Q7.3:** Find customers with transaction count greater than 50 AND credit score less than 750\n",
    "x=banking_data[(banking_data[0:,3]>50) & (banking_data[0:,3]<750)]  # for total count use banking_data[(banking_data[0:,3]>50) & (banking_data[0:,3]<750)].shape[0]\n"
   ]
  },
  {
   "cell_type": "code",
   "execution_count": null,
   "id": "14407c48",
   "metadata": {},
   "outputs": [
    {
     "data": {
      "text/plain": [
       "array([[    2, 15000,   650,    42,     8],\n",
       "       [    6, 12000,   745,    55,    10]])"
      ]
     },
     "execution_count": 71,
     "metadata": {},
     "output_type": "execute_result"
    }
   ],
   "source": [
    "# **Q7.4:** Count how many customers have account balance between $10,000 and $100,000 (10,000 and 20,000)\n",
    "banking_data[(banking_data[0:,1]>=10000) & (banking_data[0:,1]<=20000)]"
   ]
  },
  {
   "cell_type": "code",
   "execution_count": null,
   "id": "7b5d5aa9",
   "metadata": {},
   "outputs": [
    {
     "data": {
      "text/plain": [
       "np.int64(8)"
      ]
     },
     "execution_count": 73,
     "metadata": {},
     "output_type": "execute_result"
    }
   ],
   "source": [
    "# **Q7.5:** Find the index of the customer with the highest credit score\n",
    "banking_data[0:,2].argmax()+1"
   ]
  },
  {
   "cell_type": "code",
   "execution_count": null,
   "id": "0812ffdd",
   "metadata": {},
   "outputs": [],
   "source": [
    "### Question 8: Sorting and Searching\n",
    "\n",
    "**Q8.1:** Sort the `banking_data` by account balance (ascending)\n",
    "\n",
    "**Q8.2:** Sort the `banking_data` by credit score (descending)\n",
    "\n",
    "**Q8.3:** Find the indices that would sort the array by years active\n",
    "\n",
    "**Q8.4:** Find the customer with the second highest account balance\n",
    "\n",
    "**Q8.5:** Find the customer with the lowest transaction count"
   ]
  },
  {
   "cell_type": "code",
   "execution_count": null,
   "id": "d418add5",
   "metadata": {},
   "outputs": [
    {
     "data": {
      "text/plain": [
       "array([[    1,  5200,   720,    15,     2],\n",
       "       [    2, 15000,   650,    42,     8],\n",
       "       [    3,   300,   500,     5,     1],\n",
       "       [    4,  8700,   810,    30,     6],\n",
       "       [    5,  4300,   690,    18,     3],\n",
       "       [    6, 12000,   745,    55,    10],\n",
       "       [    7,   760,   600,     8,     1],\n",
       "       [    8, 22000,   860,    70,    12],\n",
       "       [    9,  9000,   700,    17,     5],\n",
       "       [   10,  6700,   675,    22,     4]])"
      ]
     },
     "execution_count": 74,
     "metadata": {},
     "output_type": "execute_result"
    }
   ],
   "source": [
    "#[Customer_ID,Account_Balance,Credit_Score,Transaction_Count,Years_active]\n",
    "banking_data\n"
   ]
  },
  {
   "cell_type": "code",
   "execution_count": null,
   "id": "da478b29",
   "metadata": {},
   "outputs": [
    {
     "data": {
      "text/plain": [
       "array([[    3,   300,   500,     5,     1],\n",
       "       [    7,   760,   600,     8,     1],\n",
       "       [    5,  4300,   690,    18,     3],\n",
       "       [    1,  5200,   720,    15,     2],\n",
       "       [   10,  6700,   675,    22,     4],\n",
       "       [    4,  8700,   810,    30,     6],\n",
       "       [    9,  9000,   700,    17,     5],\n",
       "       [    6, 12000,   745,    55,    10],\n",
       "       [    2, 15000,   650,    42,     8],\n",
       "       [    8, 22000,   860,    70,    12]])"
      ]
     },
     "execution_count": 83,
     "metadata": {},
     "output_type": "execute_result"
    }
   ],
   "source": [
    "#**Q8.1:** Sort the `banking_data` by account balance (ascending)\n",
    "banking_data[banking_data[0:,1].argsort()]"
   ]
  },
  {
   "cell_type": "code",
   "execution_count": null,
   "id": "9df640b1",
   "metadata": {},
   "outputs": [
    {
     "data": {
      "text/plain": [
       "array([[    8, 12000,   860,    70,    12],\n",
       "       [    4,  5200,   810,    30,     6],\n",
       "       [    6,  8700,   745,    55,    10],\n",
       "       [    1,   300,   720,    15,     2],\n",
       "       [    9, 15000,   700,    17,     5],\n",
       "       [    5,  6700,   690,    18,     3],\n",
       "       [   10, 22000,   675,    22,     4],\n",
       "       [    2,   760,   650,    42,     8],\n",
       "       [    7,  9000,   600,     8,     1],\n",
       "       [    3,  4300,   500,     5,     1]])"
      ]
     },
     "execution_count": 87,
     "metadata": {},
     "output_type": "execute_result"
    }
   ],
   "source": [
    "# **Q8.2:** Sort the `banking_data` by credit score (descending)\n",
    "banking_data[banking_data[0:,2].argsort()[::-1]]   # for descending order use slicing [::-1]"
   ]
  },
  {
   "cell_type": "code",
   "execution_count": null,
   "id": "78667e03",
   "metadata": {},
   "outputs": [
    {
     "data": {
      "text/plain": [
       "array([[    1,   300,   720,    15,     1],\n",
       "       [    2,   760,   650,    42,     1],\n",
       "       [    3,  4300,   500,     5,     2],\n",
       "       [    4,  5200,   810,    30,     3],\n",
       "       [    5,  6700,   690,    18,     4],\n",
       "       [    6,  8700,   745,    55,     5],\n",
       "       [    7,  9000,   600,     8,     6],\n",
       "       [    8, 12000,   860,    70,     8],\n",
       "       [    9, 15000,   700,    17,    10],\n",
       "       [   10, 22000,   675,    22,    12]])"
      ]
     },
     "execution_count": 91,
     "metadata": {},
     "output_type": "execute_result"
    }
   ],
   "source": [
    "#**Q8.3:** Find the indices that would sort the array by years active\n",
    "banking_data[banking_data[0:,4].argsort()]"
   ]
  },
  {
   "cell_type": "code",
   "execution_count": null,
   "id": "15f2821b",
   "metadata": {},
   "outputs": [
    {
     "name": "stdout",
     "output_type": "stream",
     "text": [
      "[[    1  5200   720    15     2]\n",
      " [    2 15000   650    42     8]\n",
      " [    3   300   500     5     1]\n",
      " [    4  8700   810    30     6]\n",
      " [    5  4300   690    18     3]\n",
      " [    6 12000   745    55    10]\n",
      " [    7   760   600     8     1]\n",
      " [    8 22000   860    70    12]\n",
      " [    9  9000   700    17     5]\n",
      " [   10  6700   675    22     4]]\n"
     ]
    }
   ],
   "source": [
    "import numpy as np\n",
    "#[Customer_ID,Account_Balance,Credit_Score,Transaction_Count,Years_active]\n",
    "banking_data=np.array([\n",
    "    [1,5200,720,15,2],\n",
    "    [2,15000,650,42,8],\n",
    "    [3,300,500,5,1],\n",
    "    [4,8700,810,30,6],\n",
    "    [5,4300,690,18,3],\n",
    "    [6,12000,745,55,10],\n",
    "    [7,760,600,8,1],\n",
    "    [8,22000,860,70,12],\n",
    "    [9,9000,700,17,5],\n",
    "    [10,6700,675,22,4]\n",
    "])\n",
    "print(banking_data)\n"
   ]
  },
  {
   "cell_type": "code",
   "execution_count": null,
   "id": "041f4087",
   "metadata": {},
   "outputs": [
    {
     "data": {
      "text/plain": [
       "array([    2, 15000,   650,    42,     8])"
      ]
     },
     "execution_count": 106,
     "metadata": {},
     "output_type": "execute_result"
    }
   ],
   "source": [
    "#**Q8.4:** Find the customer with the second highest account balance\n",
    "sort=banking_data[0:,1].argsort()\n",
    "second_highest = banking_data[sort[-2]]\n",
    "second_highest\n",
    "# -------------------or ---------------------\n",
    "# h=banking_data[0:,1].max()\n",
    "# print(h)\n",
    "# sh=banking_data[(banking_data[0:,1]<h)]\n",
    "# ssh=sh.max()\n",
    "# second_highest=banking_data[banking_data[0:,1]==ssh]\n",
    "# second_highest"
   ]
  },
  {
   "cell_type": "code",
   "execution_count": null,
   "id": "877610b7",
   "metadata": {},
   "outputs": [
    {
     "data": {
      "text/plain": [
       "array([  3, 300, 500,   5,   1])"
      ]
     },
     "execution_count": 6,
     "metadata": {},
     "output_type": "execute_result"
    }
   ],
   "source": [
    "#**Q8.5:** Find the customer with the lowest transaction count\n",
    "banking_data[banking_data[:,3].argmin()]"
   ]
  },
  {
   "cell_type": "code",
   "execution_count": null,
   "id": "664c3e10",
   "metadata": {},
   "outputs": [],
   "source": [
    "### Question 9: Mathematical Functions\n",
    "\n",
    "**Q9.1:** Calculate the absolute values of all elements\n",
    "\n",
    "**Q9.2:** Calculate the square root of all account balances\n",
    "\n",
    "**Q9.3:** Calculate the square of all credit scores\n",
    "\n",
    "**Q9.4:** Calculate the exponential of all transaction counts\n",
    "\n",
    "**Q9.5:** Calculate the natural logarithm of all account balances"
   ]
  },
  {
   "cell_type": "code",
   "execution_count": 4,
   "id": "8660e1d3",
   "metadata": {},
   "outputs": [
    {
     "name": "stdout",
     "output_type": "stream",
     "text": [
      "[[    1  5200   720    15     2]\n",
      " [    2 15000   650    42     8]\n",
      " [    3   300   500     5     1]\n",
      " [    4  8700   810    30     6]\n",
      " [    5  4300   690    18     3]\n",
      " [    6 12000   745    55    10]\n",
      " [    7   760   600     8     1]\n",
      " [    8 22000   860    70    12]\n",
      " [    9  9000   700    17     5]\n",
      " [   10  6700   675    22     4]]\n"
     ]
    }
   ],
   "source": [
    "import numpy as np\n",
    "#[Customer_ID,Account_Balance,Credit_Score,Transaction_Count,Years_active]\n",
    "banking_data=np.array([\n",
    "    [1,5200,720,15,2],\n",
    "    [2,15000,650,42,8],\n",
    "    [3,300,500,5,1],\n",
    "    [4,8700,810,30,6],\n",
    "    [5,4300,690,18,3],\n",
    "    [6,12000,745,55,10],\n",
    "    [7,760,600,8,1],\n",
    "    [8,22000,860,70,12],\n",
    "    [9,9000,700,17,5],\n",
    "    [10,6700,675,22,4]\n",
    "])\n",
    "print(banking_data)"
   ]
  },
  {
   "cell_type": "code",
   "execution_count": 5,
   "id": "bd2da621",
   "metadata": {},
   "outputs": [
    {
     "data": {
      "text/plain": [
       "array([[    1,  5200,   720,    15,     2],\n",
       "       [    2, 15000,   650,    42,     8],\n",
       "       [    3,   300,   500,     5,     1],\n",
       "       [    4,  8700,   810,    30,     6],\n",
       "       [    5,  4300,   690,    18,     3],\n",
       "       [    6, 12000,   745,    55,    10],\n",
       "       [    7,   760,   600,     8,     1],\n",
       "       [    8, 22000,   860,    70,    12],\n",
       "       [    9,  9000,   700,    17,     5],\n",
       "       [   10,  6700,   675,    22,     4]])"
      ]
     },
     "execution_count": 5,
     "metadata": {},
     "output_type": "execute_result"
    }
   ],
   "source": [
    "# **Q9.1:** Calculate the absolute values of all elements\n",
    "np.abs(banking_data)"
   ]
  },
  {
   "cell_type": "code",
   "execution_count": 6,
   "id": "292c135b",
   "metadata": {},
   "outputs": [
    {
     "data": {
      "text/plain": [
       "array([ 72.11102551, 122.47448714,  17.32050808,  93.27379053,\n",
       "        65.57438524, 109.5445115 ,  27.5680975 , 148.32396974,\n",
       "        94.86832981,  81.85352772])"
      ]
     },
     "execution_count": 6,
     "metadata": {},
     "output_type": "execute_result"
    }
   ],
   "source": [
    "# **Q9.2:** Calculate the square root of all account balances\n",
    "np.sqrt(banking_data[0:,1])"
   ]
  },
  {
   "cell_type": "code",
   "execution_count": null,
   "id": "c59faf24",
   "metadata": {},
   "outputs": [
    {
     "data": {
      "text/plain": [
       "array([518400, 422500, 250000, 656100, 476100, 555025, 360000, 739600,\n",
       "       490000, 455625])"
      ]
     },
     "execution_count": 21,
     "metadata": {},
     "output_type": "execute_result"
    }
   ],
   "source": [
    "# **Q9.3:** Calculate the square of all credit scores\n",
    "#[Customer_ID,Account_Balance,Credit_Score,Transaction_Count,Years_active]\n",
    "(banking_data[0:,2])**(2)\n"
   ]
  },
  {
   "cell_type": "code",
   "execution_count": 7,
   "id": "a1104ae5",
   "metadata": {},
   "outputs": [
    {
     "data": {
      "text/plain": [
       "array([3.26901737e+06, 1.73927494e+18, 1.48413159e+02, 1.06864746e+13,\n",
       "       6.56599691e+07, 7.69478527e+23, 2.98095799e+03, 2.51543867e+30,\n",
       "       2.41549528e+07, 3.58491285e+09])"
      ]
     },
     "execution_count": 7,
     "metadata": {},
     "output_type": "execute_result"
    }
   ],
   "source": [
    "# **Q9.4:** Calculate the exponential of all transaction counts\n",
    "np.exp(banking_data[0:,3])"
   ]
  },
  {
   "cell_type": "code",
   "execution_count": 8,
   "id": "8b410c31",
   "metadata": {},
   "outputs": [
    {
     "data": {
      "text/plain": [
       "array([8.5564139 , 9.61580548, 5.70378247, 9.0710783 , 8.3663703 ,\n",
       "       9.39266193, 6.63331843, 9.99879773, 9.10497986, 8.80986281])"
      ]
     },
     "execution_count": 8,
     "metadata": {},
     "output_type": "execute_result"
    }
   ],
   "source": [
    "# **Q9.5:** Calculate the natural logarithm of all account balances\n",
    "np.log(banking_data[0:,1])"
   ]
  },
  {
   "cell_type": "code",
   "execution_count": null,
   "id": "235d412d",
   "metadata": {},
   "outputs": [],
   "source": [
    "### Question 10: Advanced Operations\n",
    "\n",
    "**Q10.1:** Calculate the cumulative sum of account balances\n",
    "\n",
    "**Q10.2:** Calculate the cumulative product of transaction counts\n",
    "\n",
    "**Q10.3:** Calculate the difference between consecutive account balances\n",
    "\n",
    "**Q10.4:** Calculate the gradient of account balances\n",
    "\n",
    "**Q10.5:** Calculate the histogram of account balances with 5 bins"
   ]
  },
  {
   "cell_type": "code",
   "execution_count": 11,
   "id": "f1fcac85",
   "metadata": {},
   "outputs": [
    {
     "name": "stdout",
     "output_type": "stream",
     "text": [
      "[Customer_ID | Account_Balance | Credit_Score | Transaction_Count | Years_active]\n",
      "[[    1  5200   720    15     2]\n",
      " [    2 15000   650    42     8]\n",
      " [    3   300   500     5     1]\n",
      " [    4  8700   810    30     6]\n",
      " [    5  4300   690    18     3]\n",
      " [    6 12000   745    55    10]\n",
      " [    7   760   600     8     1]\n",
      " [    8 22000   860    70    12]\n",
      " [    9  9000   700    17     5]\n",
      " [   10  6700   675    22     4]]\n"
     ]
    }
   ],
   "source": [
    "import numpy as np\n",
    "print(\"[Customer_ID | Account_Balance | Credit_Score | Transaction_Count | Years_active]\")\n",
    "banking_data=np.array([\n",
    "    [1,5200,720,15,2],\n",
    "    [2,15000,650,42,8],\n",
    "    [3,300,500,5,1],\n",
    "    [4,8700,810,30,6],\n",
    "    [5,4300,690,18,3],\n",
    "    [6,12000,745,55,10],\n",
    "    [7,760,600,8,1],\n",
    "    [8,22000,860,70,12],\n",
    "    [9,9000,700,17,5],\n",
    "    [10,6700,675,22,4]\n",
    "])\n",
    "print(banking_data)"
   ]
  },
  {
   "cell_type": "code",
   "execution_count": 12,
   "id": "f799af48",
   "metadata": {},
   "outputs": [
    {
     "data": {
      "text/plain": [
       "array([ 5200, 20200, 20500, 29200, 33500, 45500, 46260, 68260, 77260,\n",
       "       83960])"
      ]
     },
     "execution_count": 12,
     "metadata": {},
     "output_type": "execute_result"
    }
   ],
   "source": [
    "# **Q10.1:** Calculate the cumulative sum of account balances\n",
    "# The cumulative sum means we keep adding values step by step. \n",
    "# Cumulative sum means you start with the first number, then keep adding the next numbers one by one., It shows how the total grows step by step.\n",
    "np.cumsum(banking_data[0:,1])"
   ]
  },
  {
   "cell_type": "code",
   "execution_count": null,
   "id": "a86e56b9",
   "metadata": {},
   "outputs": [
    {
     "data": {
      "text/plain": [
       "array([            15,            630,           3150,          94500,\n",
       "              1701000,       93555000,      748440000,    52390800000,\n",
       "         890643600000, 19594159200000])"
      ]
     },
     "execution_count": 14,
     "metadata": {},
     "output_type": "execute_result"
    }
   ],
   "source": [
    "#  **Q10.2:** Calculate the cumulative product of transaction counts\n",
    "# Cumulative product means you start with the first number, then keep multiplying by the next numbers one by one.\n",
    "np.cumprod(banking_data[0:,3])  "
   ]
  },
  {
   "cell_type": "code",
   "execution_count": null,
   "id": "d4862f04",
   "metadata": {},
   "outputs": [
    {
     "data": {
      "text/plain": [
       "array([  9800, -14700,   8400,  -4400,   7700, -11240,  21240, -13000,\n",
       "        -2300])"
      ]
     },
     "execution_count": 15,
     "metadata": {},
     "output_type": "execute_result"
    }
   ],
   "source": [
    "# **Q10.3:** Calculate the difference between consecutive account balances\n",
    "np.diff(banking_data[0:,1])  "
   ]
  },
  {
   "cell_type": "code",
   "execution_count": 20,
   "id": "0ebaaca5",
   "metadata": {},
   "outputs": [
    {
     "data": {
      "text/plain": [
       "array([ 9800., -2450., -3150.,  2000.,  1650., -1770.,  5000.,  4120.,\n",
       "       -7650., -2300.])"
      ]
     },
     "execution_count": 20,
     "metadata": {},
     "output_type": "execute_result"
    }
   ],
   "source": [
    "# **Q10.4:** Calculate the gradient of account balances\n",
    "# It calculates the rate of change between consecutive elements of an array, This code computes the gradient (rate of change) of the Account_Balance column, assuming each customer ID is equally spaced by 1.\n",
    "np.gradient(banking_data[0:,1],1)  #  gradident(f,dx) where f is input and dx is spacing between points (optional, default = 1))"
   ]
  },
  {
   "cell_type": "code",
   "execution_count": 24,
   "id": "e6344f39",
   "metadata": {},
   "outputs": [
    {
     "name": "stdout",
     "output_type": "stream",
     "text": [
      "(array([3, 3, 2, 1, 1]), array([  300.,  4640.,  8980., 13320., 17660., 22000.]))\n"
     ]
    }
   ],
   "source": [
    "# **Q10.5:** Calculate the histogram of account balances with 5 bins\n",
    "# step 1:  Get the range of values --> find max and min values take then find range (range= max-min)\n",
    "# step 2: Decide number of bins --> bin width =range/ no of bins\n",
    "# step 3: Calculate bin edges --> bin edges= min_value + bin width , example : Bin 1: 300 → 300 + 4340 ≈ 4700 ,Bin 2: 4700 → 4700 + 4340 ≈ 9100  and so on.\n",
    "# step 4: Count how many values fall in each bin ,example: Bin 1 (300–4700): 300, 4300, 760 → 3 customers ,Bin 2 (4700–9100): 5200, 8700 → 2 customers an so on.\n",
    "print(np.histogram(banking_data[0:,1],bins=5))"
   ]
  },
  {
   "cell_type": "code",
   "execution_count": null,
   "id": "fa8f5447",
   "metadata": {},
   "outputs": [],
   "source": [
    "### Question 11: Random Numbers and Simulation\n",
    "\n",
    "**Q11.1:** Generate 6 random integers between 1 and 1000\n",
    "\n",
    "**Q11.2:** Generate 6 random floats between 0 and 1\n",
    "\n",
    "**Q11.3:** Generate 6 random numbers from normal distribution (mean=700, std=100)\n",
    "\n",
    "**Q11.4:** Shuffle the `banking_data` rows randomly\n",
    "\n",
    "**Q11.5:** Set random seed to 123 and generate 4 random numbers"
   ]
  },
  {
   "cell_type": "code",
   "execution_count": 25,
   "id": "e6782512",
   "metadata": {},
   "outputs": [
    {
     "name": "stdout",
     "output_type": "stream",
     "text": [
      "[Customer_ID | Account_Balance | Credit_Score | Transaction_Count | Years_active]\n",
      "[[    1  5200   720    15     2]\n",
      " [    2 15000   650    42     8]\n",
      " [    3   300   500     5     1]\n",
      " [    4  8700   810    30     6]\n",
      " [    5  4300   690    18     3]\n",
      " [    6 12000   745    55    10]\n",
      " [    7   760   600     8     1]\n",
      " [    8 22000   860    70    12]\n",
      " [    9  9000   700    17     5]\n",
      " [   10  6700   675    22     4]]\n"
     ]
    }
   ],
   "source": [
    "import numpy as np\n",
    "print(\"[Customer_ID | Account_Balance | Credit_Score | Transaction_Count | Years_active]\")\n",
    "banking_data=np.array([\n",
    "    [1,5200,720,15,2],\n",
    "    [2,15000,650,42,8],\n",
    "    [3,300,500,5,1],\n",
    "    [4,8700,810,30,6],\n",
    "    [5,4300,690,18,3],\n",
    "    [6,12000,745,55,10],\n",
    "    [7,760,600,8,1],\n",
    "    [8,22000,860,70,12],\n",
    "    [9,9000,700,17,5],\n",
    "    [10,6700,675,22,4]\n",
    "])\n",
    "print(banking_data)"
   ]
  },
  {
   "cell_type": "code",
   "execution_count": 26,
   "id": "141e11e3",
   "metadata": {},
   "outputs": [
    {
     "data": {
      "text/plain": [
       "array([  2, 730, 993, 686, 286,  43], dtype=int32)"
      ]
     },
     "execution_count": 26,
     "metadata": {},
     "output_type": "execute_result"
    }
   ],
   "source": [
    "# **Q11.1:** Generate 6 random integers between 1 and 1000\n",
    "np.random.randint(1,1000,6)"
   ]
  },
  {
   "cell_type": "code",
   "execution_count": 29,
   "id": "af616752",
   "metadata": {},
   "outputs": [
    {
     "data": {
      "text/plain": [
       "array([0.90774356, 0.68073135, 0.54516198, 0.66506821, 0.07165561,\n",
       "       0.8978092 ])"
      ]
     },
     "execution_count": 29,
     "metadata": {},
     "output_type": "execute_result"
    }
   ],
   "source": [
    "# **Q11.2:** Generate 6 random floats between 0 and 1\n",
    "np.random.rand(6)"
   ]
  },
  {
   "cell_type": "code",
   "execution_count": null,
   "id": "2fdb247c",
   "metadata": {},
   "outputs": [
    {
     "data": {
      "text/plain": [
       "array([636.19031167, 688.6388222 , 901.70651726, 778.57942519,\n",
       "       780.2583139 , 773.77398516])"
      ]
     },
     "execution_count": 31,
     "metadata": {},
     "output_type": "execute_result"
    }
   ],
   "source": [
    "# **Q11.3:** Generate 6 random numbers from normal distribution (mean=700, std=100)\n",
    "np.random.normal(700,100,6)  # np.random.normal()--->normal distribution"
   ]
  },
  {
   "cell_type": "code",
   "execution_count": null,
   "id": "f911cb6f",
   "metadata": {},
   "outputs": [
    {
     "data": {
      "text/plain": [
       "array([[    5,  4300,   690,    18,     3],\n",
       "       [    8, 22000,   860,    70,    12],\n",
       "       [    6, 12000,   745,    55,    10],\n",
       "       [    2, 15000,   650,    42,     8],\n",
       "       [    1,  5200,   720,    15,     2],\n",
       "       [    7,   760,   600,     8,     1],\n",
       "       [    4,  8700,   810,    30,     6],\n",
       "       [    3,   300,   500,     5,     1],\n",
       "       [   10,  6700,   675,    22,     4],\n",
       "       [    9,  9000,   700,    17,     5]])"
      ]
     },
     "execution_count": 40,
     "metadata": {},
     "output_type": "execute_result"
    }
   ],
   "source": [
    "# **Q11.4:** Shuffle the `banking_data` rows randomly\n",
    "np.random.shuffle(banking_data)  # it randomly shuffles each rows when you run code each time\n",
    "banking_data\n"
   ]
  },
  {
   "cell_type": "code",
   "execution_count": null,
   "id": "48cf2353",
   "metadata": {},
   "outputs": [
    {
     "data": {
      "text/plain": [
       "array([0.69646919, 0.28613933, 0.22685145, 0.55131477])"
      ]
     },
     "execution_count": 45,
     "metadata": {},
     "output_type": "execute_result"
    }
   ],
   "source": [
    "# **Q11.5:** Set random seed to 123 and generate 4 random numbers\n",
    "np.random.seed(123) # Seed: A value that initializes the random number generator to produce the same sequence of “random” numbers every time.\n",
    "np.random.rand(4)"
   ]
  },
  {
   "cell_type": "code",
   "execution_count": null,
   "id": "2bddfcf5",
   "metadata": {},
   "outputs": [],
   "source": [
    "### Question 12: Linear Algebra Operations\n",
    "\n",
    "**Q12.1:** Calculate the dot product of account balance and credit score columns\n",
    "\n",
    "**Q12.2:** Calculate the cross product of first two rows\n",
    "\n",
    "**Q12.3:** Calculate the norm (magnitude) of the account balance column\n",
    "\n",
    "**Q12.4:** Create a 3x3 matrix and calculate its determinant\n",
    "\n",
    "**Q12.5:** Calculate the inverse of the 3x3 matrix"
   ]
  },
  {
   "cell_type": "code",
   "execution_count": 84,
   "id": "f4ad8f35",
   "metadata": {},
   "outputs": [
    {
     "name": "stdout",
     "output_type": "stream",
     "text": [
      "[Customer_ID | Account_Balance | Credit_Score | Transaction_Count | Years_active]\n",
      "[[    1  5200   720    15     2]\n",
      " [    2 15000   650    42     8]\n",
      " [    3   300   500     5     1]\n",
      " [    4  8700   810    30     6]\n",
      " [    5  4300   690    18     3]\n",
      " [    6 12000   745    55    10]\n",
      " [    7   760   600     8     1]\n",
      " [    8 22000   860    70    12]\n",
      " [    9  9000   700    17     5]\n",
      " [   10  6700   675    22     4]]\n"
     ]
    }
   ],
   "source": [
    "import numpy as np\n",
    "print(\"[Customer_ID | Account_Balance | Credit_Score | Transaction_Count | Years_active]\")\n",
    "banking_data=np.array([\n",
    "    [1,5200,720,15,2],\n",
    "    [2,15000,650,42,8],\n",
    "    [3,300,500,5,1],\n",
    "    [4,8700,810,30,6],\n",
    "    [5,4300,690,18,3],\n",
    "    [6,12000,745,55,10],\n",
    "    [7,760,600,8,1],\n",
    "    [8,22000,860,70,12],\n",
    "    [9,9000,700,17,5],\n",
    "    [10,6700,675,22,4]\n",
    "])\n",
    "print(banking_data)"
   ]
  },
  {
   "cell_type": "code",
   "execution_count": 47,
   "id": "4e5f0f30",
   "metadata": {},
   "outputs": [
    {
     "data": {
      "text/plain": [
       "np.int64(62796500)"
      ]
     },
     "execution_count": 47,
     "metadata": {},
     "output_type": "execute_result"
    }
   ],
   "source": [
    "# **Q12.1:** Calculate the dot product of account balance and credit score columns\n",
    "# The dot product (also called scalar product) of two vectors is a single number obtained by multiplying corresponding elements of the vectors and then summing all the products.\n",
    "np.dot(banking_data[0:,1],banking_data[0:,2]) "
   ]
  },
  {
   "cell_type": "code",
   "execution_count": null,
   "id": "565067e3",
   "metadata": {},
   "outputs": [
    {
     "name": "stdout",
     "output_type": "stream",
     "text": [
      "[    32820     95000 -11482000]\n"
     ]
    }
   ],
   "source": [
    "# **Q12.2:** Calculate the cross product of first two rows\n",
    "# The cross product of two 3D vectors A and B is a vector that is perpendicular to both A and B.\n",
    "#    manual formula calculation :  A×B=[a2​b3​−a3​b2​, a3​b1​−a1​b3​, a1​b2​−a2​b1​]\n",
    "row1=banking_data[0,1:4]\n",
    "row2=banking_data[1,1:4]\n",
    "print(np.cross(row1,row2))\n"
   ]
  },
  {
   "cell_type": "code",
   "execution_count": null,
   "id": "edf3a604",
   "metadata": {},
   "outputs": [
    {
     "data": {
      "text/plain": [
       "np.float64(33177.96859363153)"
      ]
     },
     "execution_count": 54,
     "metadata": {},
     "output_type": "execute_result"
    }
   ],
   "source": [
    "# **Q12.3:** Calculate the norm (magnitude) of the account balance column\n",
    "np.linalg.norm(banking_data[0:,1])  \n"
   ]
  },
  {
   "cell_type": "code",
   "execution_count": 66,
   "id": "9f22990d",
   "metadata": {},
   "outputs": [
    {
     "name": "stdout",
     "output_type": "stream",
     "text": [
      "[[ 7 10 24]\n",
      " [15 39 20]\n",
      " [ 7 13 28]]\n"
     ]
    },
    {
     "data": {
      "text/plain": [
       "np.float64(1152.0000000000014)"
      ]
     },
     "execution_count": 66,
     "metadata": {},
     "output_type": "execute_result"
    }
   ],
   "source": [
    "# **Q12.4:** Create a 3x3 matrix and calculate its determinant\n",
    "x=np.random.randint(1,50,(3,3))\n",
    "print(x)\n",
    "np.linalg.det(x)\n"
   ]
  },
  {
   "cell_type": "code",
   "execution_count": 67,
   "id": "9a3b7374",
   "metadata": {},
   "outputs": [
    {
     "name": "stdout",
     "output_type": "stream",
     "text": [
      "[[39 18 47]\n",
      " [11 36 36]\n",
      " [ 2 48 46]]\n"
     ]
    },
    {
     "data": {
      "text/plain": [
       "array([[-0.00665927,  0.13207547, -0.09655938],\n",
       "       [-0.04014058,  0.1572327 , -0.08203848],\n",
       "       [ 0.04217536, -0.16981132,  0.11154273]])"
      ]
     },
     "execution_count": 67,
     "metadata": {},
     "output_type": "execute_result"
    }
   ],
   "source": [
    "# **Q12.5:** Calculate the inverse of the 3x3 matrix\n",
    "y=np.random.randint(1,50,(3,3))\n",
    "print(y)\n",
    "np.linalg.inv(y)"
   ]
  },
  {
   "cell_type": "code",
   "execution_count": null,
   "id": "7cf38bb0",
   "metadata": {},
   "outputs": [],
   "source": [
    "### Question 13: String Operations\n",
    "\n",
    "**Q13.1:** Convert all customer IDs to strings\n",
    "\n",
    "**Q13.2:** Check if any customer ID contains '100'\n",
    "\n",
    "**Q13.3:** Convert all customer IDs to uppercase (if they were strings)\n",
    "\n",
    "**Q13.4:** Count the length of each customer ID string\n",
    "\n",
    "**Q13.5:** Replace '100' with 'CUST' in customer IDs\n"
   ]
  },
  {
   "cell_type": "code",
   "execution_count": 102,
   "id": "24da2407",
   "metadata": {},
   "outputs": [
    {
     "name": "stdout",
     "output_type": "stream",
     "text": [
      "[Customer_ID | Account_Balance | Credit_Score | Transaction_Count | Years_active]\n",
      "[[    1  5200   720    15     2]\n",
      " [    2 15000   650    42     8]\n",
      " [    3   300   500     5     1]\n",
      " [    4  8700   810    30     6]\n",
      " [    5  4300   690    18     3]\n",
      " [    6 12000   745    55    10]\n",
      " [    7   760   600     8     1]\n",
      " [    8 22000   860    70    12]\n",
      " [    9  9000   700    17     5]\n",
      " [   10  6700   675    22     4]]\n"
     ]
    }
   ],
   "source": [
    "import numpy as np\n",
    "print(\"[Customer_ID | Account_Balance | Credit_Score | Transaction_Count | Years_active]\")\n",
    "banking_data=np.array([\n",
    "    [1,5200,720,15,2],\n",
    "    [2,15000,650,42,8],\n",
    "    [3,300,500,5,1],\n",
    "    [4,8700,810,30,6],\n",
    "    [5,4300,690,18,3],\n",
    "    [6,12000,745,55,10],\n",
    "    [7,760,600,8,1],\n",
    "    [8,22000,860,70,12],\n",
    "    [9,9000,700,17,5],\n",
    "    [10,6700,675,22,4]\n",
    "])\n",
    "print(banking_data)"
   ]
  },
  {
   "cell_type": "code",
   "execution_count": 103,
   "id": "4d565cbd",
   "metadata": {},
   "outputs": [
    {
     "data": {
      "text/plain": [
       "array(['1', '2', '3', '4', '5', '6', '7', '8', '9', '10'], dtype='<U21')"
      ]
     },
     "execution_count": 103,
     "metadata": {},
     "output_type": "execute_result"
    }
   ],
   "source": [
    "# **Q13.1:** Convert all customer IDs to strings\n",
    "banking_data[:,0].astype(str)\n"
   ]
  },
  {
   "cell_type": "code",
   "execution_count": 112,
   "id": "f0e2416b",
   "metadata": {},
   "outputs": [
    {
     "data": {
      "text/plain": [
       "np.False_"
      ]
     },
     "execution_count": 112,
     "metadata": {},
     "output_type": "execute_result"
    }
   ],
   "source": [
    "# **Q13.2:** Check if any customer ID contains '100'\n",
    "import numpy as np\n",
    "cust_id=banking_data[:,0].astype(str)\n",
    "cust_100 = np.char.find(cust_id,'100') >= 0\n",
    "any_100=np.any(cust_100)\n",
    "any_100\n",
    "\n",
    "\n"
   ]
  },
  {
   "cell_type": "code",
   "execution_count": null,
   "id": "344ed960",
   "metadata": {},
   "outputs": [],
   "source": [
    "# **Q13.3:** Convert all customer IDs to uppercase (if they were strings)\n"
   ]
  },
  {
   "cell_type": "code",
   "execution_count": 117,
   "id": "8fd8e9eb",
   "metadata": {},
   "outputs": [
    {
     "data": {
      "text/plain": [
       "array([1, 1, 1, 1, 1, 1, 1, 1, 1, 2])"
      ]
     },
     "execution_count": 117,
     "metadata": {},
     "output_type": "execute_result"
    }
   ],
   "source": [
    "# **Q13.4:** Count the length of each customer ID string\n",
    "x=banking_data[:,0].astype(str)\n",
    "str_len=np.char.str_len(x)\n",
    "str_len"
   ]
  },
  {
   "cell_type": "code",
   "execution_count": null,
   "id": "adf06abe",
   "metadata": {},
   "outputs": [],
   "source": [
    "**Q13.5:** Replace '100' with 'CUST' in customer IDs"
   ]
  },
  {
   "cell_type": "code",
   "execution_count": null,
   "id": "2ea5be60",
   "metadata": {},
   "outputs": [],
   "source": [
    "### Question 14: Date and Time Operations\n",
    "\n",
    "**Q14.1:** Convert years active to months\n",
    "\n",
    "**Q14.2:** Calculate the average years active\n",
    "\n",
    "**Q14.3:** Find customers who have been active for more than 5 years\n",
    "\n",
    "**Q14.4:** Calculate the total time all customers have been active (in years)\n",
    "\n",
    "**Q14.5:** Find the customer with the shortest time active"
   ]
  },
  {
   "cell_type": "code",
   "execution_count": 119,
   "id": "3d8e1c71",
   "metadata": {},
   "outputs": [
    {
     "name": "stdout",
     "output_type": "stream",
     "text": [
      "[Customer_ID | Account_Balance | Credit_Score | Transaction_Count | Years_active]\n",
      "[[    1  5200   720    15     2]\n",
      " [    2 15000   650    42     8]\n",
      " [    3   300   500     5     1]\n",
      " [    4  8700   810    30     6]\n",
      " [    5  4300   690    18     3]\n",
      " [    6 12000   745    55    10]\n",
      " [    7   760   600     8     1]\n",
      " [    8 22000   860    70    12]\n",
      " [    9  9000   700    17     5]\n",
      " [   10  6700   675    22     4]]\n"
     ]
    }
   ],
   "source": [
    "import numpy as np\n",
    "print(\"[Customer_ID | Account_Balance | Credit_Score | Transaction_Count | Years_active]\")\n",
    "banking_data=np.array([\n",
    "    [1,5200,720,15,2],\n",
    "    [2,15000,650,42,8],\n",
    "    [3,300,500,5,1],\n",
    "    [4,8700,810,30,6],\n",
    "    [5,4300,690,18,3],\n",
    "    [6,12000,745,55,10],\n",
    "    [7,760,600,8,1],\n",
    "    [8,22000,860,70,12],\n",
    "    [9,9000,700,17,5],\n",
    "    [10,6700,675,22,4]\n",
    "])\n",
    "print(banking_data)"
   ]
  },
  {
   "cell_type": "code",
   "execution_count": 123,
   "id": "b540a4f6",
   "metadata": {},
   "outputs": [
    {
     "data": {
      "text/plain": [
       "array([ 24,  96,  12,  72,  36, 120,  12, 144,  60,  48])"
      ]
     },
     "execution_count": 123,
     "metadata": {},
     "output_type": "execute_result"
    }
   ],
   "source": [
    "# **Q14.1:** Convert years active to months\n",
    "banking_data[0:,4]*12   # 1 year = 12 months "
   ]
  },
  {
   "cell_type": "code",
   "execution_count": 126,
   "id": "efb509c9",
   "metadata": {},
   "outputs": [
    {
     "data": {
      "text/plain": [
       "np.float64(5.2)"
      ]
     },
     "execution_count": 126,
     "metadata": {},
     "output_type": "execute_result"
    }
   ],
   "source": [
    "# **Q14.2:** Calculate the average years active\n",
    "np.average(banking_data[0:,4])"
   ]
  },
  {
   "cell_type": "code",
   "execution_count": 128,
   "id": "954fd302",
   "metadata": {},
   "outputs": [
    {
     "data": {
      "text/plain": [
       "array([[    2, 15000,   650,    42,     8],\n",
       "       [    4,  8700,   810,    30,     6],\n",
       "       [    6, 12000,   745,    55,    10],\n",
       "       [    8, 22000,   860,    70,    12]])"
      ]
     },
     "execution_count": 128,
     "metadata": {},
     "output_type": "execute_result"
    }
   ],
   "source": [
    "# **Q14.3:** Find customers who have been active for more than 5 years\n",
    "banking_data[banking_data[0:,4] > 5]"
   ]
  },
  {
   "cell_type": "code",
   "execution_count": 130,
   "id": "1b02263d",
   "metadata": {},
   "outputs": [
    {
     "name": "stdout",
     "output_type": "stream",
     "text": [
      "52\n"
     ]
    }
   ],
   "source": [
    "# **Q14.4:** Calculate the total time all customers have been active (in years)\n",
    "print(banking_data[0:,4].sum())"
   ]
  },
  {
   "cell_type": "code",
   "execution_count": 134,
   "id": "5119d050",
   "metadata": {},
   "outputs": [
    {
     "data": {
      "text/plain": [
       "np.int64(1)"
      ]
     },
     "execution_count": 134,
     "metadata": {},
     "output_type": "execute_result"
    }
   ],
   "source": [
    "# **Q14.5:** Find the customer with the shortest time active\n",
    "banking_data[0:,4].min()"
   ]
  },
  {
   "cell_type": "code",
   "execution_count": null,
   "id": "47b6886d",
   "metadata": {},
   "outputs": [],
   "source": [
    "### Question 15: Advanced Array Operations\n",
    "\n",
    "**Q15.1:** Apply a function to calculate 5% interest on all account balances\n",
    "\n",
    "**Q15.2:** Use `np.where` to categorize customers by balance ranges\n",
    "\n",
    "**Q15.3:** Use `np.select` to categorize customers by credit score ranges\n",
    "\n",
    "**Q15.4:** Use `np.piecewise` to apply different interest rates based on balance\n",
    "\n",
    "**Q15.5:** Use `np.apply_along_axis` to calculate the sum of each row"
   ]
  },
  {
   "cell_type": "code",
   "execution_count": 43,
   "id": "f493eea7",
   "metadata": {},
   "outputs": [
    {
     "name": "stdout",
     "output_type": "stream",
     "text": [
      "[Customer_ID | Account_Balance | Credit_Score | Transaction_Count | Years_active]\n",
      "[[    1  5200   720    15     2]\n",
      " [    2 15000   650    42     8]\n",
      " [    3   300   500     5     1]\n",
      " [    4  8700   810    30     6]\n",
      " [    5  4300   690    18     3]\n",
      " [    6 12000   745    55    10]\n",
      " [    7   760   600     8     1]\n",
      " [    8 22000   860    70    12]\n",
      " [    9  9000   700    17     5]\n",
      " [   10  6700   675    22     4]]\n"
     ]
    }
   ],
   "source": [
    "import numpy as np\n",
    "print(\"[Customer_ID | Account_Balance | Credit_Score | Transaction_Count | Years_active]\")\n",
    "banking_data=np.array([\n",
    "    [1,5200,720,15,2],\n",
    "    [2,15000,650,42,8],\n",
    "    [3,300,500,5,1],\n",
    "    [4,8700,810,30,6],\n",
    "    [5,4300,690,18,3],\n",
    "    [6,12000,745,55,10],\n",
    "    [7,760,600,8,1],\n",
    "    [8,22000,860,70,12],\n",
    "    [9,9000,700,17,5],\n",
    "    [10,6700,675,22,4]\n",
    "])\n",
    "print(banking_data)"
   ]
  },
  {
   "cell_type": "code",
   "execution_count": 44,
   "id": "e2c787a4",
   "metadata": {},
   "outputs": [
    {
     "data": {
      "text/plain": [
       "array([ 260.,  750.,   15.,  435.,  215.,  600.,   38., 1100.,  450.,\n",
       "        335.])"
      ]
     },
     "execution_count": 44,
     "metadata": {},
     "output_type": "execute_result"
    }
   ],
   "source": [
    "# **Q15.1:** Apply a function to calculate 5% interest on all account balances\n",
    "banking_data[0:,1]*0.05"
   ]
  },
  {
   "cell_type": "code",
   "execution_count": 45,
   "metadata": {},
   "outputs": [
    {
     "data": {
      "text/plain": [
       "array(['medium', 'high', 'low', 'medium', 'medium', 'medium', 'low',\n",
       "       'high', 'medium', 'medium'], dtype='<U6')"
      ]
     },
     "execution_count": 45,
     "metadata": {},
     "output_type": "execute_result"
    }
   ],
   "source": [
    "# **Q15.2:** Use `np.where` to categorize customers by balance ranges\n",
    "# np.where is used because it lets you apply conditions across an entire NumPy array at once (vectorized operations).\n",
    "# General form : np.where(condition, value_if_true, value_if_false)\n",
    "balance=banking_data[0:,1]\n",
    "categories=np.where(balance<3000,\"low\",\n",
    "                    np.where(balance<=12000,\"medium\",\"high\"))\n",
    "categories"
   ]
  },
  {
   "cell_type": "code",
   "execution_count": 46,
   "id": "76e2affa",
   "metadata": {},
   "outputs": [
    {
     "data": {
      "text/plain": [
       "array(['med', 'high', 'low', 'med', 'med', 'med', 'low', 'high', 'med',\n",
       "       'med'], dtype='<U9')"
      ]
     },
     "execution_count": 46,
     "metadata": {},
     "output_type": "execute_result"
    }
   ],
   "source": [
    "# **Q15.3:** Use `np.select` to categorize customers by credit score ranges\n",
    "# np.select is a NumPy function that lets you apply multiple conditions to an array and assign values depending on which condition is True.\n",
    "\n",
    "balance=banking_data[0:,1]\n",
    "cond=[balance<3000,balance<=12000,balance<=22000]\n",
    "ch=[\"low\",\"med\",\"high\"]\n",
    "cat=np.select(cond,ch,default=\"very high\") # np.select(conditions, choices, default=0)\n",
    "cat\n"
   ]
  },
  {
   "cell_type": "code",
   "execution_count": null,
   "id": "98e5b234",
   "metadata": {},
   "outputs": [
    {
     "name": "stdout",
     "output_type": "stream",
     "text": [
      "Interest:  [0 0 0 0 0 0 0 0 0 0]\n"
     ]
    }
   ],
   "source": [
    "# **Q15.4:** Use `np.piecewise` to apply different interest rates based on balance\n",
    "\n",
    "balance = banking_data[:,1]\n",
    "cond = [\n",
    "    (balance < 3000),\n",
    "    (balance >= 3000) & (balance <= 12000),\n",
    "    (balance > 12000)\n",
    "]\n",
    "ch = [0.02, 0.05, 0.07]\n",
    "rates = np.piecewise(balance, cond, ch)   # np.piecewise(x, condlist, funclist)\n",
    "interest_amount = balance * rates\n",
    "print(\"Interest: \", interest_amount)\n"
   ]
  },
  {
   "cell_type": "code",
   "execution_count": 60,
   "metadata": {},
   "outputs": [
    {
     "data": {
      "text/plain": [
       "array([ 5938, 15702,   809,  9550,  5016, 12816,  1376, 22950,  9731,\n",
       "        7411])"
      ]
     },
     "execution_count": 60,
     "metadata": {},
     "output_type": "execute_result"
    }
   ],
   "source": [
    "# **Q15.5:** Use `np.apply_along_axis` to calculate the sum of each row\n",
    "# np.apply_along_axis lets you take any function (like sum, mean, max, or even your own function) and apply it to 1D slices of a larger array, along a chosen axis.\n",
    "np.apply_along_axis(np.sum,axis=1,arr=banking_data)   # np.apply_along_axis(func1d, axis, arr)\n"
   ]
  },
  {
   "cell_type": "code",
   "execution_count": null,
   "id": "38ff30bf",
   "metadata": {},
   "outputs": [],
   "source": [
    "### Question 16: Array Concatenation and Stacking\n",
    "\n",
    "**Q16.1:** Concatenate two arrays horizontally using `np.hstack()`\n",
    "\n",
    "**Q16.2:** Concatenate two arrays vertically using `np.vstack()`\n",
    "\n",
    "**Q16.3:** Concatenate arrays along a specific axis using `np.concatenate()`\n",
    "\n",
    "**Q16.4:** Stack arrays depth-wise using `np.dstack()`\n",
    "\n",
    "**Q16.5:** Create a column stack using `np.column_stack()`\n"
   ]
  },
  {
   "cell_type": "code",
   "execution_count": null,
   "metadata": {},
   "outputs": [
    {
     "name": "stdout",
     "output_type": "stream",
     "text": [
      "[[39 47 18]\n",
      " [27 27  0]\n",
      " [18 45 22]]\n",
      "[[ 1 42 17]\n",
      " [38  3 14]\n",
      " [ 3 21 10]]\n"
     ]
    },
    {
     "data": {
      "text/plain": [
       "array([[39, 47, 18,  1, 42, 17],\n",
       "       [27, 27,  0, 38,  3, 14],\n",
       "       [18, 45, 22,  3, 21, 10]], dtype=int32)"
      ]
     },
     "execution_count": 11,
     "metadata": {},
     "output_type": "execute_result"
    }
   ],
   "source": [
    "# **Q16.1:** Concatenate two arrays horizontally using `np.hstack()`\n",
    "import numpy as np\n",
    "x=np.random.randint(0,50,(3,3))\n",
    "print(x)\n",
    "y=np.random.randint(0,50,(3,3))\n",
    "print(y)\n",
    "np.hstack([x,y])   # hstack() : Always using a tuple or list as input  for combining arrays."
   ]
  },
  {
   "cell_type": "code",
   "execution_count": null,
   "id": "567a05d5",
   "metadata": {},
   "outputs": [
    {
     "name": "stdout",
     "output_type": "stream",
     "text": [
      "[[42 49 19]\n",
      " [36  7 39]\n",
      " [10 42  7]]\n",
      "[[40  7 45]\n",
      " [45 20  3]\n",
      " [23 17 23]]\n"
     ]
    },
    {
     "data": {
      "text/plain": [
       "array([[42, 49, 19],\n",
       "       [36,  7, 39],\n",
       "       [10, 42,  7],\n",
       "       [40,  7, 45],\n",
       "       [45, 20,  3],\n",
       "       [23, 17, 23]], dtype=int32)"
      ]
     },
     "execution_count": 13,
     "metadata": {},
     "output_type": "execute_result"
    }
   ],
   "source": [
    "# **Q16.2:** Concatenate two arrays vertically using `np.vstack()`\n",
    "import numpy as np\n",
    "x=np.random.randint(0,50,(3,3))\n",
    "print(x)\n",
    "y=np.random.randint(0,50,(3,3))\n",
    "print(y)\n",
    "np.vstack((x,y))  #  vstack() : Always using a tuple or list as input  for combining arrays."
   ]
  },
  {
   "cell_type": "code",
   "execution_count": null,
   "id": "ab405932",
   "metadata": {},
   "outputs": [
    {
     "name": "stdout",
     "output_type": "stream",
     "text": [
      "[[32 32  0]\n",
      " [ 8 49 12]\n",
      " [40  1 31]]\n",
      "[[17 20 13]\n",
      " [31 24 31]\n",
      " [12 39 26]]\n"
     ]
    },
    {
     "data": {
      "text/plain": [
       "array([[32, 32,  0, 17, 20, 13],\n",
       "       [ 8, 49, 12, 31, 24, 31],\n",
       "       [40,  1, 31, 12, 39, 26]], dtype=int32)"
      ]
     },
     "execution_count": 19,
     "metadata": {},
     "output_type": "execute_result"
    }
   ],
   "source": [
    "#**Q16.3:** Concatenate arrays along a specific axis using `np.concatenate()`\n",
    "import numpy as np\n",
    "x=np.random.randint(0,50,(3,3))\n",
    "print(x)\n",
    "y=np.random.randint(0,50,(3,3))\n",
    "print(y)\n",
    "np.concatenate([x,y],axis=1)   #axis=0-->vertical  axis=1-->horizontal"
   ]
  },
  {
   "cell_type": "code",
   "execution_count": 20,
   "id": "ca60ee59",
   "metadata": {},
   "outputs": [
    {
     "name": "stdout",
     "output_type": "stream",
     "text": [
      "[[22  7 33]\n",
      " [37  8 20]\n",
      " [10 27  4]]\n",
      "[[11 18 21]\n",
      " [33 44 30]\n",
      " [16 30 37]]\n"
     ]
    },
    {
     "data": {
      "text/plain": [
       "array([[[22, 11],\n",
       "        [ 7, 18],\n",
       "        [33, 21]],\n",
       "\n",
       "       [[37, 33],\n",
       "        [ 8, 44],\n",
       "        [20, 30]],\n",
       "\n",
       "       [[10, 16],\n",
       "        [27, 30],\n",
       "        [ 4, 37]]], dtype=int32)"
      ]
     },
     "execution_count": 20,
     "metadata": {},
     "output_type": "execute_result"
    }
   ],
   "source": [
    "# **Q16.4:** Stack arrays depth-wise using `np.dstack()`\n",
    "import numpy as np\n",
    "x=np.random.randint(0,50,(3,3))\n",
    "print(x)\n",
    "y=np.random.randint(0,50,(3,3))\n",
    "print(y)\n",
    "np.dstack((x,y))"
   ]
  },
  {
   "cell_type": "code",
   "execution_count": 21,
   "id": "07665ac1",
   "metadata": {},
   "outputs": [
    {
     "name": "stdout",
     "output_type": "stream",
     "text": [
      "[[48 43 34]\n",
      " [29 37 40]\n",
      " [26 41 13]]\n",
      "[[48 34 40]\n",
      " [16 38 48]\n",
      " [ 2 18 39]]\n"
     ]
    },
    {
     "data": {
      "text/plain": [
       "array([[48, 43, 34, 48, 34, 40],\n",
       "       [29, 37, 40, 16, 38, 48],\n",
       "       [26, 41, 13,  2, 18, 39]], dtype=int32)"
      ]
     },
     "execution_count": 21,
     "metadata": {},
     "output_type": "execute_result"
    }
   ],
   "source": [
    "# **Q16.5:** Create a column stack using `np.column_stack()`\n",
    "import numpy as np\n",
    "x=np.random.randint(0,50,(3,3))\n",
    "print(x)\n",
    "y=np.random.randint(0,50,(3,3))\n",
    "print(y)\n",
    "np.column_stack((x,y))"
   ]
  },
  {
   "cell_type": "code",
   "execution_count": null,
   "id": "ee8dad3d",
   "metadata": {},
   "outputs": [],
   "source": [
    "### Question 17: Array Splitting Operations\n",
    "\n",
    "**Q17.1:** Split an array into 3 equal parts using `np.split()`\n",
    "\n",
    "**Q17.2:** Split an array at specific indices using `np.split()`\n",
    "\n",
    "**Q17.3:** Split an array horizontally using `np.hsplit()`\n",
    "\n",
    "**Q17.4:** Split an array vertically using `np.vsplit()`\n",
    "\n",
    "**Q17.5:** Split an array into equal chunks using `np.array_split()`"
   ]
  },
  {
   "cell_type": "code",
   "execution_count": null,
   "id": "459b3426",
   "metadata": {},
   "outputs": [
    {
     "name": "stdout",
     "output_type": "stream",
     "text": [
      "[[8 2 6]\n",
      " [5 2 9]\n",
      " [3 6 7]]\n"
     ]
    },
    {
     "data": {
      "text/plain": [
       "[array([[8, 2, 6]], dtype=int32),\n",
       " array([[5, 2, 9]], dtype=int32),\n",
       " array([[3, 6, 7]], dtype=int32)]"
      ]
     },
     "execution_count": 26,
     "metadata": {},
     "output_type": "execute_result"
    }
   ],
   "source": [
    "#**Q17.1:** Split an array into 3 equal parts using `np.split()`\n",
    "a=np.random.randint(0,10,(3,3))\n",
    "print(a)\n",
    "np.split(a,3)"
   ]
  },
  {
   "cell_type": "code",
   "execution_count": 30,
   "id": "4d96b639",
   "metadata": {},
   "outputs": [
    {
     "name": "stdout",
     "output_type": "stream",
     "text": [
      "[[8 6 7]\n",
      " [5 5 5]\n",
      " [6 3 0]]\n"
     ]
    },
    {
     "data": {
      "text/plain": [
       "[array([[8, 6, 7]], dtype=int32),\n",
       " array([[5, 5, 5],\n",
       "        [6, 3, 0]], dtype=int32),\n",
       " array([], shape=(0, 3), dtype=int32)]"
      ]
     },
     "execution_count": 30,
     "metadata": {},
     "output_type": "execute_result"
    }
   ],
   "source": [
    "# **Q17.2:** Split an array at specific indices using `np.split()`\n",
    "a=np.random.randint(0,10,(3,3))\n",
    "print(a)\n",
    "np.split(a,[1,3])\n"
   ]
  },
  {
   "cell_type": "code",
   "execution_count": 37,
   "id": "e8ec095f",
   "metadata": {},
   "outputs": [
    {
     "name": "stdout",
     "output_type": "stream",
     "text": [
      "[[8 3 5]\n",
      " [8 7 6]\n",
      " [4 0 8]]\n"
     ]
    },
    {
     "data": {
      "text/plain": [
       "[array([[8],\n",
       "        [8],\n",
       "        [4]], dtype=int32),\n",
       " array([[3, 5],\n",
       "        [7, 6],\n",
       "        [0, 8]], dtype=int32),\n",
       " array([], shape=(3, 0), dtype=int32)]"
      ]
     },
     "execution_count": 37,
     "metadata": {},
     "output_type": "execute_result"
    }
   ],
   "source": [
    "#**Q17.3:** Split an array horizontally using `np.hsplit()`\n",
    "a=np.random.randint(0,10,(3,3))\n",
    "print(a)\n",
    "np.hsplit(a,[1,3])"
   ]
  },
  {
   "cell_type": "code",
   "execution_count": 38,
   "id": "cfe228d4",
   "metadata": {},
   "outputs": [
    {
     "name": "stdout",
     "output_type": "stream",
     "text": [
      "[[2 5 8]\n",
      " [7 7 3]\n",
      " [4 7 0]]\n"
     ]
    },
    {
     "data": {
      "text/plain": [
       "[array([[2, 5, 8]], dtype=int32),\n",
       " array([[7, 7, 3],\n",
       "        [4, 7, 0]], dtype=int32),\n",
       " array([], shape=(0, 3), dtype=int32)]"
      ]
     },
     "execution_count": 38,
     "metadata": {},
     "output_type": "execute_result"
    }
   ],
   "source": [
    "# **Q17.4:** Split an array vertically using `np.vsplit()`\n",
    "a=np.random.randint(0,10,(3,3))\n",
    "print(a)\n",
    "np.vsplit(a,[1,3])"
   ]
  },
  {
   "cell_type": "code",
   "execution_count": null,
   "id": "9b7d7afb",
   "metadata": {},
   "outputs": [
    {
     "name": "stdout",
     "output_type": "stream",
     "text": [
      "[0 1 2 3 4 5 6 7 8 9]\n"
     ]
    },
    {
     "data": {
      "text/plain": [
       "[array([0, 1, 2, 3]), array([4, 5, 6]), array([7, 8, 9])]"
      ]
     },
     "execution_count": 45,
     "metadata": {},
     "output_type": "execute_result"
    }
   ],
   "source": [
    "# **Q17.5:** Split an array into equal chunks using `np.array_split()`\n",
    "a=np.arange(0,10)  # creates array from 0 to 9\n",
    "print(a)  \n",
    "np.array_split(a,3)"
   ]
  },
  {
   "cell_type": "code",
   "execution_count": null,
   "id": "87552f74",
   "metadata": {},
   "outputs": [],
   "source": [
    "### Question 18: Array Repetition and Tiling\n",
    "\n",
    "**Q18.1:** Repeat each element of an array 3 times using `np.repeat()`\n",
    "\n",
    "**Q18.2:** Repeat an entire array 2 times using `np.tile()`\n",
    "\n",
    "**Q18.3:** Repeat a 2D array using `np.tile()`\n",
    "\n",
    "**Q18.4:** Create a pattern using `np.tile()`\n",
    "\n",
    "**Q18.5:** Repeat elements with different counts using `np.repeat()`"
   ]
  },
  {
   "cell_type": "code",
   "execution_count": 47,
   "id": "7ec7e653",
   "metadata": {},
   "outputs": [
    {
     "data": {
      "text/plain": [
       "array([1, 1, 1, 2, 2, 2, 3, 3, 3, 4, 4, 4])"
      ]
     },
     "execution_count": 47,
     "metadata": {},
     "output_type": "execute_result"
    }
   ],
   "source": [
    "# **Q18.1:** Repeat each element of an array 3 times using `np.repeat()`\n",
    "a=np.array([1,2,3,4])\n",
    "np.repeat(a,3)"
   ]
  },
  {
   "cell_type": "code",
   "execution_count": 58,
   "id": "42f1ad82",
   "metadata": {},
   "outputs": [
    {
     "data": {
      "text/plain": [
       "array([1, 2, 3, 4, 1, 2, 3, 4, 1, 2, 3, 4])"
      ]
     },
     "execution_count": 58,
     "metadata": {},
     "output_type": "execute_result"
    }
   ],
   "source": [
    "# **Q18.2:** Repeat an entire array 2 times using `np.tile()`\n",
    "a=np.array([1,2,3,4])\n",
    "np.tile(a,3)"
   ]
  },
  {
   "cell_type": "code",
   "execution_count": null,
   "id": "41ee0f7e",
   "metadata": {},
   "outputs": [
    {
     "data": {
      "text/plain": [
       "array([[1, 2, 1, 2, 1, 2],\n",
       "       [3, 4, 3, 4, 3, 4]])"
      ]
     },
     "execution_count": 53,
     "metadata": {},
     "output_type": "execute_result"
    }
   ],
   "source": [
    "# **Q18.3:** Repeat a 2D array using `np.tile()`\n",
    "x=np.array([[1,2],[3,4]])\n",
    "np.tile(x,reps=3)     # reps meams repeating "
   ]
  },
  {
   "cell_type": "code",
   "execution_count": 57,
   "id": "f8f69483",
   "metadata": {},
   "outputs": [
    {
     "data": {
      "text/plain": [
       "array([[1, 2, 3, 1, 2, 3],\n",
       "       [4, 5, 6, 4, 5, 6],\n",
       "       [1, 2, 3, 1, 2, 3],\n",
       "       [4, 5, 6, 4, 5, 6]])"
      ]
     },
     "execution_count": 57,
     "metadata": {},
     "output_type": "execute_result"
    }
   ],
   "source": [
    "# **Q18.4:** Create a pattern using `np.tile()`\n",
    "x=np.array([[1,2,3],[4,5,6]])\n",
    "np.tile(x,(2,2))\n"
   ]
  },
  {
   "cell_type": "code",
   "execution_count": null,
   "id": "daefb85b",
   "metadata": {},
   "outputs": [
    {
     "data": {
      "text/plain": [
       "array([1, 2, 2, 3, 3, 3])"
      ]
     },
     "execution_count": 61,
     "metadata": {},
     "output_type": "execute_result"
    }
   ],
   "source": [
    "# **Q18.5:** Repeat elements with different counts using `np.repeat()`\n",
    "x=np.array([1,2,3]) # for 1D array\n",
    "np.repeat(x,[1,2,3])"
   ]
  },
  {
   "cell_type": "code",
   "execution_count": null,
   "id": "0bd39f9a",
   "metadata": {},
   "outputs": [
    {
     "name": "stdout",
     "output_type": "stream",
     "text": [
      "[[2 2]\n",
      " [3 6]]\n",
      "\n",
      "[[2 2]\n",
      " [3 6]\n",
      " [3 6]\n",
      " [3 6]]\n",
      "--------------------------------------------------\n",
      "[[2 2 2 2 2 2]\n",
      " [3 3 6 6 6 6]]\n"
     ]
    }
   ],
   "source": [
    "# **Q18.5:** Repeat elements with different counts using `np.repeat()`\n",
    "# for 2D array\n",
    "x=np.random.randint(1,10,(2,2))\n",
    "rows=np.repeat(x,[1,3],axis=0)\n",
    "cols=np.repeat(x,[2,4],axis=1)\n",
    "print(x)\n",
    "print()\n",
    "print(rows)\n",
    "print(\"--------------------------------------------------\")\n",
    "print(cols)"
   ]
  },
  {
   "cell_type": "code",
   "execution_count": null,
   "id": "e8408970",
   "metadata": {},
   "outputs": [],
   "source": [
    "### Question 19: Array Comparison and Logical Operations\n",
    "\n",
    "**Q19.1:** Compare two arrays for equality using `np.array_equal()`\n",
    "\n",
    "**Q19.2:** Check if arrays are close using `np.allclose()`\n",
    "\n",
    "**Q19.3:** Apply logical AND operation between arrays\n",
    "\n",
    "**Q19.4:** Apply logical OR operation between arrays\n",
    "\n",
    "**Q19.5:** Apply logical NOT operation to an array\n"
   ]
  },
  {
   "cell_type": "code",
   "execution_count": 83,
   "id": "63939a2e",
   "metadata": {},
   "outputs": [
    {
     "name": "stdout",
     "output_type": "stream",
     "text": [
      "[1 2 4]\n",
      "[1 2 4]\n"
     ]
    },
    {
     "data": {
      "text/plain": [
       "True"
      ]
     },
     "execution_count": 83,
     "metadata": {},
     "output_type": "execute_result"
    }
   ],
   "source": [
    "# **Q19.1:** Compare two arrays for equality using `np.array_equal()`\n",
    "x=np.array([1,2,4])\n",
    "print(x)\n",
    "y=np.array([1,2,4])\n",
    "print(y)\n",
    "np.array_equal(x,y)"
   ]
  },
  {
   "cell_type": "code",
   "execution_count": 93,
   "id": "856605e8",
   "metadata": {},
   "outputs": [
    {
     "name": "stdout",
     "output_type": "stream",
     "text": [
      "[1.3 2.  4. ]\n",
      "True\n",
      "False\n"
     ]
    }
   ],
   "source": [
    "#**Q19.2:** Check if arrays are close using `np.allclose()`\n",
    "x=np.array([1.3,2,4])\n",
    "print(x)\n",
    "y=np.array([1.4,2.0,4])\n",
    "print(np.allclose(x,y,atol=0.1))   # if atol is not used then both arrays are not close to each other\n",
    "print(np.allclose(x,y))"
   ]
  },
  {
   "cell_type": "code",
   "execution_count": 97,
   "id": "9a1c0e25",
   "metadata": {},
   "outputs": [
    {
     "data": {
      "text/plain": [
       "array([False,  True, False])"
      ]
     },
     "execution_count": 97,
     "metadata": {},
     "output_type": "execute_result"
    }
   ],
   "source": [
    "# **Q19.3:** Apply logical AND operation between arrays\n",
    "x=np.array([0,2,4])\n",
    "y=np.array([1.4,2.0,0])\n",
    "np.logical_and(x,y)"
   ]
  },
  {
   "cell_type": "code",
   "execution_count": 100,
   "id": "e90df19d",
   "metadata": {},
   "outputs": [
    {
     "data": {
      "text/plain": [
       "array([False,  True,  True])"
      ]
     },
     "execution_count": 100,
     "metadata": {},
     "output_type": "execute_result"
    }
   ],
   "source": [
    "# **Q19.4:** Apply logical OR operation between arrays\n",
    "x=np.array([0,2,4])\n",
    "y=np.array([0,2.0,0])\n",
    "np.logical_or(x,y)"
   ]
  },
  {
   "cell_type": "code",
   "execution_count": 105,
   "id": "ad39b1e3",
   "metadata": {},
   "outputs": [
    {
     "name": "stdout",
     "output_type": "stream",
     "text": [
      "[0. 0. 1.]\n"
     ]
    }
   ],
   "source": [
    "# **Q19.5:** Apply logical NOT operation to an array\n",
    "x=np.array([True,True,False])\n",
    "print(np.logical_not(x,y))"
   ]
  },
  {
   "cell_type": "code",
   "execution_count": null,
   "id": "78749b9b",
   "metadata": {},
   "outputs": [],
   "source": [
    "### Question 20: Array Set Operations\n",
    "\n",
    "**Q20.1:** Find unique elements in an array using `np.unique()`\n",
    "\n",
    "**Q20.2:** Find the intersection of two arrays using `np.intersect1d()`\n",
    "\n",
    "**Q20.3:** Find the union of two arrays using `np.union1d()`\n",
    "\n",
    "**Q20.4:** Find elements in first array but not in second using `np.setdiff1d()`\n",
    "\n",
    "**Q20.5:** Find the symmetric difference between two arrays using `np.setxor1d()`"
   ]
  },
  {
   "cell_type": "code",
   "execution_count": 118,
   "id": "0cef8e24",
   "metadata": {},
   "outputs": [
    {
     "name": "stdout",
     "output_type": "stream",
     "text": [
      "[7 3 5 2 7 9 5 3 4 2 7 6]\n",
      "counts : [2 3 4 5 6 7 9]\n"
     ]
    }
   ],
   "source": [
    "# **Q20.1:** Find unique elements in an array using `np.unique()`\n",
    "x=np.random.randint(0,10,12)\n",
    "print(x)\n",
    "print(\"counts :\",np.unique(x))\n"
   ]
  },
  {
   "cell_type": "code",
   "execution_count": 122,
   "id": "24ea15b6",
   "metadata": {},
   "outputs": [
    {
     "name": "stdout",
     "output_type": "stream",
     "text": [
      "[9 8 1 0 2 2 2 7 3 0 1 0]\n",
      "[7 1 0 1 2 6 6 1 8 0 9 9]\n"
     ]
    },
    {
     "data": {
      "text/plain": [
       "array([0, 1, 2, 7, 8, 9], dtype=int32)"
      ]
     },
     "execution_count": 122,
     "metadata": {},
     "output_type": "execute_result"
    }
   ],
   "source": [
    "# **Q20.2:** Find the intersection of two arrays using `np.intersect1d()`\n",
    "x=np.random.randint(0,10,12)\n",
    "print(x)\n",
    "y=np.random.randint(0,10,12)\n",
    "print(y)\n",
    "np.intersect1d(x,y)\n"
   ]
  },
  {
   "cell_type": "code",
   "execution_count": 123,
   "id": "72539549",
   "metadata": {},
   "outputs": [
    {
     "name": "stdout",
     "output_type": "stream",
     "text": [
      "[7 4 5 4 1 0 9 6 3 7 1 3]\n",
      "[2 7 1 6 4 9 8 1 2 7 4 8]\n"
     ]
    },
    {
     "data": {
      "text/plain": [
       "array([0, 1, 2, 3, 4, 5, 6, 7, 8, 9], dtype=int32)"
      ]
     },
     "execution_count": 123,
     "metadata": {},
     "output_type": "execute_result"
    }
   ],
   "source": [
    "# **Q20.3:** Find the union of two arrays using `np.union1d()`\n",
    "x=np.random.randint(0,10,12)\n",
    "print(x)\n",
    "y=np.random.randint(0,10,12)\n",
    "print(y)\n",
    "np.union1d(x,y)\n"
   ]
  },
  {
   "cell_type": "code",
   "execution_count": 124,
   "id": "05820093",
   "metadata": {},
   "outputs": [
    {
     "name": "stdout",
     "output_type": "stream",
     "text": [
      "[5 7 1 2 8 2 8 6 4 6]\n",
      "[1 1 0 0 2 0 8 8 9 1]\n"
     ]
    },
    {
     "data": {
      "text/plain": [
       "array([4, 5, 6, 7], dtype=int32)"
      ]
     },
     "execution_count": 124,
     "metadata": {},
     "output_type": "execute_result"
    }
   ],
   "source": [
    "# **Q20.4:** Find elements in first array but not in second using `np.setdiff1d()`\n",
    "x=np.random.randint(0,10,10)\n",
    "print(x)\n",
    "y=np.random.randint(0,10,10)\n",
    "print(y)\n",
    "np.setdiff1d(x,y)"
   ]
  },
  {
   "cell_type": "code",
   "execution_count": 126,
   "id": "c327692c",
   "metadata": {},
   "outputs": [
    {
     "name": "stdout",
     "output_type": "stream",
     "text": [
      "[4 3 9 2 6 4 2 3 0 9]\n",
      "[9 3 2 2 3 5 4 5 5 8]\n"
     ]
    },
    {
     "data": {
      "text/plain": [
       "array([0, 5, 6, 8], dtype=int32)"
      ]
     },
     "execution_count": 126,
     "metadata": {},
     "output_type": "execute_result"
    }
   ],
   "source": [
    "# **Q20.5:** Find the symmetric difference between two arrays using `np.setxor1d()`\n",
    "x=np.random.randint(0,10,10)\n",
    "print(x)\n",
    "y=np.random.randint(0,10,10)\n",
    "print(y)\n",
    "np.setxor1d(x,y)\n"
   ]
  },
  {
   "cell_type": "code",
   "execution_count": null,
   "id": "bfc9859d",
   "metadata": {},
   "outputs": [],
   "source": []
  },
  {
   "cell_type": "code",
   "execution_count": null,
   "id": "a408a63f",
   "metadata": {},
   "outputs": [],
   "source": []
  },
  {
   "cell_type": "code",
   "execution_count": null,
   "id": "1f0b7c40",
   "metadata": {},
   "outputs": [],
   "source": []
  },
  {
   "cell_type": "code",
   "execution_count": null,
   "id": "dce86810",
   "metadata": {},
   "outputs": [],
   "source": []
  }
 ],
 "metadata": {
  "kernelspec": {
   "display_name": "Python 3",
   "language": "python",
   "name": "python3"
  },
  "language_info": {
   "codemirror_mode": {
    "name": "ipython",
    "version": 3
   },
   "file_extension": ".py",
   "mimetype": "text/x-python",
   "name": "python",
   "nbconvert_exporter": "python",
   "pygments_lexer": "ipython3",
   "version": "3.13.5"
  }
 },
 "nbformat": 4,
 "nbformat_minor": 5
}
