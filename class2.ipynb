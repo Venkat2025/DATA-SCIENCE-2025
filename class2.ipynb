{
 "cells": [
  {
   "cell_type": "code",
   "execution_count": 66,
   "id": "d68cfca2",
   "metadata": {},
   "outputs": [
    {
     "data": {
      "text/plain": [
       "['d', 't', '']"
      ]
     },
     "execution_count": 66,
     "metadata": {},
     "output_type": "execute_result"
    }
   ],
   "source": [
    "x=\"data\" #split method\n",
    "x.split('a')\n"
   ]
  },
  {
   "cell_type": "code",
   "execution_count": 67,
   "id": "4dafaa96",
   "metadata": {},
   "outputs": [
    {
     "data": {
      "text/plain": [
       "2"
      ]
     },
     "execution_count": 67,
     "metadata": {},
     "output_type": "execute_result"
    }
   ],
   "source": [
    "x=\"data science\"\n",
    "x.count('a')"
   ]
  },
  {
   "cell_type": "code",
   "execution_count": 68,
   "id": "9cc72787",
   "metadata": {},
   "outputs": [
    {
     "data": {
      "text/plain": [
       "'Machine learning'"
      ]
     },
     "execution_count": 68,
     "metadata": {},
     "output_type": "execute_result"
    }
   ],
   "source": [
    "x=\"data science\"\n",
    "x.replace(\"data science\",\"Machine learning\")"
   ]
  },
  {
   "cell_type": "code",
   "execution_count": 69,
   "id": "ce2c9d81",
   "metadata": {},
   "outputs": [
    {
     "data": {
      "text/plain": [
       "1"
      ]
     },
     "execution_count": 69,
     "metadata": {},
     "output_type": "execute_result"
    }
   ],
   "source": [
    "x=\"data science\"\n",
    "x.index(\"a\")\n"
   ]
  },
  {
   "cell_type": "code",
   "execution_count": 70,
   "id": "614c3ce6",
   "metadata": {},
   "outputs": [
    {
     "data": {
      "text/plain": [
       "'data '"
      ]
     },
     "execution_count": 70,
     "metadata": {},
     "output_type": "execute_result"
    }
   ],
   "source": [
    "x=\"data science\"\n",
    "x[0:5]#slicing x[start:end]"
   ]
  },
  {
   "cell_type": "code",
   "execution_count": 71,
   "id": "a981f71c",
   "metadata": {},
   "outputs": [
    {
     "name": "stdout",
     "output_type": "stream",
     "text": [
      "da\n",
      "ta science\n",
      "scie\n",
      "ce\n",
      "data science\n"
     ]
    }
   ],
   "source": [
    "x=\"data science\"\n",
    "print(x[:2])\n",
    "print(x[2:])\n",
    "print(x[-7:-3])\n",
    "print(x[-2:])\n",
    "print(x[:])"
   ]
  },
  {
   "cell_type": "code",
   "execution_count": 72,
   "id": "2134b6c1",
   "metadata": {},
   "outputs": [
    {
     "data": {
      "text/plain": [
       "'DA'"
      ]
     },
     "execution_count": 72,
     "metadata": {},
     "output_type": "execute_result"
    }
   ],
   "source": [
    "x=\"data science\"\n",
    "#x.upper()[0:2] \n",
    "x[0:2].upper()\n"
   ]
  },
  {
   "cell_type": "code",
   "execution_count": 73,
   "id": "a091f6af",
   "metadata": {},
   "outputs": [
    {
     "data": {
      "text/plain": [
       "'scienCE'"
      ]
     },
     "execution_count": 73,
     "metadata": {},
     "output_type": "execute_result"
    }
   ],
   "source": [
    "x=\"data SCIENce\"\n",
    "x[5:].swapcase()"
   ]
  },
  {
   "cell_type": "code",
   "execution_count": 74,
   "id": "8ba4a0bb",
   "metadata": {},
   "outputs": [
    {
     "data": {
      "text/plain": [
       "'scienCE'"
      ]
     },
     "execution_count": 74,
     "metadata": {},
     "output_type": "execute_result"
    }
   ],
   "source": [
    "x=\"data SCIENce\"\n",
    "x.split()[1].swapcase()"
   ]
  },
  {
   "cell_type": "code",
   "execution_count": 75,
   "id": "19cdafca",
   "metadata": {},
   "outputs": [
    {
     "data": {
      "text/plain": [
       "'scienCE'"
      ]
     },
     "execution_count": 75,
     "metadata": {},
     "output_type": "execute_result"
    }
   ],
   "source": [
    "x=\"data SCIENce\"\n",
    "x[-7:].swapcase()"
   ]
  },
  {
   "cell_type": "code",
   "execution_count": 76,
   "id": "bde479f9",
   "metadata": {},
   "outputs": [
    {
     "data": {
      "text/plain": [
       "'data                                                                                                science'"
      ]
     },
     "execution_count": 76,
     "metadata": {},
     "output_type": "execute_result"
    }
   ],
   "source": [
    "x=\"data \\tscience\"\n",
    "x.expandtabs(100)"
   ]
  },
  {
   "cell_type": "code",
   "execution_count": 77,
   "id": "a17073ad",
   "metadata": {},
   "outputs": [
    {
     "name": "stdout",
     "output_type": "stream",
     "text": [
      "5\n",
      "3\n",
      "5\n",
      "-1\n"
     ]
    }
   ],
   "source": [
    "x=\"data science\"\n",
    "print(x.find(\"s\"))\n",
    "print(x.find(\"a\",2))\n",
    "print(x.find(\"s\",5,9))\n",
    "print(x.find(\"abc\",7,9))\n",
    "\n"
   ]
  },
  {
   "cell_type": "code",
   "execution_count": 78,
   "id": "f07a141e",
   "metadata": {},
   "outputs": [
    {
     "data": {
      "text/plain": [
       "'###data##'"
      ]
     },
     "execution_count": 78,
     "metadata": {},
     "output_type": "execute_result"
    }
   ],
   "source": [
    "x=\"data\"\n",
    "x.center(9,\"#\") #left side number, right side is symbol"
   ]
  },
  {
   "cell_type": "code",
   "execution_count": 79,
   "id": "1eb5a8fe",
   "metadata": {},
   "outputs": [
    {
     "data": {
      "text/plain": [
       "'0000data'"
      ]
     },
     "execution_count": 79,
     "metadata": {},
     "output_type": "execute_result"
    }
   ],
   "source": [
    "x=\"data\"\n",
    "x.zfill(8) #zero fill method"
   ]
  },
  {
   "cell_type": "code",
   "execution_count": 82,
   "id": "0b23afe9",
   "metadata": {},
   "outputs": [
    {
     "name": "stdout",
     "output_type": "stream",
     "text": [
      "data   \n",
      "       data\n",
      "data\n"
     ]
    }
   ],
   "source": [
    "x=\"       data   \"\n",
    "print(x.lstrip())  #left strip strip --->means removing spaces\n",
    "print(x.rstrip())  #right strip\n",
    "print(x.strip())   # no space"
   ]
  },
  {
   "cell_type": "code",
   "execution_count": 85,
   "id": "a5e2156a",
   "metadata": {},
   "outputs": [
    {
     "name": "stdout",
     "output_type": "stream",
     "text": [
      "data      \n",
      "######data\n",
      "data$$$$$$\n"
     ]
    }
   ],
   "source": [
    "x=\"data\"\n",
    "print(x.ljust(10))\n",
    "print(x.rjust(10,\"#\"))\n",
    "print(x.ljust(10,\"$\"))\n"
   ]
  },
  {
   "cell_type": "code",
   "execution_count": null,
   "id": "81ea6815",
   "metadata": {},
   "outputs": [
    {
     "name": "stdout",
     "output_type": "stream",
     "text": [
      "hello\n"
     ]
    }
   ],
   "source": []
  },
  {
   "cell_type": "code",
   "execution_count": null,
   "id": "420a125a",
   "metadata": {},
   "outputs": [],
   "source": []
  }
 ],
 "metadata": {
  "kernelspec": {
   "display_name": "Python 3",
   "language": "python",
   "name": "python3"
  },
  "language_info": {
   "codemirror_mode": {
    "name": "ipython",
    "version": 3
   },
   "file_extension": ".py",
   "mimetype": "text/x-python",
   "name": "python",
   "nbconvert_exporter": "python",
   "pygments_lexer": "ipython3",
   "version": "3.13.5"
  }
 },
 "nbformat": 4,
 "nbformat_minor": 5
}
