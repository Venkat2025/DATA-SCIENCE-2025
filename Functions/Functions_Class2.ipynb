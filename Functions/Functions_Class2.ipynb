{
 "cells": [
  {
   "cell_type": "code",
   "execution_count": 3,
   "id": "a3c9d42d",
   "metadata": {},
   "outputs": [
    {
     "name": "stdout",
     "output_type": "stream",
     "text": [
      "itemns in the list: ('milk', 'egg', 'bread', 'butter')\n"
     ]
    }
   ],
   "source": [
    "def shopping_list(*args):\n",
    "    print(\"itemns in the list:\",args)\n",
    "shopping_list(\"milk\",\"egg\",\"bread\",\"butter\")"
   ]
  },
  {
   "cell_type": "code",
   "execution_count": 6,
   "id": "7760a20b",
   "metadata": {},
   "outputs": [
    {
     "name": "stdout",
     "output_type": "stream",
     "text": [
      "order list  {'item': 'laptop', 'price': 50000, 'quantity': 3}\n",
      "order list  50000\n",
      "order list  laptop\n"
     ]
    }
   ],
   "source": [
    "# **Variable-length (kwargs)  --> Allows multiple keyword arguments.\n",
    "def order_details(**kwargs):\n",
    "    print(\"order list \",kwargs)\n",
    "    print(\"order list \",kwargs['price'])\n",
    "    print(\"order list \",kwargs['item'])\n",
    "order_details(item='laptop',price=50000,quantity=3)"
   ]
  },
  {
   "cell_type": "code",
   "execution_count": 7,
   "metadata": {},
   "outputs": [
    {
     "name": "stdout",
     "output_type": "stream",
     "text": [
      "name=Rakesh\n",
      "role=Data Science\n",
      "company=Edukron\n"
     ]
    }
   ],
   "source": [
    "def greet(**kwargs):\n",
    "    for key,val in kwargs.items():\n",
    "        print(f\"{key}={val}\")\n",
    "greet(name=\"Rakesh\",role=\"Data Science\",company='Edukron')"
   ]
  },
  {
   "cell_type": "code",
   "execution_count": 11,
   "id": "cc4c8ade",
   "metadata": {},
   "outputs": [
    {
     "name": "stdout",
     "output_type": "stream",
     "text": [
      "Name : Anusha\n",
      "Age : 25\n",
      "Job : Data Analyst\n"
     ]
    }
   ],
   "source": [
    "def introduce(name,**kwargs):\n",
    "    print(\"Name :\",name)\n",
    "    if \"age\" in kwargs:\n",
    "        print(\"Age :\",kwargs['age'])\n",
    "    if \"job\" in kwargs:\n",
    "        print(\"Job :\",kwargs['job'])\n",
    "introduce(\"Anusha\",age=25,job='Data Analyst')"
   ]
  },
  {
   "cell_type": "code",
   "execution_count": null,
   "id": "acb0bc38",
   "metadata": {},
   "outputs": [
    {
     "ename": "SyntaxError",
     "evalue": "keyword argument repeated: age (2157202246.py, line 7)",
     "output_type": "error",
     "traceback": [
      "  \u001b[36mCell\u001b[39m\u001b[36m \u001b[39m\u001b[32mIn[13]\u001b[39m\u001b[32m, line 7\u001b[39m\n\u001b[31m    \u001b[39m\u001b[31mintroduce(\"Anusha\",age=25,age=35,job='Data Analyst')\u001b[39m\n                              ^\n\u001b[31mSyntaxError\u001b[39m\u001b[31m:\u001b[39m keyword argument repeated: age\n"
     ]
    }
   ],
   "source": [
    "def introduce(name,**kwargs):\n",
    "    print(\"Name :\",name)\n",
    "    if \"age\" in kwargs:\n",
    "        print(\"Age :\",kwargs['age'])\n",
    "    if \"job\" in kwargs:\n",
    "        print(\"Job :\",kwargs['job'])\n",
    "introduce(\"Anusha\",age=25,age=35,job='Data Analyst') #  keyword argument repeated: age"
   ]
  },
  {
   "cell_type": "code",
   "execution_count": 64,
   "id": "6b56c7fc",
   "metadata": {},
   "outputs": [
    {
     "name": "stdout",
     "output_type": "stream",
     "text": [
      "Connecting to localhost:1433\n"
     ]
    }
   ],
   "source": [
    "def connect_db(**kwargs):\n",
    "    host=kwargs.get(\"host\",\"localhost\")\n",
    "    port=kwargs.get(\"port\",1433)\n",
    "    print(f\"Connecting to {host}:{port}\")\n",
    "connect_db(user=\"admin\")  # no port or host given\n",
    "\n",
    "# The.get() method is mostly used with Python dictionaries to safely access values.\n",
    "# syntax =dict.get(key, default_value)\n",
    "# key → the key you want to access.\n",
    "# default_value (optional) → value returned if the key does not exist (default is None).\n"
   ]
  },
  {
   "cell_type": "code",
   "execution_count": 16,
   "id": "020b6d8c",
   "metadata": {},
   "outputs": [
    {
     "name": "stdout",
     "output_type": "stream",
     "text": [
      "Hello ! Anusha\n",
      "Hello ! Kiran\n",
      "course: Python\n",
      "batch: Evening\n"
     ]
    }
   ],
   "source": [
    "def greet(*args,**kwargs):\n",
    "    for person in args:\n",
    "        print(\"Hello !\",person)\n",
    "    for k,v in kwargs.items():\n",
    "        print(f\"{k}: {v}\")\n",
    "greet(\"Anusha\",\"Kiran\",course=\"Python\",batch=\"Evening\")"
   ]
  },
  {
   "cell_type": "code",
   "execution_count": 18,
   "id": "6a8f789c",
   "metadata": {},
   "outputs": [
    {
     "name": "stdout",
     "output_type": "stream",
     "text": [
      "Total : 350\n",
      "FInal : 320\n"
     ]
    }
   ],
   "source": [
    "def calculate(*args,**kwargs):\n",
    "    total=sum(args)\n",
    "    print(\"Total :\",total)\n",
    "    if \"discount\" in kwargs:\n",
    "        total-=kwargs['discount']\n",
    "    print(\"FInal :\",total)\n",
    "\n",
    "calculate(100,200,50,discount=30)"
   ]
  },
  {
   "cell_type": "code",
   "execution_count": 19,
   "id": "c6234567",
   "metadata": {},
   "outputs": [
    {
     "data": {
      "text/plain": [
       "False"
      ]
     },
     "execution_count": 19,
     "metadata": {},
     "output_type": "execute_result"
    }
   ],
   "source": [
    "# map vs for loop\n",
    "\n",
    "def even_odd(x):\n",
    "    if x%2==0:\n",
    "        return True\n",
    "    else:\n",
    "        return False\n",
    "even_odd(11)"
   ]
  },
  {
   "cell_type": "code",
   "execution_count": 21,
   "id": "f86901d4",
   "metadata": {},
   "outputs": [
    {
     "name": "stdout",
     "output_type": "stream",
     "text": [
      "True\n",
      "False\n",
      "True\n",
      "False\n",
      "True\n",
      "False\n",
      "True\n",
      "False\n",
      "True\n",
      "False\n",
      "True\n"
     ]
    }
   ],
   "source": [
    "for i in range(0,11):\n",
    "    print(even_odd(i))"
   ]
  },
  {
   "cell_type": "code",
   "execution_count": 25,
   "id": "cb4dbc9f",
   "metadata": {},
   "outputs": [
    {
     "name": "stdout",
     "output_type": "stream",
     "text": [
      "[True, False, True, False, True, False, True, False, True, False, True]\n"
     ]
    }
   ],
   "source": [
    "print(list(map(even_odd,range(0,11))))"
   ]
  },
  {
   "cell_type": "code",
   "execution_count": 26,
   "id": "d8cfb0a3",
   "metadata": {},
   "outputs": [
    {
     "name": "stdout",
     "output_type": "stream",
     "text": [
      "[False, True, False, True]\n"
     ]
    }
   ],
   "source": [
    "print(list(map(even_odd,[11,12,121,134])))"
   ]
  },
  {
   "cell_type": "code",
   "execution_count": 27,
   "id": "e745e533",
   "metadata": {},
   "outputs": [
    {
     "data": {
      "text/plain": [
       "['A', 'B', 'C']"
      ]
     },
     "execution_count": 27,
     "metadata": {},
     "output_type": "execute_result"
    }
   ],
   "source": [
    "list(map(str.upper,['a','b','c']))"
   ]
  },
  {
   "cell_type": "code",
   "execution_count": 28,
   "id": "69f2c439",
   "metadata": {},
   "outputs": [
    {
     "name": "stdout",
     "output_type": "stream",
     "text": [
      "['10', '20', '30']\n"
     ]
    }
   ],
   "source": [
    "nums=[10,20,30]\n",
    "res=list(map(str,nums))\n",
    "print(res)"
   ]
  },
  {
   "cell_type": "code",
   "execution_count": 31,
   "id": "66e74564",
   "metadata": {},
   "outputs": [
    {
     "name": "stdout",
     "output_type": "stream",
     "text": [
      "[4, 11, 2, 2]\n"
     ]
    }
   ],
   "source": [
    "words=['data','engineering','ai','ml']\n",
    "res=list(map(len,words))\n",
    "print(res)"
   ]
  },
  {
   "cell_type": "code",
   "execution_count": 32,
   "id": "d036c832",
   "metadata": {},
   "outputs": [
    {
     "name": "stdout",
     "output_type": "stream",
     "text": [
      "['$100', '$200', '$500']\n"
     ]
    }
   ],
   "source": [
    "def add_dollar(n):\n",
    "    return f\"${n}\"\n",
    "nums=[100,200,500]\n",
    "res=list(map(add_dollar,nums))\n",
    "print(res)"
   ]
  },
  {
   "cell_type": "code",
   "execution_count": 33,
   "id": "9db4cd5b",
   "metadata": {},
   "outputs": [
    {
     "data": {
      "text/plain": [
       "6"
      ]
     },
     "execution_count": 33,
     "metadata": {},
     "output_type": "execute_result"
    }
   ],
   "source": [
    "add=lambda x,y:x+y\n",
    "add(2,4)\n"
   ]
  },
  {
   "cell_type": "code",
   "execution_count": 37,
   "id": "135b8323",
   "metadata": {},
   "outputs": [
    {
     "data": {
      "text/plain": [
       "True"
      ]
     },
     "execution_count": 37,
     "metadata": {},
     "output_type": "execute_result"
    }
   ],
   "source": [
    "even_odd=lambda x: True if x%2==0 else False\n",
    "even_odd(20)"
   ]
  },
  {
   "cell_type": "code",
   "execution_count": 38,
   "id": "2f581c51",
   "metadata": {},
   "outputs": [
    {
     "data": {
      "text/plain": [
       "[False, True, False, False, True, True]"
      ]
     },
     "execution_count": 38,
     "metadata": {},
     "output_type": "execute_result"
    }
   ],
   "source": [
    "list(map(lambda x : True if x%2==0 else False,[11,12,13,5,8,0]))"
   ]
  },
  {
   "cell_type": "code",
   "execution_count": 39,
   "id": "db06e648",
   "metadata": {},
   "outputs": [
    {
     "name": "stdout",
     "output_type": "stream",
     "text": [
      "[1, 4, 9, 16, 25]\n"
     ]
    }
   ],
   "source": [
    "n=[1,2,3,4,5]\n",
    "res=list(map(lambda x: x**2,n))\n",
    "print(res)"
   ]
  },
  {
   "cell_type": "code",
   "execution_count": 45,
   "id": "50baabed",
   "metadata": {},
   "outputs": [
    {
     "name": "stdout",
     "output_type": "stream",
     "text": [
      "['A', 'D', 'B', 'D', 'C']\n"
     ]
    }
   ],
   "source": [
    "marks=[99,7,80,45,72]\n",
    "res=list(map(lambda m: \"A\"if  m>=90 else\n",
    "                        \"B\"if m>=75 else\n",
    "                        \"C\" if m>=60 else\n",
    "                        \"D\",marks))\n",
    "\n",
    "print(res)"
   ]
  },
  {
   "cell_type": "code",
   "execution_count": 48,
   "id": "47c6d39d",
   "metadata": {},
   "outputs": [
    {
     "name": "stdout",
     "output_type": "stream",
     "text": [
      "['gmail.com', 'yahoo.com', 'outlook.com']\n"
     ]
    }
   ],
   "source": [
    "emails=[\"user1@gmail.com\",\"user2@yahoo.com\",\"user3@outlook.com\"]\n",
    "res=list(map(lambda e: e.split(\"@\")[1],emails))\n",
    "print(res)"
   ]
  },
  {
   "cell_type": "code",
   "execution_count": 50,
   "id": "608d0e47",
   "metadata": {},
   "outputs": [
    {
     "name": "stdout",
     "output_type": "stream",
     "text": [
      "['gmail', 'yahoo', 'outlook']\n"
     ]
    }
   ],
   "source": [
    "emails=[\"user1@gmail.com\",\"user2@yahoo.com\",\"user3@outlook.com\"]\n",
    "res=list(map(lambda e: e.split(\"@\")[1].split(\".\")[0],emails))\n",
    "print(res)"
   ]
  },
  {
   "cell_type": "code",
   "execution_count": 52,
   "id": "017e7225",
   "metadata": {},
   "outputs": [
    {
     "name": "stdout",
     "output_type": "stream",
     "text": [
      "['0011', '0055', '0002', '0634', '0034']\n"
     ]
    }
   ],
   "source": [
    "nums=[11,55,2,634,34]\n",
    "res=list(map(lambda x:str(x).zfill(4),nums))\n",
    "print(res)"
   ]
  },
  {
   "cell_type": "code",
   "execution_count": 56,
   "id": "6c7f1ec2",
   "metadata": {},
   "outputs": [
    {
     "name": "stdout",
     "output_type": "stream",
     "text": [
      "['************4321', '************6789']\n"
     ]
    }
   ],
   "source": [
    "cards=['123456787654321','9876543223456789']\n",
    "r=list(map(lambda c:\"*\"*12+c[-4:],cards))\n",
    "print(r)"
   ]
  },
  {
   "cell_type": "code",
   "execution_count": 58,
   "id": "664c426a",
   "metadata": {},
   "outputs": [
    {
     "name": "stdout",
     "output_type": "stream",
     "text": [
      "['python-basics', 'azure-data-factory', 'ai-and-ml-course']\n"
     ]
    }
   ],
   "source": [
    "titles=['Python Basics','Azure Data Factory','AI & ML Course']\n",
    "res=list(map(lambda t:t.lower().replace(\" \",\"-\").replace('&','and'),titles))\n",
    "print(res)"
   ]
  },
  {
   "cell_type": "code",
   "execution_count": 65,
   "id": "1082d2b1",
   "metadata": {},
   "outputs": [
    {
     "name": "stdout",
     "output_type": "stream",
     "text": [
      "[8450.0, 84500.0]\n"
     ]
    }
   ],
   "source": [
    "amount=[100,1000]\n",
    "convert=lambda amt,**kwargs : amt*kwargs.get(\"rate\",1)\n",
    "res=list(map(lambda a: convert(a,rate=84.5),amount))\n",
    "print(res)"
   ]
  },
  {
   "cell_type": "code",
   "execution_count": null,
   "id": "90aca9b5",
   "metadata": {},
   "outputs": [
    {
     "data": {
      "text/plain": [
       "[11, 14, 19, 26, 35]"
      ]
     },
     "execution_count": 66,
     "metadata": {},
     "output_type": "execute_result"
    }
   ],
   "source": [
    "n=[1,2,3,4,5]\n",
    "res=list(map(lambda x:(lambda y:y+10)(x**2),n))\n",
    "res\n",
    "# map(function, iterable)\n"
   ]
  },
  {
   "cell_type": "code",
   "execution_count": 68,
   "id": "b2602953",
   "metadata": {},
   "outputs": [
    {
     "data": {
      "text/plain": [
       "[11, 12, 13, 14, 15]"
      ]
     },
     "execution_count": 68,
     "metadata": {},
     "output_type": "execute_result"
    }
   ],
   "source": [
    "n=[1,2,3,4,5]\n",
    "res=list(map(lambda x:(lambda y:x+y)(10),n))\n",
    "res"
   ]
  },
  {
   "cell_type": "code",
   "execution_count": null,
   "id": "8202544d",
   "metadata": {},
   "outputs": [],
   "source": [
    "# filters and reduce"
   ]
  },
  {
   "cell_type": "code",
   "execution_count": 70,
   "id": "aa98a756",
   "metadata": {},
   "outputs": [
    {
     "data": {
      "text/plain": [
       "[12, 8, 14, 6]"
      ]
     },
     "execution_count": 70,
     "metadata": {},
     "output_type": "execute_result"
    }
   ],
   "source": [
    "n=[12,3,5,8,14,6]\n",
    "list(filter(lambda x: True if x%2==0 else False,n))"
   ]
  },
  {
   "cell_type": "code",
   "execution_count": 71,
   "id": "392dbf8e",
   "metadata": {},
   "outputs": [
    {
     "name": "stdout",
     "output_type": "stream",
     "text": [
      "[1, 3, 5]\n"
     ]
    }
   ],
   "source": [
    "num=[1,2,3,4,5,6]\n",
    "res=list(filter(lambda x: x%2 !=0,num))\n",
    "print(res)"
   ]
  },
  {
   "cell_type": "code",
   "execution_count": 72,
   "id": "25da8bdb",
   "metadata": {},
   "outputs": [
    {
     "data": {
      "text/plain": [
       "['Python', 'Engineering']"
      ]
     },
     "execution_count": 72,
     "metadata": {},
     "output_type": "execute_result"
    }
   ],
   "source": [
    "words=['Python',\"AI\",\"Azure\",\"Data\",\"Engineering\"]\n",
    "res=list(filter(lambda w:len(w)>5,words))\n",
    "res"
   ]
  },
  {
   "cell_type": "code",
   "execution_count": 73,
   "id": "4f433599",
   "metadata": {},
   "outputs": [
    {
     "data": {
      "text/plain": [
       "['Python', 'Azure', 'Data']"
      ]
     },
     "execution_count": 73,
     "metadata": {},
     "output_type": "execute_result"
    }
   ],
   "source": [
    "words=['Python',\"\",\"Azure\",\"Data\",\"\"]\n",
    "res=list(filter(lambda w: w!=\"\",words))\n",
    "res"
   ]
  },
  {
   "cell_type": "code",
   "execution_count": 76,
   "id": "3086780e",
   "metadata": {},
   "outputs": [
    {
     "data": {
      "text/plain": [
       "['rakesh@gmail.com', 'praveen@gmail.com']"
      ]
     },
     "execution_count": 76,
     "metadata": {},
     "output_type": "execute_result"
    }
   ],
   "source": [
    "emails=[\"rakesh@gmail.com\",\"arun@outlookcom\",\"praveen@gmail.com\"]\n",
    "res=list(filter(lambda e:e.endswith(\"@gmail.com\"),emails))\n",
    "res"
   ]
  },
  {
   "cell_type": "code",
   "execution_count": 78,
   "id": "b0947e81",
   "metadata": {},
   "outputs": [
    {
     "data": {
      "text/plain": [
       "[50, 65, 80]"
      ]
     },
     "execution_count": 78,
     "metadata": {},
     "output_type": "execute_result"
    }
   ],
   "source": [
    "marks=[30,50,65,20,80]\n",
    "res=list(filter(lambda m:m>=40,marks))\n",
    "res"
   ]
  },
  {
   "cell_type": "code",
   "execution_count": 79,
   "id": "1ee031b9",
   "metadata": {},
   "outputs": [
    {
     "data": {
      "text/plain": [
       "['apple', 'apricot']"
      ]
     },
     "execution_count": 79,
     "metadata": {},
     "output_type": "execute_result"
    }
   ],
   "source": [
    "words=[\"apple\",\"banana\",\"apricot\",\"cherry\"]\n",
    "starts_with=lambda s,**kwargs: s.startswith(kwargs.get(\"prefix\",\"a\"))\n",
    "res=list(filter(lambda s:starts_with(s,prefix=\"ap\"),words))\n",
    "res\n"
   ]
  },
  {
   "cell_type": "code",
   "execution_count": 82,
   "id": "3edf5759",
   "metadata": {},
   "outputs": [
    {
     "data": {
      "text/plain": [
       "15"
      ]
     },
     "execution_count": 82,
     "metadata": {},
     "output_type": "execute_result"
    }
   ],
   "source": [
    "from functools  import reduce\n",
    "nums=[1,2,3,4,5]\n",
    "res=reduce(lambda x,y:x+y,nums)\n",
    "res\n"
   ]
  },
  {
   "cell_type": "code",
   "execution_count": 83,
   "id": "de084a51",
   "metadata": {},
   "outputs": [
    {
     "data": {
      "text/plain": [
       "120"
      ]
     },
     "execution_count": 83,
     "metadata": {},
     "output_type": "execute_result"
    }
   ],
   "source": [
    "from functools  import reduce\n",
    "nums=[1,2,3,4,5]\n",
    "res=reduce(lambda x,y:x*y,nums)\n",
    "res\n"
   ]
  },
  {
   "cell_type": "code",
   "execution_count": 84,
   "id": "ee4ea93c",
   "metadata": {},
   "outputs": [
    {
     "data": {
      "text/plain": [
       "67"
      ]
     },
     "execution_count": 84,
     "metadata": {},
     "output_type": "execute_result"
    }
   ],
   "source": [
    "from functools  import reduce\n",
    "nums=[10,50,32,67,25]\n",
    "res=reduce(lambda x,y:x if x>y else y ,nums)\n",
    "res\n"
   ]
  },
  {
   "cell_type": "code",
   "execution_count": 85,
   "id": "4f829a2b",
   "metadata": {},
   "outputs": [
    {
     "data": {
      "text/plain": [
       "10"
      ]
     },
     "execution_count": 85,
     "metadata": {},
     "output_type": "execute_result"
    }
   ],
   "source": [
    "from functools  import reduce\n",
    "nums=[10,50,32,67,25]\n",
    "res=reduce(lambda x,y:x if x<y else y ,nums)\n",
    "res\n"
   ]
  },
  {
   "cell_type": "code",
   "execution_count": 86,
   "id": "9f4b4e03",
   "metadata": {},
   "outputs": [
    {
     "data": {
      "text/plain": [
       "120"
      ]
     },
     "execution_count": 86,
     "metadata": {},
     "output_type": "execute_result"
    }
   ],
   "source": [
    "from functools  import reduce\n",
    "n=5\n",
    "res=reduce(lambda x,y: x*y,range(1,n+1))\n",
    "res\n"
   ]
  },
  {
   "cell_type": "code",
   "execution_count": 88,
   "id": "2837ba4d",
   "metadata": {},
   "outputs": [
    {
     "data": {
      "text/plain": [
       "720"
      ]
     },
     "execution_count": 88,
     "metadata": {},
     "output_type": "execute_result"
    }
   ],
   "source": [
    "from functools  import reduce\n",
    "n=5\n",
    "res=reduce(lambda x,y: x*y,range(n+1,1,-1))\n",
    "res\n"
   ]
  },
  {
   "cell_type": "code",
   "execution_count": null,
   "id": "e9aea9bb",
   "metadata": {},
   "outputs": [],
   "source": []
  }
 ],
 "metadata": {
  "kernelspec": {
   "display_name": "Python 3",
   "language": "python",
   "name": "python3"
  },
  "language_info": {
   "codemirror_mode": {
    "name": "ipython",
    "version": 3
   },
   "file_extension": ".py",
   "mimetype": "text/x-python",
   "name": "python",
   "nbconvert_exporter": "python",
   "pygments_lexer": "ipython3",
   "version": "3.13.2"
  }
 },
 "nbformat": 4,
 "nbformat_minor": 5
}
