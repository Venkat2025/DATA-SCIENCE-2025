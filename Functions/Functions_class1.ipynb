{
 "cells": [
  {
   "cell_type": "code",
   "execution_count": 1,
   "id": "e2f38a31",
   "metadata": {},
   "outputs": [
    {
     "name": "stdout",
     "output_type": "stream",
     "text": [
      "test1\n",
      "test2\n"
     ]
    }
   ],
   "source": [
    "def funname():\n",
    "    print(\"test1\")\n",
    "    print(\"test2\")\n",
    "funname()    \n"
   ]
  },
  {
   "cell_type": "code",
   "execution_count": 2,
   "metadata": {},
   "outputs": [
    {
     "name": "stdout",
     "output_type": "stream",
     "text": [
      "['False', 'None', 'True', 'and', 'as', 'assert', 'async', 'await', 'break', 'class', 'continue', 'def', 'del', 'elif', 'else', 'except', 'finally', 'for', 'from', 'global', 'if', 'import', 'in', 'is', 'lambda', 'nonlocal', 'not', 'or', 'pass', 'raise', 'return', 'try', 'while', 'with', 'yield']\n"
     ]
    }
   ],
   "source": [
    "import keyword\n",
    "print(keyword.kwlist)"
   ]
  },
  {
   "cell_type": "code",
   "execution_count": 3,
   "metadata": {},
   "outputs": [
    {
     "name": "stdout",
     "output_type": "stream",
     "text": [
      "40\n"
     ]
    }
   ],
   "source": [
    "def fun():\n",
    "    x=10\n",
    "    x=20\n",
    "    x=x+20\n",
    "    print(x)\n",
    "fun()    "
   ]
  },
  {
   "cell_type": "code",
   "execution_count": 4,
   "metadata": {},
   "outputs": [
    {
     "name": "stdout",
     "output_type": "stream",
     "text": [
      "30\n"
     ]
    }
   ],
   "source": [
    " # def functionname(parameters1,parameters2......parameters n):\n",
    "#          body or statements\n",
    "def add(x,y):\n",
    "    print(x+y)\n",
    "add(10,20)       "
   ]
  },
  {
   "cell_type": "code",
   "execution_count": 5,
   "id": "e5ffe2be",
   "metadata": {},
   "outputs": [
    {
     "name": "stdout",
     "output_type": "stream",
     "text": [
      "datascience\n"
     ]
    }
   ],
   "source": [
    "add(\"data\",\"science\")"
   ]
  },
  {
   "cell_type": "code",
   "execution_count": 6,
   "id": "348aca88",
   "metadata": {},
   "outputs": [
    {
     "name": "stdout",
     "output_type": "stream",
     "text": [
      "20data\n"
     ]
    }
   ],
   "source": [
    "add(str(20),\"data\")"
   ]
  },
  {
   "cell_type": "code",
   "execution_count": 7,
   "id": "2cae0157",
   "metadata": {},
   "outputs": [
    {
     "name": "stdout",
     "output_type": "stream",
     "text": [
      "datadatadata\n"
     ]
    }
   ],
   "source": [
    "def add(x,y):\n",
    "    print(x*y)\n",
    "add(\"data\",3)    "
   ]
  },
  {
   "cell_type": "code",
   "execution_count": 8,
   "id": "daeca856",
   "metadata": {},
   "outputs": [],
   "source": [
    "# load data\n",
    "def load_data(type_of_data):\n",
    "    if type_of_data == \"csv\":\n",
    "        read_csv()\n",
    "    else:\n",
    "        read_excel()    \n",
    "\n",
    "        "
   ]
  },
  {
   "cell_type": "code",
   "execution_count": 9,
   "id": "f37b6bb6",
   "metadata": {},
   "outputs": [],
   "source": [
    "# Transformation\n",
    "def fun(columns,transformation):\n",
    "    print(1/columns)"
   ]
  },
  {
   "cell_type": "code",
   "execution_count": 10,
   "id": "869d58dd",
   "metadata": {},
   "outputs": [],
   "source": [
    "# null value treatment\n",
    "# outliers\n",
    "# label encoding\n",
    "# dummy variables\n",
    "# min max scaling"
   ]
  },
  {
   "cell_type": "code",
   "execution_count": 11,
   "id": "27e1b1d0",
   "metadata": {},
   "outputs": [],
   "source": [
    "# the return statement is used within a function to terminate its execution and send a value back to the caller.\n",
    "\n",
    "def fun1(x,y):\n",
    "    print(x+y)\n",
    "    return (x+y)\n"
   ]
  },
  {
   "cell_type": "code",
   "execution_count": 12,
   "id": "28800868",
   "metadata": {},
   "outputs": [],
   "source": [
    "def fun2(x,y):\n",
    "    return (x+y) # After using a return statement in a function, the subsequent statements will not be executed.\n",
    "    print(x+y)\n",
    "\n"
   ]
  },
  {
   "cell_type": "code",
   "execution_count": 13,
   "id": "9be186a6",
   "metadata": {},
   "outputs": [
    {
     "name": "stdout",
     "output_type": "stream",
     "text": [
      "30\n"
     ]
    }
   ],
   "source": [
    "x=fun1(10,20) "
   ]
  },
  {
   "cell_type": "code",
   "execution_count": 14,
   "id": "c9fad2ee",
   "metadata": {},
   "outputs": [],
   "source": [
    "y=fun2(10,20)   # in y=fun2(10,20) if we assign variable to function then it will not execute since return terminates the function "
   ]
  },
  {
   "cell_type": "code",
   "execution_count": 15,
   "id": "48ba608a",
   "metadata": {},
   "outputs": [
    {
     "name": "stderr",
     "output_type": "stream",
     "text": [
      "<>:2: SyntaxWarning: invalid escape sequence '\\D'\n",
      "<>:2: SyntaxWarning: invalid escape sequence '\\D'\n",
      "C:\\Users\\Dell\\AppData\\Local\\Temp\\ipykernel_12364\\1321249708.py:2: SyntaxWarning: invalid escape sequence '\\D'\n",
      "  df=pd.read_csv(\"D:\\DATA SCIENCE\\PYTHON\\Sample - Superstore.csv\",encoding='latin1')\n"
     ]
    },
    {
     "data": {
      "text/plain": [
       "Index(['Row ID', 'Order ID', 'Order Date', 'Ship Date', 'Ship Mode',\n",
       "       'Customer ID', 'Customer Name', 'Segment', 'Country/Region', 'City',\n",
       "       'State', 'Postal Code', 'Region', 'Product ID', 'Category',\n",
       "       'Sub-Category', 'Product Name', 'Sales', 'Quantity', 'Discount',\n",
       "       'Profit'],\n",
       "      dtype='object')"
      ]
     },
     "execution_count": 15,
     "metadata": {},
     "output_type": "execute_result"
    }
   ],
   "source": [
    "import pandas as pd\n",
    "df=pd.read_csv(\"D:\\DATA SCIENCE\\PYTHON\\Sample - Superstore.csv\",encoding='latin1')\n",
    "df.columns\n"
   ]
  },
  {
   "cell_type": "code",
   "execution_count": 17,
   "id": "936f15d1",
   "metadata": {},
   "outputs": [
    {
     "data": {
      "text/plain": [
       "<BarContainer object of 9994 artists>"
      ]
     },
     "execution_count": 17,
     "metadata": {},
     "output_type": "execute_result"
    },
    {
     "data": {
      "image/png": "[encoded data removed]",
      "text/plain": [
       "<Figure size 640x480 with 1 Axes>"
      ]
     },
     "metadata": {},
     "output_type": "display_data"
    }
   ],
   "source": [
    "import matplotlib.pyplot  as plt\n",
    "plt.bar(df['Sales'],height=0.5,width=0.8)"
   ]
  },
  {
   "cell_type": "code",
   "execution_count": 19,
   "id": "6ea1a177",
   "metadata": {},
   "outputs": [
    {
     "data": {
      "image/png": "[encoded data removed]",
      "text/plain": [
       "<Figure size 640x480 with 1 Axes>"
      ]
     },
     "metadata": {},
     "output_type": "display_data"
    }
   ],
   "source": [
    "import matplotlib.pyplot  as plt\n",
    "def visualization(colname):\n",
    "    plt.bar(df[colname],height=0.5,width=0.8)\n",
    "visualization('Quantity')"
   ]
  },
  {
   "cell_type": "code",
   "execution_count": 23,
   "id": "d38f5a59",
   "metadata": {},
   "outputs": [
    {
     "name": "stderr",
     "output_type": "stream",
     "text": [
      "<>:1: SyntaxWarning: invalid escape sequence '\\D'\n",
      "<>:1: SyntaxWarning: invalid escape sequence '\\D'\n",
      "C:\\Users\\Dell\\AppData\\Local\\Temp\\ipykernel_12364\\2503562118.py:1: SyntaxWarning: invalid escape sequence '\\D'\n",
      "  path=\"D:\\DATA SCIENCE\\PYTHON\\Sample - Superstore.csv\"\n"
     ]
    },
    {
     "name": "stdout",
     "output_type": "stream",
     "text": [
      "*********************************************************************\n",
      "Index(['Row ID', 'Order ID', 'Order Date', 'Ship Date', 'Ship Mode',\n",
      "       'Customer ID', 'Customer Name', 'Segment', 'Country/Region', 'City',\n",
      "       'State', 'Postal Code', 'Region', 'Product ID', 'Category',\n",
      "       'Sub-Category', 'Product Name', 'Sales', 'Quantity', 'Discount',\n",
      "       'Profit'],\n",
      "      dtype='object')\n",
      "*********************************************************************\n",
      "(9994, 21)\n",
      "*********************************************************************\n",
      "Row ID              int64\n",
      "Order ID           object\n",
      "Order Date         object\n",
      "Ship Date          object\n",
      "Ship Mode          object\n",
      "Customer ID        object\n",
      "Customer Name      object\n",
      "Segment            object\n",
      "Country/Region     object\n",
      "City               object\n",
      "State              object\n",
      "Postal Code       float64\n",
      "Region             object\n",
      "Product ID         object\n",
      "Category           object\n",
      "Sub-Category       object\n",
      "Product Name       object\n",
      "Sales             float64\n",
      "Quantity            int64\n",
      "Discount          float64\n",
      "Profit            float64\n",
      "dtype: object\n",
      "*********************************************************************\n",
      "            Row ID   Postal Code         Sales     Quantity     Discount  \\\n",
      "count  9994.000000   9983.000000   9994.000000  9994.000000  9994.000000   \n",
      "mean   4997.500000  55245.233297    229.858001     3.789574     0.156203   \n",
      "std    2885.163629  32038.715955    623.245101     2.225110     0.206452   \n",
      "min       1.000000   1040.000000      0.444000     1.000000     0.000000   \n",
      "25%    2499.250000  23223.000000     17.280000     2.000000     0.000000   \n",
      "50%    4997.500000  57103.000000     54.490000     3.000000     0.200000   \n",
      "75%    7495.750000  90008.000000    209.940000     5.000000     0.200000   \n",
      "max    9994.000000  99301.000000  22638.480000    14.000000     0.800000   \n",
      "\n",
      "            Profit  \n",
      "count  9994.000000  \n",
      "mean     28.656896  \n",
      "std     234.260108  \n",
      "min   -6599.978000  \n",
      "25%       1.728750  \n",
      "50%       8.666500  \n",
      "75%      29.364000  \n",
      "max    8399.976000  \n",
      "*********************************************************************\n",
      "Row ID             0\n",
      "Order ID           0\n",
      "Order Date         0\n",
      "Ship Date          0\n",
      "Ship Mode          0\n",
      "Customer ID        0\n",
      "Customer Name      0\n",
      "Segment            0\n",
      "Country/Region     0\n",
      "City               0\n",
      "State              0\n",
      "Postal Code       11\n",
      "Region             0\n",
      "Product ID         0\n",
      "Category           0\n",
      "Sub-Category       0\n",
      "Product Name       0\n",
      "Sales              0\n",
      "Quantity           0\n",
      "Discount           0\n",
      "Profit             0\n",
      "dtype: int64\n",
      "*********************************************************************\n",
      "              Order ID  Order Date   Ship Date       Ship Mode Customer ID  \\\n",
      "count             9994        9994        9994            9994        9994   \n",
      "unique            5009        1236        1334               4         793   \n",
      "top     CA-2019-100111  05-09-2018  16-12-2017  Standard Class    WB-21850   \n",
      "freq                14          38          35            5968          37   \n",
      "\n",
      "        Customer Name   Segment Country/Region           City       State  \\\n",
      "count            9994      9994           9994           9994        9994   \n",
      "unique            793         3              1            531          49   \n",
      "top     William Brown  Consumer  United States  New York City  California   \n",
      "freq               37      5191           9994            915        2001   \n",
      "\n",
      "       Region       Product ID         Category Sub-Category     Product Name  \n",
      "count    9994             9994             9994         9994             9994  \n",
      "unique      4             1862                3           17             1850  \n",
      "top      West  OFF-PA-10001970  Office Supplies      Binders  Staple envelope  \n",
      "freq     3203               19             6026         1523               48  \n"
     ]
    }
   ],
   "source": [
    "path=\"D:\\DATA SCIENCE\\PYTHON\\Sample - Superstore.csv\"\n",
    "def analysis(path):\n",
    "    df=pd.read_csv(path,encoding='latin1')\n",
    "    print(\"*********************************************************************\")\n",
    "    print(df.columns)\n",
    "    print(\"*********************************************************************\")\n",
    "    print(df.shape)\n",
    "    print(\"*********************************************************************\")\n",
    "    print(df.dtypes)\n",
    "    print(\"*********************************************************************\")\n",
    "    print(df.describe())\n",
    "    print(\"*********************************************************************\")\n",
    "    print(df.isna().sum())\n",
    "    print(\"*********************************************************************\")\n",
    "    print(df.describe(include='object'))\n",
    "analysis(path)    "
   ]
  },
  {
   "cell_type": "code",
   "execution_count": 1,
   "id": "13a017b1",
   "metadata": {},
   "outputs": [
    {
     "name": "stdout",
     "output_type": "stream",
     "text": [
      "10, Quantity: 20\n"
     ]
    }
   ],
   "source": [
    "# Positional based Arguments.\n",
    "def order(item,quantity):\n",
    "    print(f\"{item}, Quantity: {quantity}\")\n",
    "order(10,20)"
   ]
  },
  {
   "cell_type": "code",
   "execution_count": 2,
   "id": "055edf07",
   "metadata": {},
   "outputs": [
    {
     "name": "stdout",
     "output_type": "stream",
     "text": [
      "laptop, Quantity: 10\n"
     ]
    }
   ],
   "source": [
    "# keyword  based argument.\n",
    "def order(quantity,item='laptop'):\n",
    "    print(f\"{item}, Quantity: {quantity}\")\n",
    "order(quantity=10,item='laptop')"
   ]
  },
  {
   "cell_type": "code",
   "execution_count": 3,
   "id": "1be25d45",
   "metadata": {},
   "outputs": [
    {
     "name": "stdout",
     "output_type": "stream",
     "text": [
      "laptop,quantity : 10\n"
     ]
    }
   ],
   "source": [
    "# default argument\n",
    "def order(item,quantity=10):\n",
    "    print(f\"{item},quantity : {quantity}\")\n",
    "order('laptop')    "
   ]
  },
  {
   "cell_type": "code",
   "execution_count": 4,
   "id": "d37e4832",
   "metadata": {},
   "outputs": [
    {
     "name": "stdout",
     "output_type": "stream",
     "text": [
      "laptop,quantity : 30\n"
     ]
    }
   ],
   "source": [
    "# default argument\n",
    "def order(item,quantity=10):\n",
    "    print(f\"{item},quantity : {quantity}\")\n",
    "order('laptop',30)    "
   ]
  },
  {
   "cell_type": "code",
   "execution_count": 12,
   "id": "d28ed6ce",
   "metadata": {},
   "outputs": [
    {
     "name": "stdout",
     "output_type": "stream",
     "text": [
      "(10, 20, 30)\n",
      "30\n"
     ]
    }
   ],
   "source": [
    "# *Variable-length (args) -->Allows multiple positional arguments.\n",
    "def order(*args):  \n",
    "    print(args)\n",
    "    print(args[-1])\n",
    "order(10,20,30) "
   ]
  },
  {
   "cell_type": "code",
   "execution_count": 16,
   "id": "68a4101a",
   "metadata": {},
   "outputs": [
    {
     "name": "stdout",
     "output_type": "stream",
     "text": [
      "60\n",
      "28\n"
     ]
    }
   ],
   "source": [
    "# Write a function sum_all(*args) that returns the sum of all numbers passed.\n",
    "def add_num(*args):\n",
    "    return sum(args)\n",
    "print(add_num(10,20,30))\n",
    "print(add_num(5,23))"
   ]
  },
  {
   "cell_type": "code",
   "execution_count": 17,
   "id": "ae72a8f6",
   "metadata": {},
   "outputs": [
    {
     "name": "stdout",
     "output_type": "stream",
     "text": [
      "100\n"
     ]
    }
   ],
   "source": [
    "# Write a function max_number(*args) that returns the maximum value passed\n",
    "def find_max(*args):\n",
    "    return max(args)\n",
    "print(find_max(98,56,100,98,67))"
   ]
  },
  {
   "cell_type": "code",
   "execution_count": 19,
   "id": "f8a1d562",
   "metadata": {},
   "outputs": [
    {
     "name": "stdout",
     "output_type": "stream",
     "text": [
      "Hello,Allice!\n",
      "Hello,bob!\n",
      "Hello,Charlie!\n"
     ]
    }
   ],
   "source": [
    "def greet(*args):\n",
    "    for name in args:\n",
    "        print(f\"Hello,{name}!\")\n",
    "greet(\"Allice\",\"bob\",\"Charlie\")"
   ]
  },
  {
   "cell_type": "code",
   "execution_count": 20,
   "id": "8c38b4d2",
   "metadata": {},
   "outputs": [
    {
     "name": "stdout",
     "output_type": "stream",
     "text": [
      "Hello,A!\n",
      "Hello,b!\n",
      "Hello,C!\n"
     ]
    }
   ],
   "source": [
    "def greet(*args):\n",
    "    for name in args:\n",
    "        print(f\"Hello,{name[0]}!\")\n",
    "greet(\"Allice\",\"bob\",\"Charlie\")"
   ]
  },
  {
   "cell_type": "code",
   "execution_count": 21,
   "id": "ce12fe64",
   "metadata": {},
   "outputs": [
    {
     "name": "stdout",
     "output_type": "stream",
     "text": [
      "items in cart: ('Laptop', 'Phone', 'Headphones')\n"
     ]
    }
   ],
   "source": [
    "def cart_items(*args):\n",
    "    print(\"items in cart:\",args)\n",
    "cart_items(\"Laptop\",\"Phone\",\"Headphones\")    "
   ]
  },
  {
   "cell_type": "code",
   "execution_count": 25,
   "id": "556a64a1",
   "metadata": {},
   "outputs": [
    {
     "name": "stdout",
     "output_type": "stream",
     "text": [
      "6000\n",
      "3000.0\n"
     ]
    }
   ],
   "source": [
    "def mul(*args):\n",
    "    res=1\n",
    "    for i in args:\n",
    "        res*=i\n",
    "    return res\n",
    "print(mul(10,20,30))\n",
    "print(mul(10,20,30,0.5))\n"
   ]
  },
  {
   "cell_type": "code",
   "execution_count": 31,
   "id": "8cab2990",
   "metadata": {},
   "outputs": [
    {
     "data": {
      "text/plain": [
       "'datascienceML'"
      ]
     },
     "execution_count": 31,
     "metadata": {},
     "output_type": "execute_result"
    }
   ],
   "source": [
    "# Write a function concat_strings(*args) that joins all string arguments into one string.\n",
    "def concat_strings(*args):\n",
    "    return \"\".join(args)\n",
    "concat_strings(\"data\",\"science\",\"ML\")\n",
    "\n"
   ]
  },
  {
   "cell_type": "code",
   "execution_count": 33,
   "id": "2a972fba",
   "metadata": {},
   "outputs": [
    {
     "name": "stdout",
     "output_type": "stream",
     "text": [
      "[1 2 3 4 5 6]\n",
      "[ 1  2  3  4 10  8]\n"
     ]
    }
   ],
   "source": [
    "# Write a function unpack_args(*args) that takes nested lists/tuples and flattens them.\n",
    "import numpy as np\n",
    "def unpack_args(*args):\n",
    "    return np.ravel(args)   # ravel() is used to flatten the list\n",
    "print(unpack_args([[1,2],[3,4],[5,6]]))       # unpacking of nested list\n",
    "print(unpack_args((1,2),(3,4),(10,8)))        #  unpacking of nested tuple\n",
    "\n",
    "#-----------------------or ------------------------------------\n",
    "def unpack_args(*args):\n",
    "    result = []\n",
    "    for arg in args:\n",
    "        if isinstance(arg, (list, tuple)):\n",
    "            result.extend(unpack_args(*arg))  # recursive flattening\n",
    "        else:\n",
    "            result.append(arg)\n",
    "    return result\n",
    "\n",
    "print(unpack_args([[1,2],[3,4],[5,6]]))\n",
    "print(unpack_args((1,2),(3,4),(10,8)))\n"
   ]
  },
  {
   "cell_type": "code",
   "execution_count": 42,
   "id": "0ebf865b",
   "metadata": {},
   "outputs": [
    {
     "name": "stdout",
     "output_type": "stream",
     "text": [
      "([1, 2, 3],)\n",
      "(1, 2, 3)\n"
     ]
    }
   ],
   "source": [
    "# What happens if you pass a list directly vs. using unpacking (*list) when calling a function with *args? Show with an example.\n",
    "def lst(*args):\n",
    "    return list(args)\n",
    "\n",
    "my_list = [1, 2, 3]\n",
    "\n",
    "# Case 1: Passing list directly\n",
    "print(lst(my_list))       # -->[[1, 2, 3]]\n",
    "\n",
    "# Case 2: Passing with unpacking\n",
    "print(lst(*my_list))      # --> [1, 2, 3]\n"
   ]
  },
  {
   "cell_type": "code",
   "execution_count": 58,
   "id": "9afd4459",
   "metadata": {},
   "outputs": [
    {
     "name": "stdout",
     "output_type": "stream",
     "text": [
      "[4, 3, 2, 1]\n",
      "['c', 'b', 'a']\n"
     ]
    }
   ],
   "source": [
    "# Write a function reverse_args(*args) that prints arguments in reverse order.\n",
    "def reverse_args(*args):\n",
    "    return list(args[::-1])\n",
    "print(reverse_args(1,2,3,4))\n",
    "print(reverse_args(\"a\", \"b\", \"c\"))\n"
   ]
  },
  {
   "cell_type": "code",
   "execution_count": 60,
   "id": "c92781c3",
   "metadata": {},
   "outputs": [
    {
     "name": "stdout",
     "output_type": "stream",
     "text": [
      "[1, 2, 3, 4]\n",
      "['a', 'b', 'c']\n"
     ]
    }
   ],
   "source": [
    "# Write a function reverse_args(*args) that prints arguments in reverse order.\n",
    "def reverse_args(*args):\n",
    "    result = []\n",
    "    for arg in args:\n",
    "        if isinstance(arg, (list, tuple)):\n",
    "            result.append(arg[::-1])   # reverse that list/tuple\n",
    "        else:\n",
    "            result.append(arg)\n",
    "    return result\n",
    "print(reverse_args(1,2,3,4))\n",
    "print(reverse_args(\"a\", \"b\", \"c\"))\n"
   ]
  },
  {
   "cell_type": "code",
   "execution_count": null,
   "id": "2b8fb61e",
   "metadata": {},
   "outputs": [],
   "source": []
  }
 ],
 "metadata": {
  "kernelspec": {
   "display_name": "Python 3",
   "language": "python",
   "name": "python3"
  },
  "language_info": {
   "codemirror_mode": {
    "name": "ipython",
    "version": 3
   },
   "file_extension": ".py",
   "mimetype": "text/x-python",
   "name": "python",
   "nbconvert_exporter": "python",
   "pygments_lexer": "ipython3",
   "version": "3.13.2"
  }
 },
 "nbformat": 4,
 "nbformat_minor": 5
}
