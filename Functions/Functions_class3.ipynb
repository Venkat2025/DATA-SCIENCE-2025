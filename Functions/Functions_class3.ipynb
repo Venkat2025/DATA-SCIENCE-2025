{
 "cells": [
  {
   "cell_type": "code",
   "execution_count": null,
   "id": "e3e165e9",
   "metadata": {},
   "outputs": [
    {
     "ename": "",
     "evalue": "",
     "output_type": "error",
     "traceback": [
      "\u001b[1;31mFailed to start the Kernel. \n",
      "\u001b[1;31mUnable to start Kernel 'Python 3.13.2' due to a timeout waiting for the ports to get used. \n",
      "\u001b[1;31mView Jupyter <a href='command:jupyter.viewOutput'>log</a> for further details."
     ]
    }
   ],
   "source": [
    "# scope of functions\n",
    "# nested functions\n",
    "# recursive functions"
   ]
  },
  {
   "cell_type": "code",
   "execution_count": null,
   "id": "fbf273cf",
   "metadata": {},
   "outputs": [],
   "source": [
    "# scope of functions\n",
    "# local, enclosing, global, builtin\n",
    "x=10\n",
    "def fun():\n",
    "    print(\"value of x is:\",x)\n",
    "fun()"
   ]
  },
  {
   "cell_type": "code",
   "execution_count": null,
   "id": "2053311c",
   "metadata": {},
   "outputs": [],
   "source": [
    "x=100\n",
    "def show():\n",
    "    x=50    # local variable(different from global x)\n",
    "    print(\"inside function:\",x)\n",
    "show()\n",
    "print(\"outside function\",x)"
   ]
  },
  {
   "cell_type": "code",
   "execution_count": null,
   "id": "5d39c93e",
   "metadata": {},
   "outputs": [],
   "source": [
    "def add():\n",
    "    a=10 # local variable\n",
    "    b=20\n",
    "    return a+b\n",
    "print(add())\n",
    "#print(a)    # NameError: name 'a' is not defined\n"
   ]
  },
  {
   "cell_type": "code",
   "execution_count": null,
   "id": "2be17dd1",
   "metadata": {},
   "outputs": [],
   "source": [
    "def outer():\n",
    "    msg=\"Hello\"   # Enclosing Variable\n",
    "    def inner():\n",
    "        print(msg) # Access enclosing scope\n",
    "    inner()\n",
    "outer()    "
   ]
  },
  {
   "cell_type": "code",
   "execution_count": null,
   "id": "57cd8cc0",
   "metadata": {},
   "outputs": [],
   "source": [
    "msg=\"test\"   # Global variable 'msg' with value \"test\"\n",
    "def outer():\n",
    "    msg=\"Hello\"   # Enclosing Variable\n",
    "    def inner():\n",
    "        print(msg) # Access enclosing scope\n",
    "    inner()\n",
    "outer()    "
   ]
  },
  {
   "cell_type": "code",
   "execution_count": null,
   "id": "462deb86",
   "metadata": {},
   "outputs": [],
   "source": [
    "msg=\"test\"     # Global variable 'msg' with value \"test\"\n",
    "def outer():\n",
    "    msg=\"Hello\"   # Enclosing Variable\n",
    "    def inner():\n",
    "        msg='abc'     # Local variable inside 'inner' (shadows outer 'msg')\n",
    "        print(msg)  # Prints the local 'msg' from 'inner', so output will be 'abc'\n",
    "    inner()\n",
    "outer()    "
   ]
  },
  {
   "cell_type": "code",
   "execution_count": null,
   "id": "3214c484",
   "metadata": {},
   "outputs": [],
   "source": [
    "def fun1(x):\n",
    "    def fun2():\n",
    "        return \"fun2\"\n",
    "    def fun3():\n",
    "        return \"fun3\"\n",
    "    if x%2==0:\n",
    "        return fun2()\n",
    "    else:\n",
    "        return fun3()\n",
    "\n",
    "fun1(10)"
   ]
  },
  {
   "cell_type": "code",
   "execution_count": null,
   "id": "fcc5b7a5",
   "metadata": {},
   "outputs": [],
   "source": [
    "def calculator(a,b):\n",
    "    def add(): return a+b\n",
    "    def sub(): return a-b\n",
    "    def mul(): return a*b\n",
    "    def div(): return a/b if b!=0 else \"Divide by zero error\"\n",
    "    return add(),sub(),mul(),div()\n",
    "print(calculator(10,5))\n",
    "print(calculator(10,0))\n"
   ]
  },
  {
   "cell_type": "code",
   "execution_count": null,
   "id": "9af8afee",
   "metadata": {},
   "outputs": [],
   "source": [
    "def text_processor(sentence):\n",
    "    def clean(text):\n",
    "        return text.lower().replace(\".\",\"\").replace(\",\",\"\")\n",
    "    def count_words(text):\n",
    "        return len(text.split())\n",
    "    \n",
    "    cleaned=clean(sentence)\n",
    "    return cleaned,count_words(cleaned)\n",
    "print(text_processor(\"Hello, Python World.\"))"
   ]
  },
  {
   "cell_type": "code",
   "execution_count": null,
   "id": "371a3141",
   "metadata": {},
   "outputs": [],
   "source": [
    "txt=\"Hello, Python World.\"\n",
    "x=txt.lower().replace(\".\",\"\").replace(\",\",\"\").split(\",\")\n",
    "print(x)\n",
    "print(len(x))\n"
   ]
  },
  {
   "cell_type": "code",
   "execution_count": null,
   "id": "eb597026",
   "metadata": {},
   "outputs": [],
   "source": [
    "def power_fun(exp):\n",
    "    def inner(base):\n",
    "        return base ** exp\n",
    "    return inner\n",
    "square = power_fun(2)\n",
    "cube = power_fun(3)\n",
    "print(square(5),cube(3))"
   ]
  },
  {
   "cell_type": "code",
   "execution_count": null,
   "id": "12dac7f4",
   "metadata": {},
   "outputs": [],
   "source": [
    "def voting_system():\n",
    "    votes={\"A\":0,\"B\":0}\n",
    "    def vote(candidate):\n",
    "        if candidate in votes:\n",
    "            votes[candidate]+=1\n",
    "            return votes\n",
    "    return vote\n",
    "vote=voting_system()\n",
    "print(vote(\"A\"))\n",
    "print(vote(\"B\"))\n",
    "print(vote(\"A\"))\n",
    "\n"
   ]
  },
  {
   "cell_type": "code",
   "execution_count": null,
   "id": "6fd4c7b2",
   "metadata": {},
   "outputs": [],
   "source": [
    "def fact(n):\n",
    "    if n==0:\n",
    "        return 1\n",
    "    else:\n",
    "        return n*fact(n-1)\n",
    "fact(5)"
   ]
  },
  {
   "cell_type": "code",
   "execution_count": null,
   "id": "9bbdbc22",
   "metadata": {},
   "outputs": [],
   "source": [
    "def fibo(n):\n",
    "    if n<=1:\n",
    "        return 1\n",
    "    else:\n",
    "        return fibo(n-1)+fibo(n-2)\n",
    "for i in range(6):\n",
    "    print(fibo(i))\n",
    "    "
   ]
  },
  {
   "cell_type": "code",
   "execution_count": null,
   "id": "3f78e3b8",
   "metadata": {},
   "outputs": [],
   "source": [
    "# apply() functions"
   ]
  },
  {
   "cell_type": "code",
   "execution_count": null,
   "id": "a4f1254c",
   "metadata": {},
   "outputs": [],
   "source": [
    "import numpy as np\n",
    "import pandas as pd\n",
    "data = {\n",
    "    \"Name\": [\n",
    "        \"Asha Hassan\", \"Dilli Babu N\", \"Ekanth Reddy T\",\n",
    "        \"Parameshwar D\", \"Preethi B V\", \"Shubrati\",\n",
    "        \"Sravanthi Veluru\", \"Supriya Moudgal\"\n",
    "    ],\n",
    "    \"Age\": [24, 29, 35, 40, 27, 31, 36, 28],\n",
    "    \"Salary\": [48000, 55000, 72000, 80000, 60000, 51000, 75000, 64000],\n",
    "    \"Department\": [\"HR\", \"IT\", \"Finance\", \"IT\", \"HR\", \"Finance\", \"IT\", \"HR\"]\n",
    "}\n",
    "\n",
    "df = pd.DataFrame(data)\n",
    "print(df)"
   ]
  },
  {
   "cell_type": "code",
   "execution_count": null,
   "id": "c214bafb",
   "metadata": {},
   "outputs": [],
   "source": [
    "df['Salary'].apply(lambda x:x**2)"
   ]
  },
  {
   "cell_type": "code",
   "execution_count": null,
   "id": "52b3a83e",
   "metadata": {},
   "outputs": [],
   "source": [
    "df['Name'].apply(str.upper)"
   ]
  },
  {
   "cell_type": "code",
   "execution_count": null,
   "id": "8d8984c0",
   "metadata": {},
   "outputs": [],
   "source": [
    "df['Name'].apply(str.isalpha)"
   ]
  },
  {
   "cell_type": "code",
   "execution_count": null,
   "id": "327a91a4",
   "metadata": {},
   "outputs": [],
   "source": [
    "df['Salary'].apply(lambda x:\"high\" if x>50000 else \"low\")"
   ]
  },
  {
   "cell_type": "code",
   "execution_count": null,
   "id": "64f3b9f4",
   "metadata": {},
   "outputs": [],
   "source": [
    "def tax(row):\n",
    "    if row['Salary']>70000:\n",
    "        return row[\"Salary\"]*0.3\n",
    "    else:\n",
    "        return row['Salary']*0.2\n",
    "df['Tax']=df.apply(tax,axis=1)\n",
    "df"
   ]
  },
  {
   "cell_type": "code",
   "execution_count": null,
   "id": "26b5040b",
   "metadata": {},
   "outputs": [],
   "source": []
  },
  {
   "cell_type": "code",
   "execution_count": null,
   "id": "eba9fb82",
   "metadata": {},
   "outputs": [],
   "source": []
  }
 ],
 "metadata": {
  "kernelspec": {
   "display_name": "Python 3",
   "language": "python",
   "name": "python3"
  },
  "language_info": {
   "codemirror_mode": {
    "name": "ipython",
    "version": 3
   },
   "file_extension": ".py",
   "mimetype": "text/x-python",
   "name": "python",
   "nbconvert_exporter": "python",
   "pygments_lexer": "ipython3",
   "version": "3.13.2"
  }
 },
 "nbformat": 4,
 "nbformat_minor": 5
}
