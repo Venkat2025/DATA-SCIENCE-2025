{
 "cells": [
  {
   "cell_type": "code",
   "execution_count": null,
   "id": "4c59903e",
   "metadata": {},
   "outputs": [],
   "source": [
    "#############################STRING ASSIGNMENT CONTINUATION #############################################"
   ]
  },
  {
   "cell_type": "code",
   "execution_count": 1,
   "id": "d2912696",
   "metadata": {},
   "outputs": [
    {
     "name": "stdout",
     "output_type": "stream",
     "text": [
      "\n",
      "Question 26: Check if string ends with 'ing': 'programming'\n"
     ]
    },
    {
     "data": {
      "text/plain": [
       "True"
      ]
     },
     "execution_count": 1,
     "metadata": {},
     "output_type": "execute_result"
    }
   ],
   "source": [
    "# Question 26: Check if string ends with \"ing\": \"programming\"\n",
    "print(\"\\nQuestion 26: Check if string ends with 'ing': 'programming'\")\n",
    "# Your code here\n",
    "s='programming'\n",
    "s.endswith('ing')\n"
   ]
  },
  {
   "cell_type": "code",
   "execution_count": 8,
   "id": "9807d9ff",
   "metadata": {},
   "outputs": [
    {
     "name": "stdout",
     "output_type": "stream",
     "text": [
      "\n",
      "Question 27: Replace first occurrence of 'o' with '0' in 'Hello World'\n"
     ]
    },
    {
     "data": {
      "text/plain": [
       "'Hell0 World'"
      ]
     },
     "execution_count": 8,
     "metadata": {},
     "output_type": "execute_result"
    }
   ],
   "source": [
    "# Question 27: Replace first occurrence of 'o' with '0' in \"Hello World\"\n",
    "print(\"\\nQuestion 27: Replace first occurrence of 'o' with '0' in 'Hello World'\")\n",
    "# Your code here\n",
    "h=\"Hello World\"\n",
    "h.replace('o',\"0\",1)"
   ]
  },
  {
   "cell_type": "code",
   "execution_count": 27,
   "id": "b5395126",
   "metadata": {},
   "outputs": [
    {
     "name": "stdout",
     "output_type": "stream",
     "text": [
      "\n",
      "Question 28: Find the shortest word in 'Python is a programming language'\n",
      "a\n"
     ]
    }
   ],
   "source": [
    "# Question 28: Find the shortest word in \"Python is a programming language\"\n",
    "print(\"\\nQuestion 28: Find the shortest word in 'Python is a programming language'\")\n",
    "# Your code here\n",
    "s=\"Python is a programming language\"\n",
    "word=s.split()\n",
    "shortest=word[0]\n",
    "\n",
    "for i in word:\n",
    "    if len(i)<len(shortest):\n",
    "        shortest=i\n",
    "print(shortest)        \n"
   ]
  },
  {
   "cell_type": "code",
   "execution_count": 28,
   "id": "21c2632f",
   "metadata": {},
   "outputs": [
    {
     "name": "stdout",
     "output_type": "stream",
     "text": [
      "\n",
      "Question 29: Count words that start with 'p' in 'Python programming is powerful'\n",
      "2\n"
     ]
    }
   ],
   "source": [
    "# Question 29: Count words that start with 'p' in \"Python programming is powerful\"\n",
    "print(\"\\nQuestion 29: Count words that start with 'p' in 'Python programming is powerful'\")\n",
    "# Your code here\n",
    "s='Python programming is powerful'\n",
    "word=s.split()\n",
    "cnt=0\n",
    "for i in word:\n",
    "    if i.startswith('p'):\n",
    "        cnt+=1\n",
    "print(cnt)    \n",
    "\n"
   ]
  },
  {
   "cell_type": "code",
   "execution_count": 35,
   "id": "263e2b52",
   "metadata": {},
   "outputs": [
    {
     "name": "stdout",
     "output_type": "stream",
     "text": [
      "\n",
      "Question 30: Reverse words in 'Hello World Python'\n",
      "Python World Hello\n"
     ]
    }
   ],
   "source": [
    "# Question 30: Reverse words in \"Hello World Python\"\n",
    "print(\"\\nQuestion 30: Reverse words in 'Hello World Python'\")\n",
    "# Your code here\n",
    "s=\"Hello World Python\"\n",
    "w=s.split()\n",
    "print(w[-1], w[-2], w[-3])\n",
    "\n"
   ]
  },
  {
   "cell_type": "code",
   "execution_count": 36,
   "id": "c8a9cc34",
   "metadata": {},
   "outputs": [
    {
     "name": "stdout",
     "output_type": "stream",
     "text": [
      "\n",
      "Question 31: Check if string is a valid email format: 'user@example.com'\n",
      "invalid email\n"
     ]
    }
   ],
   "source": [
    "# Question 31: Check if string is a valid email format: \"user@example.com\"\n",
    "print(\"\\nQuestion 31: Check if string is a valid email format: 'user@example.com'\")\n",
    "# Your code here\n",
    "e='user@example.com'\n",
    "a=\"@gmail.com\"\n",
    "if e.__contains__(a):\n",
    "    print(\"valid email\")\n",
    "else:\n",
    "    print(\"invalid email\")    \n"
   ]
  },
  {
   "cell_type": "code",
   "execution_count": null,
   "id": "a2e1e3a0",
   "metadata": {},
   "outputs": [
    {
     "name": "stdout",
     "output_type": "stream",
     "text": [
      "\n",
      "Question 32: Extract domain from 'https://www.example.com/path'\n"
     ]
    },
    {
     "data": {
      "text/plain": [
       "'www.example.com'"
      ]
     },
     "execution_count": 50,
     "metadata": {},
     "output_type": "execute_result"
    }
   ],
   "source": [
    "# Question 32: Extract domain from \"https://www.example.com/path\"\n",
    "print(\"\\nQuestion 32: Extract domain from 'https://www.example.com/path'\")\n",
    "# Your code here\n",
    "# web=\"https://www.example.com/path\"\n",
    "# web[8:23]\n",
    "s=\"https://www.example.com/path\"\n",
    "s.split(\"://\")[1].split(\"/\")[0]\n",
    "\n"
   ]
  },
  {
   "cell_type": "code",
   "execution_count": 56,
   "id": "a1a31463",
   "metadata": {},
   "outputs": [
    {
     "name": "stdout",
     "output_type": "stream",
     "text": [
      "\n",
      "Question 33: Count lines in multi-line string\n"
     ]
    },
    {
     "data": {
      "text/plain": [
       "3"
      ]
     },
     "execution_count": 56,
     "metadata": {},
     "output_type": "execute_result"
    }
   ],
   "source": [
    "# Question 33: Count lines in multi-line string\n",
    "print(\"\\nQuestion 33: Count lines in multi-line string\")\n",
    "# Your code here\n",
    "s='''# Question 33: Count lines in multi-line string\n",
    "print(\"Question 33: Count lines in multi-line string\")\n",
    "# Your code here'''\n",
    "len(s.splitlines())\n",
    "\n",
    "\n",
    "\n"
   ]
  },
  {
   "cell_type": "code",
   "execution_count": 62,
   "id": "1ce3e26b",
   "metadata": {},
   "outputs": [
    {
     "name": "stdout",
     "output_type": "stream",
     "text": [
      "\n",
      "Question 34: Find common characters between 'hello' and 'world'\n"
     ]
    },
    {
     "data": {
      "text/plain": [
       "{'l', 'o'}"
      ]
     },
     "execution_count": 62,
     "metadata": {},
     "output_type": "execute_result"
    }
   ],
   "source": [
    "# Question 34: Find common characters between \"hello\" and \"world\"\n",
    "print(\"\\nQuestion 34: Find common characters between 'hello' and 'world'\")\n",
    "# Your code here\n",
    "a='hello'\n",
    "b='world'\n",
    "x=set(a)\n",
    "y=set(b)\n",
    "x.intersection(y)\n"
   ]
  },
  {
   "cell_type": "code",
   "execution_count": null,
   "id": "175048dd",
   "metadata": {},
   "outputs": [
    {
     "name": "stdout",
     "output_type": "stream",
     "text": [
      "\n",
      "Question 35: Check if string is a valid phone number: '+1-555-123-4567'\n",
      "It is a valid number: +1-555-123-4567\n"
     ]
    }
   ],
   "source": [
    "# Question 35: Check if string is a valid phone number: \"+1-555-123-4567\"\n",
    "print(\"\\nQuestion 35: Check if string is a valid phone number: '+1-555-123-4567'\")\n",
    "#Your code here\n",
    "import re\n",
    "a = '+1-555-123-4567'\n",
    "# Check if it matches the pattern +<1-3 digits>-<3 digits>-<3 digits>-<4 digits>\n",
    "if re.fullmatch(r'\\+\\d{1,3}-\\d{3}-\\d{3}-\\d{4}', a):\n",
    "    print(\"It is a valid number:\", a)\n",
    "else:\n",
    "    print(\"It is not a valid number:\", a)\n",
    "\n",
    "\n"
   ]
  },
  {
   "cell_type": "code",
   "execution_count": 10,
   "id": "0724e40b",
   "metadata": {},
   "outputs": [
    {
     "name": "stdout",
     "output_type": "stream",
     "text": [
      "\n",
      "Question 36: Extract numbers from 'abc123def456ghi789'\n",
      "1 2 3 4 5 6 7 8 9 "
     ]
    }
   ],
   "source": [
    "# Question 36: Extract numbers from \"abc123def456ghi789\"\n",
    "print(\"\\nQuestion 36: Extract numbers from 'abc123def456ghi789'\")\n",
    "# Your code here\n",
    "s=\"abc123def456ghi789\"\n",
    "for i in s:\n",
    "    if i.isdigit():\n",
    "        print(i,end=\" \")\n"
   ]
  },
  {
   "cell_type": "code",
   "execution_count": 17,
   "id": "27429a0c",
   "metadata": {},
   "outputs": [
    {
     "name": "stdout",
     "output_type": "stream",
     "text": [
      "\n",
      "Question 37: Convert 'snake_case' to 'camelCase'\n"
     ]
    },
    {
     "data": {
      "text/plain": [
       "'snakeCase'"
      ]
     },
     "execution_count": 17,
     "metadata": {},
     "output_type": "execute_result"
    }
   ],
   "source": [
    "# Question 37: Convert \"snake_case\" to \"camelCase\"\n",
    "print(\"\\nQuestion 37: Convert 'snake_case' to 'camelCase'\")\n",
    "# Your code here\n",
    "s='snake_case'\n",
    "d=s.split(\"_\")\n",
    "z=d[1].capitalize()\n",
    "x=(d[0]+z)\n",
    "x\n"
   ]
  },
  {
   "cell_type": "code",
   "execution_count": 43,
   "id": "5c85a986",
   "metadata": {},
   "outputs": [
    {
     "name": "stdout",
     "output_type": "stream",
     "text": [
      "\n",
      "Question 38: Check if string is a valid palindrome ignoring case: 'A man a plan a canal Panama'\n",
      "valid palindrome \n"
     ]
    }
   ],
   "source": [
    "# Question 38: Check if string is a valid palindrome ignoring case: \"A man a plan a canal Panama\"\n",
    "print(\"\\nQuestion 38: Check if string is a valid palindrome ignoring case: 'A man a plan a canal Panama'\")\n",
    "# Your code here\n",
    "s=\"A man a plan a canal Panama\"\n",
    "d=s.lower().replace(\" \",\"\")\n",
    "if d[::-1]==d:\n",
    "    print(\"valid palindrome \")\n",
    "else:\n",
    "    print(\"is not a palindrome\")    \n"
   ]
  },
  {
   "cell_type": "code",
   "execution_count": 5,
   "id": "b546fde8",
   "metadata": {},
   "outputs": [
    {
     "name": "stdout",
     "output_type": "stream",
     "text": [
      "\n",
      "Question 39: Find the most common word in 'the quick brown fox jumps over the lazy dog'\n",
      "the\n"
     ]
    }
   ],
   "source": [
    "# Question 39: Find the most common word in \"the quick brown fox jumps over the lazy dog\"\n",
    "print(\"\\nQuestion 39: Find the most common word in 'the quick brown fox jumps over the lazy dog'\")\n",
    "# Your code here\n",
    "x=\"the quick brown fox jumps over the lazy dog\"\n",
    "r=x.split()\n",
    "d={}\n",
    "cnt=0\n",
    "for i in r:\n",
    "    d[i]=d.get(i,0)+1\n",
    "common=max(d,key=d.get)\n",
    "print(common)    \n",
    "\n",
    "    \n",
    "\n",
    "\n"
   ]
  },
  {
   "cell_type": "code",
   "execution_count": 53,
   "id": "cc0cca4f",
   "metadata": {},
   "outputs": [
    {
     "name": "stdout",
     "output_type": "stream",
     "text": [
      "\n",
      "Question 40: Generate acronym from 'National Aeronautics and Space Administration'\n",
      "NAASA\n"
     ]
    }
   ],
   "source": [
    "# Question 40: Generate acronym from \"National Aeronautics and Space Administration\"\n",
    "print(\"\\nQuestion 40: Generate acronym from 'National Aeronautics and Space Administration'\")\n",
    "# Your code here\n",
    "a=\"National Aeronautics and Space Administration\"\n",
    "d=a.split()\n",
    "acr=\"\"\n",
    "for i in d:\n",
    "    acr+=i[0].upper()\n",
    "print(acr)    \n"
   ]
  },
  {
   "cell_type": "code",
   "execution_count": null,
   "id": "553e5878",
   "metadata": {},
   "outputs": [],
   "source": []
  }
 ],
 "metadata": {
  "kernelspec": {
   "display_name": "Python 3",
   "language": "python",
   "name": "python3"
  },
  "language_info": {
   "codemirror_mode": {
    "name": "ipython",
    "version": 3
   },
   "file_extension": ".py",
   "mimetype": "text/x-python",
   "name": "python",
   "nbconvert_exporter": "python",
   "pygments_lexer": "ipython3",
   "version": "3.13.5"
  }
 },
 "nbformat": 4,
 "nbformat_minor": 5
}
