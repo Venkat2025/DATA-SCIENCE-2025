{
 "cells": [
  {
   "cell_type": "code",
   "execution_count": 46,
   "id": "63672ab0",
   "metadata": {},
   "outputs": [],
   "source": [
    "####################  LIST ASSIGNMENT  ####################### "
   ]
  },
  {
   "cell_type": "code",
   "execution_count": 47,
   "id": "2c0adbc1",
   "metadata": {},
   "outputs": [
    {
     "name": "stdout",
     "output_type": "stream",
     "text": [
      "SOLVED EXAMPLE:\n",
      "Find the maximum and minimum values in a list\n",
      "List: [23, 45, 12, 67, 34, 89, 56]\n",
      "Maximum: 89\n",
      "Minimum: 12\n",
      "--------------------------------------------------\n"
     ]
    }
   ],
   "source": [
    "print(\"SOLVED EXAMPLE:\")\n",
    "print(\"Find the maximum and minimum values in a list\")\n",
    "numbers = [23, 45, 12, 67, 34, 89, 56]\n",
    "max_val = max(numbers)\n",
    "min_val = min(numbers)\n",
    "print(f\"List: {numbers}\")\n",
    "print(f\"Maximum: {max_val}\")\n",
    "print(f\"Minimum: {min_val}\")\n",
    "print(\"-\" * 50)"
   ]
  },
  {
   "cell_type": "code",
   "execution_count": 48,
   "id": "e04b8718",
   "metadata": {},
   "outputs": [
    {
     "name": "stdout",
     "output_type": "stream",
     "text": [
      "Question 1: Create a list of first 10 square numbers\n",
      "[1, 4, 9, 16, 25, 36, 49, 64, 81, 100]\n"
     ]
    }
   ],
   "source": [
    "# Question 1: Create a list of first 10 square numbers\n",
    "print(\"Question 1: Create a list of first 10 square numbers\")\n",
    "# Your code here\n",
    "l=[]\n",
    "for i in range(1,11):\n",
    "    x=i**2\n",
    "    l.append(x)\n",
    "print(l)    \n"
   ]
  },
  {
   "cell_type": "code",
   "execution_count": 49,
   "id": "036d5baf",
   "metadata": {},
   "outputs": [
    {
     "name": "stdout",
     "output_type": "stream",
     "text": [
      "\n",
      "Question 2: Find the sum of all even numbers in [1, 2, 3, 4, 5, 6, 7, 8, 9, 10]\n",
      "30\n"
     ]
    }
   ],
   "source": [
    "# Question 2: Find the sum of all even numbers in [1, 2, 3, 4, 5, 6, 7, 8, 9, 10]\n",
    "print(\"\\nQuestion 2: Find the sum of all even numbers in [1, 2, 3, 4, 5, 6, 7, 8, 9, 10]\")\n",
    "# Your code here\n",
    "l=[1, 2, 3, 4, 5, 6, 7, 8, 9, 10]\n",
    "even_sum=0\n",
    "for i in l:\n",
    "    if i%2==0:\n",
    "        even_sum+=i\n",
    "print(even_sum)    "
   ]
  },
  {
   "cell_type": "code",
   "execution_count": 50,
   "id": "4d810b1d",
   "metadata": {},
   "outputs": [
    {
     "name": "stdout",
     "output_type": "stream",
     "text": [
      "\n",
      "Question 3: Remove duplicates from [1, 2, 2, 3, 4, 4, 5, 6, 6, 7]\n"
     ]
    },
    {
     "data": {
      "text/plain": [
       "[1, 2, 3, 4, 5, 6, 7]"
      ]
     },
     "execution_count": 50,
     "metadata": {},
     "output_type": "execute_result"
    }
   ],
   "source": [
    "# Question 3: Remove duplicates from [1, 2, 2, 3, 4, 4, 5, 6, 6, 7]\n",
    "print(\"\\nQuestion 3: Remove duplicates from [1, 2, 2, 3, 4, 4, 5, 6, 6, 7]\")\n",
    "# Your code here\n",
    "l=[1, 2, 2, 3, 4, 4, 5, 6, 6, 7]\n",
    "s=set(l)\n",
    "x=list(s)\n",
    "x\n",
    "# ----------------- or -----------------\n",
    "# s=[]       \n",
    "# for i in l:\n",
    "#     if i not in s:\n",
    "#         s.append(i)     \n",
    "# print(s)"
   ]
  },
  {
   "cell_type": "code",
   "execution_count": 51,
   "id": "06ee6f09",
   "metadata": {},
   "outputs": [
    {
     "name": "stdout",
     "output_type": "stream",
     "text": [
      "\n",
      "Question 4: Sort the list [64, 34, 25, 12, 22, 11, 90] in descending order\n"
     ]
    },
    {
     "data": {
      "text/plain": [
       "[90, 64, 34, 25, 22, 12, 11]"
      ]
     },
     "execution_count": 51,
     "metadata": {},
     "output_type": "execute_result"
    }
   ],
   "source": [
    "# Question 4: Sort the list [64, 34, 25, 12, 22, 11, 90] in descending order\n",
    "print(\"\\nQuestion 4: Sort the list [64, 34, 25, 12, 22, 11, 90] in descending order\")\n",
    "# Your code here\n",
    "x=[64, 34, 25, 12, 22, 11, 90]\n",
    "x.sort(reverse=True)\n",
    "x\n"
   ]
  },
  {
   "cell_type": "code",
   "execution_count": 52,
   "id": "9c0c433f",
   "metadata": {},
   "outputs": [
    {
     "name": "stdout",
     "output_type": "stream",
     "text": [
      "\n",
      "Question 5: Find the average of numbers in [15, 23, 31, 42, 56, 78, 91]\n"
     ]
    },
    {
     "data": {
      "text/plain": [
       "48.0"
      ]
     },
     "execution_count": 52,
     "metadata": {},
     "output_type": "execute_result"
    }
   ],
   "source": [
    "# Question 5: Find the average of numbers in [15, 23, 31, 42, 56, 78, 91]\n",
    "print(\"\\nQuestion 5: Find the average of numbers in [15, 23, 31, 42, 56, 78, 91]\")\n",
    "# Your code here\n",
    "s=[15, 23, 31, 42, 56, 78, 91]\n",
    "t=sum(s)/len(s)\n",
    "t"
   ]
  },
  {
   "cell_type": "code",
   "execution_count": 54,
   "id": "c8e075ad",
   "metadata": {},
   "outputs": [
    {
     "name": "stdout",
     "output_type": "stream",
     "text": [
      "\n",
      "Question 6: Create a list of first 15 Fibonacci numbers\n",
      "[0, 1, 1, 2, 3, 5, 8, 13, 21, 34, 55, 89, 144, 233, 377, 610]\n"
     ]
    }
   ],
   "source": [
    "# Question 6: Create a list of first 15 Fibonacci numbers\n",
    "print(\"\\nQuestion 6: Create a list of first 15 Fibonacci numbers\")\n",
    "# Your code here\n",
    "l=15\n",
    "fib=[]\n",
    "for i in range(0,l+1):\n",
    "    if i==0:\n",
    "        fib.append(i)\n",
    "    elif i==1:\n",
    "        fib.append(i)\n",
    "    else:\n",
    "        d=fib[i-1]+fib[i-2]\n",
    "        fib.append(d)  \n",
    "print(fib)              \n",
    "        \n",
    "\n",
    " \n",
    "    "
   ]
  },
  {
   "cell_type": "code",
   "execution_count": 58,
   "id": "24c931e6",
   "metadata": {},
   "outputs": [
    {
     "name": "stdout",
     "output_type": "stream",
     "text": [
      "\n",
      "Question 7: Find the second largest number in [45, 67, 23, 89, 12, 34, 78]\n",
      "78\n"
     ]
    }
   ],
   "source": [
    "# Question 7: Find the second largest number in [45, 67, 23, 89, 12, 34, 78]\n",
    "print(\"\\nQuestion 7: Find the second largest number in [45, 67, 23, 89, 12, 34, 78]\")\n",
    "# Your code here\n",
    "# l=[45, 67, 23, 89, 12, 34, 78]\n",
    "# l.sort(reverse=True)\n",
    "# print(l[1])\n",
    "# -------------------or---------------------\n",
    "\n",
    "l=[45, 67, 23, 89, 12, 34, 78]\n",
    "d=max(l)\n",
    "res=[]\n",
    "for i in l:\n",
    "    if i<d:\n",
    "        res.append(i)\n",
    "print(max(res))        \n",
    "\n",
    "\n"
   ]
  },
  {
   "cell_type": "code",
   "execution_count": 59,
   "id": "14d762bf",
   "metadata": {},
   "outputs": [
    {
     "name": "stdout",
     "output_type": "stream",
     "text": [
      "\n",
      "Question 8: Reverse the list [1, 2, 3, 4, 5, 6, 7, 8, 9, 10]\n"
     ]
    },
    {
     "data": {
      "text/plain": [
       "[10, 9, 8, 7, 6, 5, 4, 3, 2, 1]"
      ]
     },
     "execution_count": 59,
     "metadata": {},
     "output_type": "execute_result"
    }
   ],
   "source": [
    "# Question 8: Reverse the list [1, 2, 3, 4, 5, 6, 7, 8, 9, 10]\n",
    "print(\"\\nQuestion 8: Reverse the list [1, 2, 3, 4, 5, 6, 7, 8, 9, 10]\")\n",
    "# Your code here\n",
    "x=[1, 2, 3, 4, 5, 6, 7, 8, 9, 10]\n",
    "x.reverse()\n",
    "x"
   ]
  },
  {
   "cell_type": "code",
   "execution_count": 61,
   "id": "c2ed006c",
   "metadata": {},
   "outputs": [
    {
     "name": "stdout",
     "output_type": "stream",
     "text": [
      "\n",
      "Question 9: Count how many times 5 appears in [1, 5, 2, 5, 3, 5, 4, 5, 6]\n"
     ]
    },
    {
     "data": {
      "text/plain": [
       "4"
      ]
     },
     "execution_count": 61,
     "metadata": {},
     "output_type": "execute_result"
    }
   ],
   "source": [
    "# Question 9: Count how many times 5 appears in [1, 5, 2, 5, 3, 5, 4, 5, 6]\n",
    "print(\"\\nQuestion 9: Count how many times 5 appears in [1, 5, 2, 5, 3, 5, 4, 5, 6]\")\n",
    "# Your code here\n",
    "c=[1, 5, 2, 5, 3, 5, 4, 5, 6]\n",
    "c.count(5)\n"
   ]
  },
  {
   "cell_type": "code",
   "execution_count": 77,
   "id": "91f51165",
   "metadata": {},
   "outputs": [
    {
     "name": "stdout",
     "output_type": "stream",
     "text": [
      "\n",
      "Question 10: Create a list of prime numbers between 1 and 50\n",
      "[2, 3, 5, 7, 11, 13, 17, 19, 23, 29, 31, 37, 41, 43, 47]\n"
     ]
    }
   ],
   "source": [
    "# Question 10: Create a list of prime numbers between 1 and 50\n",
    "print(\"\\nQuestion 10: Create a list of prime numbers between 1 and 50\")\n",
    "# Your code here\n",
    "l=[]\n",
    "n=50\n",
    "for i in range(2,n+1):\n",
    "    for j in range(2,i):\n",
    "        if i%j==0:\n",
    "            break\n",
    "    else:\n",
    "            l.append(i)\n",
    "print(l)        \n"
   ]
  },
  {
   "cell_type": "code",
   "execution_count": 82,
   "id": "e4c917be",
   "metadata": {},
   "outputs": [
    {
     "name": "stdout",
     "output_type": "stream",
     "text": [
      "\n",
      "Question 11: Flatten nested list [[1, 2, 3], [4, 5, 6], [7, 8, 9]]\n",
      "[1, 2, 3, 4, 5, 6, 7, 8, 9]\n"
     ]
    }
   ],
   "source": [
    "# Question 11: Flatten nested list [[1, 2, 3], [4, 5, 6], [7, 8, 9]]\n",
    "print(\"\\nQuestion 11: Flatten nested list [[1, 2, 3], [4, 5, 6], [7, 8, 9]]\")\n",
    "# Your code here \n",
    "lst=[[1, 2, 3], [4, 5, 6], [7, 8, 9]] \n",
    "s=[]\n",
    "for i in lst:\n",
    "    s.extend(i)\n",
    "print(s)\n",
    "\n",
    "\n"
   ]
  },
  {
   "cell_type": "code",
   "execution_count": 86,
   "id": "cbbcbb63",
   "metadata": {},
   "outputs": [
    {
     "name": "stdout",
     "output_type": "stream",
     "text": [
      "\n",
      "Question 12: Find common elements between [1, 2, 3, 4, 5] and [4, 5, 6, 7, 8]\n"
     ]
    },
    {
     "data": {
      "text/plain": [
       "[1, 2, 3, 4, 5]"
      ]
     },
     "execution_count": 86,
     "metadata": {},
     "output_type": "execute_result"
    }
   ],
   "source": [
    "# Question 12: Find common elements between [1, 2, 3, 4, 5] and [4, 5, 6, 7, 8]\n",
    "print(\"\\nQuestion 12: Find common elements between [1, 2, 3, 4, 5] and [4, 5, 6, 7, 8]\")\n",
    "# Your code here\n",
    "x=[1, 2, 3, 4, 5]\n",
    "y=[4, 5, 6, 7, 8]\n",
    "z=[]\n",
    "d=set(x)\n",
    "a=set(y)\n",
    "d.intersection(a)\n",
    "z=list(d)\n",
    "z"
   ]
  },
  {
   "cell_type": "code",
   "execution_count": null,
   "id": "5f472d5d",
   "metadata": {},
   "outputs": [
    {
     "name": "stdout",
     "output_type": "stream",
     "text": [
      "\n",
      "Question 13: Create a list of lists: [[1, 2], [3, 4], [5, 6]]\n",
      "[[1, 2], [3, 4], [5, 6]]\n"
     ]
    }
   ],
   "source": [
    "# Question 13: Create a list of lists: [[1, 2], [3, 4], [5, 6]]\n",
    "print(\"\\nQuestion 13: Create a list of lists: [[1, 2], [3, 4], [5, 6]]\")\n",
    "# Your code here\n",
    "\n",
    "l= [[1, 2], [3, 4], [5, 6]]\n",
    "print(l)\n"
   ]
  },
  {
   "cell_type": "code",
   "execution_count": 89,
   "id": "0ad66f57",
   "metadata": {},
   "outputs": [
    {
     "name": "stdout",
     "output_type": "stream",
     "text": [
      "\n",
      "Question 14: Find the sum of each sublist in [[1, 2, 3], [4, 5, 6], [7, 8, 9]]\n",
      "[6, 15, 24]\n"
     ]
    }
   ],
   "source": [
    "# Question 14: Find the sum of each sublist in [[1, 2, 3], [4, 5, 6], [7, 8, 9]]\n",
    "print(\"\\nQuestion 14: Find the sum of each sublist in [[1, 2, 3], [4, 5, 6], [7, 8, 9]]\")\n",
    "# Your code here\n",
    "l=[[1, 2, 3], [4, 5, 6], [7, 8, 9]]\n",
    "d=[]\n",
    "for i in l:\n",
    "    x=sum(i)\n",
    "    d.append(x)\n",
    "print(d)    "
   ]
  },
  {
   "cell_type": "code",
   "execution_count": null,
   "id": "66e3eae1",
   "metadata": {},
   "outputs": [
    {
     "name": "stdout",
     "output_type": "stream",
     "text": [
      "\n",
      "Question 15: Transpose the matrix [[1, 2, 3], [4, 5, 6], [7, 8, 9]]\n",
      "[7, 8, 9] [7, 8, 9]\n"
     ]
    }
   ],
   "source": [
    "# Question 15: Transpose the matrix [[1, 2, 3], [4, 5, 6], [7, 8, 9]]\n",
    "print(\"\\nQuestion 15: Transpose the matrix [[1, 2, 3], [4, 5, 6], [7, 8, 9]]\")\n",
    "# Your code here\n",
    "l=[[1, 2, 3], [4, 5, 6], [7, 8, 9]]\n"
   ]
  },
  {
   "cell_type": "code",
   "execution_count": 92,
   "id": "bb7e1122",
   "metadata": {},
   "outputs": [
    {
     "name": "stdout",
     "output_type": "stream",
     "text": [
      "\n",
      "Question 16: Find the maximum value in each sublist of [[1, 5, 3], [9, 2, 7], [4, 8, 6]]\n",
      "[5, 9, 8]\n"
     ]
    }
   ],
   "source": [
    "# Question 16: Find the maximum value in each sublist of [[1, 5, 3], [9, 2, 7], [4, 8, 6]]\n",
    "print(\"\\nQuestion 16: Find the maximum value in each sublist of [[1, 5, 3], [9, 2, 7], [4, 8, 6]]\")\n",
    "# Your code here\n",
    "x=[[1, 5, 3], [9, 2, 7], [4, 8, 6]]\n",
    "res=[]\n",
    "for i in x:\n",
    "    z=max(i)\n",
    "    res.append(z)\n",
    "print(res)    \n",
    "\n"
   ]
  },
  {
   "cell_type": "code",
   "execution_count": null,
   "id": "4a464b78",
   "metadata": {},
   "outputs": [],
   "source": [
    "# Question 17: Create a 3D list: [[[1, 2], [3, 4]], [[5, 6], [7, 8]]]\n",
    "print(\"\\nQuestion 17: Create a 3D list: [[[1, 2], [3, 4]], [[5, 6], [7, 8]]]\")\n",
    "# Your code here\n"
   ]
  },
  {
   "cell_type": "code",
   "execution_count": 104,
   "id": "f4578a21",
   "metadata": {},
   "outputs": [
    {
     "name": "stdout",
     "output_type": "stream",
     "text": [
      "\n",
      "Question 19: Extract all even numbers from nested list [[1, 2, 3], [4, 5, 6], [7, 8, 9]]\n",
      "[2, 4, 6, 8]\n"
     ]
    }
   ],
   "source": [
    "# Question 19: Extract all even numbers from nested list [[1, 2, 3], [4, 5, 6], [7, 8, 9]]\n",
    "print(\"\\nQuestion 19: Extract all even numbers from nested list [[1, 2, 3], [4, 5, 6], [7, 8, 9]]\")\n",
    "# Your code here\n",
    "lst=[[1, 2, 3], [4, 5, 6], [7, 8, 9]]\n",
    "s=[]\n",
    "for i in lst:\n",
    "    s.extend(i)\n",
    "a=[]\n",
    "for j in s:\n",
    "    if j%2==0:\n",
    "        a.append(j)\n",
    "print(a)\n",
    "\n"
   ]
  },
  {
   "cell_type": "code",
   "execution_count": 107,
   "id": "1fee043d",
   "metadata": {},
   "outputs": [
    {
     "name": "stdout",
     "output_type": "stream",
     "text": [
      "\n",
      "Question 20: Create a list of mixed data types: [1, 'hello', 3.14, True, [1, 2, 3]]\n",
      "[1, 'hello', 3.14, True, [1, 2, 3]]\n"
     ]
    }
   ],
   "source": [
    "# Question 20: Create a list of mixed data types: [1, \"hello\", 3.14, True, [1, 2, 3]]\n",
    "print(\"\\nQuestion 20: Create a list of mixed data types: [1, 'hello', 3.14, True, [1, 2, 3]]\")\n",
    "# Your code here\n",
    "x=[1, \"hello\", 3.14, True, [1, 2, 3]]\n",
    "print(x)"
   ]
  },
  {
   "cell_type": "code",
   "execution_count": 123,
   "id": "34b8728d",
   "metadata": {},
   "outputs": [
    {
     "name": "stdout",
     "output_type": "stream",
     "text": [
      "\n",
      "Question 21: Find the length of each string in ['apple', 'banana', 'cherry', 'date']\n",
      "5 6 6 4 "
     ]
    }
   ],
   "source": [
    "# Question 21: Find the length of each string in [\"apple\", \"banana\", \"cherry\", \"date\"]\n",
    "print(\"\\nQuestion 21: Find the length of each string in ['apple', 'banana', 'cherry', 'date']\")\n",
    "# Your code here\n",
    "x=[\"apple\", \"banana\", \"cherry\", \"date\"]\n",
    "# print(len(x[0]),len(x[1]),len(x[2]),len(x[3]))\n",
    "for i in x:\n",
    "    print(len(i),end=\" \")\n",
    "    \n",
    " "
   ]
  },
  {
   "cell_type": "code",
   "execution_count": null,
   "id": "695eb2af",
   "metadata": {},
   "outputs": [
    {
     "name": "stdout",
     "output_type": "stream",
     "text": [
      "\n",
      "Question 22: Create a list of tuples: [(1, 'a'), (2, 'b'), (3, 'c')]\n"
     ]
    },
    {
     "data": {
      "text/plain": [
       "[(1, 'a'), (2, 'b'), (3, 'c')]"
      ]
     },
     "execution_count": 131,
     "metadata": {},
     "output_type": "execute_result"
    }
   ],
   "source": [
    "# Question 22: Create a list of tuples: [(1, 'a'), (2, 'b'), (3, 'c')]\n",
    "print(\"\\nQuestion 22: Create a list of tuples: [(1, 'a'), (2, 'b'), (3, 'c')]\")\n",
    "# Your code here\n",
    "a=[(1, 'a'), (2, 'b'), (3, 'c')]\n",
    "a"
   ]
  },
  {
   "cell_type": "code",
   "execution_count": 138,
   "id": "1d3dd0a6",
   "metadata": {},
   "outputs": [
    {
     "name": "stdout",
     "output_type": "stream",
     "text": [
      "\n",
      "Question 23: Extract first element from each tuple in [(1, 'a'), (2, 'b'), (3, 'c')]\n",
      "1 2 3 "
     ]
    }
   ],
   "source": [
    "# Question 23: Extract first element from each tuple in [(1, 'a'), (2, 'b'), (3, 'c')]\n",
    "print(\"\\nQuestion 23: Extract first element from each tuple in [(1, 'a'), (2, 'b'), (3, 'c')]\")\n",
    "# Your code here\n",
    "st=[(1, 'a'), (2, 'b'), (3, 'c')]\n",
    "x=tuple(st)\n",
    "for i in x:\n",
    "    print(i[0],end=\" \")"
   ]
  },
  {
   "cell_type": "code",
   "execution_count": 139,
   "id": "1d3b8b99",
   "metadata": {},
   "outputs": [
    {
     "name": "stdout",
     "output_type": "stream",
     "text": [
      "\n",
      "Question 24: Create a list of dictionaries: [{'name': 'Alice', 'age': 25}, {'name': 'Bob', 'age': 30}]\n",
      "[{'name': 'Alice', 'age': 25}, {'name': 'Bob', 'age': 30}]\n"
     ]
    }
   ],
   "source": [
    "# Question 24: Create a list of dictionaries: [{'name': 'Alice', 'age': 25}, {'name': 'Bob', 'age': 30}]\n",
    "print(\"\\nQuestion 24: Create a list of dictionaries: [{'name': 'Alice', 'age': 25}, {'name': 'Bob', 'age': 30}]\")\n",
    "# Your code here\n",
    "d=[{'name': 'Alice', 'age': 25}, {'name': 'Bob', 'age': 30}]\n",
    "print(d)"
   ]
  },
  {
   "cell_type": "code",
   "execution_count": 172,
   "id": "04a1d805",
   "metadata": {},
   "outputs": [
    {
     "name": "stdout",
     "output_type": "stream",
     "text": [
      "\n",
      "Question 25: Extract all 'name' values from list of dictionaries\n",
      "['Alice', 'Bob']\n"
     ]
    }
   ],
   "source": [
    "# Question 25: Extract all 'name' values from list of dictionaries\n",
    "print(\"\\nQuestion 25: Extract all 'name' values from list of dictionaries\")\n",
    "# Your code here\n",
    "d=[{'name': 'Alice', 'age': 25}, {'name': 'Bob', 'age': 30}]\n",
    "t=[]\n",
    "for i in d:\n",
    "    x=i['name']\n",
    "    t.append(x)\n",
    "print(t)    \n",
    "   \n",
    "\n",
    "\n"
   ]
  },
  {
   "cell_type": "code",
   "execution_count": null,
   "metadata": {},
   "outputs": [],
   "source": []
  },
  {
   "cell_type": "code",
   "execution_count": null,
   "id": "62944790",
   "metadata": {},
   "outputs": [],
   "source": []
  }
 ],
 "metadata": {
  "kernelspec": {
   "display_name": "Python 3",
   "language": "python",
   "name": "python3"
  },
  "language_info": {
   "codemirror_mode": {
    "name": "ipython",
    "version": 3
   },
   "file_extension": ".py",
   "mimetype": "text/x-python",
   "name": "python",
   "nbconvert_exporter": "python",
   "pygments_lexer": "ipython3",
   "version": "3.13.5"
  }
 },
 "nbformat": 4,
 "nbformat_minor": 5
}
