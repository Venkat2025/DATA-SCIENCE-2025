{
 "cells": [
  {
   "cell_type": "code",
   "execution_count": null,
   "id": "61c1c24d",
   "metadata": {},
   "outputs": [],
   "source": [
    "##########INTEGER ASSIGNMENT##########"
   ]
  },
  {
   "cell_type": "code",
   "execution_count": 1,
   "id": "5dd2d6f5",
   "metadata": {},
   "outputs": [
    {
     "name": "stdout",
     "output_type": "stream",
     "text": [
      "SOLVED EXAMPLE:\n",
      "Calculate the sum of first 5 even numbers\n",
      "First 5 even numbers: [2, 4, 6, 8, 10]\n",
      "Sum: 30\n",
      "--------------------------------------------------\n"
     ]
    }
   ],
   "source": [
    "# Question: Calculate the sum of first 5 even numbers\n",
    "print(\"SOLVED EXAMPLE:\")\n",
    "print(\"Calculate the sum of first 5 even numbers\")\n",
    "first_5_even = [2, 4, 6, 8, 10]\n",
    "sum_even = sum(first_5_even)\n",
    "print(f\"First 5 even numbers: {first_5_even}\")\n",
    "print(f\"Sum: {sum_even}\")\n",
    "print(\"-\" * 50)"
   ]
  },
  {
   "cell_type": "code",
   "execution_count": 19,
   "id": "89cfb401",
   "metadata": {},
   "outputs": [
    {
     "name": "stdout",
     "output_type": "stream",
     "text": [
      "Question 1: Calculate the product of first 10 natural numbers\n",
      "product of first 10 natural numbers 3628800\n"
     ]
    }
   ],
   "source": [
    "\n",
    "# Question 1: Calculate the product of first 10 natural numbers\n",
    "print(\"Question 1: Calculate the product of first 10 natural numbers\")\n",
    "# Your code here\n",
    "import math\n",
    "num=10\n",
    "print(\"product of first 10 natural numbers\",math.factorial(10))"
   ]
  },
  {
   "cell_type": "code",
   "execution_count": 4,
   "id": "ba1ae9c4",
   "metadata": {},
   "outputs": [
    {
     "name": "stdout",
     "output_type": "stream",
     "text": [
      "\n",
      "Question 2: Find the remainder when 156 is divided by 7\n",
      "22.285714285714285\n"
     ]
    }
   ],
   "source": [
    "# Question 2: Find the remainder when 156 is divided by 7\n",
    "print(\"\\nQuestion 2: Find the remainder when 156 is divided by 7\")\n",
    "# Your code here\n",
    "x=156\n",
    "y=7\n",
    "print(x/y)"
   ]
  },
  {
   "cell_type": "code",
   "execution_count": 5,
   "id": "64381318",
   "metadata": {},
   "outputs": [
    {
     "name": "stdout",
     "output_type": "stream",
     "text": [
      "\n",
      "Question 3: Calculate the square of 25\n",
      "25\n"
     ]
    }
   ],
   "source": [
    "# Question 3: Calculate the square of 25\n",
    "print(\"\\nQuestion 3: Calculate the square of 25\")\n",
    "# Your code here\n",
    "x=5\n",
    "print(x**2)\n"
   ]
  },
  {
   "cell_type": "code",
   "execution_count": null,
   "id": "8cbb60c3",
   "metadata": {},
   "outputs": [
    {
     "name": "stdout",
     "output_type": "stream",
     "text": [
      "\n",
      "Question 4: Find the cube root of 125\n",
      "cube root: 5\n"
     ]
    }
   ],
   "source": [
    "# Question 4: Find the cube root of 125\n",
    "print(\"\\nQuestion 4: Find the cube root of 125\")\n",
    "# Your code here\n",
    "import math\n",
    "n=125\n",
    "cr=math.pow(n,1/3)    # cr=n**(1/3)\n",
    "print(\"cube root:\",round(cr))\n",
    "\n"
   ]
  },
  {
   "cell_type": "code",
   "execution_count": 105,
   "id": "9f13b775",
   "metadata": {},
   "outputs": [
    {
     "name": "stdout",
     "output_type": "stream",
     "text": [
      "\n",
      "Question 5: Calculate the sum of digits in number 12345\n"
     ]
    },
    {
     "data": {
      "text/plain": [
       "15"
      ]
     },
     "execution_count": 105,
     "metadata": {},
     "output_type": "execute_result"
    }
   ],
   "source": [
    "# Question 5: Calculate the sum of digits in number 12345\n",
    "print(\"\\nQuestion 5: Calculate the sum of digits in number 12345\")\n",
    "# Your code here\n",
    "n=[1,2,3,4,5]\n",
    "s=sum(n)\n",
    "s\n",
    "\n"
   ]
  },
  {
   "cell_type": "code",
   "execution_count": null,
   "id": "3f62d319",
   "metadata": {},
   "outputs": [
    {
     "name": "stdout",
     "output_type": "stream",
     "text": [
      "\n",
      "Question 6: Check if 97 is a prime number\n",
      "5  prime number\n"
     ]
    }
   ],
   "source": [
    "# Question 6: Check if 97 is a prime number\n",
    "print(\"\\nQuestion 6: Check if 97 is a prime number\")\n",
    "# Your code here\n",
    "n=int(input(\"enter the number:\"))\n",
    "if n<2:\n",
    "    print(n,\"is not prime number\")\n",
    "else:\n",
    "    for i in range(2,n):\n",
    "        if n%i==0:\n",
    "            print(n,\"is not prime number\")\n",
    "            break\n",
    "    else:\n",
    "        print(n,\"is prime number\")\n",
    "     "
   ]
  },
  {
   "cell_type": "code",
   "execution_count": null,
   "id": "fb40f2f6",
   "metadata": {},
   "outputs": [
    {
     "name": "stdout",
     "output_type": "stream",
     "text": [
      "\n",
      "Question 7: Find the factorial of 8\n",
      "factorial of 8: 40320\n"
     ]
    }
   ],
   "source": [
    "# Question 7: Find the factorial of 8\n",
    "print(\"\\nQuestion 7: Find the factorial of 8\")\n",
    "# Your code here\n",
    "import math\n",
    "n=int(input(\"enter the number\"))\n",
    "print(\"factorial of 8:\",math.factorial(n))\n",
    "\n",
    "\n",
    "# -----------------or----------------\n",
    "# n=8\n",
    "# fact=1\n",
    "# for i in range(1,n+1):\n",
    "#     fact=fact*i\n",
    "# print(fact)    \n"
   ]
  },
  {
   "cell_type": "code",
   "execution_count": 22,
   "id": "5797c8c2",
   "metadata": {},
   "outputs": [
    {
     "name": "stdout",
     "output_type": "stream",
     "text": [
      "\n",
      "Question 8: Calculate the average of numbers: 15, 23, 31, 42, 56\n"
     ]
    },
    {
     "data": {
      "text/plain": [
       "33.4"
      ]
     },
     "execution_count": 22,
     "metadata": {},
     "output_type": "execute_result"
    }
   ],
   "source": [
    "# Question 8: Calculate the average of numbers: 15, 23, 31, 42, 56\n",
    "print(\"\\nQuestion 8: Calculate the average of numbers: 15, 23, 31, 42, 56\")\n",
    "# Your code here\n",
    "n=[15,23,31,42,56]\n",
    "average=sum(n)/len(n)\n",
    "average\n"
   ]
  },
  {
   "cell_type": "code",
   "execution_count": null,
   "id": "eeb46c5e",
   "metadata": {},
   "outputs": [
    {
     "name": "stdout",
     "output_type": "stream",
     "text": [
      "\n",
      "Question 9: Find the greatest common divisor (GCD) of 48 and 36\n",
      "12\n",
      "144\n"
     ]
    }
   ],
   "source": [
    "# Question 9: Find the greatest common divisor (GCD) of 48 and 36\n",
    "print(\"\\nQuestion 9: Find the greatest common divisor (GCD) of 48 and 36\")\n",
    "# Your code here\n",
    "import math\n",
    "gcd=math.gcd(48,36)\n",
    "lcm=math.lcm(48,36)  #lcm=(a*b)//gcd(a,b)\n",
    "print(gcd)  \n",
    "print(lcm)    "
   ]
  },
  {
   "cell_type": "code",
   "execution_count": 66,
   "id": "a4d90465",
   "metadata": {},
   "outputs": [
    {
     "name": "stdout",
     "output_type": "stream",
     "text": [
      "\n",
      "Question 10: Calculate the sum of first 20 odd numbers\n",
      "sum of first 20 odd numbers is  400\n"
     ]
    }
   ],
   "source": [
    "# Question 10: Calculate the sum of first 20 odd numbers\n",
    "print(\"\\nQuestion 10: Calculate the sum of first 20 odd numbers\")\n",
    "# Your code here \n",
    "n=int(input())\n",
    "print(\"sum of first 20 odd numbers is \",n*n)"
   ]
  },
  {
   "cell_type": "code",
   "execution_count": null,
   "id": "f5fa358c",
   "metadata": {},
   "outputs": [
    {
     "name": "stdout",
     "output_type": "stream",
     "text": [
      "\n",
      "Question 10: Calculate the sum of first 20 odd numbers\n",
      "Sum of first 20 odd numbers: 400\n"
     ]
    }
   ],
   "source": [
    "#alternative to Calculate the sum of first 20 odd numbers\n",
    "print(\"\\nQuestion 10: Calculate the sum of first 20 odd numbers\")\n",
    "\n",
    "sum_odd = sum(range(1, 40, 2))\n",
    "print(\"Sum of first 20 odd numbers:\", sum_odd)\n"
   ]
  },
  {
   "cell_type": "code",
   "execution_count": null,
   "id": "0473efc6",
   "metadata": {},
   "outputs": [],
   "source": [
    "#####################  FLOAT ASSIGNMENT  ##################################"
   ]
  },
  {
   "cell_type": "code",
   "execution_count": 1,
   "id": "7724374f",
   "metadata": {},
   "outputs": [
    {
     "name": "stdout",
     "output_type": "stream",
     "text": [
      "SOLVED EXAMPLE:\n",
      "Calculate the area of a circle with radius 5.5\n",
      "Radius: 5.5\n",
      "Area: 95.03\n",
      "--------------------------------------------------\n"
     ]
    }
   ],
   "source": [
    "# Question: Calculate the area of a circle with radius 5.5\n",
    "print(\"SOLVED EXAMPLE:\")\n",
    "print(\"Calculate the area of a circle with radius 5.5\")\n",
    "import math\n",
    "radius = 5.5\n",
    "area = math.pi * radius ** 2\n",
    "print(f\"Radius: {radius}\")\n",
    "print(f\"Area: {area:.2f}\")\n",
    "print(\"-\" * 50)"
   ]
  },
  {
   "cell_type": "code",
   "execution_count": 4,
   "id": "04e7cd7a",
   "metadata": {},
   "outputs": [
    {
     "name": "stdout",
     "output_type": "stream",
     "text": [
      "Question 1: Calculate the average of 3.14, 2.718, 1.618, 0.577\n",
      "2.01325\n"
     ]
    }
   ],
   "source": [
    "# Question 1: Calculate the average of 3.14, 2.718, 1.618, 0.577\n",
    "print(\"Question 1: Calculate the average of 3.14, 2.718, 1.618, 0.577\")\n",
    "# Your code here\n",
    "X=3.14, 2.718, 1.618, 0.577\n",
    "print(sum(X)/len(X))"
   ]
  },
  {
   "cell_type": "code",
   "execution_count": 6,
   "id": "d0459067",
   "metadata": {},
   "outputs": [
    {
     "name": "stdout",
     "output_type": "stream",
     "text": [
      "\n",
      "Question 2: Convert 98.6 Fahrenheit to Celsius\n",
      "37.0\n"
     ]
    }
   ],
   "source": [
    "# Question 2: Convert 98.6 Fahrenheit to Celsius (F = C * 9/5 + 32)\n",
    "print(\"\\nQuestion 2: Convert 98.6 Fahrenheit to Celsius\")\n",
    "# Your code here\n",
    "f=98.6\n",
    "c=(f-32)*5/9\n",
    "print(c)\n"
   ]
  },
  {
   "cell_type": "code",
   "execution_count": null,
   "id": "89fd3f33",
   "metadata": {},
   "outputs": [
    {
     "name": "stdout",
     "output_type": "stream",
     "text": [
      "\n",
      "Question 3: Calculate compound interest on $1000 at 5.5% for 3 years\n",
      "compound interest:1174.24\n"
     ]
    }
   ],
   "source": [
    "# Question 3: Calculate the compound interest on $1000 at 5.5% for 3 years\n",
    "print(\"\\nQuestion 3: Calculate compound interest on $1000 at 5.5% for 3 years\")\n",
    "# Your code here\n",
    "p=1000\n",
    "r=5.5\n",
    "n=36\n",
    "t=3\n",
    "a = p * (1 + r/100)**t  #A = P × (1 + r)^t\n",
    "print(f\"compound interest:{a:.2f}\")"
   ]
  },
  {
   "cell_type": "code",
   "execution_count": 16,
   "id": "f791c362",
   "metadata": {},
   "outputs": [
    {
     "name": "stdout",
     "output_type": "stream",
     "text": [
      "\n",
      "Question 4: Find the hypotenuse of a right triangle with sides 3.5 and 4.2\n",
      "the hypotenuse of a right triangle with sides 3.5 and 4.2 :  21.14\n"
     ]
    }
   ],
   "source": [
    "# Question 4: Find the hypotenuse of a right triangle with sides 3.5 and 4.2\n",
    "print(\"\\nQuestion 4: Find the hypotenuse of a right triangle with sides 3.5 and 4.2\")\n",
    "# Your code here\n",
    "import math\n",
    "s1=3.5\n",
    "s2=4.2\n",
    "s3=math.sqrt(s1**2)+(s2**2)\n",
    "print(\"the hypotenuse of a right triangle with sides 3.5 and 4.2 : \",s3)\n"
   ]
  },
  {
   "cell_type": "code",
   "execution_count": 20,
   "id": "4985d950",
   "metadata": {},
   "outputs": [
    {
     "name": "stdout",
     "output_type": "stream",
     "text": [
      "\n",
      "Question 5: Calculate the volume of a sphere with radius 7.8\n",
      "the volume of a sphere with radius 7.8: 1987.80\n"
     ]
    }
   ],
   "source": [
    "# Question 5: Calculate the volume of a sphere with radius 7.8\n",
    "print(\"\\nQuestion 5: Calculate the volume of a sphere with radius 7.8\")\n",
    "# Your code here\n",
    "import math\n",
    "r=7.8\n",
    "V = (4/3) * math.pi * r**3  # V = (4/3) × π × r³\n",
    "print(f\"the volume of a sphere with radius 7.8: {V:.2f}\")\n",
    "\n"
   ]
  },
  {
   "cell_type": "code",
   "execution_count": 21,
   "id": "180b8570",
   "metadata": {},
   "outputs": [
    {
     "name": "stdout",
     "output_type": "stream",
     "text": [
      "\n",
      "Question 6: Round 3.14159 to 3 decimal places\n",
      " Round 3.14159 to 3 decimal places 3.142\n"
     ]
    }
   ],
   "source": [
    "# Question 6: Round 3.14159 to 3 decimal places\n",
    "print(\"\\nQuestion 6: Round 3.14159 to 3 decimal places\")\n",
    "# Your code here\n",
    "r=3.14159\n",
    "print(f\" Round 3.14159 to 3 decimal places {r:.3f}\")"
   ]
  },
  {
   "cell_type": "code",
   "execution_count": 25,
   "id": "1686fcc5",
   "metadata": {},
   "outputs": [
    {
     "name": "stdout",
     "output_type": "stream",
     "text": [
      "\n",
      "Question 7: Calculate the percentage: 45 out of 67\n",
      "percentage: 45 out of 67= 67.16%\n"
     ]
    }
   ],
   "source": [
    "# Question 7: Calculate the percentage: 45 out of 67\n",
    "print(\"\\nQuestion 7: Calculate the percentage: 45 out of 67\")\n",
    "# Your code here\n",
    "x=(45*100)/67\n",
    "print(f\"percentage: 45 out of 67= {x:.2f}%\")"
   ]
  },
  {
   "cell_type": "code",
   "execution_count": 27,
   "id": "74883b11",
   "metadata": {},
   "outputs": [
    {
     "name": "stdout",
     "output_type": "stream",
     "text": [
      "\n",
      "Question 8: Find the square root of 23.456\n",
      "the square root of 23.456 : 5.000\n"
     ]
    }
   ],
   "source": [
    "# Question 8: Find the square root of 23.456\n",
    "print(\"\\nQuestion 8: Find the square root of 23.456\")\n",
    "# Your code here\n",
    "print(f\"the square root of 23.456 : {round(23.456**(1/2)):.3f}\")"
   ]
  },
  {
   "cell_type": "code",
   "execution_count": 28,
   "id": "7825361d",
   "metadata": {},
   "outputs": [
    {
     "name": "stdout",
     "output_type": "stream",
     "text": [
      "\n",
      "Question 9: Calculate simple interest: Principal=2500, Rate=6.5%, Time=2.5 years\n",
      "406.25\n"
     ]
    }
   ],
   "source": [
    "# Question 9: Calculate the simple interest: Principal=2500, Rate=6.5%, Time=2.5 years\n",
    "print(\"\\nQuestion 9: Calculate simple interest: Principal=2500, Rate=6.5%, Time=2.5 years\")\n",
    "# Your code here\n",
    "p=2500\n",
    "r=6.5\n",
    "t=2.5\n",
    "si=(p*t*r)/100\n",
    "print(si)"
   ]
  },
  {
   "cell_type": "code",
   "execution_count": 29,
   "id": "ef4bdc90",
   "metadata": {},
   "outputs": [
    {
     "name": "stdout",
     "output_type": "stream",
     "text": [
      "\n",
      "Question 10: Convert 45.7 degrees to radians\n"
     ]
    },
    {
     "data": {
      "text/plain": [
       "0.7976154681614086"
      ]
     },
     "execution_count": 29,
     "metadata": {},
     "output_type": "execute_result"
    }
   ],
   "source": [
    "# Question 10: Convert 45.7 degrees to radians\n",
    "print(\"\\nQuestion 10: Convert 45.7 degrees to radians\")\n",
    "# Your code here \n",
    "degrees=45.7\n",
    "radians = degrees * (math.pi / 180)\n",
    "radians"
   ]
  },
  {
   "cell_type": "code",
   "execution_count": null,
   "id": "f577645b",
   "metadata": {},
   "outputs": [],
   "source": [
    "############################## string assignment #########################################"
   ]
  },
  {
   "cell_type": "code",
   "execution_count": null,
   "id": "f470c2e8",
   "metadata": {},
   "outputs": [
    {
     "name": "stdout",
     "output_type": "stream",
     "text": [
      "SOLVED EXAMPLE:\n",
      "Count vowels in the string 'Hello World'\n",
      "String: Hello World\n",
      "Number of vowels: 3\n",
      "--------------------------------------------------\n"
     ]
    }
   ],
   "source": [
    "print(\"SOLVED EXAMPLE:\")\n",
    "print(\"Count vowels in the string 'Hello World'\")\n",
    "text = \"Hello World\"\n",
    "vowels = \"aeiouAEIOU\"\n",
    "count = sum(1 for char in text if char in vowels)\n",
    "print(f\"String: {text}\")\n",
    "print(f\"Number of vowels: {count}\")\n",
    "print(\"-\" * 50)\n",
    "\n",
    "# -----------------------------or------------------------------\n",
    "# text = \"Hello World\"\n",
    "# vowels = \"aeiouAEIOU\"\n",
    "# count = 0\n",
    "\n",
    "# for char in text:\n",
    "#     if char in vowels:\n",
    "#         count += 1\n",
    "\n",
    "# print(\"String:\", text)\n",
    "# print(\"Number of vowels:\", count)"
   ]
  },
  {
   "cell_type": "code",
   "execution_count": null,
   "id": "00e36bde",
   "metadata": {},
   "outputs": [
    {
     "name": "stdout",
     "output_type": "stream",
     "text": [
      "Hello World\n",
      "3\n"
     ]
    }
   ],
   "source": [
    "text = \"Hello World\"\n",
    "vowels = \"aeiouAEIOU\".\n",
    "count = 0\n",
    "for i in \"Hello World\":\n",
    "    if i in \"aeiouAEIOU\":\n",
    "        count+=1\n",
    "print(text) \n",
    "print(count)       "
   ]
  },
  {
   "cell_type": "code",
   "execution_count": null,
   "id": "8a06dd9e",
   "metadata": {},
   "outputs": [
    {
     "name": "stdout",
     "output_type": "stream",
     "text": [
      "Question 1: Reverse the string 'Python Programming'\n"
     ]
    },
    {
     "data": {
      "text/plain": [
       "''"
      ]
     },
     "execution_count": 61,
     "metadata": {},
     "output_type": "execute_result"
    }
   ],
   "source": [
    "# Question 1: Reverse the string \"Python Programming\"\n",
    "print(\"Question 1: Reverse the string 'Python Programming'\")\n",
    "# Your code here\n",
    "s='Python Programming'\n",
    "s[::-1]\n"
   ]
  },
  {
   "cell_type": "code",
   "execution_count": 63,
   "id": "af4924a8",
   "metadata": {},
   "outputs": [
    {
     "name": "stdout",
     "output_type": "stream",
     "text": [
      "\n",
      "Question 2: Check if 'racecar' is a palindrome\n",
      "palindrome\n"
     ]
    }
   ],
   "source": [
    "print(\"\\nQuestion 2: Check if 'racecar' is a palindrome\")\n",
    "# Your code here\n",
    "s=\"racecar\"\n",
    "if s[::-1] == \"racecar\":\n",
    "    print(\"palindrome\")\n",
    "else:\n",
    "    print(\"not palindrome\")    "
   ]
  },
  {
   "cell_type": "code",
   "execution_count": 68,
   "id": "64d16c84",
   "metadata": {},
   "outputs": [
    {
     "name": "stdout",
     "output_type": "stream",
     "text": [
      "\n",
      "Question 3: Count the number of words in 'Python is a great programming language'\n"
     ]
    },
    {
     "data": {
      "text/plain": [
       "6"
      ]
     },
     "execution_count": 68,
     "metadata": {},
     "output_type": "execute_result"
    }
   ],
   "source": [
    "# Question 3: Count the number of words in \"Python is a great programming language\"\n",
    "print(\"\\nQuestion 3: Count the number of words in 'Python is a great programming language'\")\n",
    "# Your code here\n",
    "s='Python is a great programming language'\n",
    "st=s.split()\n",
    "len(st)"
   ]
  },
  {
   "cell_type": "code",
   "execution_count": 69,
   "id": "92c46fe0",
   "metadata": {},
   "outputs": [
    {
     "name": "stdout",
     "output_type": "stream",
     "text": [
      "\n",
      "Question 4: Convert 'hello world' to title case\n"
     ]
    },
    {
     "data": {
      "text/plain": [
       "'Hello World'"
      ]
     },
     "execution_count": 69,
     "metadata": {},
     "output_type": "execute_result"
    }
   ],
   "source": [
    "# Question 4: Convert \"hello world\" to title case\n",
    "print(\"\\nQuestion 4: Convert 'hello world' to title case\")\n",
    "# Your code here\n",
    "w='hello world'\n",
    "w.title()"
   ]
  },
  {
   "cell_type": "code",
   "execution_count": 70,
   "id": "cce397e7",
   "metadata": {},
   "outputs": [
    {
     "name": "stdout",
     "output_type": "stream",
     "text": [
      "\n",
      "Question 5: Find the length of string 'Data Science'\n"
     ]
    },
    {
     "data": {
      "text/plain": [
       "12"
      ]
     },
     "execution_count": 70,
     "metadata": {},
     "output_type": "execute_result"
    }
   ],
   "source": [
    "# Question 5: Find the length of string \"Data Science\"\n",
    "print(\"\\nQuestion 5: Find the length of string 'Data Science'\")\n",
    "# Your code here\n",
    "l='Data Science'\n",
    "len(l)"
   ]
  },
  {
   "cell_type": "code",
   "execution_count": 72,
   "id": "c9a8234c",
   "metadata": {},
   "outputs": [
    {
     "name": "stdout",
     "output_type": "stream",
     "text": [
      "\n",
      "Question 6: Replace all spaces with underscores in 'Machine Learning'\n"
     ]
    },
    {
     "data": {
      "text/plain": [
       "'Machine_Learning'"
      ]
     },
     "execution_count": 72,
     "metadata": {},
     "output_type": "execute_result"
    }
   ],
   "source": [
    "# Question 6: Replace all spaces with underscores in \"Machine Learning\"\n",
    "print(\"\\nQuestion 6: Replace all spaces with underscores in 'Machine Learning'\")\n",
    "# Your code here\n",
    "sp='Machine Learning'\n",
    "sp.replace(\" \",\"_\")"
   ]
  },
  {
   "cell_type": "code",
   "execution_count": null,
   "id": "39a08243",
   "metadata": {},
   "outputs": [
    {
     "name": "stdout",
     "output_type": "stream",
     "text": [
      "\n",
      "Question 7: Check if 'python' is in 'Python Programming Language'\n"
     ]
    },
    {
     "data": {
      "text/plain": [
       "False"
      ]
     },
     "execution_count": 73,
     "metadata": {},
     "output_type": "execute_result"
    }
   ],
   "source": [
    "# Question 7: Check if \"python\" is in \"Python Programming Language\"\n",
    "print(\"\\nQuestion 7: Check if 'python' is in 'Python Programming Language'\")\n",
    "# Your code here\n",
    "s='Python Programming Language'\n",
    "s.startswith('python')      # or   'python' in s"
   ]
  },
  {
   "cell_type": "code",
   "execution_count": 74,
   "id": "e49c8e94",
   "metadata": {},
   "outputs": [
    {
     "name": "stdout",
     "output_type": "stream",
     "text": [
      "\n",
      "Question 8: Extract the first 5 characters from 'Artificial Intelligence'\n"
     ]
    },
    {
     "data": {
      "text/plain": [
       "'Artifi'"
      ]
     },
     "execution_count": 74,
     "metadata": {},
     "output_type": "execute_result"
    }
   ],
   "source": [
    "# Question 8: Extract the first 5 characters from \"Artificial Intelligence\"\n",
    "print(\"\\nQuestion 8: Extract the first 5 characters from 'Artificial Intelligence'\")\n",
    "# Your code here\n",
    "s=\"Artificial Intelligence\"\n",
    "s[0:6]\n"
   ]
  },
  {
   "cell_type": "code",
   "execution_count": 75,
   "id": "27cdea2c",
   "metadata": {},
   "outputs": [
    {
     "name": "stdout",
     "output_type": "stream",
     "text": [
      "\n",
      "Question 9: Convert 'UPPERCASE' to lowercase\n"
     ]
    },
    {
     "data": {
      "text/plain": [
       "'uppercase'"
      ]
     },
     "execution_count": 75,
     "metadata": {},
     "output_type": "execute_result"
    }
   ],
   "source": [
    "# Question 9: Convert \"UPPERCASE\" to lowercase\n",
    "print(\"\\nQuestion 9: Convert 'UPPERCASE' to lowercase\")\n",
    "# Your code here\n",
    "r='UPPERCASE'\n",
    "r.lower()"
   ]
  },
  {
   "cell_type": "code",
   "execution_count": 95,
   "id": "2075ccc1",
   "metadata": {},
   "outputs": [
    {
     "name": "stdout",
     "output_type": "stream",
     "text": [
      "\n",
      "Question 10: Remove all vowels from 'Computer Science'\n",
      "C\n",
      "m\n",
      "p\n",
      "t\n",
      "r\n",
      "S\n",
      "c\n",
      "n\n",
      "c\n"
     ]
    }
   ],
   "source": [
    "# Question 10: Remove all vowels from \"Computer Science\"\n",
    "print(\"\\nQuestion 10: Remove all vowels from 'Computer Science'\")\n",
    "# Your code here\n",
    "c='Computer Science'\n",
    "cnt=0\n",
    "for i in c:\n",
    "    if i not in \" aeiouAEIOU\":\n",
    "        #cnt+=1\n",
    "        print(i)\n",
    "#print(cnt)    \n"
   ]
  },
  {
   "cell_type": "code",
   "execution_count": 184,
   "id": "a388726f",
   "metadata": {},
   "outputs": [
    {
     "name": "stdout",
     "output_type": "stream",
     "text": [
      "\n",
      "Question 11: Find the most frequent character in 'mississippi'\n",
      "\n",
      "Question 11: Find the most frequent character in 'mississippi'\n",
      "Most frequent character: s\n"
     ]
    }
   ],
   "source": [
    "# Question 11: Find the most frequent character in \"mississippi\"\n",
    "print(\"\\nQuestion 11: Find the most frequent character in 'mississippi'\")\n",
    "# Your code here\n",
    "print(\"\\nQuestion 11: Find the most frequent character in 'mississippi'\")\n",
    "\n",
    "text = \"mississippi\"\n",
    "most_freq = max(set(text), key=text.count)\n",
    "print(\"Most frequent character:\", most_freq)\n",
    "\n",
    "\n"
   ]
  },
  {
   "cell_type": "code",
   "execution_count": null,
   "id": "b51b6b3c",
   "metadata": {},
   "outputs": [
    {
     "name": "stdout",
     "output_type": "stream",
     "text": [
      "\n",
      "Question 12: Check if two strings are anagrams: 'listen' and 'silent'\n",
      "a and b are not anagrams\n"
     ]
    }
   ],
   "source": [
    "# Question 12: Check if two strings are anagrams: \"listen\" and \"silent\"\n",
    "print(\"\\nQuestion 12: Check if two strings are anagrams: 'listen' and 'silent'\")\n",
    "# Your code here\n",
    "a='listen'\n",
    "b='silent'\n",
    "if sorted(a)==sorted(b):\n",
    "    print(\" a and b are anagrams\")\n",
    "else:\n",
    "    print(\"a and b are not anagrams\")    \n",
    "            \n",
    "\n"
   ]
  },
  {
   "cell_type": "code",
   "execution_count": 106,
   "id": "0c720cc1",
   "metadata": {},
   "outputs": [
    {
     "name": "stdout",
     "output_type": "stream",
     "text": [
      "\n",
      "Question 13: Capitalize first letter of each word in 'python programming language'\n"
     ]
    },
    {
     "data": {
      "text/plain": [
       "'Python Programming Language'"
      ]
     },
     "execution_count": 106,
     "metadata": {},
     "output_type": "execute_result"
    }
   ],
   "source": [
    "# Question 13: Capitalize first letter of each word in \"python programming language\"\n",
    "print(\"\\nQuestion 13: Capitalize first letter of each word in 'python programming language'\")\n",
    "# Your code here\n",
    "s='python programming language'\n",
    "s.title()"
   ]
  },
  {
   "cell_type": "code",
   "execution_count": 110,
   "id": "06b35ffd",
   "metadata": {},
   "outputs": [
    {
     "name": "stdout",
     "output_type": "stream",
     "text": [
      "\n",
      "Question 14: Count consonants in 'Hello World'\n",
      "7\n"
     ]
    }
   ],
   "source": [
    "# Question 14: Count consonants in \"Hello World\"\n",
    "print(\"\\nQuestion 14: Count consonants in 'Hello World'\")\n",
    "# Your code here\n",
    "s='Hello World'\n",
    "cnt=0\n",
    "for i in s:\n",
    "    if i not in \" AEIOUaeiou\":\n",
    "        cnt+=1\n",
    "print(cnt)        \n"
   ]
  },
  {
   "cell_type": "code",
   "execution_count": null,
   "id": "bcf5e6be",
   "metadata": {},
   "outputs": [
    {
     "name": "stdout",
     "output_type": "stream",
     "text": [
      "\n",
      "Question 15: Find the longest word in 'Python is a programming language'\n",
      "programming\n"
     ]
    }
   ],
   "source": [
    "# Question 15: Find the longest word in \"Python is a programming language\"\n",
    "print(\"\\nQuestion 15: Find the longest word in 'Python is a programming language'\")\n",
    "# Your code here\n",
    "l= 'Python is a programming language'\n",
    "words= l.split()\n",
    "longest=words[0]\n",
    "for i in words:          \n",
    "    if len(i)>len(longest):\n",
    "        longest=i  \n",
    "print(longest)  \n",
    "\n"
   ]
  },
  {
   "cell_type": "markdown",
   "id": "b8057062",
   "metadata": {},
   "source": []
  },
  {
   "cell_type": "code",
   "execution_count": 135,
   "id": "bc9f5317",
   "metadata": {},
   "outputs": [
    {
     "name": "stdout",
     "output_type": "stream",
     "text": [
      "\n",
      "Question 16: Remove all punctuation from 'Hello, World! How are you?'\n",
      "Hello World How are you"
     ]
    }
   ],
   "source": [
    "# Question 16: Remove all punctuation from \"Hello, World! How are you?\"\n",
    "print(\"\\nQuestion 16: Remove all punctuation from 'Hello, World! How are you?'\")\n",
    "# Your code here\n",
    "str='Hello, World! How are you?'\n",
    "for i in str:\n",
    "    if i not in \",!?\":\n",
    "        print(i,end=\"\")\n",
    "\n"
   ]
  },
  {
   "cell_type": "code",
   "execution_count": 136,
   "id": "5bc691e5",
   "metadata": {},
   "outputs": [
    {
     "name": "stdout",
     "output_type": "stream",
     "text": [
      "\n",
      "Question 17: Check if string starts with 'Python'\n"
     ]
    },
    {
     "data": {
      "text/plain": [
       "True"
      ]
     },
     "execution_count": 136,
     "metadata": {},
     "output_type": "execute_result"
    }
   ],
   "source": [
    "# Question 17: Check if string starts with \"Python\"\n",
    "print(\"\\nQuestion 17: Check if string starts with 'Python'\")\n",
    "# Your code here\n",
    "s=\"Python\"\n",
    "s.startswith(\"Python\")"
   ]
  },
  {
   "cell_type": "code",
   "execution_count": 138,
   "id": "3deb0006",
   "metadata": {},
   "outputs": [
    {
     "name": "stdout",
     "output_type": "stream",
     "text": [
      "\n",
      "Question 18: Find the index of first occurrence of 'o' in 'Hello World'\n"
     ]
    },
    {
     "data": {
      "text/plain": [
       "4"
      ]
     },
     "execution_count": 138,
     "metadata": {},
     "output_type": "execute_result"
    }
   ],
   "source": [
    "# Question 18: Find the index of first occurrence of 'o' in \"Hello World\"\n",
    "print(\"\\nQuestion 18: Find the index of first occurrence of 'o' in 'Hello World'\")\n",
    "# Your code here\n",
    "s='Hello World'\n",
    "s.find('o')\n"
   ]
  },
  {
   "cell_type": "code",
   "execution_count": 139,
   "id": "453a8372",
   "metadata": {},
   "outputs": [
    {
     "name": "stdout",
     "output_type": "stream",
     "text": [
      "\n",
      "Question 19: Split string 'apple,banana,orange' by comma\n"
     ]
    },
    {
     "data": {
      "text/plain": [
       "['apple', 'banana', 'orange']"
      ]
     },
     "execution_count": 139,
     "metadata": {},
     "output_type": "execute_result"
    }
   ],
   "source": [
    "# Question 19: Split string \"apple,banana,orange\" by comma\n",
    "print(\"\\nQuestion 19: Split string 'apple,banana,orange' by comma\")\n",
    "# Your code here\n",
    "s='apple,banana,orange'\n",
    "s.split(\",\")\n"
   ]
  },
  {
   "cell_type": "code",
   "execution_count": 151,
   "id": "5b2c8253",
   "metadata": {},
   "outputs": [
    {
     "name": "stdout",
     "output_type": "stream",
     "text": [
      "Python is awesome "
     ]
    }
   ],
   "source": [
    "# Question 20: Join list ['Python', 'is', 'awesome'] with spaces\n",
    "# print(\"\\nQuestion 20: Join list ['Python', 'is', 'awesome'] with spaces\")\n",
    "# # Your code here\n",
    "lst=['Python', 'is', 'awesome']\n",
    "for i in lst:\n",
    "    if i not in \",\":\n",
    "        print(i,end=\" \")\n",
    "# -------------------or -------------\n",
    "# lst=['Python', 'is', 'awesome']\n",
    "# \" \".join(lst)\n",
    "\n"
   ]
  },
  {
   "cell_type": "code",
   "execution_count": 152,
   "id": "ed802492",
   "metadata": {},
   "outputs": [
    {
     "name": "stdout",
     "output_type": "stream",
     "text": [
      "\n",
      "Question 21: Check if string contains only digits: '12345'\n"
     ]
    },
    {
     "data": {
      "text/plain": [
       "True"
      ]
     },
     "execution_count": 152,
     "metadata": {},
     "output_type": "execute_result"
    }
   ],
   "source": [
    "print(\"\\nQuestion 21: Check if string contains only digits: '12345'\")\n",
    "# Your code here\n",
    "d=\"12345\"\n",
    "d.isdigit()\n"
   ]
  },
  {
   "cell_type": "code",
   "execution_count": 153,
   "id": "f6bbeabb",
   "metadata": {},
   "outputs": [
    {
     "name": "stdout",
     "output_type": "stream",
     "text": [
      "\n",
      "Question 22: Check if string contains only letters: 'HelloWorld'\n"
     ]
    },
    {
     "data": {
      "text/plain": [
       "True"
      ]
     },
     "execution_count": 153,
     "metadata": {},
     "output_type": "execute_result"
    }
   ],
   "source": [
    "# Question 22: Check if string contains only letters: \"HelloWorld\"\n",
    "print(\"\\nQuestion 22: Check if string contains only letters: 'HelloWorld'\")\n",
    "# Your code here\n",
    "s='HelloWorld'\n",
    "s.isalpha()"
   ]
  },
  {
   "cell_type": "code",
   "execution_count": 165,
   "id": "90574580",
   "metadata": {},
   "outputs": [
    {
     "name": "stdout",
     "output_type": "stream",
     "text": [
      "\n",
      "Question 23: Convert 'hello world' to 'hElLo WoRlD' (alternating case)\n",
      " hElLoWoRlD\n"
     ]
    }
   ],
   "source": [
    "# Question 23: Convert \"hello world\" to \"hElLo WoRlD\" (alternating case)\n",
    "print(\"\\nQuestion 23: Convert 'hello world' to 'hElLo WoRlD' (alternating case)\")\n",
    "# Your code here\n",
    "d='hello world'\n",
    "count=\" \"\n",
    "index=0\n",
    "for i in s:\n",
    "    if i==\" \":\n",
    "        count+=\" \"\n",
    "    else:\n",
    "        if index%2==0:\n",
    "            count+=i.lower()\n",
    "        else:\n",
    "            count+=i.upper()\n",
    "        index+=1\n",
    "print(count)                    \n",
    "\n",
    "   "
   ]
  },
  {
   "cell_type": "code",
   "execution_count": 182,
   "id": "4b3726c8",
   "metadata": {},
   "outputs": [
    {
     "name": "stdout",
     "output_type": "stream",
     "text": [
      "\n",
      "Question 24: Find all positions of 'a' in 'banana'\n",
      "[1, 3, 5]\n"
     ]
    }
   ],
   "source": [
    "# Question 24: Find all positions of 'a' in \"banana\"\n",
    "print(\"\\nQuestion 24: Find all positions of 'a' in 'banana'\")\n",
    "# Your code here\n",
    "wrd='banana'\n",
    "pos=[]\n",
    "for i,j in enumerate(wrd):\n",
    "    if j=='a':\n",
    "        pos.append(i)\n",
    "print(pos)        \n",
    "\n",
    "        \n",
    "        \n"
   ]
  },
  {
   "cell_type": "code",
   "execution_count": 183,
   "id": "f3f295a9",
   "metadata": {},
   "outputs": [
    {
     "name": "stdout",
     "output_type": "stream",
     "text": [
      "\n",
      "Question 25: Remove leading and trailing whitespace from '  Hello World  '\n"
     ]
    },
    {
     "data": {
      "text/plain": [
       "'Hello World'"
      ]
     },
     "execution_count": 183,
     "metadata": {},
     "output_type": "execute_result"
    }
   ],
   "source": [
    "# Question 25: Remove leading and trailing whitespace from \"  Hello World  \"\n",
    "print(\"\\nQuestion 25: Remove leading and trailing whitespace from '  Hello World  '\")\n",
    "# Your code here\n",
    "x='  Hello World  '\n",
    "x.strip()\n"
   ]
  },
  {
   "cell_type": "code",
   "execution_count": null,
   "id": "b6a4c8df",
   "metadata": {},
   "outputs": [],
   "source": []
  },
  {
   "cell_type": "code",
   "execution_count": null,
   "id": "b8ec609f",
   "metadata": {},
   "outputs": [],
   "source": []
  },
  {
   "cell_type": "code",
   "execution_count": null,
   "id": "4dd6132e",
   "metadata": {},
   "outputs": [],
   "source": []
  },
  {
   "cell_type": "code",
   "execution_count": null,
   "id": "1d84c1cb",
   "metadata": {},
   "outputs": [],
   "source": []
  },
  {
   "cell_type": "code",
   "execution_count": null,
   "id": "9c22ecc7",
   "metadata": {},
   "outputs": [],
   "source": []
  },
  {
   "cell_type": "code",
   "execution_count": null,
   "id": "e5328267",
   "metadata": {},
   "outputs": [],
   "source": []
  },
  {
   "cell_type": "code",
   "execution_count": null,
   "id": "1a4f2742",
   "metadata": {},
   "outputs": [],
   "source": []
  }
 ],
 "metadata": {
  "kernelspec": {
   "display_name": "Python 3",
   "language": "python",
   "name": "python3"
  },
  "language_info": {
   "codemirror_mode": {
    "name": "ipython",
    "version": 3
   },
   "file_extension": ".py",
   "mimetype": "text/x-python",
   "name": "python",
   "nbconvert_exporter": "python",
   "pygments_lexer": "ipython3",
   "version": "3.13.5"
  }
 },
 "nbformat": 4,
 "nbformat_minor": 5
}
