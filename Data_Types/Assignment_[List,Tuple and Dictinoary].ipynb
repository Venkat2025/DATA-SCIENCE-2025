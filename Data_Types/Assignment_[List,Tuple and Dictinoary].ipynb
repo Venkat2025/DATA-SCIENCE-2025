{
 "cells": [
  {
   "cell_type": "code",
   "execution_count": null,
   "id": "9aa97b1c",
   "metadata": {},
   "outputs": [],
   "source": [
    "#########   List  Assignment Continuation ########"
   ]
  },
  {
   "cell_type": "code",
   "execution_count": 7,
   "id": "e9dc5725",
   "metadata": {},
   "outputs": [
    {
     "name": "stdout",
     "output_type": "stream",
     "text": [
      "\n",
      "Question 26: Find the person with maximum age in list of dictionaries\n",
      "30\n"
     ]
    }
   ],
   "source": [
    "# Question 26: Find the person with maximum age in list of dictionaries\n",
    "print(\"\\nQuestion 26: Find the person with maximum age in list of dictionaries\")\n",
    "# Your code here\n",
    "x=[{'name': 'Alice', 'age': 25}, {'name': 'Bob', 'age': 30}]\n",
    "d=[]\n",
    "for i in x:\n",
    "    u=i['age']\n",
    "    d.append(u)\n",
    "print(max(d))   \n",
    "    "
   ]
  },
  {
   "cell_type": "code",
   "execution_count": 10,
   "id": "4a4e1c04",
   "metadata": {},
   "outputs": [
    {
     "name": "stdout",
     "output_type": "stream",
     "text": [
      "\n",
      "Question 27: Create a 4D list: [[[[1, 2], [3, 4]], [[5, 6], [7, 8]]], [[[9, 10], [11, 12]], [[13, 14], [15, 16]]]]\n",
      "[[[[1, 2], [3, 4]], [[5, 6], [7, 8]]], [[[9, 10], [11, 12]], [[13, 14], [15, 16]]]]\n"
     ]
    }
   ],
   "source": [
    "# Question 27: Create a 4D list: [[[[1, 2], [3, 4]], [[5, 6], [7, 8]]], [[[9, 10], [11, 12]], [[13, 14], [15, 16]]]]\n",
    "print(\"\\nQuestion 27: Create a 4D list: [[[[1, 2], [3, 4]], [[5, 6], [7, 8]]], [[[9, 10], [11, 12]], [[13, 14], [15, 16]]]]\")\n",
    "# Your code here\n",
    "x= [\n",
    "    [[[1, 2], [3, 4]], [[5, 6], [7, 8]]]\n",
    "    , [[[9, 10], [11, 12]], [[13, 14], [15, 16]]]\n",
    "    ]\n",
    "print(x)"
   ]
  },
  {
   "cell_type": "code",
   "execution_count": null,
   "id": "cede8d06",
   "metadata": {},
   "outputs": [],
   "source": [
    "# Question 28: Find the maximum value in 4D list\n",
    "print(\"\\nQuestion 28: Find the maximum value in 4D list\")\n",
    "# Your code here\n"
   ]
  },
  {
   "cell_type": "code",
   "execution_count": 11,
   "id": "e3d63f21",
   "metadata": {},
   "outputs": [
    {
     "name": "stdout",
     "output_type": "stream",
     "text": [
      "\n",
      "Question 29: Create a list of sets: [{1, 2, 3}, {4, 5, 6}, {7, 8, 9}]\n",
      "[{1, 2, 3}, {4, 5, 6}, {8, 9, 7}]\n"
     ]
    }
   ],
   "source": [
    "# Question 29: Create a list of sets: [{1, 2, 3}, {4, 5, 6}, {7, 8, 9}]\n",
    "print(\"\\nQuestion 29: Create a list of sets: [{1, 2, 3}, {4, 5, 6}, {7, 8, 9}]\")\n",
    "# Your code here\n",
    "x=[{1, 2, 3}, {4, 5, 6}, {7, 8, 9}]\n",
    "print(x)"
   ]
  },
  {
   "cell_type": "code",
   "execution_count": 26,
   "id": "7c646ce8",
   "metadata": {},
   "outputs": [
    {
     "name": "stdout",
     "output_type": "stream",
     "text": [
      "\n",
      "Question 30: Find the union of all sets in list of sets\n"
     ]
    },
    {
     "data": {
      "text/plain": [
       "{1, 2, 3, 4, 5, 6, 7, 8, 9}"
      ]
     },
     "execution_count": 26,
     "metadata": {},
     "output_type": "execute_result"
    }
   ],
   "source": [
    "# Question 30: Find the union of all sets in list of sets\n",
    "print(\"\\nQuestion 30: Find the union of all sets in list of sets\")\n",
    "# Your code here\n",
    "y=[{1, 2, 3}, {4, 5, 6}, {7, 8, 9}]\n",
    "res=set.union(*y)\n",
    "res\n",
    " \n",
    "\n"
   ]
  },
  {
   "cell_type": "code",
   "execution_count": 27,
   "id": "82d4ae20",
   "metadata": {},
   "outputs": [
    {
     "name": "stdout",
     "output_type": "stream",
     "text": [
      "\n",
      "Question 31: Create a list of complex numbers: [1+2j, 3+4j, 5+6j]\n",
      "[(1+2j), (3+4j), (5+6j)]\n"
     ]
    }
   ],
   "source": [
    "# Question 31: Create a list of complex numbers: [1+2j, 3+4j, 5+6j]\n",
    "print(\"\\nQuestion 31: Create a list of complex numbers: [1+2j, 3+4j, 5+6j]\")\n",
    "# Your code here\n",
    "c=[1+2j, 3+4j, 5+6j]\n",
    "print(c)"
   ]
  },
  {
   "cell_type": "code",
   "execution_count": 29,
   "id": "48f5b3af",
   "metadata": {},
   "outputs": [
    {
     "name": "stdout",
     "output_type": "stream",
     "text": [
      "\n",
      "Question 32: Find the magnitude of each complex number in list\n",
      "2.23606797749979\n",
      "5.0\n",
      "7.810249675906654\n"
     ]
    }
   ],
   "source": [
    "# Question 32: Find the magnitude of each complex number in list\n",
    "print(\"\\nQuestion 32: Find the magnitude of each complex number in list\")\n",
    "# Your code here\n",
    "x=[(1+2j), (3+4j), (5+6j)]\n",
    "for i in x:\n",
    "    magnitude=abs(i)\n",
    "    print(magnitude)    \n"
   ]
  },
  {
   "cell_type": "code",
   "execution_count": null,
   "id": "b22e4b60",
   "metadata": {},
   "outputs": [],
   "source": []
  },
  {
   "cell_type": "code",
   "execution_count": null,
   "id": "54c2e975",
   "metadata": {},
   "outputs": [],
   "source": [
    "############# Tuple Assignment ################"
   ]
  },
  {
   "cell_type": "code",
   "execution_count": 30,
   "id": "a3bd784c",
   "metadata": {},
   "outputs": [
    {
     "name": "stdout",
     "output_type": "stream",
     "text": [
      "SOLVED EXAMPLE:\n",
      "Find the sum and product of all elements in a tuple\n",
      "Tuple: (2, 4, 6, 8, 10)\n",
      "Sum: 30\n",
      "Product: 3840\n",
      "--------------------------------------------------\n"
     ]
    }
   ],
   "source": [
    "print(\"SOLVED EXAMPLE:\")\n",
    "print(\"Find the sum and product of all elements in a tuple\")\n",
    "numbers = (2, 4, 6, 8, 10)\n",
    "sum_tuple = sum(numbers)\n",
    "product = 1\n",
    "for num in numbers:\n",
    "    product *= num\n",
    "print(f\"Tuple: {numbers}\")\n",
    "print(f\"Sum: {sum_tuple}\")\n",
    "print(f\"Product: {product}\")\n",
    "print(\"-\" * 50)"
   ]
  },
  {
   "cell_type": "code",
   "execution_count": null,
   "id": "5d4868fb",
   "metadata": {},
   "outputs": [
    {
     "name": "stdout",
     "output_type": "stream",
     "text": [
      "Question 1: Create a tuple of first 10 natural numbers\n",
      "(1, 2, 3, 4, 5, 6, 7, 8, 9, 10)\n"
     ]
    }
   ],
   "source": [
    "# Question 1: Create a tuple of first 10 natural numbers\n",
    "print(\"Question 1: Create a tuple of first 10 natural numbers\")\n",
    "# Your code here\n",
    "# n=(1,2,3,4,5,6,7,8,9,10)\n",
    "# print(n)\n",
    "#--------------------------- or ------------------------------\n",
    "x=tuple(range(1,11))\n",
    "print(x)\n",
    "\n"
   ]
  },
  {
   "cell_type": "code",
   "execution_count": 38,
   "id": "848c4efd",
   "metadata": {},
   "outputs": [
    {
     "name": "stdout",
     "output_type": "stream",
     "text": [
      "\n",
      "Question 2: Find the length of tuple (1, 2, 3, 4, 5, 6, 7, 8, 9, 10)\n"
     ]
    },
    {
     "data": {
      "text/plain": [
       "10"
      ]
     },
     "execution_count": 38,
     "metadata": {},
     "output_type": "execute_result"
    }
   ],
   "source": [
    "# Question 2: Find the length of tuple (1, 2, 3, 4, 5, 6, 7, 8, 9, 10)\n",
    "print(\"\\nQuestion 2: Find the length of tuple (1, 2, 3, 4, 5, 6, 7, 8, 9, 10)\")\n",
    "# Your code here\n",
    "x=(1, 2, 3, 4, 5, 6, 7, 8, 9, 10)\n",
    "len(x)\n"
   ]
  },
  {
   "cell_type": "code",
   "execution_count": 39,
   "id": "bdaf5a30",
   "metadata": {},
   "outputs": [
    {
     "name": "stdout",
     "output_type": "stream",
     "text": [
      "\n",
      "Question 3: Access the 3rd element from tuple ('a', 'b', 'c', 'd', 'e')\n",
      "c\n"
     ]
    }
   ],
   "source": [
    "# Question 3: Access the 3rd element from tuple ('a', 'b', 'c', 'd', 'e')\n",
    "print(\"\\nQuestion 3: Access the 3rd element from tuple ('a', 'b', 'c', 'd', 'e')\")\n",
    "# Your code here\n",
    "x=('a', 'b', 'c', 'd', 'e')\n",
    "print(x[2])"
   ]
  },
  {
   "cell_type": "code",
   "execution_count": 40,
   "id": "21d2a255",
   "metadata": {},
   "outputs": [
    {
     "name": "stdout",
     "output_type": "stream",
     "text": [
      "\n",
      "Question 4: Find the maximum value in tuple (23, 45, 12, 67, 34, 89, 56)\n"
     ]
    },
    {
     "data": {
      "text/plain": [
       "89"
      ]
     },
     "execution_count": 40,
     "metadata": {},
     "output_type": "execute_result"
    }
   ],
   "source": [
    "# Question 4: Find the maximum value in tuple (23, 45, 12, 67, 34, 89, 56)\n",
    "print(\"\\nQuestion 4: Find the maximum value in tuple (23, 45, 12, 67, 34, 89, 56)\")\n",
    "# Your code here\n",
    "x=(23, 45, 12, 67, 34, 89, 56)\n",
    "max(x)\n"
   ]
  },
  {
   "cell_type": "code",
   "execution_count": 41,
   "id": "1b583ca8",
   "metadata": {},
   "outputs": [
    {
     "name": "stdout",
     "output_type": "stream",
     "text": [
      "\n",
      "Question 5: Count how many times 5 appears in (1, 5, 2, 5, 3, 5, 4, 5, 6)\n"
     ]
    },
    {
     "data": {
      "text/plain": [
       "4"
      ]
     },
     "execution_count": 41,
     "metadata": {},
     "output_type": "execute_result"
    }
   ],
   "source": [
    "# Question 5: Count how many times 5 appears in (1, 5, 2, 5, 3, 5, 4, 5, 6)\n",
    "print(\"\\nQuestion 5: Count how many times 5 appears in (1, 5, 2, 5, 3, 5, 4, 5, 6)\")\n",
    "# Your code here\n",
    "z=(1, 5, 2, 5, 3, 5, 4, 5, 6)\n",
    "z.count(5)\n"
   ]
  },
  {
   "cell_type": "code",
   "execution_count": 42,
   "id": "97a9f61e",
   "metadata": {},
   "outputs": [
    {
     "name": "stdout",
     "output_type": "stream",
     "text": [
      "\n",
      "Question 6: Create a tuple of mixed data types (integer, float, string, boolean)\n",
      "(10, 10.0, '10', True)\n"
     ]
    }
   ],
   "source": [
    "# Question 6: Create a tuple of mixed data types (integer, float, string, boolean)\n",
    "print(\"\\nQuestion 6: Create a tuple of mixed data types (integer, float, string, boolean)\")\n",
    "# Your code here\n",
    "t=(10,10.0,\"10\",True)\n",
    "print(t)"
   ]
  },
  {
   "cell_type": "code",
   "execution_count": 44,
   "id": "161584dd",
   "metadata": {},
   "outputs": [
    {
     "name": "stdout",
     "output_type": "stream",
     "text": [
      "\n",
      "Question 7: Find the index of element 'python' in ('java', 'python', 'c++', 'javascript')\n"
     ]
    },
    {
     "data": {
      "text/plain": [
       "1"
      ]
     },
     "execution_count": 44,
     "metadata": {},
     "output_type": "execute_result"
    }
   ],
   "source": [
    "# Question 7: Find the index of element 'python' in ('java', 'python', 'c++', 'javascript')\n",
    "print(\"\\nQuestion 7: Find the index of element 'python' in ('java', 'python', 'c++', 'javascript')\")\n",
    "# Your code here\n",
    "t=('java', 'python', 'c++', 'javascript')\n",
    "t.index('python')\n"
   ]
  },
  {
   "cell_type": "code",
   "execution_count": 46,
   "id": "8d1dfa90",
   "metadata": {},
   "outputs": [
    {
     "name": "stdout",
     "output_type": "stream",
     "text": [
      "\n",
      "Question 8: Check if 25 exists in tuple (10, 20, 30, 40, 50)\n"
     ]
    },
    {
     "data": {
      "text/plain": [
       "False"
      ]
     },
     "execution_count": 46,
     "metadata": {},
     "output_type": "execute_result"
    }
   ],
   "source": [
    "# Question 8: Check if 25 exists in tuple (10, 20, 30, 40, 50)\n",
    "print(\"\\nQuestion 8: Check if 25 exists in tuple (10, 20, 30, 40, 50)\")\n",
    "# Your code here\n",
    "25 in(10, 20, 30, 40, 50)"
   ]
  },
  {
   "cell_type": "code",
   "execution_count": null,
   "id": "4097163f",
   "metadata": {},
   "outputs": [
    {
     "name": "stdout",
     "output_type": "stream",
     "text": [
      "\n",
      "Question 9: Create a tuple of first 5 even numbers\n",
      "(2, 4, 6, 8, 10)\n"
     ]
    }
   ],
   "source": [
    "# Question 9: Create a tuple of first 5 even numbers\n",
    "print(\"\\nQuestion 9: Create a tuple of first 5 even numbers\")\n",
    "# s=[]\n",
    "# n=int(input())\n",
    "# for i in range(1,n+1):\n",
    "#         s.append(i*2)\n",
    "# z=tuple(s)\n",
    "# print(z)\n",
    "# ----------------- or----------------------------------\n",
    "s = []\n",
    "i = 2\n",
    "while len(s) < 5:\n",
    "    s.append(i)\n",
    "    i += 2\n",
    "\n",
    "z = tuple(s)\n",
    "print(z)\n",
    "\n"
   ]
  },
  {
   "cell_type": "code",
   "execution_count": 52,
   "id": "04399bc3",
   "metadata": {},
   "outputs": [
    {
     "name": "stdout",
     "output_type": "stream",
     "text": [
      "\n",
      "Question 10: Find the average of numbers in tuple (15, 23, 31, 42, 56, 78)\n"
     ]
    },
    {
     "data": {
      "text/plain": [
       "40.833333333333336"
      ]
     },
     "execution_count": 52,
     "metadata": {},
     "output_type": "execute_result"
    }
   ],
   "source": [
    "# Question 10: Find the average of numbers in tuple (15, 23, 31, 42, 56, 78)\n",
    "print(\"\\nQuestion 10: Find the average of numbers in tuple (15, 23, 31, 42, 56, 78)\")\n",
    "# Your code here \n",
    "t=(15, 23, 31, 42, 56, 78)\n",
    "x=sum(t)/len(t)\n",
    "x"
   ]
  },
  {
   "cell_type": "code",
   "execution_count": null,
   "id": "598a49db",
   "metadata": {},
   "outputs": [],
   "source": [
    "##################  DICTIONARY ASSIGNMENT ################"
   ]
  },
  {
   "cell_type": "code",
   "execution_count": 12,
   "id": "1f5d8046",
   "metadata": {},
   "outputs": [
    {
     "name": "stdout",
     "output_type": "stream",
     "text": [
      "SOLVED EXAMPLE:\n",
      "Find the key with maximum value in a dictionary\n",
      "Dictionary: {'Alice': 85, 'Bob': 92, 'Charlie': 78, 'Diana': 95, 'Eve': 88}\n",
      "Key with maximum value: Diana\n",
      "Maximum value: 95\n",
      "--------------------------------------------------\n"
     ]
    }
   ],
   "source": [
    "# SOLVED EXAMPLE\n",
    "# --------------\n",
    "# Question: Find the key with maximum value in a dictionary\n",
    "print(\"SOLVED EXAMPLE:\")\n",
    "print(\"Find the key with maximum value in a dictionary\")\n",
    "scores = {'Alice': 85, 'Bob': 92, 'Charlie': 78, 'Diana': 95, 'Eve': 88}\n",
    "max_key = max(scores, key=scores.get)\n",
    "max_value = scores[max_key]\n",
    "print(f\"Dictionary: {scores}\")\n",
    "print(f\"Key with maximum value: {max_key}\")\n",
    "print(f\"Maximum value: {max_value}\")\n",
    "print(\"-\" * 50)"
   ]
  },
  {
   "cell_type": "code",
   "execution_count": 14,
   "id": "9693656d",
   "metadata": {},
   "outputs": [
    {
     "name": "stdout",
     "output_type": "stream",
     "text": [
      "Question 1: Create a dictionary of student names and their ages\n",
      "{'ARUN': 22, 'NIKHIL': 23, 'RAKESH': 22, 'HARIKA': 21}\n"
     ]
    }
   ],
   "source": [
    "# Question 1: Create a dictionary of student names and their ages\n",
    "print(\"Question 1: Create a dictionary of student names and their ages\")\n",
    "# Your code here\n",
    "D={'ARUN':22,'NIKHIL':23,'RAKESH':22,'HARIKA':21}\n",
    "print(D)"
   ]
  },
  {
   "cell_type": "code",
   "execution_count": null,
   "id": "477789c8",
   "metadata": {},
   "outputs": [
    {
     "name": "stdout",
     "output_type": "stream",
     "text": [
      "\n",
      "Question 2: Add a new key-value pair to dictionary {'a': 1, 'b': 2, 'c': 3}\n"
     ]
    },
    {
     "data": {
      "text/plain": [
       "{'a': 1, 'b': 2, 'c': 3, 'd': 4}"
      ]
     },
     "execution_count": 15,
     "metadata": {},
     "output_type": "execute_result"
    }
   ],
   "source": [
    "# Question 2: Add a new key-value pair to dictionary {'a': 1, 'b': 2, 'c': 3}\n",
    "print(\"\\nQuestion 2: Add a new key-value pair to dictionary {'a': 1, 'b': 2, 'c': 3}\")\n",
    "# Your code here\n",
    "d={'a': 1, 'b': 2, 'c': 3}\n",
    "d['d']=4  # or d.update('d',4)\n",
    "d"
   ]
  },
  {
   "cell_type": "code",
   "execution_count": 16,
   "id": "89be9a77",
   "metadata": {},
   "outputs": [
    {
     "name": "stdout",
     "output_type": "stream",
     "text": [
      "\n",
      "Question 3: Get all keys from dictionary {'name': 'John', 'age': 25, 'city': 'New York'}\n"
     ]
    },
    {
     "data": {
      "text/plain": [
       "dict_keys(['name', 'age', 'city'])"
      ]
     },
     "execution_count": 16,
     "metadata": {},
     "output_type": "execute_result"
    }
   ],
   "source": [
    "# Question 3: Get all keys from dictionary {'name': 'John', 'age': 25, 'city': 'New York'}\n",
    "print(\"\\nQuestion 3: Get all keys from dictionary {'name': 'John', 'age': 25, 'city': 'New York'}\")\n",
    "# Your code here\n",
    "d={'name': 'John', 'age': 25, 'city': 'New York'}\n",
    "d.keys()"
   ]
  },
  {
   "cell_type": "code",
   "execution_count": 17,
   "id": "757e5017",
   "metadata": {},
   "outputs": [
    {
     "name": "stdout",
     "output_type": "stream",
     "text": [
      "\n",
      "Question 4: Get all values from dictionary {'python': 3, 'java': 2, 'c++': 1}\n"
     ]
    },
    {
     "data": {
      "text/plain": [
       "dict_values([3, 2, 1])"
      ]
     },
     "execution_count": 17,
     "metadata": {},
     "output_type": "execute_result"
    }
   ],
   "source": [
    "# Question 4: Get all values from dictionary {'python': 3, 'java': 2, 'c++': 1}\n",
    "print(\"\\nQuestion 4: Get all values from dictionary {'python': 3, 'java': 2, 'c++': 1}\")\n",
    "# Your code here\n",
    "d={'python': 3, 'java': 2, 'c++': 1}\n",
    "d.values()"
   ]
  },
  {
   "cell_type": "code",
   "execution_count": 18,
   "id": "55aa93cb",
   "metadata": {},
   "outputs": [
    {
     "name": "stdout",
     "output_type": "stream",
     "text": [
      "\n",
      "Question 5: Check if key 'age' exists in {'name': 'Alice', 'age': 30, 'city': 'London'}\n"
     ]
    },
    {
     "data": {
      "text/plain": [
       "True"
      ]
     },
     "execution_count": 18,
     "metadata": {},
     "output_type": "execute_result"
    }
   ],
   "source": [
    "# Question 5: Check if key 'age' exists in {'name': 'Alice', 'age': 30, 'city': 'London'}\n",
    "print(\"\\nQuestion 5: Check if key 'age' exists in {'name': 'Alice', 'age': 30, 'city': 'London'}\")\n",
    "# Your code here\n",
    "'age' in {'name': 'Alice', 'age': 30, 'city': 'London'}"
   ]
  },
  {
   "cell_type": "code",
   "execution_count": 28,
   "id": "7a8bf991",
   "metadata": {},
   "outputs": [
    {
     "name": "stdout",
     "output_type": "stream",
     "text": [
      "\n",
      "Question 6: Remove key 'temp' from {'a': 1, 'b': 2, 'temp': 3, 'c': 4}\n"
     ]
    },
    {
     "data": {
      "text/plain": [
       "{'a': 1, 'b': 2, 'c': 4}"
      ]
     },
     "execution_count": 28,
     "metadata": {},
     "output_type": "execute_result"
    }
   ],
   "source": [
    "# Question 6: Remove key 'temp' from {'a': 1, 'b': 2, 'temp': 3, 'c': 4}\n",
    "print(\"\\nQuestion 6: Remove key 'temp' from {'a': 1, 'b': 2, 'temp': 3, 'c': 4}\")\n",
    "# Your code here\n",
    "D={'a': 1, 'b': 2, 'temp': 3, 'c': 4}\n",
    "D.pop('temp')\n",
    "D\n"
   ]
  },
  {
   "cell_type": "code",
   "execution_count": 32,
   "id": "805e18bd",
   "metadata": {},
   "outputs": [
    {
     "name": "stdout",
     "output_type": "stream",
     "text": [
      "\n",
      "Question 7: Find the sum of all values in {'math': 85, 'science': 92, 'english': 78}\n"
     ]
    },
    {
     "data": {
      "text/plain": [
       "255"
      ]
     },
     "execution_count": 32,
     "metadata": {},
     "output_type": "execute_result"
    }
   ],
   "source": [
    "# Question 7: Find the sum of all values in {'math': 85, 'science': 92, 'english': 78}\n",
    "print(\"\\nQuestion 7: Find the sum of all values in {'math': 85, 'science': 92, 'english': 78}\")\n",
    "# Your code here\n",
    "D={'math': 85, 'science': 92, 'english': 78}\n",
    "x=D.values()\n",
    "sum(x)\n"
   ]
  },
  {
   "cell_type": "code",
   "execution_count": 42,
   "id": "26c9a417",
   "metadata": {},
   "outputs": [
    {
     "name": "stdout",
     "output_type": "stream",
     "text": [
      "\n",
      "Question 8: Create a dictionary with squares of numbers 1 to 5\n",
      "{1: 1, 2: 4, 3: 9, 4: 16, 5: 25}\n"
     ]
    }
   ],
   "source": [
    "# Question 8: Create a dictionary with squares of numbers 1 to 5\n",
    "print(\"\\nQuestion 8: Create a dictionary with squares of numbers 1 to 5\")\n",
    "# Your code here\n",
    "d={}\n",
    "n=int(input())\n",
    "for i in range(1,n+1):\n",
    "    values=i**2\n",
    "    d[i]=values    # syntax : d[key]=value\n",
    "print(d)    \n"
   ]
  },
  {
   "cell_type": "code",
   "execution_count": 56,
   "id": "6f0e0175",
   "metadata": {},
   "outputs": [
    {
     "name": "stdout",
     "output_type": "stream",
     "text": [
      "\n",
      "Question 9: Count frequency of each character in string 'hello'\n",
      "{'h': 1, 'e': 1, 'l': 2, 'o': 1}\n"
     ]
    }
   ],
   "source": [
    "# Question 9: Count frequency of each character in string \"hello\"\n",
    "print(\"\\nQuestion 9: Count frequency of each character in string 'hello'\")\n",
    "# Your code here\n",
    "d={}\n",
    "n='hello'\n",
    "for i in n:\n",
    "    if i in d:\n",
    "        d[i]+=1\n",
    "    else:\n",
    "        d[i]=1\n",
    "print(d)            "
   ]
  },
  {
   "cell_type": "code",
   "execution_count": 65,
   "id": "b3e699bc",
   "metadata": {},
   "outputs": [
    {
     "name": "stdout",
     "output_type": "stream",
     "text": [
      "\n",
      "Question 10: Merge two dictionaries {'a': 1, 'b': 2} and {'c': 3, 'd': 4}\n"
     ]
    },
    {
     "data": {
      "text/plain": [
       "{'a': 1, 'b': 2, 'c': 3, 'd': 4}"
      ]
     },
     "execution_count": 65,
     "metadata": {},
     "output_type": "execute_result"
    }
   ],
   "source": [
    "# Question 10: Merge two dictionaries {'a': 1, 'b': 2} and {'c': 3, 'd': 4}\n",
    "print(\"\\nQuestion 10: Merge two dictionaries {'a': 1, 'b': 2} and {'c': 3, 'd': 4}\")\n",
    "# Your code here\n",
    "d1={'a': 1, 'b': 2}\n",
    "d2={'c': 3, 'd': 4}\n",
    "# d3={}\n",
    "# for i in d1:\n",
    "#     d3[i]=d1[i]\n",
    "# for j in d2:\n",
    "#     d3[j]=d2[j] \n",
    "# print(d3) \n",
    "# ---------------- or --------------------------------      \n",
    "# d3=d1.copy()\n",
    "# d3.update(d2)\n",
    "# d3\n",
    "#-----------------or -----------------\n",
    "d3=d1|d2\n",
    "d3"
   ]
  },
  {
   "cell_type": "code",
   "execution_count": 66,
   "id": "dd891333",
   "metadata": {},
   "outputs": [
    {
     "name": "stdout",
     "output_type": "stream",
     "text": [
      "\n",
      "Question 11: Create a nested dictionary: {'person': {'name': 'Alice', 'age': 25}}\n",
      "{'person': {'name': 'Alice', 'age': 25, 'gender': 'Male'}}\n"
     ]
    }
   ],
   "source": [
    "# Question 11: Create a nested dictionary: {'person': {'name': 'Alice', 'age': 25}}\n",
    "print(\"\\nQuestion 11: Create a nested dictionary: {'person': {'name': 'Alice', 'age': 25}}\")\n",
    "# Your code here\n",
    "d={'person':{'name':'Alice','age':25,'gender': 'Male'}}\n",
    "print(d)"
   ]
  },
  {
   "cell_type": "code",
   "execution_count": 73,
   "id": "aab2ba34",
   "metadata": {},
   "outputs": [
    {
     "name": "stdout",
     "output_type": "stream",
     "text": [
      "\n",
      "Question 12: Access nested value 'name' from {'person': {'name': 'Alice', 'age': 25}}\n"
     ]
    },
    {
     "data": {
      "text/plain": [
       "'Alice'"
      ]
     },
     "execution_count": 73,
     "metadata": {},
     "output_type": "execute_result"
    }
   ],
   "source": [
    "# Question 12: Access nested value 'name' from {'person': {'name': 'Alice', 'age': 25}}\n",
    "print(\"\\nQuestion 12: Access nested value 'name' from {'person': {'name': 'Alice', 'age': 25}}\")\n",
    "# Your code here\n",
    "d={'person': {'name': 'Alice', 'age': 25}}\n",
    "d['person']['name']"
   ]
  },
  {
   "cell_type": "code",
   "execution_count": 75,
   "id": "140f0a43",
   "metadata": {},
   "outputs": [
    {
     "name": "stdout",
     "output_type": "stream",
     "text": [
      "\n",
      "Question 13: Create a dictionary with list values: {'fruits': ['apple', 'banana'], 'colors': ['red', 'blue']}\n"
     ]
    },
    {
     "data": {
      "text/plain": [
       "{'fruits': ['apple', 'banana'], 'colors': ['red', 'blue']}"
      ]
     },
     "execution_count": 75,
     "metadata": {},
     "output_type": "execute_result"
    }
   ],
   "source": [
    "# Question 13: Create a dictionary with list values: {'fruits': ['apple', 'banana'], 'colors': ['red', 'blue']}\n",
    "print(\"\\nQuestion 13: Create a dictionary with list values: {'fruits': ['apple', 'banana'], 'colors': ['red', 'blue']}\")\n",
    "# Your code here\n",
    "lst={'fruits':['apple','banana'],'colors':['red','blue']}\n",
    "lst"
   ]
  },
  {
   "cell_type": "code",
   "execution_count": 82,
   "id": "d4e114a0",
   "metadata": {},
   "outputs": [
    {
     "name": "stdout",
     "output_type": "stream",
     "text": [
      "\n",
      "Question 14: Add 'orange' to the 'fruits' list in nested dictionary\n"
     ]
    },
    {
     "data": {
      "text/plain": [
       "{'fruits': ['apple', 'banana', 'orange'], 'colors': ['red', 'blue']}"
      ]
     },
     "execution_count": 82,
     "metadata": {},
     "output_type": "execute_result"
    }
   ],
   "source": [
    "# Question 14: Add 'orange' to the 'fruits' list in nested dictionary\n",
    "print(\"\\nQuestion 14: Add 'orange' to the 'fruits' list in nested dictionary\")\n",
    "# Your code here\n",
    "lst={'fruits':['apple','banana'],'colors':['red','blue']}\n",
    "lst['fruits'].append('orange')\n",
    "lst\n",
    "\n"
   ]
  },
  {
   "cell_type": "code",
   "execution_count": 83,
   "id": "ca25fa31",
   "metadata": {},
   "outputs": [
    {
     "name": "stdout",
     "output_type": "stream",
     "text": [
      "\n",
      "Question 15: Create a dictionary with tuple values: {'coordinates': (10, 20), 'rgb': (255, 0, 0)}\n"
     ]
    },
    {
     "data": {
      "text/plain": [
       "{'coordinates': (10, 20), 'rgb': (255, 0, 0)}"
      ]
     },
     "execution_count": 83,
     "metadata": {},
     "output_type": "execute_result"
    }
   ],
   "source": [
    "# Question 15: Create a dictionary with tuple values: {'coordinates': (10, 20), 'rgb': (255, 0, 0)}\n",
    "print(\"\\nQuestion 15: Create a dictionary with tuple values: {'coordinates': (10, 20), 'rgb': (255, 0, 0)}\")\n",
    "# Your code here\n",
    "d= {'coordinates': (10, 20), 'rgb': (255, 0, 0)}\n",
    "d"
   ]
  },
  {
   "cell_type": "code",
   "execution_count": 84,
   "id": "11a21079",
   "metadata": {},
   "outputs": [
    {
     "name": "stdout",
     "output_type": "stream",
     "text": [
      "\n",
      "Question 16: Extract first coordinate from nested tuple\n"
     ]
    },
    {
     "data": {
      "text/plain": [
       "10"
      ]
     },
     "execution_count": 84,
     "metadata": {},
     "output_type": "execute_result"
    }
   ],
   "source": [
    "# Question 16: Extract first coordinate from nested tuple\n",
    "print(\"\\nQuestion 16: Extract first coordinate from nested tuple\")\n",
    "# Your code here\n",
    "d={'coordinates': (10, 20), 'rgb': (255, 0, 0)}\n",
    "d['coordinates'][0]"
   ]
  },
  {
   "cell_type": "code",
   "execution_count": 85,
   "id": "b24d98ad",
   "metadata": {},
   "outputs": [
    {
     "name": "stdout",
     "output_type": "stream",
     "text": [
      "\n",
      "Question 17: Create a dictionary with set values: {'vowels': {'a', 'e', 'i'}, 'consonants': {'b', 'c', 'd'}}\n"
     ]
    },
    {
     "data": {
      "text/plain": [
       "{'vowels': {'a', 'e', 'i'}, 'consonants': {'b', 'c', 'd'}}"
      ]
     },
     "execution_count": 85,
     "metadata": {},
     "output_type": "execute_result"
    }
   ],
   "source": [
    "# Question 17: Create a dictionary with set values: {'vowels': {'a', 'e', 'i'}, 'consonants': {'b', 'c', 'd'}}\n",
    "print(\"\\nQuestion 17: Create a dictionary with set values: {'vowels': {'a', 'e', 'i'}, 'consonants': {'b', 'c', 'd'}}\")\n",
    "# Your code here\n",
    "dic={'vowels':{'a','e','i'},'consonants':{'b','c','d'}}\n",
    "dic"
   ]
  },
  {
   "cell_type": "code",
   "execution_count": 90,
   "id": "0b1d6aa1",
   "metadata": {},
   "outputs": [
    {
     "name": "stdout",
     "output_type": "stream",
     "text": [
      "\n",
      "Question 18: Add 'o' to vowels set in nested dictionary\n"
     ]
    },
    {
     "data": {
      "text/plain": [
       "{'vowels': {'a', 'e', 'i', 'o'}, 'consonants': {'b', 'c', 'd'}}"
      ]
     },
     "execution_count": 90,
     "metadata": {},
     "output_type": "execute_result"
    }
   ],
   "source": [
    "# Question 18: Add 'o' to vowels set in nested dictionary\n",
    "print(\"\\nQuestion 18: Add 'o' to vowels set in nested dictionary\")\n",
    "# Your code here\n",
    "x={'vowels': {'a', 'e', 'i'}, 'consonants': {'b', 'c', 'd'}}\n",
    "x['vowels'].update('o')\n",
    "x\n"
   ]
  },
  {
   "cell_type": "code",
   "execution_count": 91,
   "id": "546e630f",
   "metadata": {},
   "outputs": [
    {
     "name": "stdout",
     "output_type": "stream",
     "text": [
      "\n",
      "Question 19: Create a 3-level nested dictionary: {'company': {'department': {'employee': {'name': 'John', 'id': 123}}}}\n"
     ]
    },
    {
     "data": {
      "text/plain": [
       "{'company': {'department': {'employee': {'name': 'jhon', 'id': 123}}}}"
      ]
     },
     "execution_count": 91,
     "metadata": {},
     "output_type": "execute_result"
    }
   ],
   "source": [
    "# Question 19: Create a 3-level nested dictionary: {'company': {'department': {'employee': {'name': 'John', 'id': 123}}}}\n",
    "print(\"\\nQuestion 19: Create a 3-level nested dictionary: {'company': {'department': {'employee': {'name': 'John', 'id': 123}}}}\")\n",
    "# Your code here\n",
    "dict={'company':{'department':{'employee':{'name':'jhon','id':123}}}}\n",
    "dict"
   ]
  },
  {
   "cell_type": "code",
   "execution_count": 93,
   "id": "bf26eece",
   "metadata": {},
   "outputs": [
    {
     "name": "stdout",
     "output_type": "stream",
     "text": [
      "\n",
      "Question 20: Access employee name from 3-level nested dictionary\n"
     ]
    },
    {
     "data": {
      "text/plain": [
       "'jhon'"
      ]
     },
     "execution_count": 93,
     "metadata": {},
     "output_type": "execute_result"
    }
   ],
   "source": [
    "# Question 20: Access employee name from 3-level nested dictionary\n",
    "print(\"\\nQuestion 20: Access employee name from 3-level nested dictionary\")\n",
    "# Your code here\n",
    "dict['company']['department']['employee']['name']\n",
    "\n"
   ]
  },
  {
   "cell_type": "code",
   "execution_count": 94,
   "id": "4bd861e5",
   "metadata": {},
   "outputs": [
    {
     "name": "stdout",
     "output_type": "stream",
     "text": [
      "\n",
      "Question 21: Create a dictionary with mixed data types: {'int': 42, 'float': 3.14, 'str': 'hello', 'bool': True}\n"
     ]
    },
    {
     "data": {
      "text/plain": [
       "{'int': 42, 'float': 3.14, 'str': 'rakesh', 'bool': True}"
      ]
     },
     "execution_count": 94,
     "metadata": {},
     "output_type": "execute_result"
    }
   ],
   "source": [
    "# Question 21: Create a dictionary with mixed data types: {'int': 42, 'float': 3.14, 'str': 'hello', 'bool': True}\n",
    "print(\"\\nQuestion 21: Create a dictionary with mixed data types: {'int': 42, 'float': 3.14, 'str': 'hello', 'bool': True}\")\n",
    "# Your code here\n",
    "x={'int':42,'float':3.14,'str':\"rakesh\",'bool':True}\n",
    "x"
   ]
  },
  {
   "cell_type": "code",
   "execution_count": null,
   "id": "ecef73e3",
   "metadata": {},
   "outputs": [
    {
     "name": "stdout",
     "output_type": "stream",
     "text": [
      "\n",
      "Question 22: Check data type of each value in mixed dictionary\n",
      "<class 'int'>\n",
      "<class 'float'>\n",
      "<class 'str'>\n",
      "<class 'bool'>\n"
     ]
    }
   ],
   "source": [
    "# Question 22: Check data type of each value in mixed dictionary\n",
    "print(\"\\nQuestion 22: Check data type of each value in mixed dictionary\")\n",
    "# Your code here\n",
    "y={'int': 42, 'float': 3.14, 'str': 'rakesh', 'bool': True}    \n",
    "for i in y:\n",
    "    print(type(y[i]))\n",
    "\n",
    "# for key ,values in y.items():\n",
    "#     print(type(values))"
   ]
  },
  {
   "cell_type": "code",
   "execution_count": 123,
   "id": "66b37fa1",
   "metadata": {},
   "outputs": [
    {
     "name": "stdout",
     "output_type": "stream",
     "text": [
      "\n",
      "Question 23: Create a dictionary with function values: {'len': len, 'str': str, 'int': int}\n"
     ]
    },
    {
     "data": {
      "text/plain": [
       "{'len': <function len(obj, /)>, 'str': str, 'int': int}"
      ]
     },
     "execution_count": 123,
     "metadata": {},
     "output_type": "execute_result"
    }
   ],
   "source": [
    "# Question 23: Create a dictionary with function values: {'len': len, 'str': str, 'int': int}\n",
    "print(\"\\nQuestion 23: Create a dictionary with function values: {'len': len, 'str': str, 'int': int}\")\n",
    "# Your code here\n",
    "d={'len':len,'str':str,'int':int}\n",
    "d"
   ]
  },
  {
   "cell_type": "code",
   "execution_count": 131,
   "id": "8637c63d",
   "metadata": {},
   "outputs": [
    {
     "name": "stdout",
     "output_type": "stream",
     "text": [
      "\n",
      "Question 24: Apply each function to '123' using dictionary\n",
      "{'len': 3, 'str': '123', 'int': 123}\n"
     ]
    }
   ],
   "source": [
    "# Question 24: Apply each function to \"123\" using dictionary\n",
    "print(\"\\nQuestion 24: Apply each function to '123' using dictionary\")\n",
    "# Your code here\n",
    "x={'len':len,'str':str,'int':int}\n",
    "values='123'\n",
    "for i in x:\n",
    "    x[i]=x[i](values)\n",
    "print(x)    \n",
    "\n"
   ]
  },
  {
   "cell_type": "code",
   "execution_count": 126,
   "id": "09ad4101",
   "metadata": {},
   "outputs": [
    {
     "name": "stdout",
     "output_type": "stream",
     "text": [
      "\n",
      "Question 25: Create a dictionary with lambda functions: {'double': lambda x: x*2, 'square': lambda x: x**2}\n"
     ]
    },
    {
     "data": {
      "text/plain": [
       "{'double': <function __main__.<lambda>(x)>,\n",
       " 'square': <function __main__.<lambda>(x)>}"
      ]
     },
     "execution_count": 126,
     "metadata": {},
     "output_type": "execute_result"
    }
   ],
   "source": [
    "# Question 25: Create a dictionary with lambda functions: {'double': lambda x: x*2, 'square': lambda x: x**2}\n",
    "print(\"\\nQuestion 25: Create a dictionary with lambda functions: {'double': lambda x: x*2, 'square': lambda x: x**2}\")\n",
    "# Your code here\n",
    "d={'double': lambda x: x*2, 'square': lambda x: x**2}\n",
    "d"
   ]
  },
  {
   "cell_type": "code",
   "execution_count": 154,
   "id": "8abd1c37",
   "metadata": {},
   "outputs": [
    {
     "name": "stdout",
     "output_type": "stream",
     "text": [
      "\n",
      "Question 26: Apply each lambda function to 5\n",
      "{'double': 10, 'square': 25}\n"
     ]
    }
   ],
   "source": [
    "# Question 26: Apply each lambda function to 5\n",
    "print(\"\\nQuestion 26: Apply each lambda function to 5\")\n",
    "# Your code here\n",
    "d = {\n",
    "    'double': lambda x: x * 2,\n",
    "    'square': lambda x: x ** 2\n",
    "}\n",
    "\n",
    "result = {}\n",
    "for key, func in d.items():\n",
    "    result[key] = func(5)\n",
    "\n",
    "print(result)\n"
   ]
  },
  {
   "cell_type": "code",
   "execution_count": null,
   "id": "72c34c2f",
   "metadata": {},
   "outputs": [],
   "source": []
  },
  {
   "cell_type": "code",
   "execution_count": null,
   "id": "2baa9535",
   "metadata": {},
   "outputs": [],
   "source": []
  }
 ],
 "metadata": {
  "kernelspec": {
   "display_name": "Python 3",
   "language": "python",
   "name": "python3"
  },
  "language_info": {
   "codemirror_mode": {
    "name": "ipython",
    "version": 3
   },
   "file_extension": ".py",
   "mimetype": "text/x-python",
   "name": "python",
   "nbconvert_exporter": "python",
   "pygments_lexer": "ipython3",
   "version": "3.13.5"
  }
 },
 "nbformat": 4,
 "nbformat_minor": 5
}
