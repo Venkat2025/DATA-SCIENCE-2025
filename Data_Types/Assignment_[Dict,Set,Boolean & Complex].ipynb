{
 "cells": [
  {
   "cell_type": "code",
   "execution_count": 1,
   "id": "530f429e",
   "metadata": {},
   "outputs": [],
   "source": [
    "###############   DICTIONARY ASSIGNMENT CONTINUTION #############"
   ]
  },
  {
   "cell_type": "code",
   "execution_count": 2,
   "id": "85e2ca7f",
   "metadata": {},
   "outputs": [
    {
     "name": "stdout",
     "output_type": "stream",
     "text": [
      "\n",
      "Question 27: Create a dictionary with class values: {'list': list, 'dict': dict, 'set': set}\n"
     ]
    },
    {
     "data": {
      "text/plain": [
       "{'list': list, 'dict': dict, 'set': set}"
      ]
     },
     "execution_count": 2,
     "metadata": {},
     "output_type": "execute_result"
    }
   ],
   "source": [
    "# Question 27: Create a dictionary with class values: {'list': list, 'dict': dict, 'set': set}\n",
    "print(\"\\nQuestion 27: Create a dictionary with class values: {'list': list, 'dict': dict, 'set': set}\")\n",
    "# Your code here\n",
    "dict={'list':list,'dict':dict,'set':set}\n",
    "dict"
   ]
  },
  {
   "cell_type": "code",
   "execution_count": null,
   "id": "7eb3bb6d",
   "metadata": {},
   "outputs": [],
   "source": [
    "# Question 28: Create instances using class dictionary\n",
    "print(\"\\nQuestion 28: Create instances using class dictionary\")\n",
    "# Your code here"
   ]
  },
  {
   "cell_type": "code",
   "execution_count": 3,
   "id": "c2842a92",
   "metadata": {},
   "outputs": [
    {
     "name": "stdout",
     "output_type": "stream",
     "text": [
      "\n",
      "Question 29: Create a dictionary with None values: {'a': None, 'b': None, 'c': None}\n"
     ]
    },
    {
     "data": {
      "text/plain": [
       "{'a': None, 'b': None, 'c': None}"
      ]
     },
     "execution_count": 3,
     "metadata": {},
     "output_type": "execute_result"
    }
   ],
   "source": [
    "# Question 29: Create a dictionary with None values: {'a': None, 'b': None, 'c': None}\n",
    "print(\"\\nQuestion 29: Create a dictionary with None values: {'a': None, 'b': None, 'c': None}\")\n",
    "# Your code here\n",
    "d={'a':None,'b':None,'c':None}\n",
    "d"
   ]
  },
  {
   "cell_type": "code",
   "execution_count": 4,
   "id": "980b98a9",
   "metadata": {},
   "outputs": [
    {
     "name": "stdout",
     "output_type": "stream",
     "text": [
      "\n",
      "Question 30: Replace all None values with 0\n",
      "{'a': 0, 'b': 0, 'c': 0}\n"
     ]
    }
   ],
   "source": [
    "# Question 30: Replace all None values with 0\n",
    "print(\"\\nQuestion 30: Replace all None values with 0\")\n",
    "# Your code here\n",
    "d={'a':None,'b':None,'c':None}\n",
    "for i in d:\n",
    "    d[i]=0\n",
    "print(d)    "
   ]
  },
  {
   "cell_type": "code",
   "execution_count": 5,
   "id": "f53ea125",
   "metadata": {},
   "outputs": [
    {
     "name": "stdout",
     "output_type": "stream",
     "text": [
      "\n",
      "Question 31: Create a dictionary with boolean values: {'is_active': True, 'is_admin': False}\n"
     ]
    },
    {
     "data": {
      "text/plain": [
       "{'is_active': True, 'is_admin': False}"
      ]
     },
     "execution_count": 5,
     "metadata": {},
     "output_type": "execute_result"
    }
   ],
   "source": [
    "# Question 31: Create a dictionary with boolean values: {'is_active': True, 'is_admin': False}\n",
    "print(\"\\nQuestion 31: Create a dictionary with boolean values: {'is_active': True, 'is_admin': False}\")\n",
    "# Your code here\n",
    "dt={'is_active':True,'is_admin':False}\n",
    "dt"
   ]
  },
  {
   "cell_type": "code",
   "execution_count": 11,
   "id": "a7c0476f",
   "metadata": {},
   "outputs": [
    {
     "name": "stdout",
     "output_type": "stream",
     "text": [
      "\n",
      "Question 32: Count True values in boolean dictionary\n",
      "1\n"
     ]
    }
   ],
   "source": [
    "# Question 32: Count True values in boolean dictionary\n",
    "print(\"\\nQuestion 32: Count True values in boolean dictionary\")\n",
    "# Your code here\n",
    "dt={'is_active':True,'is_admin':False}\n",
    "c=0\n",
    "for i in dt:\n",
    "    if dt[i]==True:\n",
    "        c+=1\n",
    "print(c)        "
   ]
  },
  {
   "cell_type": "code",
   "execution_count": 12,
   "id": "ee76892e",
   "metadata": {},
   "outputs": [
    {
     "name": "stdout",
     "output_type": "stream",
     "text": [
      "\n",
      "Question 33: Create a dictionary with complex numbers: {'z1': 3+4j, 'z2': 1+2j}\n"
     ]
    },
    {
     "data": {
      "text/plain": [
       "{'z1': (3+4j), 'z2': (1+2j)}"
      ]
     },
     "execution_count": 12,
     "metadata": {},
     "output_type": "execute_result"
    }
   ],
   "source": [
    "# Question 33: Create a dictionary with complex numbers: {'z1': 3+4j, 'z2': 1+2j}\n",
    "print(\"\\nQuestion 33: Create a dictionary with complex numbers: {'z1': 3+4j, 'z2': 1+2j}\")\n",
    "# Your code here\n",
    "d={'z1': 3+4j, 'z2': 1+2j}\n",
    "d"
   ]
  },
  {
   "cell_type": "code",
   "execution_count": 21,
   "id": "695d28e9",
   "metadata": {},
   "outputs": [
    {
     "name": "stdout",
     "output_type": "stream",
     "text": [
      "\n",
      "Question 34: Find magnitude of each complex number\n",
      "{'z1': 5.0, 'z2': 2.23606797749979}\n"
     ]
    }
   ],
   "source": [
    "# Question 34: Find magnitude of each complex number\n",
    "print(\"\\nQuestion 34: Find magnitude of each complex number\")\n",
    "# Your code here\n",
    "d={'z1': 3+4j, 'z2': 1+2j}\n",
    "for i in d:\n",
    "    d[i]=abs(d[i])\n",
    "print(d)    \n"
   ]
  },
  {
   "cell_type": "code",
   "execution_count": 25,
   "id": "a4e5e40c",
   "metadata": {},
   "outputs": [
    {
     "name": "stdout",
     "output_type": "stream",
     "text": [
      "\n",
      "Question 35: Create a 4-level nested dictionary\n"
     ]
    },
    {
     "data": {
      "text/plain": [
       "{'company': {'department': {'section': {'employee': {'name': 'rakesh',\n",
       "     'age': 22}}}}}"
      ]
     },
     "execution_count": 25,
     "metadata": {},
     "output_type": "execute_result"
    }
   ],
   "source": [
    "# Question 35: Create a 4-level nested dictionary\n",
    "print(\"\\nQuestion 35: Create a 4-level nested dictionary\")\n",
    "# Your code here\n",
    "d={'company':{'department':{'section':{ 'employee':{'name':\"rakesh\",'age':22}}}}}\n",
    "d"
   ]
  },
  {
   "cell_type": "code",
   "execution_count": 26,
   "id": "261ea864",
   "metadata": {},
   "outputs": [
    {
     "name": "stdout",
     "output_type": "stream",
     "text": [
      "\n",
      "Question 36: Access deepest value in 4-level nested dictionary\n"
     ]
    },
    {
     "data": {
      "text/plain": [
       "22"
      ]
     },
     "execution_count": 26,
     "metadata": {},
     "output_type": "execute_result"
    }
   ],
   "source": [
    "# Question 36: Access deepest value in 4-level nested dictionary\n",
    "print(\"\\nQuestion 36: Access deepest value in 4-level nested dictionary\")\n",
    "# Your code here\n",
    "d={'company':{'department':{'section':{ 'employee':{'name':\"rakesh\",'age':22}}}}}\n",
    "d['company']['department']['section']['employee']['age']"
   ]
  },
  {
   "cell_type": "code",
   "execution_count": 27,
   "id": "46ac2c07",
   "metadata": {},
   "outputs": [
    {
     "name": "stdout",
     "output_type": "stream",
     "text": [
      "\n",
      "Question 37: Create a dictionary with range values: {'r1': range(3), 'r2': range(5)}\n"
     ]
    },
    {
     "data": {
      "text/plain": [
       "{'r1': range(0, 3), 'r2': range(0, 5)}"
      ]
     },
     "execution_count": 27,
     "metadata": {},
     "output_type": "execute_result"
    }
   ],
   "source": [
    "# Question 37: Create a dictionary with range values: {'r1': range(3), 'r2': range(5)}\n",
    "print(\"\\nQuestion 37: Create a dictionary with range values: {'r1': range(3), 'r2': range(5)}\")\n",
    "# Your code here\n",
    "r={'r1': range(3), 'r2': range(5)}\n",
    "r\n"
   ]
  },
  {
   "cell_type": "code",
   "execution_count": 34,
   "id": "6b043f1a",
   "metadata": {},
   "outputs": [
    {
     "name": "stdout",
     "output_type": "stream",
     "text": [
      "\n",
      "Question 38: Convert each range to list\n",
      "{'r1': [0, 1, 2], 'r2': [0, 1, 2, 3, 4]}\n"
     ]
    }
   ],
   "source": [
    "# Question 38: Convert each range to list\n",
    "print(\"\\nQuestion 38: Convert each range to list\")\n",
    "# Your code here\n",
    "r={'r1': range(3), 'r2': range(5)}\n",
    "for i in r:\n",
    "    r[i]=list(r[i])\n",
    "print(r)    "
   ]
  },
  {
   "cell_type": "code",
   "execution_count": 35,
   "id": "d47d200b",
   "metadata": {},
   "outputs": [
    {
     "name": "stdout",
     "output_type": "stream",
     "text": [
      "\n",
      "Question 39: Create a dictionary with generator values\n"
     ]
    }
   ],
   "source": [
    "# Question 39: Create a dictionary with generator values\n",
    "print(\"\\nQuestion 39: Create a dictionary with generator values\")\n",
    "# Your code here"
   ]
  },
  {
   "cell_type": "code",
   "execution_count": null,
   "id": "923cee21",
   "metadata": {},
   "outputs": [
    {
     "name": "stdout",
     "output_type": "stream",
     "text": [
      "\n",
      "Question 43: Create a dictionary with nested lists: {'matrix': [[1, 2], [3, 4]], 'vector': [5, 6, 7]}\n"
     ]
    },
    {
     "data": {
      "text/plain": [
       "{'matrix': [[1, 2], [3, 4]], 'vector': [5, 6, 7]}"
      ]
     },
     "execution_count": 36,
     "metadata": {},
     "output_type": "execute_result"
    }
   ],
   "source": [
    "# Question 43: Create a dictionary with nested lists: {'matrix': [[1, 2], [3, 4]], 'vector': [5, 6, 7]}\n",
    "print(\"\\nQuestion 43: Create a dictionary with nested lists: {'matrix': [[1, 2], [3, 4]], 'vector': [5, 6, 7]}\")\n",
    "# Your code here\n",
    "d={'matrix':[[1,2],[3,4]],'vector':[5,6,7]}\n",
    "d"
   ]
  },
  {
   "cell_type": "code",
   "execution_count": 55,
   "id": "b4090e3f",
   "metadata": {},
   "outputs": [
    {
     "name": "stdout",
     "output_type": "stream",
     "text": [
      "\n",
      "Question 44: Find sum of each nested list\n",
      "{'matrix': [3, 7], 'vector': 18}\n"
     ]
    }
   ],
   "source": [
    "# Question 44: Find sum of each nested list\n",
    "print(\"\\nQuestion 44: Find sum of each nested list\")\n",
    "# Your code here\n",
    "e={'matrix':[[1,2],[3,4]],'vector':[5,6,7]}\n",
    "for key, value in d.items():\n",
    "    if isinstance(value[0], list):\n",
    "        e[key] = [sum(inner) for inner in value]\n",
    "    else:\n",
    "        e[key] = sum(value)\n",
    "print(e)\n",
    "\n",
    "\n",
    "   "
   ]
  },
  {
   "cell_type": "code",
   "execution_count": 56,
   "id": "bc989488",
   "metadata": {},
   "outputs": [
    {
     "name": "stdout",
     "output_type": "stream",
     "text": [
      "\n",
      "Question 45: Create a dictionary with nested dictionaries: {'config': {'db': {'host': 'localhost', 'port': 5432}}}\n"
     ]
    },
    {
     "data": {
      "text/plain": [
       "{'config': {'db': {'host': 'localhost', 'port': 5432}}}"
      ]
     },
     "execution_count": 56,
     "metadata": {},
     "output_type": "execute_result"
    }
   ],
   "source": [
    "# Question 45: Create a dictionary with nested dictionaries: {'config': {'db': {'host': 'localhost', 'port': 5432}}}\n",
    "print(\"\\nQuestion 45: Create a dictionary with nested dictionaries: {'config': {'db': {'host': 'localhost', 'port': 5432}}}\")\n",
    "# Your code here\n",
    "r={'config': {'db': {'host': 'localhost', 'port': 5432}}}\n",
    "r"
   ]
  },
  {
   "cell_type": "code",
   "execution_count": 57,
   "id": "1e786201",
   "metadata": {},
   "outputs": [
    {
     "name": "stdout",
     "output_type": "stream",
     "text": [
      "\n",
      "Question 46: Access database port from nested configuration\n"
     ]
    },
    {
     "data": {
      "text/plain": [
       "5432"
      ]
     },
     "execution_count": 57,
     "metadata": {},
     "output_type": "execute_result"
    }
   ],
   "source": [
    "# Question 46: Access database port from nested configuration\n",
    "print(\"\\nQuestion 46: Access database port from nested configuration\")\n",
    "# Your code here\n",
    "r={'config': {'db': {'host': 'localhost', 'port': 5432}}}\n",
    "r['config']['db']['port']"
   ]
  },
  {
   "cell_type": "code",
   "execution_count": 58,
   "id": "04351b32",
   "metadata": {},
   "outputs": [
    {
     "name": "stdout",
     "output_type": "stream",
     "text": [
      "\n",
      "Question 47: Create a dictionary with nested tuples: {'points': ((1, 2), (3, 4)), 'rgb': ((255, 0, 0), (0, 255, 0))}\n"
     ]
    },
    {
     "data": {
      "text/plain": [
       "{'points': ((1, 2), (3, 4)), 'rgb': ((255, 0, 0), (0, 255, 0))}"
      ]
     },
     "execution_count": 58,
     "metadata": {},
     "output_type": "execute_result"
    }
   ],
   "source": [
    "# Question 47: Create a dictionary with nested tuples: {'points': ((1, 2), (3, 4)), 'rgb': ((255, 0, 0), (0, 255, 0))}\n",
    "print(\"\\nQuestion 47: Create a dictionary with nested tuples: {'points': ((1, 2), (3, 4)), 'rgb': ((255, 0, 0), (0, 255, 0))}\")\n",
    "# Your code here\n",
    "nt={'points': ((1, 2), (3, 4)), 'rgb': ((255, 0, 0), (0, 255, 0))}\n",
    "nt"
   ]
  },
  {
   "cell_type": "code",
   "execution_count": 61,
   "id": "e8af83da",
   "metadata": {},
   "outputs": [
    {
     "name": "stdout",
     "output_type": "stream",
     "text": [
      "\n",
      "Question 48: Extract first point coordinates\n"
     ]
    },
    {
     "data": {
      "text/plain": [
       "(1, 2)"
      ]
     },
     "execution_count": 61,
     "metadata": {},
     "output_type": "execute_result"
    }
   ],
   "source": [
    "# Question 48: Extract first point coordinates\n",
    "print(\"\\nQuestion 48: Extract first point coordinates\")\n",
    "# Your code here\n",
    "nt={'points': ((1, 2), (3, 4)), 'rgb': ((255, 0, 0), (0, 255, 0))}\n",
    "nt['points'][0]"
   ]
  },
  {
   "cell_type": "code",
   "execution_count": 67,
   "id": "f9626337",
   "metadata": {},
   "outputs": [
    {
     "name": "stdout",
     "output_type": "stream",
     "text": [
      "\n",
      "Question 49: Create a dictionary with nested sets: {'groups': {{1, 2, 3}, {4, 5, 6}}, 'categories': {{'a', 'b'}, {'c', 'd'}}}\n"
     ]
    },
    {
     "data": {
      "text/plain": [
       "{'groups': [{1, 2, 3}, {4, 5, 6}], 'categories': [{'a', 'b'}, {'c', 'd'}]}"
      ]
     },
     "execution_count": 67,
     "metadata": {},
     "output_type": "execute_result"
    }
   ],
   "source": [
    "# Question 49: Create a dictionary with nested sets: {'groups': {{1, 2, 3}, {4, 5, 6}}, 'categories': {{'a', 'b'}, {'c', 'd'}}}\n",
    "print(\"\\nQuestion 49: Create a dictionary with nested sets: {'groups': {{1, 2, 3}, {4, 5, 6}}, 'categories': {{'a', 'b'}, {'c', 'd'}}}\")\n",
    "# Your code here\n",
    "s={'groups': [{1, 2, 3}, {4, 5, 6}],'categories': [{'a', 'b'}, {'c', 'd'}]}\n",
    "s\n"
   ]
  },
  {
   "cell_type": "code",
   "execution_count": null,
   "id": "74987d49",
   "metadata": {},
   "outputs": [
    {
     "name": "stdout",
     "output_type": "stream",
     "text": [
      "\n",
      "Question 50: Find union of all nested sets\n",
      "{'groups': {1, 2, 3, 4, 5, 6}, 'categories': {1, 2, 3, 4, 5, 6, 'a', 'b', 'c', 'd'}}\n"
     ]
    }
   ],
   "source": [
    "# Question 50: Find union of all nested sets\n",
    "print(\"\\nQuestion 50: Find union of all nested sets\")\n",
    "# Your code here \n",
    "x = {'groups': [{1, 2, 3}, {4, 5, 6}], 'categories': [{'a', 'b'}, {'c', 'd'}]}\n",
    "result = {}\n",
    "union_set = set()\n",
    "for key, value in x.items():\n",
    "    for s in value:\n",
    "        union_set = union_set.union(s)\n",
    "    result[key] = union_set\n",
    "print(result)\n",
    "\n",
    "\n",
    "\n"
   ]
  },
  {
   "cell_type": "code",
   "execution_count": 69,
   "id": "50fc3213",
   "metadata": {},
   "outputs": [],
   "source": [
    "#################### SET ASSIGNMENT ##############################"
   ]
  },
  {
   "cell_type": "code",
   "execution_count": 70,
   "id": "771fe497",
   "metadata": {},
   "outputs": [
    {
     "name": "stdout",
     "output_type": "stream",
     "text": [
      "SOLVED EXAMPLE:\n",
      "Find the union of two sets\n",
      "Set 1: {1, 2, 3, 4, 5}\n",
      "Set 2: {4, 5, 6, 7, 8}\n",
      "Union: {1, 2, 3, 4, 5, 6, 7, 8}\n",
      "--------------------------------------------------\n"
     ]
    }
   ],
   "source": [
    "# SOLVED EXAMPLE\n",
    "# --------------\n",
    "# Question: Find the union of two sets\n",
    "print(\"SOLVED EXAMPLE:\")\n",
    "print(\"Find the union of two sets\")\n",
    "set1 = {1, 2, 3, 4, 5}\n",
    "set2 = {4, 5, 6, 7, 8}\n",
    "union_set = set1.union(set2)\n",
    "print(f\"Set 1: {set1}\")\n",
    "print(f\"Set 2: {set2}\")\n",
    "print(f\"Union: {union_set}\")\n",
    "print(\"-\" * 50)"
   ]
  },
  {
   "cell_type": "code",
   "execution_count": 81,
   "id": "eafbfe1d",
   "metadata": {},
   "outputs": [
    {
     "name": "stdout",
     "output_type": "stream",
     "text": [
      "Question 1: Create a set of first 10 natural numbers\n",
      "{1, 2, 3, 4, 5, 6, 7, 8, 9, 10}\n"
     ]
    }
   ],
   "source": [
    "# Question 1: Create a set of first 10 natural numbers\n",
    "print(\"Question 1: Create a set of first 10 natural numbers\")\n",
    "# Your code here\n",
    "n=int(input())\n",
    "d=set()\n",
    "for i in range(1,n+1):  \n",
    "    d.add(i) \n",
    "print(d)    \n",
    "    \n",
    "\n"
   ]
  },
  {
   "cell_type": "code",
   "execution_count": 83,
   "id": "c14b07fb",
   "metadata": {},
   "outputs": [
    {
     "name": "stdout",
     "output_type": "stream",
     "text": [
      "\n",
      "Question 2: Add element 11 to set {1, 2, 3, 4, 5}\n"
     ]
    },
    {
     "data": {
      "text/plain": [
       "{1, 2, 3, 4, 5, 11}"
      ]
     },
     "execution_count": 83,
     "metadata": {},
     "output_type": "execute_result"
    }
   ],
   "source": [
    "# Question 2: Add element 11 to set {1, 2, 3, 4, 5}\n",
    "print(\"\\nQuestion 2: Add element 11 to set {1, 2, 3, 4, 5}\")\n",
    "# Your code here\n",
    "s={1,2,3,4,5}\n",
    "s.add(11)\n",
    "s"
   ]
  },
  {
   "cell_type": "code",
   "execution_count": 84,
   "id": "bd0aea50",
   "metadata": {},
   "outputs": [
    {
     "name": "stdout",
     "output_type": "stream",
     "text": [
      "\n",
      "Question 3: Remove element 3 from set {1, 2, 3, 4, 5, 6}\n"
     ]
    },
    {
     "data": {
      "text/plain": [
       "{1, 2, 4, 5, 6}"
      ]
     },
     "execution_count": 84,
     "metadata": {},
     "output_type": "execute_result"
    }
   ],
   "source": [
    "# Question 3: Remove element 3 from set {1, 2, 3, 4, 5, 6}\n",
    "print(\"\\nQuestion 3: Remove element 3 from set {1, 2, 3, 4, 5, 6}\")\n",
    "# Your code here\n",
    "s={1,2,3,4,5,6}\n",
    "s.remove(3)\n",
    "s"
   ]
  },
  {
   "cell_type": "code",
   "execution_count": 85,
   "id": "bce997c5",
   "metadata": {},
   "outputs": [
    {
     "name": "stdout",
     "output_type": "stream",
     "text": [
      "\n",
      "Question 4: Find the intersection of {1, 2, 3, 4, 5} and {4, 5, 6, 7, 8}\n"
     ]
    },
    {
     "data": {
      "text/plain": [
       "{4, 5}"
      ]
     },
     "execution_count": 85,
     "metadata": {},
     "output_type": "execute_result"
    }
   ],
   "source": [
    "# Question 4: Find the intersection of {1, 2, 3, 4, 5} and {4, 5, 6, 7, 8}\n",
    "print(\"\\nQuestion 4: Find the intersection of {1, 2, 3, 4, 5} and {4, 5, 6, 7, 8}\")\n",
    "# Your code here\n",
    "a={1,2,3,4,5}\n",
    "b={4,5,6,7,8}\n",
    "a.intersection(b)"
   ]
  },
  {
   "cell_type": "code",
   "execution_count": 86,
   "id": "b7f463c0",
   "metadata": {},
   "outputs": [
    {
     "name": "stdout",
     "output_type": "stream",
     "text": [
      "\n",
      "Question 5: Find the difference between {1, 2, 3, 4, 5} and {4, 5, 6, 7, 8}\n"
     ]
    },
    {
     "data": {
      "text/plain": [
       "{1, 2, 3}"
      ]
     },
     "execution_count": 86,
     "metadata": {},
     "output_type": "execute_result"
    }
   ],
   "source": [
    "# Question 5: Find the difference between {1, 2, 3, 4, 5} and {4, 5, 6, 7, 8}\n",
    "print(\"\\nQuestion 5: Find the difference between {1, 2, 3, 4, 5} and {4, 5, 6, 7, 8}\")\n",
    "# Your code here\n",
    "x={1,2,3,4,5}\n",
    "y={4,5,6,7,8}\n",
    "x.difference(y)\n"
   ]
  },
  {
   "cell_type": "code",
   "execution_count": 87,
   "id": "30af6c98",
   "metadata": {},
   "outputs": [
    {
     "name": "stdout",
     "output_type": "stream",
     "text": [
      "\n",
      "Question 6: Check if 5 is in set {1, 2, 3, 4, 6, 7, 8}\n"
     ]
    },
    {
     "data": {
      "text/plain": [
       "False"
      ]
     },
     "execution_count": 87,
     "metadata": {},
     "output_type": "execute_result"
    }
   ],
   "source": [
    "# Question 6: Check if 5 is in set {1, 2, 3, 4, 6, 7, 8}\n",
    "print(\"\\nQuestion 6: Check if 5 is in set {1, 2, 3, 4, 6, 7, 8}\")\n",
    "# Your code here\n",
    "5 in {1,2,3,4,6,7,8}"
   ]
  },
  {
   "cell_type": "code",
   "execution_count": 88,
   "id": "3c1abf9c",
   "metadata": {},
   "outputs": [
    {
     "name": "stdout",
     "output_type": "stream",
     "text": [
      "\n",
      "Question 7: Find the length of set {'a', 'b', 'c', 'd', 'e'}\n"
     ]
    },
    {
     "data": {
      "text/plain": [
       "5"
      ]
     },
     "execution_count": 88,
     "metadata": {},
     "output_type": "execute_result"
    }
   ],
   "source": [
    "# Question 7: Find the length of set {'a', 'b', 'c', 'd', 'e'}\n",
    "print(\"\\nQuestion 7: Find the length of set {'a', 'b', 'c', 'd', 'e'}\")\n",
    "# Your code here\n",
    "z={'a','b','c','d','e'}\n",
    "len(z)"
   ]
  },
  {
   "cell_type": "code",
   "execution_count": 89,
   "id": "211efc92",
   "metadata": {},
   "outputs": [
    {
     "name": "stdout",
     "output_type": "stream",
     "text": [
      "\n",
      "Question 8: Create a set of vowels from string 'hello world'\n",
      "{'o', 'e'}\n"
     ]
    }
   ],
   "source": [
    "# Question 8: Create a set of vowels from string \"hello world\"\n",
    "print(\"\\nQuestion 8: Create a set of vowels from string 'hello world'\")\n",
    "# Your code here\n",
    "s=\"hello world\"\n",
    "t=set()\n",
    "for i in s:\n",
    "    if i in \"aeiou\":\n",
    "        t.add(i)\n",
    "print(t)        "
   ]
  },
  {
   "cell_type": "code",
   "execution_count": 90,
   "id": "aa7e4d48",
   "metadata": {},
   "outputs": [
    {
     "name": "stdout",
     "output_type": "stream",
     "text": [
      "\n",
      "Question 9: Remove duplicates from list [1, 2, 2, 3, 4, 4, 5, 6, 6, 7] using set\n"
     ]
    },
    {
     "data": {
      "text/plain": [
       "{1, 2, 3, 4, 5, 6, 7}"
      ]
     },
     "execution_count": 90,
     "metadata": {},
     "output_type": "execute_result"
    }
   ],
   "source": [
    "# Question 9: Remove duplicates from list [1, 2, 2, 3, 4, 4, 5, 6, 6, 7] using set\n",
    "print(\"\\nQuestion 9: Remove duplicates from list [1, 2, 2, 3, 4, 4, 5, 6, 6, 7] using set\")\n",
    "# Your code here\n",
    "lst=[1, 2, 2, 3, 4, 4, 5, 6, 6, 7]\n",
    "x=set(lst)\n",
    "x"
   ]
  },
  {
   "cell_type": "code",
   "execution_count": 91,
   "id": "90294946",
   "metadata": {},
   "outputs": [
    {
     "name": "stdout",
     "output_type": "stream",
     "text": [
      "\n",
      "Question 10: Check if {1, 2, 3} is a subset of {1, 2, 3, 4, 5, 6}\n"
     ]
    },
    {
     "data": {
      "text/plain": [
       "True"
      ]
     },
     "execution_count": 91,
     "metadata": {},
     "output_type": "execute_result"
    }
   ],
   "source": [
    "# Question 10: Check if {1, 2, 3} is a subset of {1, 2, 3, 4, 5, 6}\n",
    "print(\"\\nQuestion 10: Check if {1, 2, 3} is a subset of {1, 2, 3, 4, 5, 6}\")\n",
    "# Your code here \n",
    "a={1,2,3}\n",
    "b={1,2,3,4,5,6}\n",
    "a.issubset(b)"
   ]
  },
  {
   "cell_type": "code",
   "execution_count": null,
   "id": "e9595577",
   "metadata": {},
   "outputs": [],
   "source": [
    "#################### BOOLEAN ASSIGNMENT ################"
   ]
  },
  {
   "cell_type": "code",
   "execution_count": 92,
   "id": "2abea67b",
   "metadata": {},
   "outputs": [
    {
     "name": "stdout",
     "output_type": "stream",
     "text": [
      "SOLVED EXAMPLE:\n",
      "Check if a number is both even and greater than 10\n",
      "Number: 16\n",
      "Is even: True\n",
      "Is greater than 10: True\n",
      "Both conditions: True\n",
      "--------------------------------------------------\n"
     ]
    }
   ],
   "source": [
    "# SOLVED EXAMPLE\n",
    "# --------------\n",
    "# Question: Check if a number is both even and greater than 10\n",
    "print(\"SOLVED EXAMPLE:\")\n",
    "print(\"Check if a number is both even and greater than 10\")\n",
    "number = 16\n",
    "is_even = number % 2 == 0\n",
    "is_greater_than_10 = number > 10\n",
    "result = is_even and is_greater_than_10\n",
    "print(f\"Number: {number}\")\n",
    "print(f\"Is even: {is_even}\")\n",
    "print(f\"Is greater than 10: {is_greater_than_10}\")\n",
    "print(f\"Both conditions: {result}\")\n",
    "print(\"-\" * 50)"
   ]
  },
  {
   "cell_type": "code",
   "execution_count": 94,
   "id": "5200a0d8",
   "metadata": {},
   "outputs": [
    {
     "name": "stdout",
     "output_type": "stream",
     "text": [
      "Question 1: Check if 25 is greater than 20 and less than 30\n",
      "True\n"
     ]
    }
   ],
   "source": [
    "# Question 1: Check if 25 is greater than 20 and less than 30\n",
    "print(\"Question 1: Check if 25 is greater than 20 and less than 30\")\n",
    "# Your code here\n",
    "print(25>20 and 25<30)\n",
    "\n"
   ]
  },
  {
   "cell_type": "code",
   "execution_count": 95,
   "id": "34103df2",
   "metadata": {},
   "outputs": [
    {
     "name": "stdout",
     "output_type": "stream",
     "text": [
      "\n",
      "Question 2: Check if string 'python' is equal to 'Python' (case sensitive)\n",
      "False\n"
     ]
    }
   ],
   "source": [
    "# Question 2: Check if string \"python\" is equal to \"Python\" (case sensitive)\n",
    "print(\"\\nQuestion 2: Check if string 'python' is equal to 'Python' (case sensitive)\")\n",
    "# Your code here\n",
    "print(\"python\"==\"Python\")"
   ]
  },
  {
   "cell_type": "code",
   "execution_count": 98,
   "id": "75edf0c1",
   "metadata": {},
   "outputs": [
    {
     "name": "stdout",
     "output_type": "stream",
     "text": [
      "\n",
      "Question 3: Check if 15 is divisible by both 3 and 5\n",
      "Yes\n"
     ]
    }
   ],
   "source": [
    "# Question 3: Check if 15 is divisible by both 3 and 5\n",
    "print(\"\\nQuestion 3: Check if 15 is divisible by both 3 and 5\")\n",
    "# Your code here\n",
    "if 15/3 and 15/5:\n",
    "    print(\"Yes\")\n",
    "else:\n",
    "    print(\"False\")    \n"
   ]
  },
  {
   "cell_type": "code",
   "execution_count": 99,
   "id": "02148595",
   "metadata": {},
   "outputs": [
    {
     "name": "stdout",
     "output_type": "stream",
     "text": [
      "\n",
      "Question 4: Check if 7 is not equal to 8\n",
      "True\n"
     ]
    }
   ],
   "source": [
    "# Question 4: Check if 7 is not equal to 8\n",
    "print(\"\\nQuestion 4: Check if 7 is not equal to 8\")\n",
    "# Your code here\n",
    "print(7!=8)"
   ]
  },
  {
   "cell_type": "code",
   "execution_count": 100,
   "id": "a710b34d",
   "metadata": {},
   "outputs": [
    {
     "name": "stdout",
     "output_type": "stream",
     "text": [
      "\n",
      "Question 5: Check if 100 is greater than 50 or less than 25\n",
      "True\n"
     ]
    }
   ],
   "source": [
    "# Question 5: Check if 100 is greater than 50 or less than 25\n",
    "print(\"\\nQuestion 5: Check if 100 is greater than 50 or less than 25\")\n",
    "# Your code here\n",
    "print(100>50 or 100<25)"
   ]
  },
  {
   "cell_type": "code",
   "execution_count": 101,
   "id": "19910a75",
   "metadata": {},
   "outputs": [
    {
     "name": "stdout",
     "output_type": "stream",
     "text": [
      "\n",
      "Question 6: Check if 0 is falsy in Python\n"
     ]
    },
    {
     "data": {
      "text/plain": [
       "True"
      ]
     },
     "execution_count": 101,
     "metadata": {},
     "output_type": "execute_result"
    }
   ],
   "source": [
    "# Question 6: Check if 0 is falsy in Python\n",
    "print(\"\\nQuestion 6: Check if 0 is falsy in Python\")\n",
    "# Your code here\n",
    "0 in[False]"
   ]
  },
  {
   "cell_type": "code",
   "execution_count": 103,
   "id": "295d2a6b",
   "metadata": {},
   "outputs": [
    {
     "name": "stdout",
     "output_type": "stream",
     "text": [
      "\n",
      "Question 7: Check if empty string '' is falsy in Python\n"
     ]
    },
    {
     "data": {
      "text/plain": [
       "False"
      ]
     },
     "execution_count": 103,
     "metadata": {},
     "output_type": "execute_result"
    }
   ],
   "source": [
    "# Question 7: Check if empty string \"\" is falsy in Python\n",
    "print(\"\\nQuestion 7: Check if empty string '' is falsy in Python\")\n",
    "# Your code here\n",
    "' ' in [False]"
   ]
  },
  {
   "cell_type": "code",
   "execution_count": null,
   "id": "466c76a2",
   "metadata": {},
   "outputs": [
    {
     "name": "stdout",
     "output_type": "stream",
     "text": [
      "\n",
      "Question 8: Check if 42 is truthy in Python\n"
     ]
    },
    {
     "data": {
      "text/plain": [
       "True"
      ]
     },
     "execution_count": 106,
     "metadata": {},
     "output_type": "execute_result"
    }
   ],
   "source": [
    "# Question 8: Check if 42 is truthy in Python\n",
    "print(\"\\nQuestion 8: Check if 42 is truthy in Python\")\n",
    "# Your code here\n",
    "n=int(input())\n",
    "42 in [n]\n"
   ]
  },
  {
   "cell_type": "code",
   "execution_count": 112,
   "id": "5e8c97a5",
   "metadata": {},
   "outputs": [
    {
     "name": "stdout",
     "output_type": "stream",
     "text": [
      "\n",
      "Question 9: Check if 10 is between 5 and 15 (inclusive)\n",
      "True\n"
     ]
    }
   ],
   "source": [
    "# Question 9: Check if 10 is between 5 and 15 (inclusive)\n",
    "print(\"\\nQuestion 9: Check if 10 is between 5 and 15 (inclusive)\")\n",
    "# Your code here\n",
    "print(5<=10<=15)"
   ]
  },
  {
   "cell_type": "code",
   "execution_count": 113,
   "id": "a6ba181b",
   "metadata": {},
   "outputs": [
    {
     "name": "stdout",
     "output_type": "stream",
     "text": [
      "\n",
      "Question 10: Check if 3.14 is greater than 3 and less than 4\n",
      "True\n"
     ]
    }
   ],
   "source": [
    "# Question 10: Check if 3.14 is greater than 3 and less than 4\n",
    "print(\"\\nQuestion 10: Check if 3.14 is greater than 3 and less than 4\")\n",
    "# Your code here \n",
    "print(3<3.14<4)"
   ]
  },
  {
   "cell_type": "code",
   "execution_count": null,
   "id": "0744fd7e",
   "metadata": {},
   "outputs": [],
   "source": [
    "###############  NONE ASSIGNMENT ####################"
   ]
  },
  {
   "cell_type": "code",
   "execution_count": 114,
   "id": "c8f90dcd",
   "metadata": {},
   "outputs": [
    {
     "name": "stdout",
     "output_type": "stream",
     "text": [
      "SOLVED EXAMPLE:\n",
      "Check if a variable is None\n",
      "Variable: None\n",
      "Is None: True\n",
      "--------------------------------------------------\n"
     ]
    }
   ],
   "source": [
    "# SOLVED EXAMPLE\n",
    "# --------------\n",
    "# Question: Check if a variable is None\n",
    "print(\"SOLVED EXAMPLE:\")\n",
    "print(\"Check if a variable is None\")\n",
    "variable = None\n",
    "is_none = variable is None\n",
    "print(f\"Variable: {variable}\")\n",
    "print(f\"Is None: {is_none}\")\n",
    "print(\"-\" * 50)"
   ]
  },
  {
   "cell_type": "code",
   "execution_count": 115,
   "id": "ddbc591a",
   "metadata": {},
   "outputs": [
    {
     "name": "stdout",
     "output_type": "stream",
     "text": [
      "Question 1: Create a variable and assign None to it\n"
     ]
    },
    {
     "data": {
      "text/plain": [
       "'None'"
      ]
     },
     "execution_count": 115,
     "metadata": {},
     "output_type": "execute_result"
    }
   ],
   "source": [
    " #Question 1: Create a variable and assign None to it\n",
    "print(\"Question 1: Create a variable and assign None to it\")\n",
    "# Your code here\n",
    "VAR='None'\n",
    "VAR"
   ]
  },
  {
   "cell_type": "code",
   "execution_count": 117,
   "id": "df0507c6",
   "metadata": {},
   "outputs": [
    {
     "name": "stdout",
     "output_type": "stream",
     "text": [
      "\n",
      "Question 2: Check if None equals None\n",
      "True\n"
     ]
    }
   ],
   "source": [
    "# Question 2: Check if None equals None\n",
    "print(\"\\nQuestion 2: Check if None equals None\")\n",
    "# Your code here\n",
    "print(None==None)"
   ]
  },
  {
   "cell_type": "code",
   "execution_count": 118,
   "id": "87d04fc1",
   "metadata": {},
   "outputs": [
    {
     "name": "stdout",
     "output_type": "stream",
     "text": [
      "\n",
      "Question 3: Check if None is None\n",
      "True\n"
     ]
    }
   ],
   "source": [
    "# Question 3: Check if None is None\n",
    "print(\"\\nQuestion 3: Check if None is None\")\n",
    "# Your code here\n",
    "print(None is None)"
   ]
  },
  {
   "cell_type": "code",
   "execution_count": 120,
   "id": "d09d678c",
   "metadata": {},
   "outputs": [
    {
     "name": "stdout",
     "output_type": "stream",
     "text": [
      "\n",
      "Question 4: Check if 0 is None\n",
      "False\n"
     ]
    }
   ],
   "source": [
    "# Question 4: Check if 0 is None\n",
    "print(\"\\nQuestion 4: Check if 0 is None\")\n",
    "# Your code here\n",
    "print(0 is None)\n"
   ]
  },
  {
   "cell_type": "code",
   "execution_count": 122,
   "id": "b2f74948",
   "metadata": {},
   "outputs": [
    {
     "name": "stdout",
     "output_type": "stream",
     "text": [
      "\n",
      "Question 5: Check if empty string is None\n"
     ]
    },
    {
     "data": {
      "text/plain": [
       "False"
      ]
     },
     "execution_count": 122,
     "metadata": {},
     "output_type": "execute_result"
    }
   ],
   "source": [
    "# Question 5: Check if empty string is None\n",
    "print(\"\\nQuestion 5: Check if empty string is None\")\n",
    "# Your code here\n",
    "' ' is None\n"
   ]
  },
  {
   "cell_type": "code",
   "execution_count": 123,
   "id": "dbb13106",
   "metadata": {},
   "outputs": [
    {
     "name": "stdout",
     "output_type": "stream",
     "text": [
      "\n",
      "Question 6: Check if False is None\n"
     ]
    },
    {
     "data": {
      "text/plain": [
       "False"
      ]
     },
     "execution_count": 123,
     "metadata": {},
     "output_type": "execute_result"
    }
   ],
   "source": [
    "# Question 6: Check if False is None\n",
    "print(\"\\nQuestion 6: Check if False is None\")\n",
    "# Your code here\n",
    "False is None\n"
   ]
  },
  {
   "cell_type": "code",
   "execution_count": 125,
   "id": "78a578fa",
   "metadata": {},
   "outputs": [
    {
     "name": "stdout",
     "output_type": "stream",
     "text": [
      "\n",
      "Question 7: Check if empty list is None\n"
     ]
    },
    {
     "data": {
      "text/plain": [
       "False"
      ]
     },
     "execution_count": 125,
     "metadata": {},
     "output_type": "execute_result"
    }
   ],
   "source": [
    "# Question 7: Check if empty list is None\n",
    "print(\"\\nQuestion 7: Check if empty list is None\")\n",
    "# Your code here\n",
    "[] is None\n"
   ]
  },
  {
   "cell_type": "code",
   "execution_count": 126,
   "id": "b5336489",
   "metadata": {},
   "outputs": [
    {
     "name": "stdout",
     "output_type": "stream",
     "text": [
      "\n",
      "Question 8: Check if empty dictionary is None\n"
     ]
    },
    {
     "data": {
      "text/plain": [
       "False"
      ]
     },
     "execution_count": 126,
     "metadata": {},
     "output_type": "execute_result"
    }
   ],
   "source": [
    "\n",
    "# Question 8: Check if empty dictionary is None\n",
    "print(\"\\nQuestion 8: Check if empty dictionary is None\")\n",
    "# Your code here\n",
    "{} is None"
   ]
  },
  {
   "cell_type": "code",
   "execution_count": 127,
   "id": "7dd5d695",
   "metadata": {},
   "outputs": [
    {
     "name": "stdout",
     "output_type": "stream",
     "text": [
      "\n",
      "Question 9: Check if empty tuple is None\n"
     ]
    },
    {
     "name": "stderr",
     "output_type": "stream",
     "text": [
      "<>:4: SyntaxWarning: \"is\" with 'tuple' literal. Did you mean \"==\"?\n",
      "C:\\Users\\P VENKATA RAKESH\\AppData\\Local\\Temp\\ipykernel_5456\\3583823357.py:4: SyntaxWarning: \"is\" with 'tuple' literal. Did you mean \"==\"?\n",
      "  () is None\n"
     ]
    },
    {
     "data": {
      "text/plain": [
       "False"
      ]
     },
     "execution_count": 127,
     "metadata": {},
     "output_type": "execute_result"
    }
   ],
   "source": [
    "# Question 9: Check if empty tuple is None\n",
    "print(\"\\nQuestion 9: Check if empty tuple is None\")\n",
    "# Your code here\n",
    "() is None"
   ]
  },
  {
   "cell_type": "code",
   "execution_count": 128,
   "id": "5e657496",
   "metadata": {},
   "outputs": [
    {
     "name": "stdout",
     "output_type": "stream",
     "text": [
      "\n",
      "Question 10: Check if empty set is None\n"
     ]
    },
    {
     "data": {
      "text/plain": [
       "False"
      ]
     },
     "execution_count": 128,
     "metadata": {},
     "output_type": "execute_result"
    }
   ],
   "source": [
    "# Question 10: Check if empty set is None\n",
    "print(\"\\nQuestion 10: Check if empty set is None\")\n",
    "# Your code here \n",
    "{} is None"
   ]
  },
  {
   "cell_type": "code",
   "execution_count": null,
   "id": "6fc1135b",
   "metadata": {},
   "outputs": [],
   "source": [
    "############## COMPLEX ASIGNMEMNT ##############"
   ]
  },
  {
   "cell_type": "code",
   "execution_count": 129,
   "id": "439635f4",
   "metadata": {},
   "outputs": [
    {
     "name": "stdout",
     "output_type": "stream",
     "text": [
      "SOLVED EXAMPLE:\n",
      "Create a complex number and find its conjugate\n",
      "Complex number: (3+4j)\n",
      "Conjugate: (3-4j)\n",
      "Magnitude: 5.0\n",
      "--------------------------------------------------\n"
     ]
    }
   ],
   "source": [
    "# SOLVED EXAMPLE\n",
    "# --------------\n",
    "# Question: Create a complex number and find its conjugate\n",
    "print(\"SOLVED EXAMPLE:\")\n",
    "print(\"Create a complex number and find its conjugate\")\n",
    "z = 3 + 4j\n",
    "conjugate = z.conjugate()\n",
    "magnitude = abs(z)\n",
    "print(f\"Complex number: {z}\")\n",
    "print(f\"Conjugate: {conjugate}\")\n",
    "print(f\"Magnitude: {magnitude}\")\n",
    "print(\"-\" * 50)"
   ]
  },
  {
   "cell_type": "code",
   "execution_count": 130,
   "id": "b0ab1678",
   "metadata": {},
   "outputs": [
    {
     "name": "stdout",
     "output_type": "stream",
     "text": [
      "Question 1: Create complex number 5 + 3j\n"
     ]
    },
    {
     "data": {
      "text/plain": [
       "(5+3j)"
      ]
     },
     "execution_count": 130,
     "metadata": {},
     "output_type": "execute_result"
    }
   ],
   "source": [
    "# Question 1: Create complex number 5 + 3j\n",
    "print(\"Question 1: Create complex number 5 + 3j\")\n",
    "# Your code here\n",
    "X=5+3j\n",
    "X"
   ]
  },
  {
   "cell_type": "code",
   "execution_count": 135,
   "id": "4e80281c",
   "metadata": {},
   "outputs": [
    {
     "name": "stdout",
     "output_type": "stream",
     "text": [
      "\n",
      "Question 2: Find the real part of complex number 7 - 2j\n"
     ]
    },
    {
     "data": {
      "text/plain": [
       "7.0"
      ]
     },
     "execution_count": 135,
     "metadata": {},
     "output_type": "execute_result"
    }
   ],
   "source": [
    "# Question 2: Find the real part of complex number 7 - 2j\n",
    "print(\"\\nQuestion 2: Find the real part of complex number 7 - 2j\")\n",
    "# Your code here\n",
    "c=7-2j\n",
    "c.real\n"
   ]
  },
  {
   "cell_type": "code",
   "execution_count": 136,
   "id": "9187cbff",
   "metadata": {},
   "outputs": [
    {
     "name": "stdout",
     "output_type": "stream",
     "text": [
      "\n",
      "Question 3: Find the imaginary part of complex number 4 + 6j\n"
     ]
    },
    {
     "data": {
      "text/plain": [
       "6.0"
      ]
     },
     "execution_count": 136,
     "metadata": {},
     "output_type": "execute_result"
    }
   ],
   "source": [
    "# Question 3: Find the imaginary part of complex number 4 + 6j\n",
    "print(\"\\nQuestion 3: Find the imaginary part of complex number 4 + 6j\")\n",
    "# Your code here\n",
    "x=4+6j\n",
    "x.imag"
   ]
  },
  {
   "cell_type": "code",
   "execution_count": 137,
   "id": "3cf38512",
   "metadata": {},
   "outputs": [
    {
     "name": "stdout",
     "output_type": "stream",
     "text": [
      "\n",
      "Question 4: Add two complex numbers: (3 + 2j) and (1 + 4j)\n",
      "(4+5j)\n"
     ]
    }
   ],
   "source": [
    "# Question 4: Add two complex numbers: (3 + 2j) and (1 + 4j)\n",
    "print(\"\\nQuestion 4: Add two complex numbers: (3 + 2j) and (1 + 4j)\")\n",
    "# Your code here\n",
    "x=3+2j\n",
    "y=1+3j\n",
    "print(x+y)"
   ]
  },
  {
   "cell_type": "code",
   "execution_count": 139,
   "id": "185c9839",
   "metadata": {},
   "outputs": [
    {
     "name": "stdout",
     "output_type": "stream",
     "text": [
      "\n",
      "Question 5: Multiply two complex numbers: (2 + 3j) and (1 + 2j)\n",
      "(-4+7j)\n"
     ]
    }
   ],
   "source": [
    "# Question 5: Multiply two complex numbers: (2 + 3j) and (1 + 2j)\n",
    "print(\"\\nQuestion 5: Multiply two complex numbers: (2 + 3j) and (1 + 2j)\")\n",
    "# Your code here\n",
    "x=(2+3j)\n",
    "y=(1+2j)\n",
    "print(x*y)"
   ]
  },
  {
   "cell_type": "code",
   "execution_count": 143,
   "id": "44059ac1",
   "metadata": {},
   "outputs": [
    {
     "name": "stdout",
     "output_type": "stream",
     "text": [
      "\n",
      "Question 6: Find the magnitude of complex number 6 + 8j\n",
      "10.0\n"
     ]
    }
   ],
   "source": [
    "# Question 6: Find the magnitude of complex number 6 + 8j\n",
    "print(\"\\nQuestion 6: Find the magnitude of complex number 6 + 8j\")\n",
    "# Your code here\n",
    "import math\n",
    "x=6+8j\n",
    "magnitude=abs(x)\n",
    "print(magnitude)\n",
    "\n"
   ]
  },
  {
   "cell_type": "code",
   "execution_count": 145,
   "id": "d8c5d3af",
   "metadata": {},
   "outputs": [
    {
     "name": "stdout",
     "output_type": "stream",
     "text": [
      "\n",
      "Question 7: Find the conjugate of complex number 5 - 7j\n",
      "(5+7j)\n"
     ]
    }
   ],
   "source": [
    "# Question 7: Find the conjugate of complex number 5 - 7j\n",
    "print(\"\\nQuestion 7: Find the conjugate of complex number 5 - 7j\")\n",
    "# Your code here\n",
    "x=5-7j\n",
    "y=x.conjugate()\n",
    "print(y)"
   ]
  },
  {
   "cell_type": "code",
   "execution_count": 146,
   "id": "808f683c",
   "metadata": {},
   "outputs": [
    {
     "name": "stdout",
     "output_type": "stream",
     "text": [
      "\n",
      "Question 8: Subtract complex numbers: (10 + 5j) - (3 + 2j)\n",
      "(7+3j)\n"
     ]
    }
   ],
   "source": [
    "# Question 8: Subtract complex numbers: (10 + 5j) - (3 + 2j)\n",
    "print(\"\\nQuestion 8: Subtract complex numbers: (10 + 5j) - (3 + 2j)\")\n",
    "# Your code here\n",
    "print((10 + 5j) - (3 + 2j))"
   ]
  },
  {
   "cell_type": "code",
   "execution_count": 147,
   "id": "52248892",
   "metadata": {},
   "outputs": [
    {
     "name": "stdout",
     "output_type": "stream",
     "text": [
      "\n",
      "Question 9: Divide complex numbers: (8 + 6j) / (2 + 1j)\n",
      "(4.4+0.8j)\n"
     ]
    }
   ],
   "source": [
    "# Question 9: Divide complex numbers: (8 + 6j) / (2 + 1j)\n",
    "print(\"\\nQuestion 9: Divide complex numbers: (8 + 6j) / (2 + 1j)\")\n",
    "# Your code here\n",
    "print((8 + 6j) / (2 + 1j))"
   ]
  },
  {
   "cell_type": "code",
   "execution_count": 148,
   "id": "d531ba4d",
   "metadata": {},
   "outputs": [
    {
     "name": "stdout",
     "output_type": "stream",
     "text": [
      "\n",
      "Question 10: Find the phase angle of complex number 1 + 1j\n"
     ]
    },
    {
     "data": {
      "text/plain": [
       "0.7853981633974483"
      ]
     },
     "execution_count": 148,
     "metadata": {},
     "output_type": "execute_result"
    }
   ],
   "source": [
    "# Question 10: Find the phase angle of complex number 1 + 1j\n",
    "print(\"\\nQuestion 10: Find the phase angle of complex number 1 + 1j\")\n",
    "# Your code here \n",
    "import cmath\n",
    "x=1+1j\n",
    "y=cmath.phase(x)\n",
    "y"
   ]
  },
  {
   "cell_type": "code",
   "execution_count": null,
   "id": "3ea5f0a7",
   "metadata": {},
   "outputs": [],
   "source": []
  }
 ],
 "metadata": {
  "kernelspec": {
   "display_name": "Python 3",
   "language": "python",
   "name": "python3"
  },
  "language_info": {
   "codemirror_mode": {
    "name": "ipython",
    "version": 3
   },
   "file_extension": ".py",
   "mimetype": "text/x-python",
   "name": "python",
   "nbconvert_exporter": "python",
   "pygments_lexer": "ipython3",
   "version": "3.13.5"
  }
 },
 "nbformat": 4,
 "nbformat_minor": 5
}
