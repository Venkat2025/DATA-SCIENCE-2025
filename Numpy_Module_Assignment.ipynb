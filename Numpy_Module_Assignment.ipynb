{
 "cells": [
  {
   "cell_type": "code",
   "execution_count": 1,
   "id": "ba3c6ac6",
   "metadata": {},
   "outputs": [
    {
     "ename": "SyntaxError",
     "evalue": "invalid character '÷' (U+00F7) (3750015274.py, line 23)",
     "output_type": "error",
     "traceback": [
      "\u001b[1;36m  Cell \u001b[1;32mIn[1], line 23\u001b[1;36m\u001b[0m\n\u001b[1;33m    14. Which store has the *highest return rate* (returns ÷ inventory)?\u001b[0m\n\u001b[1;37m                                                           ^\u001b[0m\n\u001b[1;31mSyntaxError\u001b[0m\u001b[1;31m:\u001b[0m invalid character '÷' (U+00F7)\n"
     ]
    }
   ],
   "source": [
    "# Retail Data – Business Questions (for retail_data)\n",
    "\n",
    "*Assumed columns:* [StoreID, Sales, Customers, Inventory, Returns]\n",
    "\n",
    "## Basic Performance Analysis\n",
    "1. What is the *total revenue* generated across all stores?\n",
    "2. Which store recorded the *highest sales*?\n",
    "3. Which store recorded the *lowest sales*?\n",
    "4. What is the *average daily sales* per store?\n",
    "5. How many stores achieved sales *above ₹35,000*?\n",
    "\n",
    "## Customer Insights\n",
    "6. Which store had the *highest customer footfall*?\n",
    "7. What is the *average number of customers* per store?\n",
    "8. How many stores have *more than 450 customers*?\n",
    "9. Which store has the *lowest customer count*?\n",
    "10. Is there any store where *high sales do not correspond to high customers*?\n",
    "\n",
    "## Inventory & Returns Analysis\n",
    "11. What is the *total inventory* across all stores?\n",
    "12. Which store has the *highest inventory stock*?\n",
    "13. How many stores have *inventory less than 1300 units*?\n",
    "14. Which store has the *highest return rate* (returns ÷ inventory)?\n",
    "15. Which stores have *returns greater than 15 units*?\n",
    "\n",
    "## Sales & Customer Correlation\n",
    "16. Is there a *positive correlation* between sales and customers?\n",
    "17. Which store has *high customer visits but low sales*?\n",
    "18. Which store has *low customers but high sales*?\n",
    "19. How many stores have *sales per customer above ₹90*?\n",
    "20. Which stores could *benefit from customer acquisition campaigns* (low customers, high inventory)?\n",
    "\n",
    "## Profitability & Growth\n",
    "21. If profit margin is *20% of sales, what is the **profit per store*?\n",
    "22. Which store has the *highest profit*?\n",
    "23. Which store has the *lowest profit*?\n",
    "24. If sales increase by *10% next month, what are the **new sales figures*?\n",
    "25. How will *total profit* change with the 10% sales increase?\n",
    "\n",
    "## Operational Strategy\n",
    "26. Which stores need *inventory restocking* based on sales and current stock?\n",
    "27. Which stores show *high returns percentage* and might require *quality checks*?\n",
    "28. Which store is the *best performer overall* (sales, customers, inventory turnover)?\n",
    "29. Which store is the *worst performer overall*?\n",
    "30. Which stores can be considered for *expansion* based on strong sales and customer metrics?\n"
   ]
  },
  {
   "cell_type": "code",
   "execution_count": 2,
   "id": "9ef4f66d",
   "metadata": {},
   "outputs": [
    {
     "name": "stdout",
     "output_type": "stream",
     "text": [
      "[[    1 25000   300  1200    10]\n",
      " [    2 32000   450  1500    15]\n",
      " [    3 28000   380  1100     8]\n",
      " [    4 41000   500  1600    20]\n",
      " [    5 35000   420  1400    12]\n",
      " [    6 27000   360  1300     9]\n",
      " [    7 39000   480  1700    18]\n",
      " [    8 30000   400  1250    14]\n",
      " [    9 45000   550  1800    25]\n",
      " [   10 33000   410  1450    11]]\n"
     ]
    }
   ],
   "source": [
    "import numpy as np\n",
    "\n",
    "# Manually created array: [Store ID, Sales, Customers, Inventory, Returns]\n",
    "retail_data = np.array([\n",
    "    [1, 25000, 300, 1200, 10],\n",
    "    [2, 32000, 450, 1500, 15],\n",
    "    [3, 28000, 380, 1100, 8],\n",
    "    [4, 41000, 500, 1600, 20],\n",
    "    [5, 35000, 420, 1400, 12],\n",
    "    [6, 27000, 360, 1300, 9],\n",
    "    [7, 39000, 480, 1700, 18],\n",
    "    [8, 30000, 400, 1250, 14],\n",
    "    [9, 45000, 550, 1800, 25],\n",
    "    [10, 33000, 410, 1450, 11]\n",
    "])\n",
    "\n",
    "print(retail_data)"
   ]
  },
  {
   "cell_type": "code",
   "execution_count": null,
   "id": "12615bec",
   "metadata": {},
   "outputs": [],
   "source": [
    "## Basic Performance Analysis\n",
    "1. What is the *total revenue* generated across all stores?\n",
    "2. Which store recorded the *highest sales*?\n",
    "3. Which store recorded the *lowest sales*?\n",
    "4. What is the *average daily sales* per store?\n",
    "5. How many stores achieved sales *above ₹35,000*?"
   ]
  },
  {
   "cell_type": "code",
   "execution_count": 3,
   "id": "7447ac8b",
   "metadata": {},
   "outputs": [
    {
     "data": {
      "text/plain": [
       "np.int64(335000)"
      ]
     },
     "execution_count": 3,
     "metadata": {},
     "output_type": "execute_result"
    }
   ],
   "source": [
    "# 1. What is the *total revenue* generated across all stores?\n",
    "retail_data[:,1].sum()"
   ]
  },
  {
   "cell_type": "code",
   "execution_count": 5,
   "id": "523abba4",
   "metadata": {},
   "outputs": [
    {
     "data": {
      "text/plain": [
       "np.int64(9)"
      ]
     },
     "execution_count": 5,
     "metadata": {},
     "output_type": "execute_result"
    }
   ],
   "source": [
    "# 2. Which store recorded the *highest sales*?\n",
    "retail_data[:,1].argmax()+1"
   ]
  },
  {
   "cell_type": "code",
   "execution_count": 6,
   "id": "82dbaad4",
   "metadata": {},
   "outputs": [
    {
     "data": {
      "text/plain": [
       "np.int64(1)"
      ]
     },
     "execution_count": 6,
     "metadata": {},
     "output_type": "execute_result"
    }
   ],
   "source": [
    "# 3. Which store recorded the *lowest sales*?\n",
    "retail_data[:,1].argmin()+1"
   ]
  },
  {
   "cell_type": "code",
   "execution_count": null,
   "id": "4aecc500",
   "metadata": {},
   "outputs": [
    {
     "data": {
      "text/plain": [
       "np.float64(33500.0)"
      ]
     },
     "execution_count": 7,
     "metadata": {},
     "output_type": "execute_result"
    }
   ],
   "source": [
    "#4. What is the *average daily sales* per store?\n",
    "retail_data[:,1].mean()"
   ]
  },
  {
   "cell_type": "code",
   "execution_count": 8,
   "id": "73fc1ad7",
   "metadata": {},
   "outputs": [
    {
     "data": {
      "text/plain": [
       "array([False, False, False,  True, False, False,  True, False,  True,\n",
       "       False])"
      ]
     },
     "execution_count": 8,
     "metadata": {},
     "output_type": "execute_result"
    }
   ],
   "source": [
    "# How many stores achieved sales *above ₹35,000*?\n",
    "retail_data[:,1]>35000\n"
   ]
  },
  {
   "cell_type": "code",
   "execution_count": null,
   "id": "5e771413",
   "metadata": {},
   "outputs": [],
   "source": [
    "## Customer Insights\n",
    "6. Which store had the *highest customer footfall*?\n",
    "7. What is the *average number of customers* per store?\n",
    "8. How many stores have *more than 450 customers*?\n",
    "9. Which store has the *lowest customer count*?\n",
    "10. Is there any store where *high sales do not correspond to high customers*?"
   ]
  },
  {
   "cell_type": "code",
   "execution_count": 11,
   "id": "adfc1c19",
   "metadata": {},
   "outputs": [
    {
     "data": {
      "text/plain": [
       "np.int64(9)"
      ]
     },
     "execution_count": 11,
     "metadata": {},
     "output_type": "execute_result"
    }
   ],
   "source": [
    "# 6 . Which store had the *highest customer footfall*?\n",
    "retail_data[:,2].argmax()+1"
   ]
  },
  {
   "cell_type": "code",
   "execution_count": 12,
   "id": "1d3937ef",
   "metadata": {},
   "outputs": [
    {
     "data": {
      "text/plain": [
       "np.float64(425.0)"
      ]
     },
     "execution_count": 12,
     "metadata": {},
     "output_type": "execute_result"
    }
   ],
   "source": [
    "# What is the *average number of customers* per store?\n",
    "retail_data[:,2].mean()"
   ]
  },
  {
   "cell_type": "code",
   "execution_count": 13,
   "id": "8337f273",
   "metadata": {},
   "outputs": [
    {
     "data": {
      "text/plain": [
       "array([False, False, False,  True, False, False,  True, False,  True,\n",
       "       False])"
      ]
     },
     "execution_count": 13,
     "metadata": {},
     "output_type": "execute_result"
    }
   ],
   "source": [
    "#8. How many stores have *more than 450 customers*?\n",
    "retail_data[:,2]>450"
   ]
  },
  {
   "cell_type": "code",
   "execution_count": 14,
   "id": "a8a0cc38",
   "metadata": {},
   "outputs": [
    {
     "data": {
      "text/plain": [
       "np.int64(0)"
      ]
     },
     "execution_count": 14,
     "metadata": {},
     "output_type": "execute_result"
    }
   ],
   "source": [
    "# 9. Which store has the *lowest customer count*?\n",
    "retail_data[:,2].argmin()"
   ]
  },
  {
   "cell_type": "code",
   "execution_count": 22,
   "id": "3080d188",
   "metadata": {},
   "outputs": [
    {
     "data": {
      "text/plain": [
       "array([[    5, 35000,   420,  1400,    12]])"
      ]
     },
     "execution_count": 22,
     "metadata": {},
     "output_type": "execute_result"
    }
   ],
   "source": [
    "#10. Is there any store where *high sales do not correspond to high customers*?\n",
    "x=retail_data[:,1].mean()\n",
    "y=retail_data[:,2].mean()\n",
    "res=retail_data[(retail_data[:,1]>x) & (retail_data[:,2]<y)]\n",
    "res\n",
    "\n"
   ]
  },
  {
   "cell_type": "code",
   "execution_count": null,
   "id": "847132d5",
   "metadata": {},
   "outputs": [],
   "source": [
    "## Inventory & Returns Analysis\n",
    "11. What is the *total inventory* across all stores?\n",
    "12. Which store has the *highest inventory stock*?\n",
    "13. How many stores have *inventory less than 1300 units*?\n",
    "14. Which store has the *highest return rate* (returns ÷ inventory)?\n",
    "15. Which stores have *returns greater than 15 units*?\n"
   ]
  },
  {
   "cell_type": "code",
   "execution_count": 26,
   "id": "311633f0",
   "metadata": {},
   "outputs": [
    {
     "name": "stdout",
     "output_type": "stream",
     "text": [
      "[[    1 25000   300  1200    10]\n",
      " [    2 32000   450  1500    15]\n",
      " [    3 28000   380  1100     8]\n",
      " [    4 41000   500  1600    20]\n",
      " [    5 35000   420  1400    12]\n",
      " [    6 27000   360  1300     9]\n",
      " [    7 39000   480  1700    18]\n",
      " [    8 30000   400  1250    14]\n",
      " [    9 45000   550  1800    25]\n",
      " [   10 33000   410  1450    11]]\n"
     ]
    }
   ],
   "source": [
    "import numpy as np\n",
    "\n",
    "# Manually created array: [Store ID, Sales, Customers, Inventory, Returns]\n",
    "retail_data = np.array([\n",
    "    [1, 25000, 300, 1200, 10],\n",
    "    [2, 32000, 450, 1500, 15],\n",
    "    [3, 28000, 380, 1100, 8],\n",
    "    [4, 41000, 500, 1600, 20],\n",
    "    [5, 35000, 420, 1400, 12],\n",
    "    [6, 27000, 360, 1300, 9],\n",
    "    [7, 39000, 480, 1700, 18],\n",
    "    [8, 30000, 400, 1250, 14],\n",
    "    [9, 45000, 550, 1800, 25],\n",
    "    [10, 33000, 410, 1450, 11]\n",
    "])\n",
    "\n",
    "print(retail_data)"
   ]
  },
  {
   "cell_type": "code",
   "execution_count": 23,
   "id": "e15b660b",
   "metadata": {},
   "outputs": [
    {
     "data": {
      "text/plain": [
       "np.int64(14300)"
      ]
     },
     "execution_count": 23,
     "metadata": {},
     "output_type": "execute_result"
    }
   ],
   "source": [
    "#11. What is the *total inventory* across all stores?\n",
    "retail_data[:,3].sum()"
   ]
  },
  {
   "cell_type": "code",
   "execution_count": 25,
   "id": "4a9af9c5",
   "metadata": {},
   "outputs": [
    {
     "data": {
      "text/plain": [
       "np.int64(9)"
      ]
     },
     "execution_count": 25,
     "metadata": {},
     "output_type": "execute_result"
    }
   ],
   "source": [
    "#12. Which store has the *highest inventory stock*?\n",
    "retail_data[:,3].argmax()+1"
   ]
  },
  {
   "cell_type": "code",
   "execution_count": 29,
   "id": "45d702f7",
   "metadata": {},
   "outputs": [
    {
     "data": {
      "text/plain": [
       "array([[    1, 25000,   300,  1200,    10],\n",
       "       [    3, 28000,   380,  1100,     8],\n",
       "       [    8, 30000,   400,  1250,    14]])"
      ]
     },
     "execution_count": 29,
     "metadata": {},
     "output_type": "execute_result"
    }
   ],
   "source": [
    "#13. How many stores have *inventory less than 1300 units*?\n",
    "retail_data[retail_data[:,3]<1300]"
   ]
  },
  {
   "cell_type": "code",
   "execution_count": 40,
   "id": "6b8e4ac2",
   "metadata": {},
   "outputs": [
    {
     "data": {
      "text/plain": [
       "array([    9, 45000,   550,  1800,    25])"
      ]
     },
     "execution_count": 40,
     "metadata": {},
     "output_type": "execute_result"
    }
   ],
   "source": [
    "#14. Which store has the *highest return rate* (returns ÷ inventory)?\n",
    "x=retail_data[:,4]/retail_data[:,3]\n",
    "retail_data[x.argmax()]"
   ]
  },
  {
   "cell_type": "code",
   "execution_count": 42,
   "id": "88ab3f1a",
   "metadata": {},
   "outputs": [
    {
     "data": {
      "text/plain": [
       "array([[    4, 41000,   500,  1600,    20],\n",
       "       [    7, 39000,   480,  1700,    18],\n",
       "       [    9, 45000,   550,  1800,    25]])"
      ]
     },
     "execution_count": 42,
     "metadata": {},
     "output_type": "execute_result"
    }
   ],
   "source": [
    "#15. Which stores have *returns greater than 15 units*?\n",
    "retail_data[retail_data[:,4]>15]"
   ]
  },
  {
   "cell_type": "code",
   "execution_count": null,
   "id": "eb9bc9f2",
   "metadata": {},
   "outputs": [],
   "source": [
    "## Sales & Customer Correlation\n",
    "16. Is there a *positive correlation* between sales and customers?\n",
    "17. Which store has *high customer visits but low sales*?\n",
    "18. Which store has *low customers but high sales*?\n",
    "19. How many stores have *sales per customer above ₹90*?\n",
    "20. Which stores could *benefit from customer acquisition campaigns* (low customers, high inventory)?"
   ]
  },
  {
   "cell_type": "code",
   "execution_count": 43,
   "id": "1936676d",
   "metadata": {},
   "outputs": [
    {
     "name": "stdout",
     "output_type": "stream",
     "text": [
      "[[    1 25000   300  1200    10]\n",
      " [    2 32000   450  1500    15]\n",
      " [    3 28000   380  1100     8]\n",
      " [    4 41000   500  1600    20]\n",
      " [    5 35000   420  1400    12]\n",
      " [    6 27000   360  1300     9]\n",
      " [    7 39000   480  1700    18]\n",
      " [    8 30000   400  1250    14]\n",
      " [    9 45000   550  1800    25]\n",
      " [   10 33000   410  1450    11]]\n"
     ]
    }
   ],
   "source": [
    "import numpy as np\n",
    "\n",
    "# Manually created array: [Store ID, Sales, Customers, Inventory, Returns]\n",
    "retail_data = np.array([\n",
    "    [1, 25000, 300, 1200, 10],\n",
    "    [2, 32000, 450, 1500, 15],\n",
    "    [3, 28000, 380, 1100, 8],\n",
    "    [4, 41000, 500, 1600, 20],\n",
    "    [5, 35000, 420, 1400, 12],\n",
    "    [6, 27000, 360, 1300, 9],\n",
    "    [7, 39000, 480, 1700, 18],\n",
    "    [8, 30000, 400, 1250, 14],\n",
    "    [9, 45000, 550, 1800, 25],\n",
    "    [10, 33000, 410, 1450, 11]\n",
    "])\n",
    "\n",
    "print(retail_data)"
   ]
  },
  {
   "cell_type": "code",
   "execution_count": 44,
   "id": "15c17423",
   "metadata": {},
   "outputs": [
    {
     "data": {
      "text/plain": [
       "np.float64(0.9593636912502479)"
      ]
     },
     "execution_count": 44,
     "metadata": {},
     "output_type": "execute_result"
    }
   ],
   "source": [
    "#16. Is there a *positive correlation* between sales and customers?\n",
    "s=retail_data[:,1]\n",
    "c=retail_data[:,2]\n",
    "np.corrcoef(s,c)[0,1]"
   ]
  },
  {
   "cell_type": "code",
   "execution_count": 47,
   "id": "ed34d496",
   "metadata": {},
   "outputs": [
    {
     "data": {
      "text/plain": [
       "array([[    2, 32000,   450,  1500,    15]])"
      ]
     },
     "execution_count": 47,
     "metadata": {},
     "output_type": "execute_result"
    }
   ],
   "source": [
    "#17. Which store has *high customer visits but low sales*?\n",
    "x=retail_data[:,1].mean()\n",
    "y=retail_data[:,2].mean()\n",
    "ans=retail_data[(retail_data[:,2]>y) & (retail_data[:,1]<x)]\n",
    "ans\n"
   ]
  },
  {
   "cell_type": "code",
   "execution_count": 48,
   "id": "35ea170c",
   "metadata": {},
   "outputs": [
    {
     "data": {
      "text/plain": [
       "array([[    5, 35000,   420,  1400,    12]])"
      ]
     },
     "execution_count": 49,
     "metadata": {},
     "output_type": "execute_result"
    }
   ],
   "source": [
    "#18. Which store has *low customers but high sales*?\n",
    "x=retail_data[:,1].mean()\n",
    "y=retail_data[:,2].mean()\n",
    "ans=retail_data[(retail_data[:,2]<y) & (retail_data[:,1]>x)]\n",
    "ans"
   ]
  },
  {
   "cell_type": "code",
   "execution_count": 64,
   "id": "2b6b49da",
   "metadata": {},
   "outputs": [
    {
     "data": {
      "text/plain": [
       "array([], shape=(0, 5), dtype=int64)"
      ]
     },
     "execution_count": 64,
     "metadata": {},
     "output_type": "execute_result"
    }
   ],
   "source": [
    "#19. How many stores have *sales per customer above ₹90*?\n",
    "x=retail_data[:,1]/retail_data[:,2]\n",
    "retail_data[x>90]\n"
   ]
  },
  {
   "cell_type": "code",
   "execution_count": 67,
   "id": "d7449f87",
   "metadata": {},
   "outputs": [
    {
     "data": {
      "text/plain": [
       "array([[   10, 33000,   410,  1450,    11]])"
      ]
     },
     "execution_count": 67,
     "metadata": {},
     "output_type": "execute_result"
    }
   ],
   "source": [
    "#20. Which stores could *benefit from customer acquisition campaigns* (low customers, high inventory)?\n",
    "c=retail_data[:,2].mean()\n",
    "i=retail_data[:,3].mean()\n",
    "ans=retail_data[(retail_data[:,2]<c) & (retail_data[:,3]>i)]\n",
    "ans"
   ]
  },
  {
   "cell_type": "code",
   "execution_count": null,
   "id": "82f00c63",
   "metadata": {},
   "outputs": [],
   "source": [
    "## Profitability & Growth\n",
    "21. If profit margin is *20% of sales, what is the **profit per store*?\n",
    "22. Which store has the *highest profit*?\n",
    "23. Which store has the *lowest profit*?\n",
    "24. If sales increase by *10% next month, what are the **new sales figures*?\n",
    "25. How will *total profit* change with the 10% sales increase?"
   ]
  },
  {
   "cell_type": "code",
   "execution_count": 81,
   "id": "d2807231",
   "metadata": {},
   "outputs": [
    {
     "data": {
      "text/plain": [
       "array([5000., 6400., 5600., 8200., 7000., 5400., 7800., 6000., 9000.,\n",
       "       6600.])"
      ]
     },
     "execution_count": 81,
     "metadata": {},
     "output_type": "execute_result"
    }
   ],
   "source": [
    "#21. If profit margin is *20% of sales, what is the **profit per store*?\n",
    "retail_data[:,1]*0.2\n",
    "\n",
    "\n"
   ]
  },
  {
   "cell_type": "code",
   "execution_count": null,
   "id": "1771b7aa",
   "metadata": {},
   "outputs": [
    {
     "data": {
      "text/plain": [
       "np.int64(9)"
      ]
     },
     "execution_count": 84,
     "metadata": {},
     "output_type": "execute_result"
    }
   ],
   "source": [
    "#22. Which store has the *highest profit*?\n",
    "import numpy as np\n",
    "x=(retail_data[:,1]*0.2)\n",
    "np.argmax(x)+1   # profit is 9000"
   ]
  },
  {
   "cell_type": "code",
   "execution_count": 86,
   "id": "5076e2ae",
   "metadata": {},
   "outputs": [
    {
     "data": {
      "text/plain": [
       "np.int64(1)"
      ]
     },
     "execution_count": 86,
     "metadata": {},
     "output_type": "execute_result"
    }
   ],
   "source": [
    "#23. Which store has the *lowest profit*?\n",
    "x=(retail_data[:,1]*0.2)\n",
    "np.argmin(x)+1"
   ]
  },
  {
   "cell_type": "code",
   "execution_count": null,
   "id": "9ff82b39",
   "metadata": {},
   "outputs": [
    {
     "data": {
      "text/plain": [
       "array([27500., 35200., 30800., 45100., 38500., 29700., 42900., 33000.,\n",
       "       49500., 36300.])"
      ]
     },
     "execution_count": 89,
     "metadata": {},
     "output_type": "execute_result"
    }
   ],
   "source": [
    "#24. If sales increase by *10% next month, what are the **new sales figures*?\n",
    "old=retail_data[:,1]\n",
    "increase=old*0.1\n",
    "new=old+increase\n",
    "new\n"
   ]
  },
  {
   "cell_type": "code",
   "execution_count": null,
   "id": "c016fe0c",
   "metadata": {},
   "outputs": [
    {
     "name": "stdout",
     "output_type": "stream",
     "text": [
      "6700.0\n"
     ]
    }
   ],
   "source": [
    "#25. How will *total profit* change with the 10% sales increase?\n",
    "old=retail_data[:,1]*0.2     # previously mentioned question no 21 there was 20% profit for sales\n",
    "increase=old*0.1   # 10% sales increased\n",
    "new=old+increase\n",
    "x=sum(old)\n",
    "y=sum(new)\n",
    "print(y-x)\n",
    "\n"
   ]
  },
  {
   "cell_type": "code",
   "execution_count": null,
   "id": "ff58c19a",
   "metadata": {},
   "outputs": [],
   "source": [
    "## Operational Strategy\n",
    "26. Which stores need *inventory restocking* based on sales and current stock?\n",
    "27. Which stores show *high returns percentage* and might require *quality checks*?\n",
    "28. Which store is the *best performer overall* (sales, customers, inventory turnover)?\n",
    "29. Which store is the *worst performer overall*?\n",
    "30. Which stores can be considered for *expansion* based on strong sales and customer metrics?"
   ]
  },
  {
   "cell_type": "code",
   "execution_count": 101,
   "id": "4f0a61dc",
   "metadata": {},
   "outputs": [
    {
     "name": "stdout",
     "output_type": "stream",
     "text": [
      "[[    1 25000   300  1200    10]\n",
      " [    2 32000   450  1500    15]\n",
      " [    3 28000   380  1100     8]\n",
      " [    4 41000   500  1600    20]\n",
      " [    5 35000   420  1400    12]\n",
      " [    6 27000   360  1300     9]\n",
      " [    7 39000   480  1700    18]\n",
      " [    8 30000   400  1250    14]\n",
      " [    9 45000   550  1800    25]\n",
      " [   10 33000   410  1450    11]]\n"
     ]
    }
   ],
   "source": [
    "import numpy as np\n",
    "\n",
    "# Manually created array: [Store ID, Sales, Customers, Inventory, Returns]\n",
    "retail_data = np.array([\n",
    "    [1, 25000, 300, 1200, 10],\n",
    "    [2, 32000, 450, 1500, 15],\n",
    "    [3, 28000, 380, 1100, 8],\n",
    "    [4, 41000, 500, 1600, 20],\n",
    "    [5, 35000, 420, 1400, 12],\n",
    "    [6, 27000, 360, 1300, 9],\n",
    "    [7, 39000, 480, 1700, 18],\n",
    "    [8, 30000, 400, 1250, 14],\n",
    "    [9, 45000, 550, 1800, 25],\n",
    "    [10, 33000, 410, 1450, 11]\n",
    "])\n",
    "\n",
    "print(retail_data)"
   ]
  },
  {
   "cell_type": "code",
   "execution_count": 103,
   "id": "7a286d70",
   "metadata": {},
   "outputs": [
    {
     "data": {
      "text/plain": [
       "array([[   10, 33000,   410,  1450,    11]])"
      ]
     },
     "execution_count": 103,
     "metadata": {},
     "output_type": "execute_result"
    }
   ],
   "source": [
    "#26. Which stores need *inventory restocking* based on sales and current stock?\n",
    "x=retail_data[:,1].mean()\n",
    "y=retail_data[:,3].mean()\n",
    "res=retail_data[(retail_data[:,1]>x) & (retail_data[:,3]<y)]\n",
    "ans\n"
   ]
  },
  {
   "cell_type": "code",
   "execution_count": null,
   "id": "38b09631",
   "metadata": {},
   "outputs": [
    {
     "data": {
      "text/plain": [
       "array([[    2, 32000,   450,  1500,    15],\n",
       "       [    4, 41000,   500,  1600,    20],\n",
       "       [    7, 39000,   480,  1700,    18],\n",
       "       [    8, 30000,   400,  1250,    14],\n",
       "       [    9, 45000,   550,  1800,    25]])"
      ]
     },
     "execution_count": 110,
     "metadata": {},
     "output_type": "execute_result"
    }
   ],
   "source": [
    "#27. Which stores show *high returns percentage* and might require *quality checks*?\n",
    "r=(retail_data[0:,4]/retail_data[0:,1])*100     #returns percentage = (Returns ÷ Sales) × 10 \n",
    "avg=r.mean() #Find the average returns percentag\n",
    "retail_data[r>avg]   # quality checks : returns percentage > average returns percentage"
   ]
  },
  {
   "cell_type": "code",
   "execution_count": 116,
   "id": "2baf4553",
   "metadata": {},
   "outputs": [
    {
     "data": {
      "text/plain": [
       "np.int64(9)"
      ]
     },
     "execution_count": 116,
     "metadata": {},
     "output_type": "execute_result"
    }
   ],
   "source": [
    "#28. Which store is the *best performer overall* (sales, customers, inventory turnover)?\n",
    "import numpy as np\n",
    "sales=retail_data[0:,1]/max(retail_data[0:,1])\n",
    "cust= retail_data[0:,2]/max(retail_data[0:,2])\n",
    "inventory_turnover=retail_data[:,1]/retail_data[:,3]\n",
    "turnover=inventory_turnover/max(inventory_turnover)\n",
    "best_perf=sales+cust+turnover\n",
    "np.argmax(best_perf)+1\n",
    "\n",
    "\n",
    "\n"
   ]
  },
  {
   "cell_type": "code",
   "execution_count": 117,
   "id": "108daeff",
   "metadata": {},
   "outputs": [
    {
     "data": {
      "text/plain": [
       "np.int64(1)"
      ]
     },
     "execution_count": 117,
     "metadata": {},
     "output_type": "execute_result"
    }
   ],
   "source": [
    "#29. Which store is the *worst performer overall*?\n",
    "import numpy as np\n",
    "sales=retail_data[0:,1]/max(retail_data[0:,1])\n",
    "cust= retail_data[0:,2]/max(retail_data[0:,2])\n",
    "inventory_turnover=retail_data[:,1]/retail_data[:,3]\n",
    "turnover=inventory_turnover/max(inventory_turnover)\n",
    "best_perf=sales+cust+turnover\n",
    "np.argmin(best_perf)+1\n"
   ]
  },
  {
   "cell_type": "code",
   "execution_count": 119,
   "id": "8e851124",
   "metadata": {},
   "outputs": [
    {
     "data": {
      "text/plain": [
       "array([[    4, 41000,   500,  1600,    20],\n",
       "       [    7, 39000,   480,  1700,    18],\n",
       "       [    9, 45000,   550,  1800,    25]])"
      ]
     },
     "execution_count": 119,
     "metadata": {},
     "output_type": "execute_result"
    }
   ],
   "source": [
    "#30 Which stores can be considered for *expansion* based on strong sales and customer metrics?\n",
    "sales=retail_data[0:,1].mean()\n",
    "cust=retail_data[0:,2].mean()\n",
    "retail_data[(retail_data[0:,1]>sales) & (retail_data[0:,2]>cust)]"
   ]
  },
  {
   "cell_type": "code",
   "execution_count": null,
   "id": "395408ee",
   "metadata": {},
   "outputs": [],
   "source": []
  }
 ],
 "metadata": {
  "kernelspec": {
   "display_name": "Python 3",
   "language": "python",
   "name": "python3"
  },
  "language_info": {
   "codemirror_mode": {
    "name": "ipython",
    "version": 3
   },
   "file_extension": ".py",
   "mimetype": "text/x-python",
   "name": "python",
   "nbconvert_exporter": "python",
   "pygments_lexer": "ipython3",
   "version": "3.13.5"
  }
 },
 "nbformat": 4,
 "nbformat_minor": 5
}
