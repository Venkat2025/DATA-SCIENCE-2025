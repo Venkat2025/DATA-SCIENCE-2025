{
 "cells": [
  {
   "cell_type": "markdown",
   "id": "21b18ddc",
   "metadata": {},
   "source": [
    "Exception handling in Python is a mechanism that allows you to deal with errors (called exceptions) that occur during the execution of a program, without abruptly stopping it.\n",
    "\n",
    "Key points:\n",
    "\n",
    "Exception --> An event that interrupts the normal flow of a program (e.g., dividing by zero, file not found, wrong input type).\n",
    "\n",
    "try-except block --> Used to catch and handle exceptions.\n",
    "\n",
    "else block --> Runs only if no exception occurs.\n",
    "\n",
    "finally block --> Runs no matter what (useful for cleanup, like closing a file or database connection)."
   ]
  },
  {
   "cell_type": "code",
   "execution_count": null,
   "id": "8d8ab1a4",
   "metadata": {},
   "outputs": [
    {
     "name": "stdout",
     "output_type": "stream",
     "text": [
      "Try block demo\n"
     ]
    }
   ],
   "source": [
    "try:\n",
    "    print(2/0)\n",
    "except:\n",
    "    print(\"try block demo\")"
   ]
  },
  {
   "cell_type": "code",
   "execution_count": null,
   "id": "5514fd93",
   "metadata": {},
   "outputs": [
    {
     "ename": "ZeroDivisionError",
     "evalue": "division by zero",
     "output_type": "error",
     "traceback": [
      "\u001b[31m---------------------------------------------------------------------------\u001b[39m",
      "\u001b[31mZeroDivisionError\u001b[39m                         Traceback (most recent call last)",
      "\u001b[36mCell\u001b[39m\u001b[36m \u001b[39m\u001b[32mIn[2]\u001b[39m\u001b[32m, line 1\u001b[39m\n\u001b[32m----> \u001b[39m\u001b[32m1\u001b[39m \u001b[32;43m2\u001b[39;49m\u001b[43m/\u001b[49m\u001b[32;43m0\u001b[39;49m\n",
      "\u001b[31mZeroDivisionError\u001b[39m: division by zero"
     ]
    }
   ],
   "source": [
    "2/0  # ZeroDivisionError  "
   ]
  },
  {
   "cell_type": "code",
   "execution_count": 4,
   "id": "b6dcd612",
   "metadata": {},
   "outputs": [
    {
     "name": "stdout",
     "output_type": "stream",
     "text": [
      "data\n"
     ]
    }
   ],
   "source": [
    "try:\n",
    "    print(2+input())\n",
    "except:\n",
    "    print(\"data\")"
   ]
  },
  {
   "cell_type": "code",
   "execution_count": null,
   "id": "340fafec",
   "metadata": {},
   "outputs": [
    {
     "ename": "TypeError",
     "evalue": "unsupported operand type(s) for +: 'int' and 'str'",
     "output_type": "error",
     "traceback": [
      "\u001b[31m---------------------------------------------------------------------------\u001b[39m",
      "\u001b[31mTypeError\u001b[39m                                 Traceback (most recent call last)",
      "\u001b[36mCell\u001b[39m\u001b[36m \u001b[39m\u001b[32mIn[5]\u001b[39m\u001b[32m, line 1\u001b[39m\n\u001b[32m----> \u001b[39m\u001b[32m1\u001b[39m \u001b[32;43m2\u001b[39;49m\u001b[43m+\u001b[49m\u001b[38;5;28;43minput\u001b[39;49m\u001b[43m(\u001b[49m\u001b[43m)\u001b[49m\n",
      "\u001b[31mTypeError\u001b[39m: unsupported operand type(s) for +: 'int' and 'str'"
     ]
    }
   ],
   "source": [
    "2+input()   # TypeError  "
   ]
  },
  {
   "cell_type": "code",
   "execution_count": null,
   "id": "2b368d69",
   "metadata": {},
   "outputs": [],
   "source": [
    "### always either try or except\n",
    "### if try is there else will come\n",
    "# if except is there else is not part of the output"
   ]
  },
  {
   "cell_type": "code",
   "execution_count": 6,
   "id": "f783c4a0",
   "metadata": {},
   "outputs": [
    {
     "name": "stdout",
     "output_type": "stream",
     "text": [
      "5\n",
      "else block is executed\n",
      "finally block is executed\n"
     ]
    }
   ],
   "source": [
    "try:\n",
    "    print(2+3)\n",
    "except:\n",
    "    print(\"except block is executed\")\n",
    "else:\n",
    "    print(\"else block is executed\")\n",
    "finally:\n",
    "    print(\"finally block is executed\")"
   ]
  },
  {
   "cell_type": "code",
   "execution_count": 7,
   "id": "8eeeef25",
   "metadata": {},
   "outputs": [
    {
     "name": "stdout",
     "output_type": "stream",
     "text": [
      "except block is executed\n",
      "finally block is executed\n"
     ]
    }
   ],
   "source": [
    "try:\n",
    "    print(2/0)\n",
    "except:\n",
    "    print(\"except block is executed\")\n",
    "else:\n",
    "    print(\"else block is executed\")\n",
    "finally:\n",
    "    print(\"finally block is executed\")"
   ]
  },
  {
   "cell_type": "code",
   "execution_count": 8,
   "id": "cbb0770f",
   "metadata": {},
   "outputs": [
    {
     "name": "stdout",
     "output_type": "stream",
     "text": [
      "Division Result: 5.0\n",
      "Operation completed\n"
     ]
    }
   ],
   "source": [
    "try:\n",
    "    a,b=10,2\n",
    "    res=a/b\n",
    "except:\n",
    "    print(\"Cannot divide by zero\")\n",
    "else:\n",
    "    print(\"Division Result:\",res)\n",
    "finally:\n",
    "    print(\"Operation completed\")\n",
    "\n",
    "    "
   ]
  },
  {
   "cell_type": "code",
   "execution_count": 9,
   "id": "704bed34",
   "metadata": {},
   "outputs": [
    {
     "name": "stdout",
     "output_type": "stream",
     "text": [
      "Cannot divide by zero\n",
      "Operation completed\n"
     ]
    }
   ],
   "source": [
    "try:\n",
    "    a,b=10,0\n",
    "    res=a/b\n",
    "except:\n",
    "    print(\"Cannot divide by zero\")\n",
    "else:\n",
    "    print(\"Division Result:\",res)\n",
    "finally:\n",
    "    print(\"Operation completed\")\n",
    "\n",
    "    "
   ]
  },
  {
   "cell_type": "code",
   "execution_count": 15,
   "id": "4d9d95bf",
   "metadata": {},
   "outputs": [
    {
     "name": "stdout",
     "output_type": "stream",
     "text": [
      "Converted: 133\n",
      "Conversion Attempted Successfully\n"
     ]
    }
   ],
   "source": [
    "# ValueError is a built-in exception that occurs when a function or operation receives an argument of the right data type but an invalid value.\n",
    "try:\n",
    "    value=int(\"123\")\n",
    "except ValueError:\n",
    "    print(\"invalid Integer\")\n",
    "else:\n",
    "    print(\"Converted:\",value+10)\n",
    "finally:\n",
    "    print(\"Conversion Attempted Successfully\")\n"
   ]
  },
  {
   "cell_type": "code",
   "execution_count": 17,
   "id": "946b5c3b",
   "metadata": {},
   "outputs": [
    {
     "name": "stdout",
     "output_type": "stream",
     "text": [
      "invalid Integer\n",
      "Conversion Attempted Successfully\n"
     ]
    }
   ],
   "source": [
    "try:\n",
    "    value=int(\"abc\")\n",
    "except ValueError:\n",
    "    print(\"invalid Integer\")\n",
    "else:\n",
    "    print(\"Converted:\",value+10)\n",
    "finally:\n",
    "    print(\"Conversion Attempted Successfully\")"
   ]
  },
  {
   "cell_type": "code",
   "execution_count": 18,
   "id": "6cf7263b",
   "metadata": {},
   "outputs": [
    {
     "name": "stdout",
     "output_type": "stream",
     "text": [
      "Power: 32\n",
      "Computation Completed\n"
     ]
    }
   ],
   "source": [
    "try:\n",
    "    base,exp=2,5\n",
    "    res=base**exp\n",
    "except Exception as e:\n",
    "    print(\"Error:\",e)\n",
    "else:\n",
    "    print(\"Power:\",res)\n",
    "finally:\n",
    "    print(\"Computation Completed\")"
   ]
  },
  {
   "cell_type": "code",
   "execution_count": 20,
   "id": "78d493c1",
   "metadata": {},
   "outputs": [
    {
     "name": "stdout",
     "output_type": "stream",
     "text": [
      "3.0\n"
     ]
    }
   ],
   "source": [
    "try:\n",
    "    a,b=12,0\n",
    "    res=a/b\n",
    "except ZeroDivisionError as e:\n",
    "    a,b=12,4\n",
    "    res=a/b\n",
    "    print(a/b)\n"
   ]
  },
  {
   "cell_type": "code",
   "execution_count": 21,
   "id": "c84de4fa",
   "metadata": {},
   "outputs": [
    {
     "name": "stdout",
     "output_type": "stream",
     "text": [
      "invalid literal for int() with base 10: 'abc'\n"
     ]
    }
   ],
   "source": [
    "try:\n",
    "    num=int(\"abc\")\n",
    "except ValueError as e:\n",
    "    print(e)\n"
   ]
  },
  {
   "cell_type": "code",
   "execution_count": 22,
   "id": "0c941b98",
   "metadata": {},
   "outputs": [
    {
     "name": "stdout",
     "output_type": "stream",
     "text": [
      "error can only concatenate str (not \"int\") to str\n"
     ]
    }
   ],
   "source": [
    "try:\n",
    "    result=\"5\"+10\n",
    "except TypeError as e:\n",
    "    print(\"error\",e)"
   ]
  },
  {
   "cell_type": "code",
   "execution_count": 27,
   "id": "55deaaf8",
   "metadata": {},
   "outputs": [
    {
     "name": "stdout",
     "output_type": "stream",
     "text": [
      "error list index out of range\n"
     ]
    }
   ],
   "source": [
    "try:\n",
    "    result=[1,2,3,4,5,6]\n",
    "    print(result[20])\n",
    "except IndexError as e:\n",
    "    print(\"error\",e)\n"
   ]
  },
  {
   "cell_type": "code",
   "execution_count": 28,
   "id": "1ce8b508",
   "metadata": {},
   "outputs": [
    {
     "name": "stdout",
     "output_type": "stream",
     "text": [
      "[]\n"
     ]
    }
   ],
   "source": [
    "try:\n",
    "    result=[1,2,3,4,5,6]\n",
    "    print(result[20:30])\n",
    "except IndexError as e:\n",
    "    print(\"error\",e)\n"
   ]
  },
  {
   "cell_type": "code",
   "execution_count": 29,
   "id": "4696ee72",
   "metadata": {},
   "outputs": [
    {
     "name": "stdout",
     "output_type": "stream",
     "text": [
      "[]\n",
      "output\n"
     ]
    }
   ],
   "source": [
    "try:\n",
    "    result=[1,2,3,4,5,6]\n",
    "    print(result[20:30])\n",
    "    print(2/0)\n",
    "except IndexError as e:\n",
    "    print(\"error\",e)\n",
    "except:\n",
    "    print(\"output\")\n"
   ]
  },
  {
   "cell_type": "code",
   "execution_count": null,
   "id": "deeadb1b",
   "metadata": {},
   "outputs": [],
   "source": []
  }
 ],
 "metadata": {
  "kernelspec": {
   "display_name": "Python 3",
   "language": "python",
   "name": "python3"
  },
  "language_info": {
   "codemirror_mode": {
    "name": "ipython",
    "version": 3
   },
   "file_extension": ".py",
   "mimetype": "text/x-python",
   "name": "python",
   "nbconvert_exporter": "python",
   "pygments_lexer": "ipython3",
   "version": "3.13.2"
  }
 },
 "nbformat": 4,
 "nbformat_minor": 5
}
