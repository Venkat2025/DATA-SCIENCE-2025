{
 "cells": [
  {
   "cell_type": "code",
   "execution_count": null,
   "id": "1536b4be",
   "metadata": {},
   "outputs": [
    {
     "name": "stdout",
     "output_type": "stream",
     "text": [
      "Suraj\n",
      "22\n",
      "Suraj 22\n",
      "None\n"
     ]
    }
   ],
   "source": [
    "class Student:\n",
    "    def __init__(self,name,age):  # constructor\n",
    "        self.name=name\n",
    "        self.age=age\n",
    "    def display(self):\n",
    "        print(self.name,self.age)\n",
    "s1=Student(\"Suraj\",22)\n",
    "print(s1.name)\n",
    "print(s1.age)\n",
    "print(s1.display())"
   ]
  },
  {
   "cell_type": "code",
   "execution_count": 6,
   "id": "ce904c5e",
   "metadata": {},
   "outputs": [
    {
     "data": {
      "text/plain": [
       "'Name :Rakesh,Age : 22'"
      ]
     },
     "execution_count": 6,
     "metadata": {},
     "output_type": "execute_result"
    }
   ],
   "source": [
    "class Stud:\n",
    "    def disp(self):\n",
    "        return f\"Name :{self.name},Age : {self.age}\"\n",
    "    \n",
    "s2=Stud()\n",
    "s2.name=\"Rakesh\"\n",
    "s2.age=22\n",
    "s2.disp()"
   ]
  },
  {
   "cell_type": "code",
   "execution_count": 9,
   "id": "e5e37d15",
   "metadata": {},
   "outputs": [
    {
     "name": "stdout",
     "output_type": "stream",
     "text": [
      "30\n",
      "-10\n",
      "200\n",
      "0.5\n"
     ]
    }
   ],
   "source": [
    "class Arithmetic:\n",
    "    def __init__(self,a,b):\n",
    "        self.a=a\n",
    "        self.b=b\n",
    "    def add(self):\n",
    "        return self.a+self.b\n",
    "    def sub(self):\n",
    "        return self.a-self.b\n",
    "    def mul(self):\n",
    "        return self.a*self.b\n",
    "    def div(self):\n",
    "        return self.a/self.b if self.b!=0 else \"Divide By Zero Error\"\n",
    "\n",
    "obj=Arithmetic(10,20)\n",
    "print(obj.add())\n",
    "print(obj.sub())\n",
    "print(obj.mul())\n",
    "print(obj.div())\n",
    "        "
   ]
  },
  {
   "cell_type": "code",
   "execution_count": null,
   "id": "01530cdf",
   "metadata": {},
   "outputs": [
    {
     "name": "stdout",
     "output_type": "stream",
     "text": [
      "3141.592653589793\n",
      "628.3185307179587\n"
     ]
    }
   ],
   "source": [
    "import math\n",
    "class Circle:\n",
    "    def __init__(self,r):\n",
    "        self.r=r\n",
    "    def area(self):\n",
    "        return math.pi*self.r*self.r\n",
    "    def circumference(self):\n",
    "        return 2*math.pi*self.r\n",
    "c=Circle(100)\n",
    "print(c.area())     \n",
    "print(c.circumference())   "
   ]
  },
  {
   "cell_type": "code",
   "execution_count": null,
   "id": "02a032ff",
   "metadata": {},
   "outputs": [
    {
     "name": "stdout",
     "output_type": "stream",
     "text": [
      "3141.592653589793\n",
      "628.3185307179587\n"
     ]
    }
   ],
   "source": [
    "import math\n",
    "class Circle:\n",
    "    def __init__(self,r):\n",
    "        self.r=r\n",
    "    def area(self):\n",
    "        r=10    # Local variable 'r' shadows the object's radius\n",
    "        # Here, you are multiplying pi * local r (10) * self.r (object’s radius=100)\n",
    "        return math.pi*r*self.r\n",
    "    def circumference(self):\n",
    "        return 2*math.pi*self.r\n",
    "c=Circle(100)\n",
    "print(c.area())     \n",
    "print(c.circumference())   "
   ]
  },
  {
   "cell_type": "code",
   "execution_count": 14,
   "id": "311f239e",
   "metadata": {},
   "outputs": [
    {
     "name": "stdout",
     "output_type": "stream",
     "text": [
      "Toyota\n",
      "Honda\n"
     ]
    }
   ],
   "source": [
    "class Car:\n",
    "    def __init__(self,brand):\n",
    "        self.brand=brand\n",
    "    def update_brand(self,new_brand):\n",
    "        self.brand=new_brand\n",
    "\n",
    "c1=Car(\"Toyota\")\n",
    "print(c1.brand)\n",
    "c1.update_brand(\"Honda\")\n",
    "print(c1.brand)\n",
    "        "
   ]
  },
  {
   "cell_type": "code",
   "execution_count": 1,
   "id": "40255c6a",
   "metadata": {},
   "outputs": [
    {
     "name": "stdout",
     "output_type": "stream",
     "text": [
      "720\n"
     ]
    }
   ],
   "source": [
    "class test:\n",
    "    def __init__(self,n):\n",
    "        self.n=n\n",
    "    def compute(self,x=None):\n",
    "        if x is None:\n",
    "            x=self.n\n",
    "        return 1 if x==0 else x*self.compute(x-1)\n",
    "\n",
    "f=test(6)\n",
    "print(f.compute())\n",
    "        "
   ]
  },
  {
   "cell_type": "code",
   "execution_count": 6,
   "id": "7f10e0af",
   "metadata": {},
   "outputs": [
    {
     "name": "stderr",
     "output_type": "stream",
     "text": [
      "<>:2: SyntaxWarning: invalid escape sequence '\\D'\n",
      "<>:2: SyntaxWarning: invalid escape sequence '\\D'\n",
      "C:\\Users\\Dell\\AppData\\Local\\Temp\\ipykernel_1464\\2258091973.py:2: SyntaxWarning: invalid escape sequence '\\D'\n",
      "  glob.glob(\"D:\\DATA SCIENCE\\PYTHON\\Sample_folder\\*.csv\")\n"
     ]
    },
    {
     "data": {
      "text/plain": [
       "['D:\\\\DATA SCIENCE\\\\PYTHON\\\\Sample_folder\\\\application_train.csv',\n",
       " 'D:\\\\DATA SCIENCE\\\\PYTHON\\\\Sample_folder\\\\Sample - Superstore.csv']"
      ]
     },
     "execution_count": 6,
     "metadata": {},
     "output_type": "execute_result"
    }
   ],
   "source": [
    "import glob\n",
    "glob.glob(\"D:\\DATA SCIENCE\\PYTHON\\Sample_folder\\*.csv\")"
   ]
  },
  {
   "cell_type": "code",
   "execution_count": 7,
   "id": "40c257a4",
   "metadata": {},
   "outputs": [
    {
     "name": "stderr",
     "output_type": "stream",
     "text": [
      "<>:2: SyntaxWarning: invalid escape sequence '\\D'\n",
      "<>:2: SyntaxWarning: invalid escape sequence '\\D'\n",
      "C:\\Users\\Dell\\AppData\\Local\\Temp\\ipykernel_1464\\2364978467.py:2: SyntaxWarning: invalid escape sequence '\\D'\n",
      "  glob.glob(\"D:\\DATA SCIENCE\\PYTHON\\Sample_folder\\*.png\")\n"
     ]
    },
    {
     "data": {
      "text/plain": [
       "['D:\\\\DATA SCIENCE\\\\PYTHON\\\\Sample_folder\\\\STEP1.png',\n",
       " 'D:\\\\DATA SCIENCE\\\\PYTHON\\\\Sample_folder\\\\STEP10.png',\n",
       " 'D:\\\\DATA SCIENCE\\\\PYTHON\\\\Sample_folder\\\\STEP11.png',\n",
       " 'D:\\\\DATA SCIENCE\\\\PYTHON\\\\Sample_folder\\\\STEP12.png',\n",
       " 'D:\\\\DATA SCIENCE\\\\PYTHON\\\\Sample_folder\\\\STEP13.png',\n",
       " 'D:\\\\DATA SCIENCE\\\\PYTHON\\\\Sample_folder\\\\STEP2.png',\n",
       " 'D:\\\\DATA SCIENCE\\\\PYTHON\\\\Sample_folder\\\\STEP3.png',\n",
       " 'D:\\\\DATA SCIENCE\\\\PYTHON\\\\Sample_folder\\\\STEP4.png',\n",
       " 'D:\\\\DATA SCIENCE\\\\PYTHON\\\\Sample_folder\\\\STEP5.png',\n",
       " 'D:\\\\DATA SCIENCE\\\\PYTHON\\\\Sample_folder\\\\STEP6.png',\n",
       " 'D:\\\\DATA SCIENCE\\\\PYTHON\\\\Sample_folder\\\\STEP7.png',\n",
       " 'D:\\\\DATA SCIENCE\\\\PYTHON\\\\Sample_folder\\\\STEP8.png',\n",
       " 'D:\\\\DATA SCIENCE\\\\PYTHON\\\\Sample_folder\\\\STEP9.png']"
      ]
     },
     "execution_count": 7,
     "metadata": {},
     "output_type": "execute_result"
    }
   ],
   "source": [
    "import glob\n",
    "glob.glob(\"D:\\DATA SCIENCE\\PYTHON\\Sample_folder\\*.png\")"
   ]
  },
  {
   "cell_type": "code",
   "execution_count": 11,
   "id": "05589252",
   "metadata": {},
   "outputs": [
    {
     "name": "stderr",
     "output_type": "stream",
     "text": [
      "<>:6: SyntaxWarning: invalid escape sequence '\\*'\n",
      "<>:8: SyntaxWarning: invalid escape sequence '\\*'\n",
      "<>:10: SyntaxWarning: invalid escape sequence '\\*'\n",
      "<>:12: SyntaxWarning: invalid escape sequence '\\*'\n",
      "<>:15: SyntaxWarning: invalid escape sequence '\\D'\n",
      "<>:6: SyntaxWarning: invalid escape sequence '\\*'\n",
      "<>:8: SyntaxWarning: invalid escape sequence '\\*'\n",
      "<>:10: SyntaxWarning: invalid escape sequence '\\*'\n",
      "<>:12: SyntaxWarning: invalid escape sequence '\\*'\n",
      "<>:15: SyntaxWarning: invalid escape sequence '\\D'\n",
      "C:\\Users\\Dell\\AppData\\Local\\Temp\\ipykernel_1464\\228992435.py:6: SyntaxWarning: invalid escape sequence '\\*'\n",
      "  return glob.glob(self.path+\"\\*.csv\")\n",
      "C:\\Users\\Dell\\AppData\\Local\\Temp\\ipykernel_1464\\228992435.py:8: SyntaxWarning: invalid escape sequence '\\*'\n",
      "  return glob.glob(self.path+\"\\*.pdf\")\n",
      "C:\\Users\\Dell\\AppData\\Local\\Temp\\ipykernel_1464\\228992435.py:10: SyntaxWarning: invalid escape sequence '\\*'\n",
      "  return glob.glob(self.path+\"\\*.png\")\n",
      "C:\\Users\\Dell\\AppData\\Local\\Temp\\ipykernel_1464\\228992435.py:12: SyntaxWarning: invalid escape sequence '\\*'\n",
      "  return glob.glob(self.path+\"\\*.txt\")\n",
      "C:\\Users\\Dell\\AppData\\Local\\Temp\\ipykernel_1464\\228992435.py:15: SyntaxWarning: invalid escape sequence '\\D'\n",
      "  obj=FilePath(\"D:\\DATA SCIENCE\\PYTHON\\Sample_folder\")\n"
     ]
    },
    {
     "data": {
      "text/plain": [
       "['D:\\\\DATA SCIENCE\\\\PYTHON\\\\Sample_folder\\\\application_train.csv',\n",
       " 'D:\\\\DATA SCIENCE\\\\PYTHON\\\\Sample_folder\\\\Sample - Superstore.csv']"
      ]
     },
     "execution_count": 11,
     "metadata": {},
     "output_type": "execute_result"
    }
   ],
   "source": [
    "class FilePath:\n",
    "    def __init__(self,path):\n",
    "        self.path=path\n",
    "    def return_files(self,input_value):\n",
    "        if input_value==\"csv\":\n",
    "            return glob.glob(self.path+\"\\*.csv\")\n",
    "        elif input_value==\"pdf\":\n",
    "            return glob.glob(self.path+\"\\*.pdf\")\n",
    "        elif input_value==\"png\":\n",
    "            return glob.glob(self.path+\"\\*.png\")\n",
    "        elif input_value==\"txt\":\n",
    "            return glob.glob(self.path+\"\\*.txt\")\n",
    "\n",
    "\n",
    "obj=FilePath(\"D:\\DATA SCIENCE\\PYTHON\\Sample_folder\")\n",
    "obj.return_files(\"csv\")\n",
    "        \n",
    "        "
   ]
  },
  {
   "cell_type": "code",
   "execution_count": 10,
   "id": "da45dc2d",
   "metadata": {},
   "outputs": [
    {
     "name": "stdout",
     "output_type": "stream",
     "text": [
      "['D:\\\\DATA SCIENCE\\\\PYTHON\\\\Sample_folder\\\\application_train.csv', 'D:\\\\DATA SCIENCE\\\\PYTHON\\\\Sample_folder\\\\Sample - Superstore.csv']\n"
     ]
    }
   ],
   "source": [
    "import glob\n",
    "import os\n",
    "\n",
    "class FilePath:\n",
    "    def __init__(self, path):\n",
    "        self.path = path\n",
    "\n",
    "    def return_files(self, input_value):\n",
    "        if input_value == \"csv\":\n",
    "            return glob.glob(os.path.join(self.path, \"*.csv\"))\n",
    "        elif input_value == \"pdf\":\n",
    "            return glob.glob(os.path.join(self.path, \"*.pdf\"))\n",
    "        elif input_value == \"png\":\n",
    "            return glob.glob(os.path.join(self.path, \"*.png\"))\n",
    "        elif input_value == \"txt\":\n",
    "            return glob.glob(os.path.join(self.path, \"*.txt\"))\n",
    "        else:\n",
    "            return f\"File type '{input_value}' not supported.\"\n",
    "\n",
    "# Use raw string for Windows path\n",
    "obj = FilePath(r\"D:\\DATA SCIENCE\\PYTHON\\Sample_folder\")\n",
    "print(obj.return_files(\"csv\"))\n"
   ]
  },
  {
   "cell_type": "code",
   "execution_count": null,
   "id": "c2acff36",
   "metadata": {},
   "outputs": [],
   "source": [
    "# Inheritance\n",
    "# Polyorphism\n",
    "# Abstraction\n",
    "# Encapsultion"
   ]
  },
  {
   "cell_type": "code",
   "execution_count": 18,
   "id": "f95a7471",
   "metadata": {},
   "outputs": [
    {
     "name": "stdout",
     "output_type": "stream",
     "text": [
      "I can study\n",
      "I can study\n"
     ]
    }
   ],
   "source": [
    "# Inheritance\n",
    "# Single Inheritance\n",
    "class Person:\n",
    "    def student(self):\n",
    "        return (\"I can speak\")\n",
    "class Student(Person):\n",
    "    def student(self):\n",
    "        return (\"I can study\")\n",
    "\n",
    "s1=Student()\n",
    "print(s1.student())\n",
    "print(s1.student())"
   ]
  },
  {
   "cell_type": "code",
   "execution_count": 19,
   "id": "8158939f",
   "metadata": {},
   "outputs": [
    {
     "name": "stdout",
     "output_type": "stream",
     "text": [
      "Moving on road\n",
      "Runs on Petrol\n",
      "Powered by electricity\n"
     ]
    }
   ],
   "source": [
    "# Multilevel Inheritance\n",
    "class Vehicle:\n",
    "    def move(self):\n",
    "        return \"Moving on road\"\n",
    "class Car(Vehicle):\n",
    "    def fuel(self):\n",
    "        return \"Runs on Petrol\"\n",
    "class ElectricCar(Car):\n",
    "    def battery(self):\n",
    "        return \"Powered by electricity\"\n",
    "\n",
    "\n",
    "ec=ElectricCar()\n",
    "print(ec.move())\n",
    "print(ec.fuel())\n",
    "print(ec.battery())"
   ]
  },
  {
   "cell_type": "code",
   "execution_count": null,
   "id": "4e692ed5",
   "metadata": {},
   "outputs": [],
   "source": []
  }
 ],
 "metadata": {
  "kernelspec": {
   "display_name": "Python 3",
   "language": "python",
   "name": "python3"
  },
  "language_info": {
   "codemirror_mode": {
    "name": "ipython",
    "version": 3
   },
   "file_extension": ".py",
   "mimetype": "text/x-python",
   "name": "python",
   "nbconvert_exporter": "python",
   "pygments_lexer": "ipython3",
   "version": "3.13.2"
  }
 },
 "nbformat": 4,
 "nbformat_minor": 5
}
