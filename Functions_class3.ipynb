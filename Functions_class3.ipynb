{
 "cells": [
  {
   "cell_type": "code",
   "execution_count": null,
   "id": "e3e165e9",
   "metadata": {},
   "outputs": [],
   "source": [
    "# scope of functions\n",
    "# nested functions\n",
    "# recursive functions"
   ]
  },
  {
   "cell_type": "code",
   "execution_count": 2,
   "id": "fbf273cf",
   "metadata": {},
   "outputs": [
    {
     "name": "stdout",
     "output_type": "stream",
     "text": [
      "value of x is: 10\n"
     ]
    }
   ],
   "source": [
    "# scope of functions\n",
    "# local, enclosing, global, builtin\n",
    "x=10\n",
    "def fun():\n",
    "    print(\"value of x is:\",x)\n",
    "fun()"
   ]
  },
  {
   "cell_type": "code",
   "execution_count": 3,
   "id": "2053311c",
   "metadata": {},
   "outputs": [
    {
     "name": "stdout",
     "output_type": "stream",
     "text": [
      "inside function: 50\n",
      "outside function 100\n"
     ]
    }
   ],
   "source": [
    "x=100\n",
    "def show():\n",
    "    x=50    # local variable(different from global x)\n",
    "    print(\"inside function:\",x)\n",
    "show()\n",
    "print(\"outside function\",x)"
   ]
  },
  {
   "cell_type": "code",
   "execution_count": 8,
   "id": "5d39c93e",
   "metadata": {},
   "outputs": [
    {
     "name": "stdout",
     "output_type": "stream",
     "text": [
      "30\n"
     ]
    }
   ],
   "source": [
    "def add():\n",
    "    a=10 # local variable\n",
    "    b=20\n",
    "    return a+b\n",
    "print(add())\n",
    "#print(a)    # NameError: name 'a' is not defined\n"
   ]
  },
  {
   "cell_type": "code",
   "execution_count": null,
   "id": "2be17dd1",
   "metadata": {},
   "outputs": [
    {
     "name": "stdout",
     "output_type": "stream",
     "text": [
      "Hello\n"
     ]
    }
   ],
   "source": [
    "def outer():\n",
    "    msg=\"Hello\"   # Enclosing Variable\n",
    "    def inner():\n",
    "        print(msg) # Access enclosing scope\n",
    "    inner()\n",
    "outer()    "
   ]
  },
  {
   "cell_type": "code",
   "execution_count": null,
   "id": "57cd8cc0",
   "metadata": {},
   "outputs": [
    {
     "name": "stdout",
     "output_type": "stream",
     "text": [
      "Hello\n"
     ]
    }
   ],
   "source": [
    "msg=\"test\"   # Global variable 'msg' with value \"test\"\n",
    "def outer():\n",
    "    msg=\"Hello\"   # Enclosing Variable\n",
    "    def inner():\n",
    "        print(msg) # Access enclosing scope\n",
    "    inner()\n",
    "outer()    "
   ]
  },
  {
   "cell_type": "code",
   "execution_count": 14,
   "id": "462deb86",
   "metadata": {},
   "outputs": [
    {
     "name": "stdout",
     "output_type": "stream",
     "text": [
      "abc\n"
     ]
    }
   ],
   "source": [
    "msg=\"test\"     # Global variable 'msg' with value \"test\"\n",
    "def outer():\n",
    "    msg=\"Hello\"   # Enclosing Variable\n",
    "    def inner():\n",
    "        msg='abc'     # Local variable inside 'inner' (shadows outer 'msg')\n",
    "        print(msg)  # Prints the local 'msg' from 'inner', so output will be 'abc'\n",
    "    inner()\n",
    "outer()    "
   ]
  },
  {
   "cell_type": "code",
   "execution_count": 15,
   "id": "3214c484",
   "metadata": {},
   "outputs": [
    {
     "data": {
      "text/plain": [
       "'fun2'"
      ]
     },
     "execution_count": 15,
     "metadata": {},
     "output_type": "execute_result"
    }
   ],
   "source": [
    "def fun1(x):\n",
    "    def fun2():\n",
    "        return \"fun2\"\n",
    "    def fun3():\n",
    "        return \"fun3\"\n",
    "    if x%2==0:\n",
    "        return fun2()\n",
    "    else:\n",
    "        return fun3()\n",
    "\n",
    "fun1(10)"
   ]
  },
  {
   "cell_type": "code",
   "execution_count": 16,
   "id": "fcc5b7a5",
   "metadata": {},
   "outputs": [
    {
     "name": "stdout",
     "output_type": "stream",
     "text": [
      "(15, 5, 50, 2.0)\n",
      "(10, 10, 0, 'Divide by zero error')\n"
     ]
    }
   ],
   "source": [
    "def calculator(a,b):\n",
    "    def add(): return a+b\n",
    "    def sub(): return a-b\n",
    "    def mul(): return a*b\n",
    "    def div(): return a/b if b!=0 else \"Divide by zero error\"\n",
    "    return add(),sub(),mul(),div()\n",
    "print(calculator(10,5))\n",
    "print(calculator(10,0))\n"
   ]
  },
  {
   "cell_type": "code",
   "execution_count": 20,
   "id": "9af8afee",
   "metadata": {},
   "outputs": [
    {
     "name": "stdout",
     "output_type": "stream",
     "text": [
      "('hello python world', 3)\n"
     ]
    }
   ],
   "source": [
    "def text_processor(sentence):\n",
    "    def clean(text):\n",
    "        return text.lower().replace(\".\",\"\").replace(\",\",\"\")\n",
    "    def count_words(text):\n",
    "        return len(text.split())\n",
    "    \n",
    "    cleaned=clean(sentence)\n",
    "    return cleaned,count_words(cleaned)\n",
    "print(text_processor(\"Hello, Python World.\"))"
   ]
  },
  {
   "cell_type": "code",
   "execution_count": 27,
   "id": "371a3141",
   "metadata": {},
   "outputs": [
    {
     "name": "stdout",
     "output_type": "stream",
     "text": [
      "['hello python world']\n",
      "1\n"
     ]
    }
   ],
   "source": [
    "txt=\"Hello, Python World.\"\n",
    "x=txt.lower().replace(\".\",\"\").replace(\",\",\"\").split(\",\")\n",
    "print(x)\n",
    "print(len(x))\n"
   ]
  },
  {
   "cell_type": "code",
   "execution_count": 30,
   "id": "eb597026",
   "metadata": {},
   "outputs": [
    {
     "name": "stdout",
     "output_type": "stream",
     "text": [
      "25 27\n"
     ]
    }
   ],
   "source": [
    "def power_fun(exp):\n",
    "    def inner(base):\n",
    "        return base ** exp\n",
    "    return inner\n",
    "square = power_fun(2)\n",
    "cube = power_fun(3)\n",
    "print(square(5),cube(3))"
   ]
  },
  {
   "cell_type": "code",
   "execution_count": 44,
   "id": "12dac7f4",
   "metadata": {},
   "outputs": [
    {
     "name": "stdout",
     "output_type": "stream",
     "text": [
      "{'A': 1, 'B': 0}\n",
      "{'A': 1, 'B': 1}\n",
      "{'A': 2, 'B': 1}\n"
     ]
    }
   ],
   "source": [
    "def voting_system():\n",
    "    votes={\"A\":0,\"B\":0}\n",
    "    def vote(candidate):\n",
    "        if candidate in votes:\n",
    "            votes[candidate]+=1\n",
    "            return votes\n",
    "    return vote\n",
    "vote=voting_system()\n",
    "print(vote(\"A\"))\n",
    "print(vote(\"B\"))\n",
    "print(vote(\"A\"))\n",
    "\n"
   ]
  },
  {
   "cell_type": "code",
   "execution_count": 47,
   "id": "6fd4c7b2",
   "metadata": {},
   "outputs": [
    {
     "data": {
      "text/plain": [
       "120"
      ]
     },
     "execution_count": 47,
     "metadata": {},
     "output_type": "execute_result"
    }
   ],
   "source": [
    "def fact(n):\n",
    "    if n==0:\n",
    "        return 1\n",
    "    else:\n",
    "        return n*fact(n-1)\n",
    "fact(5)"
   ]
  },
  {
   "cell_type": "code",
   "execution_count": 51,
   "id": "9bbdbc22",
   "metadata": {},
   "outputs": [
    {
     "name": "stdout",
     "output_type": "stream",
     "text": [
      "1\n",
      "1\n",
      "2\n",
      "3\n",
      "5\n",
      "8\n"
     ]
    }
   ],
   "source": [
    "def fibo(n):\n",
    "    if n<=1:\n",
    "        return 1\n",
    "    else:\n",
    "        return fibo(n-1)+fibo(n-2)\n",
    "for i in range(6):\n",
    "    print(fibo(i))\n",
    "    "
   ]
  },
  {
   "cell_type": "code",
   "execution_count": 52,
   "id": "3f78e3b8",
   "metadata": {},
   "outputs": [],
   "source": [
    "# apply() functions"
   ]
  },
  {
   "cell_type": "code",
   "execution_count": 53,
   "id": "a4f1254c",
   "metadata": {},
   "outputs": [
    {
     "name": "stdout",
     "output_type": "stream",
     "text": [
      "               Name  Age  Salary Department\n",
      "0       Asha Hassan   24   48000         HR\n",
      "1      Dilli Babu N   29   55000         IT\n",
      "2    Ekanth Reddy T   35   72000    Finance\n",
      "3     Parameshwar D   40   80000         IT\n",
      "4       Preethi B V   27   60000         HR\n",
      "5          Shubrati   31   51000    Finance\n",
      "6  Sravanthi Veluru   36   75000         IT\n",
      "7   Supriya Moudgal   28   64000         HR\n"
     ]
    }
   ],
   "source": [
    "import numpy as np\n",
    "import pandas as pd\n",
    "data = {\n",
    "    \"Name\": [\n",
    "        \"Asha Hassan\", \"Dilli Babu N\", \"Ekanth Reddy T\",\n",
    "        \"Parameshwar D\", \"Preethi B V\", \"Shubrati\",\n",
    "        \"Sravanthi Veluru\", \"Supriya Moudgal\"\n",
    "    ],\n",
    "    \"Age\": [24, 29, 35, 40, 27, 31, 36, 28],\n",
    "    \"Salary\": [48000, 55000, 72000, 80000, 60000, 51000, 75000, 64000],\n",
    "    \"Department\": [\"HR\", \"IT\", \"Finance\", \"IT\", \"HR\", \"Finance\", \"IT\", \"HR\"]\n",
    "}\n",
    "\n",
    "df = pd.DataFrame(data)\n",
    "print(df)"
   ]
  },
  {
   "cell_type": "code",
   "execution_count": 54,
   "id": "c214bafb",
   "metadata": {},
   "outputs": [
    {
     "data": {
      "text/plain": [
       "0    2304000000\n",
       "1    3025000000\n",
       "2    5184000000\n",
       "3    6400000000\n",
       "4    3600000000\n",
       "5    2601000000\n",
       "6    5625000000\n",
       "7    4096000000\n",
       "Name: Salary, dtype: int64"
      ]
     },
     "execution_count": 54,
     "metadata": {},
     "output_type": "execute_result"
    }
   ],
   "source": [
    "df['Salary'].apply(lambda x:x**2)"
   ]
  },
  {
   "cell_type": "code",
   "execution_count": 58,
   "id": "52b3a83e",
   "metadata": {},
   "outputs": [
    {
     "data": {
      "text/plain": [
       "0         ASHA HASSAN\n",
       "1        DILLI BABU N\n",
       "2      EKANTH REDDY T\n",
       "3       PARAMESHWAR D\n",
       "4         PREETHI B V\n",
       "5            SHUBRATI\n",
       "6    SRAVANTHI VELURU\n",
       "7     SUPRIYA MOUDGAL\n",
       "Name: Name, dtype: object"
      ]
     },
     "execution_count": 58,
     "metadata": {},
     "output_type": "execute_result"
    }
   ],
   "source": [
    "df['Name'].apply(str.upper)"
   ]
  },
  {
   "cell_type": "code",
   "execution_count": 60,
   "id": "8d8984c0",
   "metadata": {},
   "outputs": [
    {
     "data": {
      "text/plain": [
       "0    False\n",
       "1    False\n",
       "2    False\n",
       "3    False\n",
       "4    False\n",
       "5     True\n",
       "6    False\n",
       "7    False\n",
       "Name: Name, dtype: bool"
      ]
     },
     "execution_count": 60,
     "metadata": {},
     "output_type": "execute_result"
    }
   ],
   "source": [
    "df['Name'].apply(str.isalpha)"
   ]
  },
  {
   "cell_type": "code",
   "execution_count": 64,
   "id": "327a91a4",
   "metadata": {},
   "outputs": [
    {
     "data": {
      "text/plain": [
       "0     low\n",
       "1    high\n",
       "2    high\n",
       "3    high\n",
       "4    high\n",
       "5    high\n",
       "6    high\n",
       "7    high\n",
       "Name: Salary, dtype: object"
      ]
     },
     "execution_count": 64,
     "metadata": {},
     "output_type": "execute_result"
    }
   ],
   "source": [
    "df['Salary'].apply(lambda x:\"high\" if x>50000 else \"low\")"
   ]
  },
  {
   "cell_type": "code",
   "execution_count": 68,
   "id": "64f3b9f4",
   "metadata": {},
   "outputs": [
    {
     "data": {
      "text/html": [
       "<div>\n",
       "<style scoped>\n",
       "    .dataframe tbody tr th:only-of-type {\n",
       "        vertical-align: middle;\n",
       "    }\n",
       "\n",
       "    .dataframe tbody tr th {\n",
       "        vertical-align: top;\n",
       "    }\n",
       "\n",
       "    .dataframe thead th {\n",
       "        text-align: right;\n",
       "    }\n",
       "</style>\n",
       "<table border=\"1\" class=\"dataframe\">\n",
       "  <thead>\n",
       "    <tr style=\"text-align: right;\">\n",
       "      <th></th>\n",
       "      <th>Name</th>\n",
       "      <th>Age</th>\n",
       "      <th>Salary</th>\n",
       "      <th>Department</th>\n",
       "      <th>Tax</th>\n",
       "    </tr>\n",
       "  </thead>\n",
       "  <tbody>\n",
       "    <tr>\n",
       "      <th>0</th>\n",
       "      <td>Asha Hassan</td>\n",
       "      <td>24</td>\n",
       "      <td>48000</td>\n",
       "      <td>HR</td>\n",
       "      <td>9600.0</td>\n",
       "    </tr>\n",
       "    <tr>\n",
       "      <th>1</th>\n",
       "      <td>Dilli Babu N</td>\n",
       "      <td>29</td>\n",
       "      <td>55000</td>\n",
       "      <td>IT</td>\n",
       "      <td>11000.0</td>\n",
       "    </tr>\n",
       "    <tr>\n",
       "      <th>2</th>\n",
       "      <td>Ekanth Reddy T</td>\n",
       "      <td>35</td>\n",
       "      <td>72000</td>\n",
       "      <td>Finance</td>\n",
       "      <td>21600.0</td>\n",
       "    </tr>\n",
       "    <tr>\n",
       "      <th>3</th>\n",
       "      <td>Parameshwar D</td>\n",
       "      <td>40</td>\n",
       "      <td>80000</td>\n",
       "      <td>IT</td>\n",
       "      <td>24000.0</td>\n",
       "    </tr>\n",
       "    <tr>\n",
       "      <th>4</th>\n",
       "      <td>Preethi B V</td>\n",
       "      <td>27</td>\n",
       "      <td>60000</td>\n",
       "      <td>HR</td>\n",
       "      <td>12000.0</td>\n",
       "    </tr>\n",
       "    <tr>\n",
       "      <th>5</th>\n",
       "      <td>Shubrati</td>\n",
       "      <td>31</td>\n",
       "      <td>51000</td>\n",
       "      <td>Finance</td>\n",
       "      <td>10200.0</td>\n",
       "    </tr>\n",
       "    <tr>\n",
       "      <th>6</th>\n",
       "      <td>Sravanthi Veluru</td>\n",
       "      <td>36</td>\n",
       "      <td>75000</td>\n",
       "      <td>IT</td>\n",
       "      <td>22500.0</td>\n",
       "    </tr>\n",
       "    <tr>\n",
       "      <th>7</th>\n",
       "      <td>Supriya Moudgal</td>\n",
       "      <td>28</td>\n",
       "      <td>64000</td>\n",
       "      <td>HR</td>\n",
       "      <td>12800.0</td>\n",
       "    </tr>\n",
       "  </tbody>\n",
       "</table>\n",
       "</div>"
      ],
      "text/plain": [
       "               Name  Age  Salary Department      Tax\n",
       "0       Asha Hassan   24   48000         HR   9600.0\n",
       "1      Dilli Babu N   29   55000         IT  11000.0\n",
       "2    Ekanth Reddy T   35   72000    Finance  21600.0\n",
       "3     Parameshwar D   40   80000         IT  24000.0\n",
       "4       Preethi B V   27   60000         HR  12000.0\n",
       "5          Shubrati   31   51000    Finance  10200.0\n",
       "6  Sravanthi Veluru   36   75000         IT  22500.0\n",
       "7   Supriya Moudgal   28   64000         HR  12800.0"
      ]
     },
     "execution_count": 68,
     "metadata": {},
     "output_type": "execute_result"
    }
   ],
   "source": [
    "def tax(row):\n",
    "    if row['Salary']>70000:\n",
    "        return row[\"Salary\"]*0.3\n",
    "    else:\n",
    "        return row['Salary']*0.2\n",
    "df['Tax']=df.apply(tax,axis=1)\n",
    "df"
   ]
  },
  {
   "cell_type": "code",
   "execution_count": null,
   "id": "26b5040b",
   "metadata": {},
   "outputs": [],
   "source": []
  },
  {
   "cell_type": "code",
   "execution_count": null,
   "id": "eba9fb82",
   "metadata": {},
   "outputs": [],
   "source": []
  }
 ],
 "metadata": {
  "kernelspec": {
   "display_name": "Python 3",
   "language": "python",
   "name": "python3"
  },
  "language_info": {
   "codemirror_mode": {
    "name": "ipython",
    "version": 3
   },
   "file_extension": ".py",
   "mimetype": "text/x-python",
   "name": "python",
   "nbconvert_exporter": "python",
   "pygments_lexer": "ipython3",
   "version": "3.13.2"
  }
 },
 "nbformat": 4,
 "nbformat_minor": 5
}
