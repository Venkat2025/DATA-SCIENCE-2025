{
 "cells": [
  {
   "cell_type": "markdown",
   "id": "14580711",
   "metadata": {},
   "source": [
    "Exception Handling Assignment – Coding Questions"
   ]
  },
  {
   "cell_type": "code",
   "execution_count": null,
   "id": "699bbc16",
   "metadata": {},
   "outputs": [],
   "source": [
    "## Basic Level"
   ]
  },
  {
   "cell_type": "code",
   "execution_count": null,
   "id": "2fa8d007",
   "metadata": {},
   "outputs": [
    {
     "name": "stdout",
     "output_type": "stream",
     "text": [
      "Error division by zero\n",
      "Division attempt finished.\n"
     ]
    }
   ],
   "source": [
    "# 1. Write a program to handle division by zero using try-except.\n",
    "try:\n",
    "    a,b=12,0\n",
    "    res=a/b\n",
    "except ZeroDivisionError as e:\n",
    "    print(\"Error\",e)\n",
    "else:\n",
    "    print(\"Result:\", res)\n",
    "finally:\n",
    "    print(\"Division attempt finished.\")"
   ]
  },
  {
   "cell_type": "code",
   "execution_count": null,
   "id": "54a56b4b",
   "metadata": {},
   "outputs": [
    {
     "name": "stdout",
     "output_type": "stream",
     "text": [
      "Error invalid literal for int() with base 10: 'red'\n"
     ]
    }
   ],
   "source": [
    "# 2. Write a program to handle invalid user input (string instead of number).\n",
    "try:\n",
    "    n=int(input(\"Enter a number\"))\n",
    "except ValueError as e:\n",
    "        print(\"Error\",e)\n",
    "else:\n",
    "    print(\"Result:\", n)\n"
   ]
  },
  {
   "cell_type": "code",
   "execution_count": 9,
   "id": "e1ed4923",
   "metadata": {},
   "outputs": [
    {
     "name": "stdout",
     "output_type": "stream",
     "text": [
      "Error list index out of range\n",
      "Operation Completed.\n"
     ]
    }
   ],
   "source": [
    "# 3. Write a program that catches IndexError when accessing a list element.\n",
    "try:\n",
    "    lst=[1,2,3,4]\n",
    "    res=lst[6]\n",
    "except IndexError as e:\n",
    "    print(\"Error\",e)\n",
    "else:\n",
    "    print(\"Result:\", res)\n",
    "finally:\n",
    "    print(\"Operation Completed.\")\n",
    "    "
   ]
  },
  {
   "cell_type": "code",
   "execution_count": 10,
   "id": "bcbfd935",
   "metadata": {},
   "outputs": [
    {
     "name": "stdout",
     "output_type": "stream",
     "text": [
      "Error: [Errno 2] No such file or directory: 'myfile.txt'\n",
      "File handling operation completed.\n"
     ]
    }
   ],
   "source": [
    "# 4. Write a program to open a file and handle FileNotFoundError.\n",
    "try:\n",
    "    f = open(\"myfile.txt\", \"r\")\n",
    "    content = f.read()\n",
    "except FileNotFoundError as e:\n",
    "    print(\"Error:\", e)\n",
    "else:\n",
    "    print(\"File content:\\n\", content)\n",
    "finally:\n",
    "    print(\"File handling operation completed.\")\n"
   ]
  },
  {
   "cell_type": "code",
   "execution_count": 15,
   "id": "88d0cc05",
   "metadata": {},
   "outputs": [
    {
     "name": "stdout",
     "output_type": "stream",
     "text": [
      "ZeroDivisionError: division by zero\n",
      "Operation Completed\n"
     ]
    }
   ],
   "source": [
    "# 5. Write a program that handles multiple exceptions (ZeroDivisionError, ValueError).\n",
    "try:\n",
    "    a=int(input(\"enter first number:\"))\n",
    "    b=int(input(\"enter second number:\"))\n",
    "    res=(a/b)\n",
    "except ZeroDivisionError as e1:\n",
    "    print(\"ZeroDivisionError:\",e1)\n",
    "except ValueError as e2:\n",
    "    print(\"ValueError:\",e2)\n",
    "else:\n",
    "    print(\"Result:\",res)\n",
    "finally:\n",
    "    print(\"Operation Completed\")"
   ]
  },
  {
   "cell_type": "code",
   "execution_count": 24,
   "id": "53666337",
   "metadata": {},
   "outputs": [
    {
     "name": "stdout",
     "output_type": "stream",
     "text": [
      "Result: Even number\n",
      "Program Finished\n"
     ]
    }
   ],
   "source": [
    "# 6. Write a program using try-except-else to check if a number is even.\n",
    "try:\n",
    "    n=int(input(\"Enter a Number:\"))\n",
    "    res=\"Even number\" if n%2==0 else \"Odd number\"\n",
    "except ValueError as e:\n",
    "    print(\"Error: \",e)\n",
    "else:\n",
    "    print(\"Result:\",res)\n",
    "finally:\n",
    "    print(\"Program Finished\")\n"
   ]
  },
  {
   "cell_type": "code",
   "execution_count": 25,
   "id": "e26ab8a5",
   "metadata": {},
   "outputs": [
    {
     "name": "stdout",
     "output_type": "stream",
     "text": [
      "Result: Odd number\n",
      "Execution Completed\n"
     ]
    }
   ],
   "source": [
    "# 7. Write a program with finally block to always display \"Execution Completed\".\n",
    "\n",
    "try:\n",
    "    n=int(input(\"Enter a Number:\"))\n",
    "    res=\"Even number\" if n%2==0 else \"Odd number\"\n",
    "except ValueError as e:\n",
    "    print(\"Error: \",e)\n",
    "else:\n",
    "    print(\"Result:\",res)\n",
    "finally:\n",
    "    print(\"Execution Completed\")"
   ]
  },
  {
   "cell_type": "code",
   "execution_count": 5,
   "id": "ace51676",
   "metadata": {},
   "outputs": [
    {
     "name": "stdout",
     "output_type": "stream",
     "text": [
      "Error: division by zero\n"
     ]
    }
   ],
   "source": [
    "# 8. Write a program to demonstrate nested try-except blocks.\n",
    "\n",
    "def nested_try_example():\n",
    "    try:\n",
    "        n1 = int(input(\"Enter first number: \"))\n",
    "        n2 = int(input(\"Enter second number: \"))\n",
    "        try:\n",
    "            res = n1/n2\n",
    "            print(\"Result :\", res)\n",
    "            try:\n",
    "                lst = [1, 2, 3]\n",
    "                index = int(input(\"Enter index to access list element: \"))\n",
    "                print(\"Element at index\", index, \"is\", lst[index])\n",
    "            except IndexError as e1:\n",
    "                print(\"Error: \",e1)\n",
    "        except ZeroDivisionError as e2:\n",
    "            print(\"Error:\",e2)\n",
    "    except ValueError as e3:\n",
    "        print(\"Error: \",e3)\n",
    "\n",
    "nested_try_example()\n"
   ]
  },
  {
   "cell_type": "code",
   "execution_count": 6,
   "id": "68717acb",
   "metadata": {},
   "outputs": [
    {
     "name": "stdout",
     "output_type": "stream",
     "text": [
      "Error: invalid literal for int() with base 10: 'abc'\n",
      "Program Executed\n"
     ]
    }
   ],
   "source": [
    "# 9.Write a program that asks for two numbers and handles both division and conversion errors.\n",
    "try:\n",
    "    n1 = int(input(\"Enter first number: \"))\n",
    "    n2 = int(input(\"Enter second number: \"))\n",
    "    res=n1/n2\n",
    "except ZeroDivisionError as e1:\n",
    "    print(\"Error: \",e1)\n",
    "except ValueError as e2:\n",
    "    print(\"Error:\",e2)\n",
    "else:\n",
    "    print(\"Result: \",res)\n",
    "finally:\n",
    "    print(\"Program Executed\")\n"
   ]
  },
  {
   "cell_type": "code",
   "execution_count": 8,
   "id": "85f2587e",
   "metadata": {},
   "outputs": [
    {
     "name": "stdout",
     "output_type": "stream",
     "text": [
      "Error: y must be string,but it is integer\n"
     ]
    }
   ],
   "source": [
    "# 10.Write a program that raises and handles a TypeError.\n",
    "try:\n",
    "    x=\"ravi\"\n",
    "    y=10\n",
    "    if not isinstance(y,str):\n",
    "        raise TypeError(\"y must be string,but it is integer\")\n",
    "    print(x+y)\n",
    "except TypeError as e:\n",
    "    print(\"Error:\",e)"
   ]
  },
  {
   "cell_type": "code",
   "execution_count": null,
   "id": "f8b1ca18",
   "metadata": {},
   "outputs": [],
   "source": []
  }
 ],
 "metadata": {
  "kernelspec": {
   "display_name": "Python 3",
   "language": "python",
   "name": "python3"
  },
  "language_info": {
   "codemirror_mode": {
    "name": "ipython",
    "version": 3
   },
   "file_extension": ".py",
   "mimetype": "text/x-python",
   "name": "python",
   "nbconvert_exporter": "python",
   "pygments_lexer": "ipython3",
   "version": "3.13.5"
  }
 },
 "nbformat": 4,
 "nbformat_minor": 5
}
