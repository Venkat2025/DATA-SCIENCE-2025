{
 "cells": [
  {
   "cell_type": "markdown",
   "id": "21b18ddc",
   "metadata": {},
   "source": [
    "Exception handling in Python is a mechanism that allows you to deal with errors (called exceptions) that occur during the execution of a program, without abruptly stopping it.\n",
    "\n",
    "Key points:\n",
    "\n",
    "Exception --> An event that interrupts the normal flow of a program (e.g., dividing by zero, file not found, wrong input type).\n",
    "\n",
    "try-except block --> Used to catch and handle exceptions.\n",
    "\n",
    "else block --> Runs only if no exception occurs.\n",
    "\n",
    "finally block --> Runs no matter what (useful for cleanup, like closing a file or database connection)."
   ]
  },
  {
   "cell_type": "code",
   "execution_count": null,
   "id": "8d8ab1a4",
   "metadata": {},
   "outputs": [
    {
     "name": "stdout",
     "output_type": "stream",
     "text": [
      "Try block demo\n"
     ]
    }
   ],
   "source": [
    "try:\n",
    "    print(2/0)\n",
    "except:\n",
    "    print(\"try block demo\")"
   ]
  },
  {
   "cell_type": "code",
   "execution_count": null,
   "id": "5514fd93",
   "metadata": {},
   "outputs": [
    {
     "ename": "ZeroDivisionError",
     "evalue": "division by zero",
     "output_type": "error",
     "traceback": [
      "\u001b[31m---------------------------------------------------------------------------\u001b[39m",
      "\u001b[31mZeroDivisionError\u001b[39m                         Traceback (most recent call last)",
      "\u001b[36mCell\u001b[39m\u001b[36m \u001b[39m\u001b[32mIn[2]\u001b[39m\u001b[32m, line 1\u001b[39m\n\u001b[32m----> \u001b[39m\u001b[32m1\u001b[39m \u001b[32;43m2\u001b[39;49m\u001b[43m/\u001b[49m\u001b[32;43m0\u001b[39;49m\n",
      "\u001b[31mZeroDivisionError\u001b[39m: division by zero"
     ]
    }
   ],
   "source": [
    "2/0  # ZeroDivisionError  "
   ]
  },
  {
   "cell_type": "code",
   "execution_count": 4,
   "id": "b6dcd612",
   "metadata": {},
   "outputs": [
    {
     "name": "stdout",
     "output_type": "stream",
     "text": [
      "data\n"
     ]
    }
   ],
   "source": [
    "try:\n",
    "    print(2+input())\n",
    "except:\n",
    "    print(\"data\")"
   ]
  },
  {
   "cell_type": "code",
   "execution_count": null,
   "id": "340fafec",
   "metadata": {},
   "outputs": [
    {
     "ename": "TypeError",
     "evalue": "unsupported operand type(s) for +: 'int' and 'str'",
     "output_type": "error",
     "traceback": [
      "\u001b[31m---------------------------------------------------------------------------\u001b[39m",
      "\u001b[31mTypeError\u001b[39m                                 Traceback (most recent call last)",
      "\u001b[36mCell\u001b[39m\u001b[36m \u001b[39m\u001b[32mIn[5]\u001b[39m\u001b[32m, line 1\u001b[39m\n\u001b[32m----> \u001b[39m\u001b[32m1\u001b[39m \u001b[32;43m2\u001b[39;49m\u001b[43m+\u001b[49m\u001b[38;5;28;43minput\u001b[39;49m\u001b[43m(\u001b[49m\u001b[43m)\u001b[49m\n",
      "\u001b[31mTypeError\u001b[39m: unsupported operand type(s) for +: 'int' and 'str'"
     ]
    }
   ],
   "source": [
    "2+input()   # TypeError  "
   ]
  },
  {
   "cell_type": "code",
   "execution_count": null,
   "id": "2b368d69",
   "metadata": {},
   "outputs": [],
   "source": [
    "### always either try or except\n",
    "### if try is there else will come\n",
    "# if except is there else is not part of the output"
   ]
  },
  {
   "cell_type": "code",
   "execution_count": 6,
   "id": "f783c4a0",
   "metadata": {},
   "outputs": [
    {
     "name": "stdout",
     "output_type": "stream",
     "text": [
      "5\n",
      "else block is executed\n",
      "finally block is executed\n"
     ]
    }
   ],
   "source": [
    "try:\n",
    "    print(2+3)\n",
    "except:\n",
    "    print(\"except block is executed\")\n",
    "else:\n",
    "    print(\"else block is executed\")\n",
    "finally:\n",
    "    print(\"finally block is executed\")"
   ]
  },
  {
   "cell_type": "code",
   "execution_count": 7,
   "id": "8eeeef25",
   "metadata": {},
   "outputs": [
    {
     "name": "stdout",
     "output_type": "stream",
     "text": [
      "except block is executed\n",
      "finally block is executed\n"
     ]
    }
   ],
   "source": [
    "try:\n",
    "    print(2/0)\n",
    "except:\n",
    "    print(\"except block is executed\")\n",
    "else:\n",
    "    print(\"else block is executed\")\n",
    "finally:\n",
    "    print(\"finally block is executed\")"
   ]
  },
  {
   "cell_type": "code",
   "execution_count": 8,
   "id": "cbb0770f",
   "metadata": {},
   "outputs": [
    {
     "name": "stdout",
     "output_type": "stream",
     "text": [
      "Division Result: 5.0\n",
      "Operation completed\n"
     ]
    }
   ],
   "source": [
    "try:\n",
    "    a,b=10,2\n",
    "    res=a/b\n",
    "except:\n",
    "    print(\"Cannot divide by zero\")\n",
    "else:\n",
    "    print(\"Division Result:\",res)\n",
    "finally:\n",
    "    print(\"Operation completed\")\n",
    "\n",
    "    "
   ]
  },
  {
   "cell_type": "code",
   "execution_count": 9,
   "id": "704bed34",
   "metadata": {},
   "outputs": [
    {
     "name": "stdout",
     "output_type": "stream",
     "text": [
      "Cannot divide by zero\n",
      "Operation completed\n"
     ]
    }
   ],
   "source": [
    "try:\n",
    "    a,b=10,0\n",
    "    res=a/b\n",
    "except:\n",
    "    print(\"Cannot divide by zero\")\n",
    "else:\n",
    "    print(\"Division Result:\",res)\n",
    "finally:\n",
    "    print(\"Operation completed\")\n",
    "\n",
    "    "
   ]
  },
  {
   "cell_type": "code",
   "execution_count": 15,
   "id": "4d9d95bf",
   "metadata": {},
   "outputs": [
    {
     "name": "stdout",
     "output_type": "stream",
     "text": [
      "Converted: 133\n",
      "Conversion Attempted Successfully\n"
     ]
    }
   ],
   "source": [
    "# ValueError is a built-in exception that occurs when a function or operation receives an argument of the right data type but an invalid value.\n",
    "try:\n",
    "    value=int(\"123\")\n",
    "except ValueError:\n",
    "    print(\"invalid Integer\")\n",
    "else:\n",
    "    print(\"Converted:\",value+10)\n",
    "finally:\n",
    "    print(\"Conversion Attempted Successfully\")\n"
   ]
  },
  {
   "cell_type": "code",
   "execution_count": 17,
   "id": "946b5c3b",
   "metadata": {},
   "outputs": [
    {
     "name": "stdout",
     "output_type": "stream",
     "text": [
      "invalid Integer\n",
      "Conversion Attempted Successfully\n"
     ]
    }
   ],
   "source": [
    "try:\n",
    "    value=int(\"abc\")\n",
    "except ValueError:\n",
    "    print(\"invalid Integer\")\n",
    "else:\n",
    "    print(\"Converted:\",value+10)\n",
    "finally:\n",
    "    print(\"Conversion Attempted Successfully\")"
   ]
  },
  {
   "cell_type": "code",
   "execution_count": 18,
   "id": "6cf7263b",
   "metadata": {},
   "outputs": [
    {
     "name": "stdout",
     "output_type": "stream",
     "text": [
      "Power: 32\n",
      "Computation Completed\n"
     ]
    }
   ],
   "source": [
    "try:\n",
    "    base,exp=2,5\n",
    "    res=base**exp\n",
    "except Exception as e:\n",
    "    print(\"Error:\",e)\n",
    "else:\n",
    "    print(\"Power:\",res)\n",
    "finally:\n",
    "    print(\"Computation Completed\")"
   ]
  },
  {
   "cell_type": "code",
   "execution_count": 20,
   "id": "78d493c1",
   "metadata": {},
   "outputs": [
    {
     "name": "stdout",
     "output_type": "stream",
     "text": [
      "3.0\n"
     ]
    }
   ],
   "source": [
    "try:\n",
    "    a,b=12,0\n",
    "    res=a/b\n",
    "except ZeroDivisionError as e:\n",
    "    a,b=12,4\n",
    "    res=a/b\n",
    "    print(a/b)\n"
   ]
  },
  {
   "cell_type": "code",
   "execution_count": 21,
   "id": "c84de4fa",
   "metadata": {},
   "outputs": [
    {
     "name": "stdout",
     "output_type": "stream",
     "text": [
      "invalid literal for int() with base 10: 'abc'\n"
     ]
    }
   ],
   "source": [
    "try:\n",
    "    num=int(\"abc\")\n",
    "except ValueError as e:\n",
    "    print(e)\n"
   ]
  },
  {
   "cell_type": "code",
   "execution_count": 22,
   "id": "0c941b98",
   "metadata": {},
   "outputs": [
    {
     "name": "stdout",
     "output_type": "stream",
     "text": [
      "error can only concatenate str (not \"int\") to str\n"
     ]
    }
   ],
   "source": [
    "try:\n",
    "    result=\"5\"+10\n",
    "except TypeError as e:\n",
    "    print(\"error\",e)"
   ]
  },
  {
   "cell_type": "code",
   "execution_count": 27,
   "id": "55deaaf8",
   "metadata": {},
   "outputs": [
    {
     "name": "stdout",
     "output_type": "stream",
     "text": [
      "error list index out of range\n"
     ]
    }
   ],
   "source": [
    "try:\n",
    "    result=[1,2,3,4,5,6]\n",
    "    print(result[20])\n",
    "except IndexError as e:\n",
    "    print(\"error\",e)\n"
   ]
  },
  {
   "cell_type": "code",
   "execution_count": 28,
   "id": "1ce8b508",
   "metadata": {},
   "outputs": [
    {
     "name": "stdout",
     "output_type": "stream",
     "text": [
      "[]\n"
     ]
    }
   ],
   "source": [
    "try:\n",
    "    result=[1,2,3,4,5,6]\n",
    "    print(result[20:30])\n",
    "except IndexError as e:\n",
    "    print(\"error\",e)\n"
   ]
  },
  {
   "cell_type": "code",
   "execution_count": 29,
   "id": "4696ee72",
   "metadata": {},
   "outputs": [
    {
     "name": "stdout",
     "output_type": "stream",
     "text": [
      "[]\n",
      "output\n"
     ]
    }
   ],
   "source": [
    "try:\n",
    "    result=[1,2,3,4,5,6]\n",
    "    print(result[20:30])\n",
    "    print(2/0)\n",
    "except IndexError as e:\n",
    "    print(\"error\",e)\n",
    "except:\n",
    "    print(\"output\")\n"
   ]
  },
  {
   "cell_type": "code",
   "execution_count": null,
   "id": "736d3647",
   "metadata": {},
   "outputs": [
    {
     "ename": "IndexError",
     "evalue": "list index out of range",
     "output_type": "error",
     "traceback": [
      "\u001b[31m---------------------------------------------------------------------------\u001b[39m",
      "\u001b[31mIndexError\u001b[39m                                Traceback (most recent call last)",
      "\u001b[36mCell\u001b[39m\u001b[36m \u001b[39m\u001b[32mIn[3]\u001b[39m\u001b[32m, line 2\u001b[39m\n\u001b[32m      1\u001b[39m result=[\u001b[32m1\u001b[39m,\u001b[32m2\u001b[39m,\u001b[32m3\u001b[39m,\u001b[32m4\u001b[39m,\u001b[32m5\u001b[39m,\u001b[32m6\u001b[39m]\n\u001b[32m----> \u001b[39m\u001b[32m2\u001b[39m \u001b[38;5;28mprint\u001b[39m(\u001b[43mresult\u001b[49m\u001b[43m[\u001b[49m\u001b[32;43m20\u001b[39;49m\u001b[43m]\u001b[49m)\n",
      "\u001b[31mIndexError\u001b[39m: list index out of range"
     ]
    }
   ],
   "source": [
    "result=[1,2,3,4,5,6]\n",
    "print(result[20])  # IndexError--> list index out of range"
   ]
  },
  {
   "cell_type": "code",
   "execution_count": 2,
   "id": "deeadb1b",
   "metadata": {},
   "outputs": [
    {
     "name": "stdout",
     "output_type": "stream",
     "text": [
      "[]\n"
     ]
    }
   ],
   "source": [
    "result=[1,2,3,4,5,6]\n",
    "print(result[20:30])"
   ]
  },
  {
   "cell_type": "code",
   "execution_count": 7,
   "id": "b4786ed4",
   "metadata": {},
   "outputs": [
    {
     "name": "stdout",
     "output_type": "stream",
     "text": [
      "Error 'b'\n"
     ]
    }
   ],
   "source": [
    "try:\n",
    "    d={'a':1}\n",
    "    print(d['b'])     # KeyError \n",
    "except KeyError as e:\n",
    "    print(\"Error\",e)"
   ]
  },
  {
   "cell_type": "code",
   "execution_count": null,
   "id": "ebe60d3c",
   "metadata": {},
   "outputs": [
    {
     "ename": "KeyError",
     "evalue": "'b'",
     "output_type": "error",
     "traceback": [
      "\u001b[31m---------------------------------------------------------------------------\u001b[39m",
      "\u001b[31mKeyError\u001b[39m                                  Traceback (most recent call last)",
      "\u001b[36mCell\u001b[39m\u001b[36m \u001b[39m\u001b[32mIn[8]\u001b[39m\u001b[32m, line 2\u001b[39m\n\u001b[32m      1\u001b[39m d={\u001b[33m'\u001b[39m\u001b[33ma\u001b[39m\u001b[33m'\u001b[39m:\u001b[32m1\u001b[39m}\n\u001b[32m----> \u001b[39m\u001b[32m2\u001b[39m \u001b[38;5;28mprint\u001b[39m(\u001b[43md\u001b[49m\u001b[43m[\u001b[49m\u001b[33;43m'\u001b[39;49m\u001b[33;43mb\u001b[39;49m\u001b[33;43m'\u001b[39;49m\u001b[43m]\u001b[49m)\n",
      "\u001b[31mKeyError\u001b[39m: 'b'"
     ]
    }
   ],
   "source": [
    "d={'a':1}\n",
    "print(d['b'])  # KeyError: 'b'"
   ]
  },
  {
   "cell_type": "code",
   "execution_count": 9,
   "id": "b69622fe",
   "metadata": {},
   "outputs": [
    {
     "name": "stdout",
     "output_type": "stream",
     "text": [
      "error\n"
     ]
    }
   ],
   "source": [
    "try:\n",
    "  f=open(\"sample.txt\")\n",
    "  print(f.read())\n",
    "except:\n",
    "  print(\"error\")"
   ]
  },
  {
   "cell_type": "code",
   "execution_count": 10,
   "id": "219e7fbe",
   "metadata": {},
   "outputs": [
    {
     "name": "stdout",
     "output_type": "stream",
     "text": [
      "sample\n",
      "sample\n",
      "\n",
      "sample\n",
      "sample\n",
      "sample\n",
      "sample\n",
      "sample\n",
      "sample\n",
      "sample\n",
      "sample\n",
      "sample\n",
      "sample\n",
      "sample\n",
      "sample\n",
      "sample\n",
      "sample\n",
      "sample\n",
      "sample\n",
      "sample\n",
      "sample\n",
      "sample\n",
      "sample\n",
      "sample\n",
      "sample\n",
      "sample\n",
      "sample\n",
      "sample\n",
      "sample\n",
      "sample\n",
      "sample\n",
      "sample\n",
      "sample\n",
      "sample\n",
      "sample\n",
      "sample\n",
      "sample\n",
      "sample\n",
      "sample\n",
      "sample\n",
      "sample\n",
      "sample\n",
      "sample\n",
      "sample\n",
      "sample\n",
      "sample\n",
      "sample\n",
      "sample\n",
      "sample\n",
      "sample\n",
      "sample\n",
      "\n"
     ]
    },
    {
     "name": "stderr",
     "output_type": "stream",
     "text": [
      "<>:1: SyntaxWarning: invalid escape sequence '\\D'\n",
      "<>:1: SyntaxWarning: invalid escape sequence '\\D'\n",
      "C:\\Users\\Dell\\AppData\\Local\\Temp\\ipykernel_4300\\2492913134.py:1: SyntaxWarning: invalid escape sequence '\\D'\n",
      "  f=open(\"D:\\DATA SCIENCE\\PYTHON\\sm.txt\")\n"
     ]
    }
   ],
   "source": [
    "f=open(\"D:\\DATA SCIENCE\\PYTHON\\sm.txt\")\n",
    "print(f.read())"
   ]
  },
  {
   "cell_type": "code",
   "execution_count": 11,
   "id": "bd680c41",
   "metadata": {},
   "outputs": [
    {
     "name": "stdout",
     "output_type": "stream",
     "text": [
      "error 'int' object has no attribute 'append'\n"
     ]
    }
   ],
   "source": [
    "try:\n",
    "  x=20\n",
    "  x.append(5)\n",
    "except AttributeError as e:\n",
    "  print(\"error\",e)"
   ]
  },
  {
   "cell_type": "code",
   "execution_count": null,
   "id": "98cda65d",
   "metadata": {},
   "outputs": [
    {
     "ename": "AttributeError",
     "evalue": "'int' object has no attribute 'append'",
     "output_type": "error",
     "traceback": [
      "\u001b[31m---------------------------------------------------------------------------\u001b[39m",
      "\u001b[31mAttributeError\u001b[39m                            Traceback (most recent call last)",
      "\u001b[36mCell\u001b[39m\u001b[36m \u001b[39m\u001b[32mIn[12]\u001b[39m\u001b[32m, line 2\u001b[39m\n\u001b[32m      1\u001b[39m x=\u001b[32m20\u001b[39m\n\u001b[32m----> \u001b[39m\u001b[32m2\u001b[39m \u001b[43mx\u001b[49m\u001b[43m.\u001b[49m\u001b[43mappend\u001b[49m(\u001b[33m\"\u001b[39m\u001b[33mdata\u001b[39m\u001b[33m\"\u001b[39m)\n",
      "\u001b[31mAttributeError\u001b[39m: 'int' object has no attribute 'append'"
     ]
    }
   ],
   "source": [
    "x=20\n",
    "x.append(\"data\")   # AttributeError "
   ]
  },
  {
   "cell_type": "code",
   "execution_count": 13,
   "id": "0fbf4777",
   "metadata": {},
   "outputs": [
    {
     "name": "stdout",
     "output_type": "stream",
     "text": [
      "Error No module named 'nomodule'\n"
     ]
    }
   ],
   "source": [
    "try:\n",
    "  import nomodule\n",
    "except ModuleNotFoundError as e:\n",
    "  print(\"Error\",e)"
   ]
  },
  {
   "cell_type": "code",
   "execution_count": 14,
   "id": "2c5a5f28",
   "metadata": {},
   "outputs": [
    {
     "name": "stdout",
     "output_type": "stream",
     "text": [
      "Error\n"
     ]
    }
   ],
   "source": [
    "try:\n",
    "  output=[1]*1000000000000000\n",
    "except:\n",
    "  print(\"Error\")"
   ]
  },
  {
   "cell_type": "code",
   "execution_count": null,
   "id": "bf0e5af6",
   "metadata": {},
   "outputs": [
    {
     "ename": "MemoryError",
     "evalue": "",
     "output_type": "error",
     "traceback": [
      "\u001b[31m---------------------------------------------------------------------------\u001b[39m",
      "\u001b[31mMemoryError\u001b[39m                               Traceback (most recent call last)",
      "\u001b[36mCell\u001b[39m\u001b[36m \u001b[39m\u001b[32mIn[15]\u001b[39m\u001b[32m, line 1\u001b[39m\n\u001b[32m----> \u001b[39m\u001b[32m1\u001b[39m output=\u001b[43m[\u001b[49m\u001b[32;43m1\u001b[39;49m\u001b[43m]\u001b[49m\u001b[43m*\u001b[49m\u001b[32;43m1000000000000000\u001b[39;49m\n",
      "\u001b[31mMemoryError\u001b[39m: "
     ]
    }
   ],
   "source": [
    "output=[1]*1000000000000000     # MemoryError "
   ]
  },
  {
   "cell_type": "code",
   "execution_count": null,
   "id": "8138b43c",
   "metadata": {},
   "outputs": [
    {
     "ename": "OverflowError",
     "evalue": "math range error",
     "output_type": "error",
     "traceback": [
      "\u001b[31m---------------------------------------------------------------------------\u001b[39m",
      "\u001b[31mOverflowError\u001b[39m                             Traceback (most recent call last)",
      "\u001b[36mCell\u001b[39m\u001b[36m \u001b[39m\u001b[32mIn[16]\u001b[39m\u001b[32m, line 2\u001b[39m\n\u001b[32m      1\u001b[39m \u001b[38;5;28;01mimport\u001b[39;00m\u001b[38;5;250m \u001b[39m\u001b[34;01mmath\u001b[39;00m\n\u001b[32m----> \u001b[39m\u001b[32m2\u001b[39m \u001b[38;5;28mprint\u001b[39m(\u001b[43mmath\u001b[49m\u001b[43m.\u001b[49m\u001b[43mexp\u001b[49m\u001b[43m(\u001b[49m\u001b[32;43m1000\u001b[39;49m\u001b[43m)\u001b[49m)\n",
      "\u001b[31mOverflowError\u001b[39m: math range error"
     ]
    }
   ],
   "source": [
    "import math\n",
    "print(math.exp(1000))  # OverflowError"
   ]
  },
  {
   "cell_type": "code",
   "execution_count": 17,
   "id": "1b540aa9",
   "metadata": {},
   "outputs": [
    {
     "name": "stdout",
     "output_type": "stream",
     "text": [
      "22026.465794806718\n"
     ]
    }
   ],
   "source": [
    "import math\n",
    "print(math.exp(10))"
   ]
  },
  {
   "cell_type": "code",
   "execution_count": 18,
   "id": "ccb092e3",
   "metadata": {},
   "outputs": [
    {
     "name": "stdout",
     "output_type": "stream",
     "text": [
      "Error maximum recursion depth exceeded\n"
     ]
    }
   ],
   "source": [
    "def f1():\n",
    "  return f1()\n",
    "try:\n",
    "  f1()\n",
    "except RecursionError as e:\n",
    "  print(\"Error\",e)"
   ]
  },
  {
   "cell_type": "code",
   "execution_count": null,
   "id": "c3483bcf",
   "metadata": {},
   "outputs": [
    {
     "ename": "RecursionError",
     "evalue": "maximum recursion depth exceeded",
     "output_type": "error",
     "traceback": [
      "\u001b[31m---------------------------------------------------------------------------\u001b[39m",
      "\u001b[31mRecursionError\u001b[39m                            Traceback (most recent call last)",
      "\u001b[36mCell\u001b[39m\u001b[36m \u001b[39m\u001b[32mIn[19]\u001b[39m\u001b[32m, line 1\u001b[39m\n\u001b[32m----> \u001b[39m\u001b[32m1\u001b[39m \u001b[43mf1\u001b[49m\u001b[43m(\u001b[49m\u001b[43m)\u001b[49m\n",
      "\u001b[36mCell\u001b[39m\u001b[36m \u001b[39m\u001b[32mIn[18]\u001b[39m\u001b[32m, line 2\u001b[39m, in \u001b[36mf1\u001b[39m\u001b[34m()\u001b[39m\n\u001b[32m      1\u001b[39m \u001b[38;5;28;01mdef\u001b[39;00m\u001b[38;5;250m \u001b[39m\u001b[34mf1\u001b[39m():\n\u001b[32m----> \u001b[39m\u001b[32m2\u001b[39m   \u001b[38;5;28;01mreturn\u001b[39;00m \u001b[43mf1\u001b[49m\u001b[43m(\u001b[49m\u001b[43m)\u001b[49m\n",
      "\u001b[36mCell\u001b[39m\u001b[36m \u001b[39m\u001b[32mIn[18]\u001b[39m\u001b[32m, line 2\u001b[39m, in \u001b[36mf1\u001b[39m\u001b[34m()\u001b[39m\n\u001b[32m      1\u001b[39m \u001b[38;5;28;01mdef\u001b[39;00m\u001b[38;5;250m \u001b[39m\u001b[34mf1\u001b[39m():\n\u001b[32m----> \u001b[39m\u001b[32m2\u001b[39m   \u001b[38;5;28;01mreturn\u001b[39;00m \u001b[43mf1\u001b[49m\u001b[43m(\u001b[49m\u001b[43m)\u001b[49m\n",
      "    \u001b[31m[... skipping similar frames: f1 at line 2 (2974 times)]\u001b[39m\n",
      "\u001b[36mCell\u001b[39m\u001b[36m \u001b[39m\u001b[32mIn[18]\u001b[39m\u001b[32m, line 2\u001b[39m, in \u001b[36mf1\u001b[39m\u001b[34m()\u001b[39m\n\u001b[32m      1\u001b[39m \u001b[38;5;28;01mdef\u001b[39;00m\u001b[38;5;250m \u001b[39m\u001b[34mf1\u001b[39m():\n\u001b[32m----> \u001b[39m\u001b[32m2\u001b[39m   \u001b[38;5;28;01mreturn\u001b[39;00m \u001b[43mf1\u001b[49m\u001b[43m(\u001b[49m\u001b[43m)\u001b[49m\n",
      "\u001b[31mRecursionError\u001b[39m: maximum recursion depth exceeded"
     ]
    }
   ],
   "source": [
    "f1()    # RecursionError  "
   ]
  },
  {
   "cell_type": "code",
   "execution_count": null,
   "id": "83ef87c2",
   "metadata": {},
   "outputs": [
    {
     "ename": "_IncompleteInputError",
     "evalue": "incomplete input (3852950823.py, line 3)",
     "output_type": "error",
     "traceback": [
      "  \u001b[36mCell\u001b[39m\u001b[36m \u001b[39m\u001b[32mIn[20]\u001b[39m\u001b[32m, line 3\u001b[39m\n\u001b[31m    \u001b[39m\u001b[31mprint(\"Rakesh and arun\"\u001b[39m\n                           ^\n\u001b[31m_IncompleteInputError\u001b[39m\u001b[31m:\u001b[39m incomplete input\n"
     ]
    }
   ],
   "source": [
    "x=2\n",
    "if x<5:\n",
    "  print(\"Rakesh and arun\"       # Syntax Error"
   ]
  },
  {
   "cell_type": "code",
   "execution_count": 21,
   "id": "ee3dc277",
   "metadata": {},
   "outputs": [],
   "source": [
    "#### Name errors , indentation errors, syntax errors"
   ]
  },
  {
   "cell_type": "code",
   "execution_count": 22,
   "id": "de4b2197",
   "metadata": {},
   "outputs": [
    {
     "ename": "NameError",
     "evalue": "name 'e' is not defined",
     "output_type": "error",
     "traceback": [
      "\u001b[31m---------------------------------------------------------------------------\u001b[39m",
      "\u001b[31mUnboundLocalError\u001b[39m                         Traceback (most recent call last)",
      "\u001b[36mCell\u001b[39m\u001b[36m \u001b[39m\u001b[32mIn[22]\u001b[39m\u001b[32m, line 5\u001b[39m, in \u001b[36mfunction1\u001b[39m\u001b[34m()\u001b[39m\n\u001b[32m      4\u001b[39m \u001b[38;5;28;01mtry\u001b[39;00m:\n\u001b[32m----> \u001b[39m\u001b[32m5\u001b[39m   \u001b[38;5;28mprint\u001b[39m(\u001b[43mx\u001b[49m)\n\u001b[32m      6\u001b[39m   x=\u001b[32m10\u001b[39m\n",
      "\u001b[31mUnboundLocalError\u001b[39m: cannot access local variable 'x' where it is not associated with a value",
      "\nDuring handling of the above exception, another exception occurred:\n",
      "\u001b[31mNameError\u001b[39m                                 Traceback (most recent call last)",
      "\u001b[36mCell\u001b[39m\u001b[36m \u001b[39m\u001b[32mIn[22]\u001b[39m\u001b[32m, line 9\u001b[39m\n\u001b[32m      7\u001b[39m   \u001b[38;5;28;01mexcept\u001b[39;00m:\n\u001b[32m      8\u001b[39m     \u001b[38;5;28mprint\u001b[39m(e)\n\u001b[32m----> \u001b[39m\u001b[32m9\u001b[39m \u001b[43mfunction1\u001b[49m\u001b[43m(\u001b[49m\u001b[43m)\u001b[49m\n",
      "\u001b[36mCell\u001b[39m\u001b[36m \u001b[39m\u001b[32mIn[22]\u001b[39m\u001b[32m, line 8\u001b[39m, in \u001b[36mfunction1\u001b[39m\u001b[34m()\u001b[39m\n\u001b[32m      6\u001b[39m   x=\u001b[32m10\u001b[39m\n\u001b[32m      7\u001b[39m \u001b[38;5;28;01mexcept\u001b[39;00m:\n\u001b[32m----> \u001b[39m\u001b[32m8\u001b[39m   \u001b[38;5;28mprint\u001b[39m(\u001b[43me\u001b[49m)\n",
      "\u001b[31mNameError\u001b[39m: name 'e' is not defined"
     ]
    }
   ],
   "source": [
    "x=20\n",
    "def function1():\n",
    "\n",
    "  try:\n",
    "    print(x)\n",
    "    x=10\n",
    "  except:\n",
    "    print(e)\n",
    "function1()"
   ]
  },
  {
   "cell_type": "code",
   "execution_count": null,
   "id": "d92389c2",
   "metadata": {},
   "outputs": [],
   "source": [
    "# ### permission error:\n",
    "#   if the file is in read mode and your are trying to write the data to the file then you get the permission error  give"
   ]
  },
  {
   "cell_type": "code",
   "execution_count": null,
   "id": "ae45f9eb",
   "metadata": {},
   "outputs": [],
   "source": [
    "| Exception               | When it Occurs | Example |\n",
    "|-------------------------|----------------|---------|\n",
    "| **AssertionError**      | Raised when `assert` statement fails | `assert 2 + 2 == 5` |\n",
    "| **AttributeError**      | When an invalid attribute is accessed | `\"hello\".append(5)` |\n",
    "| **EOFError**            | When `input()` hits End Of File | `input()` with no input in file mode |\n",
    "| **FloatingPointError**  | Rare, floating-point calculation error | `import math; math.exp(1000)` *(may raise OverflowError instead)* |\n",
    "| **GeneratorExit**       | Raised when a generator is closed | `gen.close()` inside generator |\n",
    "| **ImportError**         | Raised when import fails | `import not_a_module` |\n",
    "| **ModuleNotFoundError** | Subclass of ImportError, module not found | `import fake_module` |\n",
    "| **IndexError**          | Raised when list index out of range | `[1,2,3][5]` |\n",
    "| **KeyError**            | Raised when dict key is not found | `{\"a\":1}[\"b\"]` |\n",
    "| **KeyboardInterrupt**   | When user interrupts program (Ctrl+C) | Manual interruption |\n",
    "| **MemoryError**         | When operation runs out of memory | `[1]*10**10` |\n",
    "| **NameError**           | When variable is not defined | `print(xyz)` |\n",
    "| **UnboundLocalError**   | Subclass of NameError, local var used before assignment | `def f(): print(a); a=5` |\n",
    "| **NotImplementedError** | Raised in abstract methods | `raise NotImplementedError` |\n",
    "| **OSError**             | File/system related error | `open(\"/root/secret.txt\",\"r\")` |\n",
    "| **PermissionError**     | Lack of permission for file operation | `open(\"/root/secret.txt\",\"w\")` |\n",
    "| **FileNotFoundError**   | File not found | `open(\"nofile.txt\",\"r\")` |\n",
    "| **IsADirectoryError**   | File operation on directory | `open(\"/usr/bin/\",\"r\")` |\n",
    "| **IOError**             | Input/output error (alias of OSError) | I/O failures |\n",
    "| **OverflowError**       | Arithmetic exceeds limit | `import math; math.exp(1000)` |\n",
    "| **RecursionError**      | Exceeds max recursion depth | `def f(): return f(); f()` |\n",
    "| **ReferenceError**      | Weak reference to dead object | `import weakref` with deleted object |\n",
    "| **RuntimeError**        | Generic runtime errors | `raise RuntimeError(\"Problem\")` |\n",
    "| **StopIteration**       | Raised by `next()` beyond end of iterator | `it=iter([]); next(it)` |\n",
    "| **StopAsyncIteration**  | Async iterator errors | `async def gen(): return; await gen()` |\n",
    "| **SyntaxError**         | Invalid Python syntax | `eval(\"if True print('hi')\")` |\n",
    "| **IndentationError**    | Wrong indentation (subclass of SyntaxError) | Misaligned code |\n",
    "| **TabError**            | Mixing tabs & spaces in indentation | Tab + space indentation |\n",
    "| **SystemError**         | Internal Python error (rare) | `raise SystemError(\"Bug\")` |\n",
    "| **SystemExit**          | Raised by `sys.exit()` | `import sys; sys.exit()` |\n",
    "| **TypeError**           | Operation on wrong type | `\"5\" + 2` |\n",
    "| **ValueError**          | Right type but wrong value | `int(\"abc\")` |\n",
    "| **UnicodeError**        | Unicode encoding/decoding errors | `b\"\\xff\".decode(\"utf-8\")` |\n",
    "| **UnicodeEncodeError**  | Encoding fails | `\"ü\".encode(\"ascii\")` |\n",
    "| **UnicodeDecodeError**  | Decoding fails | `b'\\xff'.decode(\"utf-8\")` |\n",
    "| **UnicodeTranslateError** | Translation fails | `\"ü\".translate({ord(\"ü\"): None})` |\n",
    "| **ZeroDivisionError**   | Division/modulo by zero | `10/0` |\n"
   ]
  },
  {
   "cell_type": "code",
   "execution_count": null,
   "id": "348dbb91",
   "metadata": {},
   "outputs": [],
   "source": [
    "###### EOF file error"
   ]
  },
  {
   "cell_type": "code",
   "execution_count": 25,
   "metadata": {},
   "outputs": [
    {
     "name": "stdout",
     "output_type": "stream",
     "text": [
      "You entered: 25\n"
     ]
    }
   ],
   "source": [
    "try:\n",
    "    value = input(\"Enter something: \")\n",
    "    print(\"You entered:\", value)\n",
    "except EOFError as e:\n",
    "    print(\"EOFError:\", e)"
   ]
  },
  {
   "cell_type": "code",
   "execution_count": 26,
   "id": "3e7d3c4d",
   "metadata": {},
   "outputs": [],
   "source": [
    "### Encoding and Decoding"
   ]
  },
  {
   "cell_type": "code",
   "execution_count": null,
   "id": "dfb7f2b6",
   "metadata": {},
   "outputs": [],
   "source": [
    "### unicodeEncodeError,#unicodedecode error"
   ]
  },
  {
   "cell_type": "code",
   "execution_count": 30,
   "id": "0367c473",
   "metadata": {},
   "outputs": [
    {
     "name": "stdout",
     "output_type": "stream",
     "text": [
      "UnicodeError: 'utf-8' codec can't decode byte 0xff in position 0: invalid start byte\n"
     ]
    }
   ],
   "source": [
    "try:\n",
    "    b\"\\xff\".decode(\"utf-8\")\n",
    "except UnicodeError as e:\n",
    "    print(\"UnicodeError:\", e)"
   ]
  },
  {
   "cell_type": "code",
   "execution_count": 31,
   "id": "b1a2fc34",
   "metadata": {},
   "outputs": [
    {
     "name": "stdout",
     "output_type": "stream",
     "text": [
      "UnicodeEncodeError: 'ascii' codec can't encode character '\\xfc' in position 0: ordinal not in range(128)\n"
     ]
    }
   ],
   "source": [
    "try:\n",
    "    \"ü\".encode(\"ascii\")\n",
    "except UnicodeEncodeError as e:\n",
    "    print(\"UnicodeEncodeError:\", e)"
   ]
  },
  {
   "cell_type": "code",
   "execution_count": null,
   "id": "545c730a",
   "metadata": {},
   "outputs": [],
   "source": []
  }
 ],
 "metadata": {
  "kernelspec": {
   "display_name": "Python 3",
   "language": "python",
   "name": "python3"
  },
  "language_info": {
   "codemirror_mode": {
    "name": "ipython",
    "version": 3
   },
   "file_extension": ".py",
   "mimetype": "text/x-python",
   "name": "python",
   "nbconvert_exporter": "python",
   "pygments_lexer": "ipython3",
   "version": "3.13.2"
  }
 },
 "nbformat": 4,
 "nbformat_minor": 5
}
