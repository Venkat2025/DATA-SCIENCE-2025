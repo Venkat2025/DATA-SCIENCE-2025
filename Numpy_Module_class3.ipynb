{
 "cells": [
  {
   "cell_type": "code",
   "execution_count": 2,
   "id": "b96a5838",
   "metadata": {},
   "outputs": [
    {
     "data": {
      "text/plain": [
       "array([[7, 5, 5],\n",
       "       [5, 3, 0],\n",
       "       [2, 2, 4]], dtype=int32)"
      ]
     },
     "execution_count": 2,
     "metadata": {},
     "output_type": "execute_result"
    }
   ],
   "source": [
    "import numpy as np\n",
    "data=np.random.randint(0,10,(3,3))\n",
    "data"
   ]
  },
  {
   "cell_type": "code",
   "execution_count": null,
   "id": "ac9a5bc5",
   "metadata": {},
   "outputs": [],
   "source": [
    "# Array Creation operations"
   ]
  },
  {
   "cell_type": "code",
   "execution_count": 4,
   "id": "e5489f32",
   "metadata": {},
   "outputs": [
    {
     "data": {
      "text/plain": [
       "array([1, 2, 3])"
      ]
     },
     "execution_count": 4,
     "metadata": {},
     "output_type": "execute_result"
    }
   ],
   "source": [
    "np.array([1,2,3])"
   ]
  },
  {
   "cell_type": "code",
   "execution_count": 6,
   "id": "5ee35e9f",
   "metadata": {},
   "outputs": [
    {
     "data": {
      "text/plain": [
       "array([[0., 0., 0.],\n",
       "       [0., 0., 0.],\n",
       "       [0., 0., 0.]])"
      ]
     },
     "execution_count": 6,
     "metadata": {},
     "output_type": "execute_result"
    }
   ],
   "source": [
    "np.zeros((3,3))"
   ]
  },
  {
   "cell_type": "code",
   "execution_count": 7,
   "id": "cf0de7e7",
   "metadata": {},
   "outputs": [
    {
     "data": {
      "text/plain": [
       "array([[1., 1., 1.],\n",
       "       [1., 1., 1.],\n",
       "       [1., 1., 1.]])"
      ]
     },
     "execution_count": 7,
     "metadata": {},
     "output_type": "execute_result"
    }
   ],
   "source": [
    "np.ones((3,3))"
   ]
  },
  {
   "cell_type": "code",
   "execution_count": 8,
   "id": "95956c4e",
   "metadata": {},
   "outputs": [
    {
     "data": {
      "text/plain": [
       "array([1., 1., 1., 1., 1.])"
      ]
     },
     "execution_count": 8,
     "metadata": {},
     "output_type": "execute_result"
    }
   ],
   "source": [
    "np.ones(5)"
   ]
  },
  {
   "cell_type": "code",
   "execution_count": 16,
   "id": "f7032c92",
   "metadata": {},
   "outputs": [
    {
     "data": {
      "text/plain": [
       "array([ 0,  1,  2,  3,  4,  5,  6,  7,  8,  9, 10, 11, 12, 13, 14, 15, 16,\n",
       "       17, 18, 19, 20, 21, 22, 23, 24, 25, 26, 27, 28, 29, 30, 31, 32, 33,\n",
       "       34, 35, 36, 37, 38, 39, 40, 41, 42, 43, 44, 45, 46, 47, 48, 49, 50,\n",
       "       51, 52, 53, 54, 55, 56, 57, 58, 59, 60, 61, 62, 63, 64, 65, 66, 67,\n",
       "       68, 69, 70, 71, 72, 73, 74, 75, 76, 77, 78, 79, 80, 81, 82, 83, 84,\n",
       "       85, 86, 87, 88, 89, 90, 91, 92, 93, 94, 95, 96, 97, 98, 99])"
      ]
     },
     "execution_count": 16,
     "metadata": {},
     "output_type": "execute_result"
    }
   ],
   "source": [
    "np.arange(0,100)"
   ]
  },
  {
   "cell_type": "code",
   "execution_count": 11,
   "id": "c32b1f80",
   "metadata": {},
   "outputs": [
    {
     "data": {
      "text/plain": [
       "array([[1., 0., 0., 0., 0.],\n",
       "       [0., 1., 0., 0., 0.],\n",
       "       [0., 0., 1., 0., 0.],\n",
       "       [0., 0., 0., 1., 0.],\n",
       "       [0., 0., 0., 0., 1.]])"
      ]
     },
     "execution_count": 11,
     "metadata": {},
     "output_type": "execute_result"
    }
   ],
   "source": [
    "np.eye(5)"
   ]
  },
  {
   "cell_type": "code",
   "execution_count": 13,
   "id": "0cf1f386",
   "metadata": {},
   "outputs": [
    {
     "data": {
      "text/plain": [
       "array([ 0. ,  2.5,  5. ,  7.5, 10. ])"
      ]
     },
     "execution_count": 13,
     "metadata": {},
     "output_type": "execute_result"
    }
   ],
   "source": [
    "np.linspace(0,10,5)"
   ]
  },
  {
   "cell_type": "code",
   "execution_count": 14,
   "id": "edf751c0",
   "metadata": {},
   "outputs": [],
   "source": [
    "### Mathematical Functions"
   ]
  },
  {
   "cell_type": "code",
   "execution_count": 19,
   "id": "377f3c60",
   "metadata": {},
   "outputs": [
    {
     "data": {
      "text/plain": [
       "array([7, 6, 6, 6, 3, 7, 4, 1, 9, 3], dtype=int32)"
      ]
     },
     "execution_count": 19,
     "metadata": {},
     "output_type": "execute_result"
    }
   ],
   "source": [
    "import numpy as np\n",
    "d=np.random.randint(0,10,10)\n",
    "d"
   ]
  },
  {
   "cell_type": "code",
   "execution_count": 23,
   "id": "679df238",
   "metadata": {},
   "outputs": [
    {
     "name": "stdout",
     "output_type": "stream",
     "text": [
      "[ 0.6569866  -0.2794155  -0.2794155  -0.2794155   0.14112001  0.6569866\n",
      " -0.7568025   0.84147098  0.41211849  0.14112001]\n",
      "[ 0.75390225  0.96017029  0.96017029  0.96017029 -0.9899925   0.75390225\n",
      " -0.65364362  0.54030231 -0.91113026 -0.9899925 ]\n",
      "[ 0.87144798 -0.29100619 -0.29100619 -0.29100619 -0.14254654  0.87144798\n",
      "  1.15782128  1.55740772 -0.45231566 -0.14254654]\n"
     ]
    }
   ],
   "source": [
    "print(np.sin(d))\n",
    "print(np.cos(d))\n",
    "print(np.tan(d))"
   ]
  },
  {
   "cell_type": "code",
   "execution_count": 27,
   "id": "8c045fc8",
   "metadata": {},
   "outputs": [
    {
     "name": "stdout",
     "output_type": "stream",
     "text": [
      "[nan nan nan nan nan nan nan  0. nan nan]\n",
      "\n",
      "[       nan        nan        nan        nan        nan        nan\n",
      "        nan 1.57079633        nan        nan]\n",
      "\n",
      "[1.42889927 1.40564765 1.40564765 1.40564765 1.24904577 1.42889927\n",
      " 1.32581766 0.78539816 1.46013911 1.24904577]\n"
     ]
    },
    {
     "name": "stderr",
     "output_type": "stream",
     "text": [
      "C:\\Users\\P VENKATA RAKESH\\AppData\\Local\\Temp\\ipykernel_24416\\437330748.py:1: RuntimeWarning: invalid value encountered in arccos\n",
      "  print(np.arccos(d))\n",
      "C:\\Users\\P VENKATA RAKESH\\AppData\\Local\\Temp\\ipykernel_24416\\437330748.py:3: RuntimeWarning: invalid value encountered in arcsin\n",
      "  print(np.arcsin(d))\n"
     ]
    }
   ],
   "source": [
    "print(np.arccos(d))\n",
    "print()\n",
    "print(np.arcsin(d))\n",
    "print()\n",
    "print(np.arctan(d))"
   ]
  },
  {
   "cell_type": "code",
   "execution_count": 32,
   "id": "c62feebe",
   "metadata": {},
   "outputs": [
    {
     "data": {
      "text/plain": [
       "array([1.94591015, 1.79175947, 1.79175947, 1.79175947, 1.09861229,\n",
       "       1.94591015, 1.38629436, 0.        , 2.19722458, 1.09861229])"
      ]
     },
     "execution_count": 32,
     "metadata": {},
     "output_type": "execute_result"
    }
   ],
   "source": [
    "np.log(d)"
   ]
  },
  {
   "cell_type": "code",
   "execution_count": 33,
   "id": "98d3a4c9",
   "metadata": {},
   "outputs": [
    {
     "data": {
      "text/plain": [
       "array([2.80735492, 2.5849625 , 2.5849625 , 2.5849625 , 1.5849625 ,\n",
       "       2.80735492, 2.        , 0.        , 3.169925  , 1.5849625 ])"
      ]
     },
     "execution_count": 33,
     "metadata": {},
     "output_type": "execute_result"
    }
   ],
   "source": [
    "np.log2(d)"
   ]
  },
  {
   "cell_type": "code",
   "execution_count": 34,
   "id": "02592c2f",
   "metadata": {},
   "outputs": [
    {
     "data": {
      "text/plain": [
       "array([0.84509804, 0.77815125, 0.77815125, 0.77815125, 0.47712125,\n",
       "       0.84509804, 0.60205999, 0.        , 0.95424251, 0.47712125])"
      ]
     },
     "execution_count": 34,
     "metadata": {},
     "output_type": "execute_result"
    }
   ],
   "source": [
    "np.log10(d)"
   ]
  },
  {
   "cell_type": "code",
   "execution_count": 35,
   "id": "5cc3a476",
   "metadata": {},
   "outputs": [
    {
     "data": {
      "text/plain": [
       "2.718281828459045"
      ]
     },
     "execution_count": 35,
     "metadata": {},
     "output_type": "execute_result"
    }
   ],
   "source": [
    "np.e"
   ]
  },
  {
   "cell_type": "code",
   "execution_count": 36,
   "id": "206aa58e",
   "metadata": {},
   "outputs": [
    {
     "data": {
      "text/plain": [
       "np.float64(0.5)"
      ]
     },
     "execution_count": 36,
     "metadata": {},
     "output_type": "execute_result"
    }
   ],
   "source": [
    "np.log(np.sqrt(2.718281828459045))"
   ]
  },
  {
   "cell_type": "code",
   "execution_count": 38,
   "id": "b30f201c",
   "metadata": {},
   "outputs": [
    {
     "data": {
      "text/plain": [
       "np.float64(0.2867)"
      ]
     },
     "execution_count": 38,
     "metadata": {},
     "output_type": "execute_result"
    }
   ],
   "source": [
    "import math\n",
    "np.log(math.pow(2.718281828459045,0.2867))"
   ]
  },
  {
   "cell_type": "code",
   "execution_count": 39,
   "id": "50adcec5",
   "metadata": {},
   "outputs": [],
   "source": [
    "x=np.random.randint(0,10,(3,3))\n",
    "y=np.random.randint(0,10,(3,3))"
   ]
  },
  {
   "cell_type": "code",
   "execution_count": 40,
   "id": "17eeca2e",
   "metadata": {},
   "outputs": [
    {
     "data": {
      "text/plain": [
       "array([[9, 8, 6],\n",
       "       [6, 9, 4],\n",
       "       [6, 4, 8]], dtype=int32)"
      ]
     },
     "execution_count": 40,
     "metadata": {},
     "output_type": "execute_result"
    }
   ],
   "source": [
    "x"
   ]
  },
  {
   "cell_type": "code",
   "execution_count": 41,
   "id": "44f1269d",
   "metadata": {},
   "outputs": [
    {
     "data": {
      "text/plain": [
       "array([[0, 2, 5],\n",
       "       [5, 7, 8],\n",
       "       [6, 6, 7]], dtype=int32)"
      ]
     },
     "execution_count": 41,
     "metadata": {},
     "output_type": "execute_result"
    }
   ],
   "source": [
    "y"
   ]
  },
  {
   "cell_type": "code",
   "execution_count": 42,
   "id": "0758544c",
   "metadata": {},
   "outputs": [
    {
     "data": {
      "text/plain": [
       "array([[ 9, 10, 11],\n",
       "       [11, 16, 12],\n",
       "       [12, 10, 15]], dtype=int32)"
      ]
     },
     "execution_count": 42,
     "metadata": {},
     "output_type": "execute_result"
    }
   ],
   "source": [
    "x+y"
   ]
  },
  {
   "cell_type": "code",
   "execution_count": 43,
   "id": "bb0d0a5e",
   "metadata": {},
   "outputs": [
    {
     "data": {
      "text/plain": [
       "array([[ 9, 10, 11],\n",
       "       [11, 16, 12],\n",
       "       [12, 10, 15]], dtype=int32)"
      ]
     },
     "execution_count": 43,
     "metadata": {},
     "output_type": "execute_result"
    }
   ],
   "source": [
    "np.add(x,y)"
   ]
  },
  {
   "cell_type": "code",
   "execution_count": 44,
   "id": "d3d141a9",
   "metadata": {},
   "outputs": [
    {
     "data": {
      "text/plain": [
       "array([[ 9,  6,  1],\n",
       "       [ 1,  2, -4],\n",
       "       [ 0, -2,  1]], dtype=int32)"
      ]
     },
     "execution_count": 44,
     "metadata": {},
     "output_type": "execute_result"
    }
   ],
   "source": [
    "np.subtract(x,y)"
   ]
  },
  {
   "cell_type": "code",
   "execution_count": 45,
   "id": "6082f878",
   "metadata": {},
   "outputs": [
    {
     "data": {
      "text/plain": [
       "array([[ 0, 16, 30],\n",
       "       [30, 63, 32],\n",
       "       [36, 24, 56]], dtype=int32)"
      ]
     },
     "execution_count": 45,
     "metadata": {},
     "output_type": "execute_result"
    }
   ],
   "source": [
    "np.multiply(x,y)"
   ]
  },
  {
   "cell_type": "code",
   "execution_count": 46,
   "id": "45e62775",
   "metadata": {},
   "outputs": [
    {
     "name": "stderr",
     "output_type": "stream",
     "text": [
      "C:\\Users\\P VENKATA RAKESH\\AppData\\Local\\Temp\\ipykernel_24416\\430945158.py:1: RuntimeWarning: divide by zero encountered in divide\n",
      "  np.divide(x,y)\n"
     ]
    },
    {
     "data": {
      "text/plain": [
       "array([[       inf, 4.        , 1.2       ],\n",
       "       [1.2       , 1.28571429, 0.5       ],\n",
       "       [1.        , 0.66666667, 1.14285714]])"
      ]
     },
     "execution_count": 46,
     "metadata": {},
     "output_type": "execute_result"
    }
   ],
   "source": [
    "np.divide(x,y)"
   ]
  },
  {
   "cell_type": "code",
   "execution_count": 47,
   "id": "86d6774b",
   "metadata": {},
   "outputs": [
    {
     "name": "stderr",
     "output_type": "stream",
     "text": [
      "C:\\Users\\P VENKATA RAKESH\\AppData\\Local\\Temp\\ipykernel_24416\\2566742545.py:1: RuntimeWarning: divide by zero encountered in floor_divide\n",
      "  np.floor_divide(x,y)\n"
     ]
    },
    {
     "data": {
      "text/plain": [
       "array([[0, 4, 1],\n",
       "       [1, 1, 0],\n",
       "       [1, 0, 1]], dtype=int32)"
      ]
     },
     "execution_count": 47,
     "metadata": {},
     "output_type": "execute_result"
    }
   ],
   "source": [
    "np.floor_divide(x,y)"
   ]
  },
  {
   "cell_type": "code",
   "execution_count": 50,
   "id": "ad29c417",
   "metadata": {},
   "outputs": [
    {
     "name": "stdout",
     "output_type": "stream",
     "text": [
      "[1.  1.6 0.8 0.8 1.4 1.4 1.4 0.2 0.2 1.2]\n"
     ]
    },
    {
     "data": {
      "text/plain": [
       "array([1., 2., 1., 1., 2., 2., 2., 1., 1., 2.])"
      ]
     },
     "execution_count": 50,
     "metadata": {},
     "output_type": "execute_result"
    }
   ],
   "source": [
    "d1=np.random.randint(0,10,10)/5\n",
    "print(d1)\n",
    "np.ceil(d1)"
   ]
  },
  {
   "cell_type": "code",
   "execution_count": null,
   "id": "c167b0a5",
   "metadata": {},
   "outputs": [],
   "source": [
    "# Mathematical:\n",
    "#  Arithmetic\n",
    "#  exponential, log\n",
    "#  trigonometrics\n",
    "#  rounding"
   ]
  },
  {
   "cell_type": "code",
   "execution_count": 51,
   "id": "e44e2cc6",
   "metadata": {},
   "outputs": [
    {
     "data": {
      "text/plain": [
       "array([6, 4, 7, 6, 5, 4, 3, 0, 7, 8], dtype=int32)"
      ]
     },
     "execution_count": 51,
     "metadata": {},
     "output_type": "execute_result"
    }
   ],
   "source": [
    "import numpy as np\n",
    "d=np.random.randint(0,10,10)\n",
    "d"
   ]
  },
  {
   "cell_type": "code",
   "execution_count": 52,
   "id": "bac06f11",
   "metadata": {},
   "outputs": [
    {
     "data": {
      "text/plain": [
       "array([6, 7, 6, 7, 8], dtype=int32)"
      ]
     },
     "execution_count": 52,
     "metadata": {},
     "output_type": "execute_result"
    }
   ],
   "source": [
    "d[d>5]"
   ]
  },
  {
   "cell_type": "code",
   "execution_count": 54,
   "id": "69a82844",
   "metadata": {},
   "outputs": [
    {
     "data": {
      "text/plain": [
       "array([54, 19, 43, 38, 87, 97, 16, 68, 46, 93, 28, 26, 11, 73, 43, 46, 64,\n",
       "       47,  2, 84], dtype=int32)"
      ]
     },
     "execution_count": 54,
     "metadata": {},
     "output_type": "execute_result"
    }
   ],
   "source": [
    "marks=np.random.randint(0,100,20)\n",
    "marks"
   ]
  },
  {
   "cell_type": "code",
   "execution_count": 55,
   "id": "f8d026d8",
   "metadata": {},
   "outputs": [
    {
     "data": {
      "text/plain": [
       "array([54, 87, 97, 68, 93, 73, 64, 84], dtype=int32)"
      ]
     },
     "execution_count": 55,
     "metadata": {},
     "output_type": "execute_result"
    }
   ],
   "source": [
    "marks[marks>50]"
   ]
  },
  {
   "cell_type": "code",
   "execution_count": 56,
   "id": "04a8a244",
   "metadata": {},
   "outputs": [
    {
     "data": {
      "text/plain": [
       "array([54, 87, 97, 68, 93, 73, 64, 84], dtype=int32)"
      ]
     },
     "execution_count": 56,
     "metadata": {},
     "output_type": "execute_result"
    }
   ],
   "source": [
    "marks[marks>np.mean(marks)]"
   ]
  },
  {
   "cell_type": "code",
   "execution_count": 59,
   "id": "42714f88",
   "metadata": {},
   "outputs": [
    {
     "data": {
      "text/plain": [
       "array([19, 43, 38, 16, 46, 28, 26, 11, 43, 46, 47,  2], dtype=int32)"
      ]
     },
     "execution_count": 59,
     "metadata": {},
     "output_type": "execute_result"
    }
   ],
   "source": [
    "marks[marks<np.mean(marks)]"
   ]
  },
  {
   "cell_type": "code",
   "execution_count": 60,
   "id": "d09b4f3d",
   "metadata": {},
   "outputs": [],
   "source": [
    "# Array manipulation\n"
   ]
  },
  {
   "cell_type": "code",
   "execution_count": 62,
   "id": "c1d51b50",
   "metadata": {},
   "outputs": [
    {
     "data": {
      "text/plain": [
       "array([[14, 19, 11],\n",
       "       [ 0, 16, 17],\n",
       "       [ 6, 10,  1]], dtype=int32)"
      ]
     },
     "execution_count": 62,
     "metadata": {},
     "output_type": "execute_result"
    }
   ],
   "source": [
    "z=np.random.randint(0,20,(3,3))\n",
    "z"
   ]
  },
  {
   "cell_type": "code",
   "execution_count": null,
   "id": "547e6767",
   "metadata": {},
   "outputs": [
    {
     "data": {
      "text/plain": [
       "array([14, 19, 11,  0, 16, 17,  6, 10,  1], dtype=int32)"
      ]
     },
     "execution_count": 63,
     "metadata": {},
     "output_type": "execute_result"
    }
   ],
   "source": [
    "np.ravel(z)    # ravel() method is used for falttening the array elements"
   ]
  },
  {
   "cell_type": "code",
   "execution_count": 65,
   "id": "a40a2e8e",
   "metadata": {},
   "outputs": [
    {
     "data": {
      "text/plain": [
       "array([[14,  0,  6],\n",
       "       [19, 16, 10],\n",
       "       [11, 17,  1]], dtype=int32)"
      ]
     },
     "execution_count": 65,
     "metadata": {},
     "output_type": "execute_result"
    }
   ],
   "source": [
    "z.T   # T is a transpose of a array it converts rows to columns and columns to rows"
   ]
  },
  {
   "cell_type": "code",
   "execution_count": 70,
   "id": "0a122940",
   "metadata": {},
   "outputs": [
    {
     "data": {
      "text/plain": [
       "array([[15, 12, 16,  9, 18, 14,  9,  8,  5,  3],\n",
       "       [16,  6,  7,  0, 12, 14, 14, 18,  3,  5]], dtype=int32)"
      ]
     },
     "execution_count": 70,
     "metadata": {},
     "output_type": "execute_result"
    }
   ],
   "source": [
    "z=np.random.randint(0,20,(20))\n",
    "z.reshape(2,10)"
   ]
  },
  {
   "cell_type": "code",
   "execution_count": 71,
   "id": "6d7aac68",
   "metadata": {},
   "outputs": [
    {
     "data": {
      "text/plain": [
       "array([[15, 12, 16,  9, 18],\n",
       "       [14,  9,  8,  5,  3],\n",
       "       [16,  6,  7,  0, 12],\n",
       "       [14, 14, 18,  3,  5]], dtype=int32)"
      ]
     },
     "execution_count": 71,
     "metadata": {},
     "output_type": "execute_result"
    }
   ],
   "source": [
    "z.reshape(4,5)"
   ]
  },
  {
   "cell_type": "code",
   "execution_count": 72,
   "id": "54e4b74f",
   "metadata": {},
   "outputs": [
    {
     "data": {
      "text/plain": [
       "array([[15, 12, 16,  9],\n",
       "       [18, 14,  9,  8],\n",
       "       [ 5,  3, 16,  6],\n",
       "       [ 7,  0, 12, 14],\n",
       "       [14, 18,  3,  5]], dtype=int32)"
      ]
     },
     "execution_count": 72,
     "metadata": {},
     "output_type": "execute_result"
    }
   ],
   "source": [
    "z.reshape(5,4)"
   ]
  },
  {
   "cell_type": "code",
   "execution_count": 73,
   "id": "bc6df6a0",
   "metadata": {},
   "outputs": [
    {
     "data": {
      "text/plain": [
       "array([[15, 12],\n",
       "       [16,  9],\n",
       "       [18, 14],\n",
       "       [ 9,  8],\n",
       "       [ 5,  3],\n",
       "       [16,  6],\n",
       "       [ 7,  0],\n",
       "       [12, 14],\n",
       "       [14, 18],\n",
       "       [ 3,  5]], dtype=int32)"
      ]
     },
     "execution_count": 73,
     "metadata": {},
     "output_type": "execute_result"
    }
   ],
   "source": [
    "z.reshape(10,2)"
   ]
  },
  {
   "cell_type": "code",
   "execution_count": 76,
   "id": "adce4cdc",
   "metadata": {},
   "outputs": [],
   "source": [
    "d1=np.random.randint(0,20,(3,3))\n",
    "d2=np.random.randint(0,20,(3,3))"
   ]
  },
  {
   "cell_type": "code",
   "execution_count": 77,
   "id": "1e13eb15",
   "metadata": {},
   "outputs": [
    {
     "data": {
      "text/plain": [
       "array([[ 6,  9,  2],\n",
       "       [19,  5,  2],\n",
       "       [ 8, 13,  6]], dtype=int32)"
      ]
     },
     "execution_count": 77,
     "metadata": {},
     "output_type": "execute_result"
    }
   ],
   "source": [
    "d1"
   ]
  },
  {
   "cell_type": "code",
   "execution_count": 78,
   "id": "998ddb53",
   "metadata": {},
   "outputs": [
    {
     "data": {
      "text/plain": [
       "array([[11,  3, 19],\n",
       "       [14, 19, 16],\n",
       "       [16, 14, 19]], dtype=int32)"
      ]
     },
     "execution_count": 78,
     "metadata": {},
     "output_type": "execute_result"
    }
   ],
   "source": [
    "d2"
   ]
  },
  {
   "cell_type": "code",
   "execution_count": 79,
   "id": "4ef197ca",
   "metadata": {},
   "outputs": [
    {
     "data": {
      "text/plain": [
       "array([[ 6,  9,  2, 11,  3, 19],\n",
       "       [19,  5,  2, 14, 19, 16],\n",
       "       [ 8, 13,  6, 16, 14, 19]], dtype=int32)"
      ]
     },
     "execution_count": 79,
     "metadata": {},
     "output_type": "execute_result"
    }
   ],
   "source": [
    "np.hstack([d1,d2])"
   ]
  },
  {
   "cell_type": "code",
   "execution_count": 80,
   "id": "a71de628",
   "metadata": {},
   "outputs": [
    {
     "data": {
      "text/plain": [
       "array([[ 6,  9,  2],\n",
       "       [19,  5,  2],\n",
       "       [ 8, 13,  6],\n",
       "       [11,  3, 19],\n",
       "       [14, 19, 16],\n",
       "       [16, 14, 19]], dtype=int32)"
      ]
     },
     "execution_count": 80,
     "metadata": {},
     "output_type": "execute_result"
    }
   ],
   "source": [
    "np.vstack([d1,d2])"
   ]
  },
  {
   "cell_type": "code",
   "execution_count": 81,
   "id": "c3e65ce8",
   "metadata": {},
   "outputs": [
    {
     "data": {
      "text/plain": [
       "array([ 3,  0,  6, 16,  7,  7,  9,  6,  7, 11], dtype=int32)"
      ]
     },
     "execution_count": 81,
     "metadata": {},
     "output_type": "execute_result"
    }
   ],
   "source": [
    "data=np.random.randint(0,20,10)\n",
    "data"
   ]
  },
  {
   "cell_type": "code",
   "execution_count": 82,
   "id": "4816e23c",
   "metadata": {},
   "outputs": [
    {
     "data": {
      "text/plain": [
       "[array([3, 0], dtype=int32),\n",
       " array([ 6, 16], dtype=int32),\n",
       " array([7, 7], dtype=int32),\n",
       " array([9, 6], dtype=int32),\n",
       " array([ 7, 11], dtype=int32)]"
      ]
     },
     "execution_count": 82,
     "metadata": {},
     "output_type": "execute_result"
    }
   ],
   "source": [
    "np.split(data,5)"
   ]
  },
  {
   "cell_type": "code",
   "execution_count": 83,
   "id": "33dcd4b0",
   "metadata": {},
   "outputs": [
    {
     "data": {
      "text/plain": [
       "[array([ 3,  0,  6, 16,  7], dtype=int32),\n",
       " array([ 7,  9,  6,  7, 11], dtype=int32)]"
      ]
     },
     "execution_count": 83,
     "metadata": {},
     "output_type": "execute_result"
    }
   ],
   "source": [
    "np.split(data,2)"
   ]
  },
  {
   "cell_type": "code",
   "execution_count": 84,
   "id": "5b5c10f9",
   "metadata": {},
   "outputs": [
    {
     "ename": "ValueError",
     "evalue": "array split does not result in an equal division",
     "output_type": "error",
     "traceback": [
      "\u001b[1;31m---------------------------------------------------------------------------\u001b[0m",
      "\u001b[1;31mValueError\u001b[0m                                Traceback (most recent call last)",
      "Cell \u001b[1;32mIn[84], line 1\u001b[0m\n\u001b[1;32m----> 1\u001b[0m \u001b[43mnp\u001b[49m\u001b[38;5;241;43m.\u001b[39;49m\u001b[43msplit\u001b[49m\u001b[43m(\u001b[49m\u001b[43mdata\u001b[49m\u001b[43m,\u001b[49m\u001b[38;5;241;43m4\u001b[39;49m\u001b[43m)\u001b[49m\n",
      "File \u001b[1;32mc:\\Users\\P VENKATA RAKESH\\AppData\\Local\\Programs\\Python\\Python313\\Lib\\site-packages\\numpy\\lib\\_shape_base_impl.py:884\u001b[0m, in \u001b[0;36msplit\u001b[1;34m(ary, indices_or_sections, axis)\u001b[0m\n\u001b[0;32m    882\u001b[0m     N \u001b[38;5;241m=\u001b[39m ary\u001b[38;5;241m.\u001b[39mshape[axis]\n\u001b[0;32m    883\u001b[0m     \u001b[38;5;28;01mif\u001b[39;00m N \u001b[38;5;241m%\u001b[39m sections:\n\u001b[1;32m--> 884\u001b[0m         \u001b[38;5;28;01mraise\u001b[39;00m \u001b[38;5;167;01mValueError\u001b[39;00m(\n\u001b[0;32m    885\u001b[0m             \u001b[38;5;124m'\u001b[39m\u001b[38;5;124marray split does not result in an equal division\u001b[39m\u001b[38;5;124m'\u001b[39m) \u001b[38;5;28;01mfrom\u001b[39;00m\u001b[38;5;250m \u001b[39m\u001b[38;5;28;01mNone\u001b[39;00m\n\u001b[0;32m    886\u001b[0m \u001b[38;5;28;01mreturn\u001b[39;00m array_split(ary, indices_or_sections, axis)\n",
      "\u001b[1;31mValueError\u001b[0m: array split does not result in an equal division"
     ]
    }
   ],
   "source": [
    "np.split(data,4)"
   ]
  },
  {
   "cell_type": "code",
   "execution_count": 87,
   "id": "0fc6cf31",
   "metadata": {},
   "outputs": [
    {
     "data": {
      "text/plain": [
       "array([[1, 2, 3, 4],\n",
       "       [5, 6, 7, 8]])"
      ]
     },
     "execution_count": 87,
     "metadata": {},
     "output_type": "execute_result"
    }
   ],
   "source": [
    "matrix=np.array([[1,2,3,4] ,[5,6,7,8]])\n",
    "matrix"
   ]
  },
  {
   "cell_type": "code",
   "execution_count": 88,
   "id": "14bb8407",
   "metadata": {},
   "outputs": [
    {
     "data": {
      "text/plain": [
       "[array([[1, 2],\n",
       "        [5, 6]]),\n",
       " array([[3, 4],\n",
       "        [7, 8]])]"
      ]
     },
     "execution_count": 88,
     "metadata": {},
     "output_type": "execute_result"
    }
   ],
   "source": [
    "np.hsplit(matrix,2)"
   ]
  },
  {
   "cell_type": "code",
   "execution_count": 92,
   "id": "cc35fc3f",
   "metadata": {},
   "outputs": [
    {
     "data": {
      "text/plain": [
       "[array([[1],\n",
       "        [5]]),\n",
       " array([[2],\n",
       "        [6]]),\n",
       " array([[3],\n",
       "        [7]]),\n",
       " array([[4],\n",
       "        [8]])]"
      ]
     },
     "execution_count": 92,
     "metadata": {},
     "output_type": "execute_result"
    }
   ],
   "source": [
    "np.hsplit(matrix,4)"
   ]
  },
  {
   "cell_type": "code",
   "execution_count": 94,
   "id": "dd5976a8",
   "metadata": {},
   "outputs": [],
   "source": [
    "matrix1 = np.array([[1, 2, 3, 4],\n",
    "                   [5, 6, 7, 8],\n",
    "                   [9, 10, 11, 12],\n",
    "                   [13, 14, 15, 16]])"
   ]
  },
  {
   "cell_type": "code",
   "execution_count": 95,
   "id": "3bf5b49c",
   "metadata": {},
   "outputs": [
    {
     "data": {
      "text/plain": [
       "array([[ 1,  2,  3,  4],\n",
       "       [ 5,  6,  7,  8],\n",
       "       [ 9, 10, 11, 12],\n",
       "       [13, 14, 15, 16]])"
      ]
     },
     "execution_count": 95,
     "metadata": {},
     "output_type": "execute_result"
    }
   ],
   "source": [
    "matrix1"
   ]
  },
  {
   "cell_type": "code",
   "execution_count": 97,
   "id": "375d5edd",
   "metadata": {},
   "outputs": [
    {
     "data": {
      "text/plain": [
       "[array([[1, 2, 3, 4],\n",
       "        [5, 6, 7, 8]]),\n",
       " array([[ 9, 10, 11, 12],\n",
       "        [13, 14, 15, 16]])]"
      ]
     },
     "execution_count": 97,
     "metadata": {},
     "output_type": "execute_result"
    }
   ],
   "source": [
    "np.vsplit(matrix1,2)"
   ]
  },
  {
   "cell_type": "code",
   "execution_count": 98,
   "id": "5463895a",
   "metadata": {},
   "outputs": [
    {
     "data": {
      "text/plain": [
       "[array([[1, 2, 3, 4]]),\n",
       " array([[5, 6, 7, 8]]),\n",
       " array([[ 9, 10, 11, 12]]),\n",
       " array([[13, 14, 15, 16]])]"
      ]
     },
     "execution_count": 98,
     "metadata": {},
     "output_type": "execute_result"
    }
   ],
   "source": [
    "np.vsplit(matrix1,4)"
   ]
  },
  {
   "cell_type": "code",
   "execution_count": 104,
   "id": "f41956aa",
   "metadata": {},
   "outputs": [
    {
     "data": {
      "text/plain": [
       "[array([[1, 2, 3, 4]]),\n",
       " array([[ 5,  6,  7,  8],\n",
       "        [ 9, 10, 11, 12]]),\n",
       " array([[13, 14, 15, 16]])]"
      ]
     },
     "execution_count": 104,
     "metadata": {},
     "output_type": "execute_result"
    }
   ],
   "source": [
    "np.vsplit(matrix1,[1,3])"
   ]
  },
  {
   "cell_type": "code",
   "execution_count": 106,
   "id": "bd677d0b",
   "metadata": {},
   "outputs": [
    {
     "data": {
      "text/plain": [
       "[array([[1, 2, 3, 4]]),\n",
       " array([[ 5,  6,  7,  8],\n",
       "        [ 9, 10, 11, 12]]),\n",
       " array([[13, 14, 15, 16]])]"
      ]
     },
     "execution_count": 106,
     "metadata": {},
     "output_type": "execute_result"
    }
   ],
   "source": [
    "np.vsplit(matrix1,[1,3])"
   ]
  },
  {
   "cell_type": "code",
   "execution_count": null,
   "id": "643b4941",
   "metadata": {},
   "outputs": [],
   "source": []
  }
 ],
 "metadata": {
  "kernelspec": {
   "display_name": "Python 3",
   "language": "python",
   "name": "python3"
  },
  "language_info": {
   "codemirror_mode": {
    "name": "ipython",
    "version": 3
   },
   "file_extension": ".py",
   "mimetype": "text/x-python",
   "name": "python",
   "nbconvert_exporter": "python",
   "pygments_lexer": "ipython3",
   "version": "3.13.5"
  }
 },
 "nbformat": 4,
 "nbformat_minor": 5
}
