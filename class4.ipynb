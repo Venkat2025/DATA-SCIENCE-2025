{
 "cells": [
  {
   "cell_type": "code",
   "execution_count": 1,
   "id": "9d6d4793",
   "metadata": {},
   "outputs": [
    {
     "data": {
      "text/plain": [
       "{1, 2, 3, 4, 5, 7, 8}"
      ]
     },
     "execution_count": 1,
     "metadata": {},
     "output_type": "execute_result"
    }
   ],
   "source": [
    "#set always gives unique values\n",
    "s={1,2,3,1,1,4,5,7,7,8,}\n",
    "s"
   ]
  },
  {
   "cell_type": "code",
   "execution_count": 2,
   "id": "876a46df",
   "metadata": {},
   "outputs": [
    {
     "data": {
      "text/plain": [
       "{1, 2, 3, 4, 5, 7, 'a', 'b'}"
      ]
     },
     "execution_count": 2,
     "metadata": {},
     "output_type": "execute_result"
    }
   ],
   "source": [
    "s={1,2,3,1,1,4,5,7,7,\"a\",\"a\",\"b\",}\n",
    "s"
   ]
  },
  {
   "cell_type": "code",
   "execution_count": 3,
   "id": "3fa3fd0e",
   "metadata": {},
   "outputs": [
    {
     "ename": "TypeError",
     "evalue": "'set' object is not subscriptable",
     "output_type": "error",
     "traceback": [
      "\u001b[1;31m---------------------------------------------------------------------------\u001b[0m",
      "\u001b[1;31mTypeError\u001b[0m                                 Traceback (most recent call last)",
      "Cell \u001b[1;32mIn[3], line 3\u001b[0m\n\u001b[0;32m      1\u001b[0m \u001b[38;5;66;03m#sets dont have index value compared to list ,tuple and dictionary\u001b[39;00m\n\u001b[0;32m      2\u001b[0m s\u001b[38;5;241m=\u001b[39m{\u001b[38;5;241m1\u001b[39m,\u001b[38;5;241m2\u001b[39m,\u001b[38;5;241m3\u001b[39m,\u001b[38;5;241m1\u001b[39m,\u001b[38;5;241m1\u001b[39m,\u001b[38;5;241m4\u001b[39m,\u001b[38;5;241m5\u001b[39m,\u001b[38;5;241m7\u001b[39m,\u001b[38;5;241m7\u001b[39m,\u001b[38;5;241m8\u001b[39m,}\n\u001b[1;32m----> 3\u001b[0m \u001b[43ms\u001b[49m\u001b[43m[\u001b[49m\u001b[38;5;241;43m0\u001b[39;49m\u001b[43m]\u001b[49m\n",
      "\u001b[1;31mTypeError\u001b[0m: 'set' object is not subscriptable"
     ]
    }
   ],
   "source": [
    "#sets dont have index value compared to list ,tuple and dictionary\n",
    "s={1,2,3,1,1,4,5,7,7,8,}\n",
    "s[0]"
   ]
  },
  {
   "cell_type": "code",
   "execution_count": 4,
   "id": "c11da0f6",
   "metadata": {},
   "outputs": [
    {
     "data": {
      "text/plain": [
       "{1, 2, 3, 5, 7, 8, 11, 77, 444}"
      ]
     },
     "execution_count": 4,
     "metadata": {},
     "output_type": "execute_result"
    }
   ],
   "source": [
    "#it also has sorting based on the same number repition\n",
    "s={1,2,3,11,1,444,5,7,77,8,}\n",
    "s"
   ]
  },
  {
   "cell_type": "code",
   "execution_count": null,
   "id": "eeea96d2",
   "metadata": {},
   "outputs": [
    {
     "data": {
      "text/plain": [
       "{1, 2, 3, 4, 5}"
      ]
     },
     "execution_count": 6,
     "metadata": {},
     "output_type": "execute_result"
    }
   ],
   "source": [
    "#1. union --> it gives all the combinations in a give set it also gives without duplicates\n",
    "x={1,2,3,4}\n",
    "y={1,2,3,4,5}\n",
    "x.union(y)"
   ]
  },
  {
   "cell_type": "code",
   "execution_count": 7,
   "id": "b7913487",
   "metadata": {},
   "outputs": [
    {
     "data": {
      "text/plain": [
       "{1, 2, 3, 4}"
      ]
     },
     "execution_count": 7,
     "metadata": {},
     "output_type": "execute_result"
    }
   ],
   "source": [
    "#2. intersection -> it gives common elements in a given set\n",
    "x.intersection(y)"
   ]
  },
  {
   "cell_type": "code",
   "execution_count": null,
   "id": "4d42ac49",
   "metadata": {},
   "outputs": [
    {
     "name": "stdout",
     "output_type": "stream",
     "text": [
      "{4, 6}\n"
     ]
    }
   ],
   "source": [
    "# difference\n",
    "x={6,5,4,3}\n",
    "y={1,2,3,5,9}\n",
    "x.difference(y)"
   ]
  },
  {
   "cell_type": "code",
   "execution_count": 10,
   "id": "eb04cb97",
   "metadata": {},
   "outputs": [
    {
     "data": {
      "text/plain": [
       "{1, 2, 9}"
      ]
     },
     "execution_count": 10,
     "metadata": {},
     "output_type": "execute_result"
    }
   ],
   "source": [
    "y.difference(x)"
   ]
  },
  {
   "cell_type": "code",
   "execution_count": null,
   "id": "76389873",
   "metadata": {},
   "outputs": [
    {
     "data": {
      "text/plain": [
       "({3, 4, 5, 6}, {1, 2, 3, 5, 9})"
      ]
     },
     "execution_count": 12,
     "metadata": {},
     "output_type": "execute_result"
    }
   ],
   "source": [
    "x,y"
   ]
  },
  {
   "cell_type": "code",
   "execution_count": null,
   "id": "1a9f554b",
   "metadata": {},
   "outputs": [
    {
     "data": {
      "text/plain": [
       "{4, 6}"
      ]
     },
     "execution_count": 14,
     "metadata": {},
     "output_type": "execute_result"
    }
   ],
   "source": [
    "#difference_update : \n",
    "x.difference_update(y)\n",
    "x"
   ]
  },
  {
   "cell_type": "code",
   "execution_count": 15,
   "id": "86ee9729",
   "metadata": {},
   "outputs": [
    {
     "data": {
      "text/plain": [
       "({4, 6}, {1, 2, 3, 5, 9})"
      ]
     },
     "execution_count": 15,
     "metadata": {},
     "output_type": "execute_result"
    }
   ],
   "source": [
    "x,y"
   ]
  },
  {
   "cell_type": "code",
   "execution_count": 17,
   "id": "cfada6fe",
   "metadata": {},
   "outputs": [
    {
     "data": {
      "text/plain": [
       "{1, 2, 3, 5, 9}"
      ]
     },
     "execution_count": 17,
     "metadata": {},
     "output_type": "execute_result"
    }
   ],
   "source": [
    "y.difference_update(x)\n",
    "y"
   ]
  },
  {
   "cell_type": "code",
   "execution_count": 18,
   "id": "4718cd35",
   "metadata": {},
   "outputs": [
    {
     "data": {
      "text/plain": [
       "({4, 6}, {1, 2, 3, 5, 9})"
      ]
     },
     "execution_count": 18,
     "metadata": {},
     "output_type": "execute_result"
    }
   ],
   "source": [
    "x,y"
   ]
  },
  {
   "cell_type": "code",
   "execution_count": null,
   "id": "b3ea58f8",
   "metadata": {},
   "outputs": [
    {
     "data": {
      "text/plain": [
       "{1, 2, 6}"
      ]
     },
     "execution_count": 19,
     "metadata": {},
     "output_type": "execute_result"
    }
   ],
   "source": [
    "# symmetric difference : it is a combination of union -(minus) intersection\n",
    "x={1,2,3,4,5}\n",
    "y={3,4,5,6}\n",
    "x.symmetric_difference(y)"
   ]
  },
  {
   "cell_type": "code",
   "execution_count": null,
   "id": "7971ad17",
   "metadata": {},
   "outputs": [
    {
     "data": {
      "text/plain": [
       "True"
      ]
     },
     "execution_count": 22,
     "metadata": {},
     "output_type": "execute_result"
    }
   ],
   "source": [
    "#subset : a set where all of its elements are also members of another, larger set.\n",
    "x={1,2,3,4,5}\n",
    "y={3,4,5}\n",
    "y.issubset(x)"
   ]
  },
  {
   "cell_type": "code",
   "execution_count": null,
   "id": "15d3b9fd",
   "metadata": {},
   "outputs": [
    {
     "data": {
      "text/plain": [
       "True"
      ]
     },
     "execution_count": 23,
     "metadata": {},
     "output_type": "execute_result"
    }
   ],
   "source": [
    "#superset : a set of elements containing all of the elements of another set\n",
    "x={1,2,3,4,5}\n",
    "y={3,4,5}\n",
    "x.issuperset(y)"
   ]
  },
  {
   "cell_type": "code",
   "execution_count": null,
   "id": "fdcdde7a",
   "metadata": {},
   "outputs": [
    {
     "data": {
      "text/plain": [
       "False"
      ]
     },
     "execution_count": 25,
     "metadata": {},
     "output_type": "execute_result"
    }
   ],
   "source": [
    "# disjoint :  two sets are considered disjoint if they have no elements in common\n",
    "x.isdisjoint(y)"
   ]
  },
  {
   "cell_type": "code",
   "execution_count": 26,
   "id": "c9b13319",
   "metadata": {},
   "outputs": [],
   "source": [
    "class_a = {\"Aarav\", \"Vivaan\", \"Aditya\", \"Rohan\", \"Yash\", \"Siddharth\", \"Manav\", \"Rahul\"}\n",
    "class_b = {\"Riya\", \"Sneha\", \"Aditya\", \"Rahul\", \"Ishita\", \"Manav\", \"Kavya\", \"Yash\"}\n"
   ]
  },
  {
   "cell_type": "code",
   "execution_count": 27,
   "id": "4283bd7d",
   "metadata": {},
   "outputs": [
    {
     "data": {
      "text/plain": [
       "(12, 4, 4, 4)"
      ]
     },
     "execution_count": 27,
     "metadata": {},
     "output_type": "execute_result"
    }
   ],
   "source": [
    "len(class_a.union(class_b)),len(class_a.intersection(class_b)),len(class_a.difference(class_b)),len(class_b.difference(class_a))"
   ]
  },
  {
   "cell_type": "code",
   "execution_count": 28,
   "id": "ee2b4e0d",
   "metadata": {},
   "outputs": [
    {
     "data": {
      "text/plain": [
       "({'Aarav', 'Aditya', 'Manav', 'Rahul', 'Rohan', 'Siddharth', 'Vivaan', 'Yash'},\n",
       " {'Aditya', 'Ishita', 'Kavya', 'Manav', 'Rahul', 'Riya', 'Sneha', 'Yash'})"
      ]
     },
     "execution_count": 28,
     "metadata": {},
     "output_type": "execute_result"
    }
   ],
   "source": [
    "class_a,class_b"
   ]
  },
  {
   "cell_type": "code",
   "execution_count": 29,
   "id": "ba268f24",
   "metadata": {},
   "outputs": [
    {
     "data": {
      "text/plain": [
       "{'Aarav', 'Ishita', 'Kavya', 'Riya', 'Rohan', 'Siddharth', 'Sneha', 'Vivaan'}"
      ]
     },
     "execution_count": 29,
     "metadata": {},
     "output_type": "execute_result"
    }
   ],
   "source": [
    "class_a.symmetric_difference(class_b)"
   ]
  },
  {
   "cell_type": "code",
   "execution_count": 30,
   "id": "2129805b",
   "metadata": {},
   "outputs": [
    {
     "data": {
      "text/plain": [
       "{'Aarav', 'Ishita', 'Kavya', 'Riya', 'Rohan', 'Siddharth', 'Sneha', 'Vivaan'}"
      ]
     },
     "execution_count": 30,
     "metadata": {},
     "output_type": "execute_result"
    }
   ],
   "source": [
    "class_b.symmetric_difference(class_a)"
   ]
  },
  {
   "cell_type": "code",
   "execution_count": 31,
   "id": "44c64d76",
   "metadata": {},
   "outputs": [],
   "source": [
    "# atleast -> union\n",
    "# both -> intersection\n",
    "# only -> difference"
   ]
  },
  {
   "cell_type": "code",
   "execution_count": null,
   "id": "93f82110",
   "metadata": {},
   "outputs": [
    {
     "name": "stdout",
     "output_type": "stream",
     "text": [
      "True\n",
      "False\n"
     ]
    }
   ],
   "source": [
    "# Boolean operatore\n",
    "# True and False are the boolean operators\n",
    "print(True)  #1\n",
    "print(False)  #0"
   ]
  },
  {
   "cell_type": "code",
   "execution_count": 1,
   "id": "23482880",
   "metadata": {},
   "outputs": [
    {
     "name": "stdout",
     "output_type": "stream",
     "text": [
      "40\n",
      "-20\n",
      "300\n",
      "0.3333333333333333\n",
      "10\n",
      "0\n",
      "1000000000000000000000000000000\n"
     ]
    }
   ],
   "source": [
    "### arithmetic operators\n",
    "a=10\n",
    "b=30\n",
    "print(a+b)\n",
    "print(a-b)\n",
    "print(a*b)\n",
    "print(a/b)\n",
    "print(a%b)\n",
    "print(a//b)\n",
    "print(a**b)"
   ]
  },
  {
   "cell_type": "code",
   "execution_count": 7,
   "id": "34f02e66",
   "metadata": {},
   "outputs": [
    {
     "data": {
      "text/plain": [
       "5.5"
      ]
     },
     "execution_count": 7,
     "metadata": {},
     "output_type": "execute_result"
    }
   ],
   "source": [
    "s=11 #normal assignment\n",
    "s+=10 #compound assignment (s=s+10)\n",
    "s-=10\n",
    "s/2"
   ]
  },
  {
   "cell_type": "code",
   "execution_count": 8,
   "id": "dbca8d84",
   "metadata": {},
   "outputs": [
    {
     "data": {
      "text/plain": [
       "0"
      ]
     },
     "execution_count": 8,
     "metadata": {},
     "output_type": "execute_result"
    }
   ],
   "source": [
    "x=20\n",
    "x=-20\n",
    "x+=20\n",
    "x"
   ]
  },
  {
   "cell_type": "code",
   "execution_count": 9,
   "id": "4d4739aa",
   "metadata": {},
   "outputs": [
    {
     "data": {
      "text/plain": [
       "29.5"
      ]
     },
     "execution_count": 9,
     "metadata": {},
     "output_type": "execute_result"
    }
   ],
   "source": [
    "x=99\n",
    "x+=20\n",
    "x//=2\n",
    "x/2"
   ]
  },
  {
   "cell_type": "code",
   "execution_count": null,
   "id": "66b06c1d",
   "metadata": {},
   "outputs": [
    {
     "name": "stdout",
     "output_type": "stream",
     "text": [
      "True\n",
      "True\n",
      "False\n",
      "False\n",
      "False\n",
      "True\n",
      "False\n"
     ]
    }
   ],
   "source": [
    "#comparision operators\n",
    "x=25\n",
    "y=20\n",
    "print(x>y)\n",
    "print(x>=y)\n",
    "print(x<y)\n",
    "print(x<=y)\n",
    "print(x==y)\n",
    "print(x!=y)\n",
    "s=20\n",
    "t=20\n",
    "print(s!=t) #here if two variable nubers are equal then it gives output as false  \n"
   ]
  },
  {
   "cell_type": "code",
   "execution_count": 17,
   "id": "e6436139",
   "metadata": {},
   "outputs": [
    {
     "data": {
      "text/plain": [
       "False"
      ]
     },
     "execution_count": 17,
     "metadata": {},
     "output_type": "execute_result"
    }
   ],
   "source": [
    "# Logical operators and,or,not\n",
    "x=20\n",
    "y=10\n",
    "\n",
    "x>10 and y>10\n",
    "\n"
   ]
  },
  {
   "cell_type": "code",
   "execution_count": 18,
   "id": "ba5d68ce",
   "metadata": {},
   "outputs": [
    {
     "name": "stdout",
     "output_type": "stream",
     "text": [
      "True\n",
      "False\n",
      "False\n",
      "False\n",
      "True\n",
      "True\n",
      "True\n",
      "False\n",
      "False\n",
      "False\n",
      "False\n",
      "True\n"
     ]
    }
   ],
   "source": [
    "print(True and True) # True\n",
    "print(True and False) # False\n",
    "print( False and True) # False\n",
    "print(False and False) # False\n",
    "\n",
    "\n",
    "print(True or True) # True\n",
    "print(True or False) # True\n",
    "print( False or True) # True\n",
    "print(False or False) #False\n",
    "\n",
    "\n",
    "\n",
    "print(not(True or True)) #False\n",
    "print(not(True or False)) # False\n",
    "print(not( False or True)) # False\n",
    "print(not(False or False)) # True\n"
   ]
  },
  {
   "cell_type": "code",
   "execution_count": null,
   "id": "187f00a6",
   "metadata": {},
   "outputs": [],
   "source": [
    "# identity operators is ,is not\n",
    "# membership operators in, not in"
   ]
  },
  {
   "cell_type": "code",
   "execution_count": 20,
   "id": "d11f649d",
   "metadata": {},
   "outputs": [
    {
     "name": "stdout",
     "output_type": "stream",
     "text": [
      "True\n",
      "False\n",
      "False\n",
      "True\n"
     ]
    }
   ],
   "source": [
    "x = [1, 2, 3]\n",
    "y = x       # Shallow copy (actually, it's not even a copy — it's just another reference to the same list)\n",
    "z = [1, 2, 3]  # Deep copy (new list with same values)\n",
    "\n",
    "print(x is y)  # True, because x and y refer to the same object in memory\n",
    "print(x is z)  # False, because x and z are different objects with the same content\n",
    "print(x is not y)\n",
    "print(x is not z)"
   ]
  },
  {
   "cell_type": "code",
   "execution_count": 21,
   "id": "cf17e7fb",
   "metadata": {},
   "outputs": [
    {
     "data": {
      "text/plain": [
       "True"
      ]
     },
     "execution_count": 21,
     "metadata": {},
     "output_type": "execute_result"
    }
   ],
   "source": [
    "1 in [1,2,3,4]"
   ]
  },
  {
   "cell_type": "code",
   "execution_count": 22,
   "id": "e594abf7",
   "metadata": {},
   "outputs": [
    {
     "data": {
      "text/plain": [
       "True"
      ]
     },
     "execution_count": 22,
     "metadata": {},
     "output_type": "execute_result"
    }
   ],
   "source": [
    "1 in (1,2,3)"
   ]
  },
  {
   "cell_type": "code",
   "execution_count": 23,
   "id": "2d32bb6c",
   "metadata": {},
   "outputs": [
    {
     "data": {
      "text/plain": [
       "True"
      ]
     },
     "execution_count": 23,
     "metadata": {},
     "output_type": "execute_result"
    }
   ],
   "source": [
    "\"s\" in \"science\""
   ]
  },
  {
   "cell_type": "code",
   "execution_count": 24,
   "id": "d8400d6d",
   "metadata": {},
   "outputs": [
    {
     "data": {
      "text/plain": [
       "True"
      ]
     },
     "execution_count": 24,
     "metadata": {},
     "output_type": "execute_result"
    }
   ],
   "source": [
    "1 in {2,3,4,5,1}"
   ]
  },
  {
   "cell_type": "code",
   "execution_count": 25,
   "id": "13661864",
   "metadata": {},
   "outputs": [
    {
     "data": {
      "text/plain": [
       "True"
      ]
     },
     "execution_count": 25,
     "metadata": {},
     "output_type": "execute_result"
    }
   ],
   "source": [
    "1 in {1:\"data\", 2:\"science\"}"
   ]
  },
  {
   "cell_type": "code",
   "execution_count": 26,
   "id": "649898d4",
   "metadata": {},
   "outputs": [
    {
     "data": {
      "text/plain": [
       "'0b11111'"
      ]
     },
     "execution_count": 26,
     "metadata": {},
     "output_type": "execute_result"
    }
   ],
   "source": [
    "## bin() method\n",
    "bin(31)"
   ]
  },
  {
   "cell_type": "code",
   "execution_count": 28,
   "id": "501ea161",
   "metadata": {},
   "outputs": [
    {
     "data": {
      "text/plain": [
       "'0b10100'"
      ]
     },
     "execution_count": 28,
     "metadata": {},
     "output_type": "execute_result"
    }
   ],
   "source": [
    "bin(20)"
   ]
  },
  {
   "cell_type": "code",
   "execution_count": null,
   "id": "db8c8bf2",
   "metadata": {},
   "outputs": [],
   "source": [
    "# bitwiswe operators &,|,~"
   ]
  },
  {
   "cell_type": "code",
   "execution_count": 34,
   "id": "14fae9e0",
   "metadata": {},
   "outputs": [
    {
     "name": "stdout",
     "output_type": "stream",
     "text": [
      "28\n",
      "31\n",
      "-32\n",
      "-29\n"
     ]
    }
   ],
   "source": [
    "print(31 & 28)\n",
    "print(31 | 28)\n",
    "print(~31)  #~x = -(x+1)\n",
    "print(~28)  #~x = -(x+1)"
   ]
  }
 ],
 "metadata": {
  "kernelspec": {
   "display_name": "Python 3",
   "language": "python",
   "name": "python3"
  },
  "language_info": {
   "codemirror_mode": {
    "name": "ipython",
    "version": 3
   },
   "file_extension": ".py",
   "mimetype": "text/x-python",
   "name": "python",
   "nbconvert_exporter": "python",
   "pygments_lexer": "ipython3",
   "version": "3.13.5"
  }
 },
 "nbformat": 4,
 "nbformat_minor": 5
}
