{
 "cells": [
  {
   "cell_type": "markdown",
   "id": "bd84e4f1",
   "metadata": {},
   "source": [
    "Types of Inheritance\n",
    "1. Single Imheritance\n",
    "2. Multilevel Inheritance\n",
    "3. Multiple Inheritance\n",
    "4. Hierarchical Inheritnce\n",
    "5. Hybrid Inheritance (Diamond Inheritance)\n"
   ]
  },
  {
   "cell_type": "markdown",
   "id": "13bac40e",
   "metadata": {},
   "source": [
    "Single Inheritance"
   ]
  },
  {
   "cell_type": "code",
   "execution_count": null,
   "id": "8bee8eab",
   "metadata": {},
   "outputs": [
    {
     "name": "stdout",
     "output_type": "stream",
     "text": [
      "Name is : Ravi\n",
      "roll no is :113\n"
     ]
    }
   ],
   "source": [
    "# SIngle Inheritance\n",
    "class Person:    # Parent class (Base Class)\n",
    "    def __init__(self,name):   # Constructor to initialize 'name'\n",
    "        self.name=name\n",
    "    def display(self):\n",
    "        return f\"Name is : {self.name}\"\n",
    "class Student(Person):    # Child class (Derived Class) that inherits from Person\n",
    "    def __init__(self, name,rollno):  # Constructor to initialize 'name' & 'rollno'\n",
    "        self.name=name\n",
    "        self.rollno=rollno\n",
    "    def show(self):\n",
    "        return f\"roll no is :{self.rollno}\"\n",
    "\n",
    "s1=Student(\"Ravi\",113)   # Object creation of Student class\n",
    "print(s1.display())\n",
    "print(s1.show())"
   ]
  },
  {
   "cell_type": "code",
   "execution_count": 10,
   "metadata": {},
   "outputs": [
    {
     "name": "stdout",
     "output_type": "stream",
     "text": [
      "empoyee is working\n",
      "Manager manages 10 employees\n",
      "501\n"
     ]
    }
   ],
   "source": [
    "class Employee:\n",
    "    def __init__(self,emp_id):\n",
    "        self.emp_id=emp_id\n",
    "    def work(self):\n",
    "        print(\"empoyee is working\")\n",
    "class Manager(Employee):\n",
    "    def __init__(self, emp_id,team_size):\n",
    "        # super().__init__(emp_id) --> calls the parent constructor to avoid rewriting code.\n",
    "        super().__init__(emp_id)   # OR we could write self.emp_id = emp_id\n",
    "        self.team_size=team_size\n",
    "    \n",
    "    def manage(self):\n",
    "        print(f\"Manager manages {self.team_size} employees\")\n",
    "\n",
    "m=Manager(501,10)\n",
    "m.work()\n",
    "m.manage()\n",
    "print(m.emp_id)\n"
   ]
  },
  {
   "cell_type": "code",
   "execution_count": 17,
   "metadata": {},
   "outputs": [
    {
     "name": "stdout",
     "output_type": "stream",
     "text": [
      "Balance 1500\n",
      "Balance after interest : 1575.0\n"
     ]
    }
   ],
   "source": [
    "class BankAccount:\n",
    "    def __init__(self,balance):\n",
    "        self.balance=balance\n",
    "    def deposite(self,amount):\n",
    "        self.balance+=amount\n",
    "        print(\"Balance\",self.balance)\n",
    "class SavingsAccount(BankAccount):\n",
    "    def __init__(self, balance,rate):\n",
    "        super().__init__(balance)\n",
    "        self.rate=rate\n",
    "    def add_interest(self):\n",
    "        self.balance*=(1+self.rate)\n",
    "        print(\"Balance after interest :\",self.balance)\n",
    "\n",
    "s=SavingsAccount(1000,0.05)\n",
    "s.deposite(500) # Add 500 to balance\n",
    "s.add_interest()\n"
   ]
  },
  {
   "cell_type": "code",
   "execution_count": 22,
   "metadata": {},
   "outputs": [
    {
     "name": "stdout",
     "output_type": "stream",
     "text": [
      "ID :101, Name: T-Shirt, Price :799\n",
      "Clothing -->Brand: Nike, Size: L\n"
     ]
    }
   ],
   "source": [
    "class Product:\n",
    "    def __init__(self,product_id,name,price):\n",
    "        self.product_id=product_id\n",
    "        self.name=name\n",
    "        self.price=price\n",
    "\n",
    "    def show_details(self):\n",
    "        print(f\"ID :{self.product_id}, Name: {self.name}, Price :{self.price}\")\n",
    "\n",
    "class Clothing(Product):\n",
    "    def __init__(self,product_id,name,price,size,brand):\n",
    "        super().__init__(product_id,name,price)\n",
    "        self.size=size\n",
    "        self.brand=brand\n",
    "\n",
    "    def show_clothing(self):\n",
    "        print(f\"Clothing -->Brand: {self.brand}, Size: {self.size}\")\n",
    "\n",
    "item=Clothing(101,\"T-Shirt\",799,\"L\",\"Nike\")\n",
    "item.show_details()\n",
    "item.show_clothing()\n",
    "\n",
    "\n"
   ]
  },
  {
   "cell_type": "markdown",
   "id": "93aec24d",
   "metadata": {},
   "source": [
    "Multilevel Inhertitance"
   ]
  },
  {
   "cell_type": "code",
   "execution_count": null,
   "id": "7f45794a",
   "metadata": {},
   "outputs": [
    {
     "name": "stdout",
     "output_type": "stream",
     "text": [
      "Manager: Rishi, ID: 101, DEPT: IT\n"
     ]
    }
   ],
   "source": [
    "class Person:\n",
    "    def __init__(self,name):\n",
    "        self.name=name\n",
    "class Employee(Person):\n",
    "    def __init__(self, name,emp_id):\n",
    "        # Call the constructor of Person to set name\n",
    "        Person.__init__(self,name)  # OR super().__init__(name)\n",
    "        self.emp_id=emp_id \n",
    "class Manager(Employee):\n",
    "    def __init__(self, name, emp_id,dept):\n",
    "        # Use super() to call Employee constructor\n",
    "        super().__init__(name, emp_id)  # OR Employee..__init__(self,name,emp_id)\n",
    "        self.dept=dept\n",
    "    def show(self):\n",
    "        print(f\"Manager: {self.name}, ID: {self.emp_id}, DEPT: {self.dept}\")\n",
    "\n",
    "m=Manager(\"Rishi\",101,\"IT\")\n",
    "m.show()\n"
   ]
  },
  {
   "cell_type": "code",
   "execution_count": 9,
   "id": "05a0372d",
   "metadata": {},
   "outputs": [
    {
     "name": "stdout",
     "output_type": "stream",
     "text": [
      "I am a Person\n",
      "I am working\n",
      "I am manager\n"
     ]
    }
   ],
   "source": [
    "class Person:\n",
    "    def __init__(self):\n",
    "        self.type=\"Person\"\n",
    "    def display(self):\n",
    "        print(\"I am a Person\")\n",
    "class Employee(Person):\n",
    "    def __init__(self):\n",
    "        self.role=\"Employee\"\n",
    "    def work(self):\n",
    "        print(\"I am working\")\n",
    "class Manager(Employee):\n",
    "    def __init__(self):\n",
    "        self.position=\"Manager\"\n",
    "    def maange(self):\n",
    "        print(\"I am manager\")\n",
    "\n",
    "m=Manager()\n",
    "m.display()\n",
    "m.work()\n",
    "m.maange()"
   ]
  },
  {
   "cell_type": "code",
   "execution_count": null,
   "id": "d3262e87",
   "metadata": {},
   "outputs": [
    {
     "name": "stdout",
     "output_type": "stream",
     "text": [
      "Appliance is turned on\n",
      "Using Kitchen Appliance\n",
      "Mixing food items\n"
     ]
    }
   ],
   "source": [
    "class Appliance:\n",
    "    def __init__(self):\n",
    "        self.type=\"Appliance\"\n",
    "    def turn_on(self):\n",
    "        print(\"Appliance is turned on\")\n",
    "class KitchenAppliance(Appliance):\n",
    "    def __init__(self):\n",
    "        self.category=\"Kitchen Appliance\"\n",
    "    def use(self):\n",
    "        print(\"Using Kitchen Appliance\")\n",
    "class Mixer(KitchenAppliance):\n",
    "    def __init__(self):\n",
    "        self.name=\"Mixer\"\n",
    "    def mix(self):\n",
    "        print(\"Mixing food items\")\n",
    "\n",
    "m=Mixer()\n",
    "m.turn_on()\n",
    "m.use()\n",
    "m.mix()"
   ]
  },
  {
   "cell_type": "code",
   "execution_count": 11,
   "id": "fd465ec7",
   "metadata": {},
   "outputs": [
    {
     "name": "stdout",
     "output_type": "stream",
     "text": [
      "This is Bank\n",
      "This is account\n",
      "This is Savings account\n"
     ]
    }
   ],
   "source": [
    "class Bank:\n",
    "    def __init__(self):\n",
    "        self.bname=\"Bank\"\n",
    "    def bank_info(self):\n",
    "        print(\"This is Bank\")\n",
    "class Account(Bank):\n",
    "    def __init__(self):\n",
    "        self.atype=\"Account\"\n",
    "    def account_info(self):\n",
    "        print(\"This is account\")\n",
    "class SavingsAccount(Account):\n",
    "    def __init__(self):\n",
    "        self.stype=\"Savings\"\n",
    "    def savings_info(self):\n",
    "        print(\"This is Savings account\")\n",
    "\n",
    "s=SavingsAccount()\n",
    "s.bank_info()\n",
    "s.account_info()\n",
    "s.savings_info()"
   ]
  },
  {
   "cell_type": "code",
   "execution_count": null,
   "id": "07e126ce",
   "metadata": {},
   "outputs": [
    {
     "name": "stdout",
     "output_type": "stream",
     "text": [
      "Area:  50\n",
      "Perimeter: 30\n",
      "Volume:  250\n"
     ]
    }
   ],
   "source": [
    "class Shape:\n",
    "    def __init__(self,l,w):\n",
    "        self.l=l\n",
    "        self.w=w\n",
    "    def area(self):\n",
    "        return self.l*self.w\n",
    "class Rectangle(Shape):\n",
    "    def __init__(self, l, w):\n",
    "        super().__init__(l, w)  #  OR -->Shape.__init__(self,l,w)\n",
    "\n",
    "    def perimeter(self):\n",
    "        return 2*(self.l+self.w)\n",
    "class Box(Rectangle):\n",
    "    def __init__(self, l, w,h):\n",
    "        super().__init__(l, w)  # OR --> Rectangle.__init__(self,l,w)\n",
    "        self.h=h\n",
    "    def volume(self):\n",
    "        return self.area()*self.h   # OR --> self.l*self.w*self.h\n",
    "\n",
    "b=Box(10,5,5)\n",
    "print(\"Area: \",b.area())\n",
    "print(\"Perimeter:\",b.perimeter())\n",
    "print(\"Volume: \",b.volume())\n",
    "\n"
   ]
  },
  {
   "cell_type": "code",
   "execution_count": 14,
   "id": "fdd8969e",
   "metadata": {},
   "outputs": [
    {
     "name": "stdout",
     "output_type": "stream",
     "text": [
      "Price + GST:  1120.0\n",
      "Total Price:  3360.0\n"
     ]
    }
   ],
   "source": [
    "class Product:\n",
    "    def __init__(self,price):\n",
    "        self.price=price\n",
    "class Clothing(Product):\n",
    "    def __init__(self, price,gst):\n",
    "        super().__init__(price)\n",
    "        self.gst=gst\n",
    "    def price_with_gst(self):\n",
    "        return self.price+(self.price*self.gst/100)\n",
    "class OrderItem(Clothing):\n",
    "    def __init__(self, price, gst,qty):\n",
    "        super().__init__(price, gst)\n",
    "        self.qty=qty\n",
    "    def total_price(self):\n",
    "        return self.price_with_gst()*self.qty\n",
    "\n",
    "oi=OrderItem(1000,12,3)\n",
    "print(\"Price + GST: \",oi.price_with_gst())\n",
    "print(\"Total Price: \",oi.total_price())"
   ]
  },
  {
   "cell_type": "code",
   "execution_count": 16,
   "id": "346c45d1",
   "metadata": {},
   "outputs": [
    {
     "name": "stdout",
     "output_type": "stream",
     "text": [
      "Employee: Ravi\n",
      "Salary + Bonus: 60000\n",
      "Total Salary: 65000\n"
     ]
    }
   ],
   "source": [
    "class Employee:\n",
    "    def __init__(self, name, base_salary):\n",
    "        self.name = name\n",
    "        self.base_salary = base_salary\n",
    "\n",
    "class Developer(Employee):\n",
    "    def __init__(self, name, base_salary,bonus):\n",
    "        super().__init__(name, base_salary)\n",
    "        self.bonus = bonus\n",
    "\n",
    "    def salary_with_bonus(self):\n",
    "        return self.base_salary + self.bonus\n",
    "\n",
    "class PythonDeveloper(Developer):\n",
    "    def __init__(self, name, base_salary, bonus,project_allowance):\n",
    "        super().__init__(name, base_salary, bonus)\n",
    "        self.project_allowance = project_allowance\n",
    "\n",
    "    def total_salary(self):\n",
    "        return self.salary_with_bonus() + self.project_allowance\n",
    "\n",
    "p = PythonDeveloper(\"Ravi\", 50000, 10000, 5000)\n",
    "print(\"Employee:\", p.name)\n",
    "print(\"Salary + Bonus:\", p.salary_with_bonus())\n",
    "print(\"Total Salary:\", p.total_salary())\n"
   ]
  },
  {
   "cell_type": "markdown",
   "id": "bc96b1db",
   "metadata": {},
   "source": [
    "Multiple Inheritance"
   ]
  },
  {
   "cell_type": "code",
   "execution_count": 19,
   "id": "37a162fd",
   "metadata": {},
   "outputs": [
    {
     "name": "stdout",
     "output_type": "stream",
     "text": [
      "Employee:  Ravi\n",
      "Base Salary:  50000\n",
      "Salary + bonus:  60000\n",
      "Total Salary:  65000\n"
     ]
    }
   ],
   "source": [
    "class Employee:\n",
    "    def __init__(self,name,base_salary):\n",
    "        self.name=name\n",
    "        self.base_salary=base_salary\n",
    "class Bonus:\n",
    "    def bonus_detais(self,bonus):\n",
    "        self.bonus=bonus\n",
    "    def salary_with_bonus(self,base_salary):\n",
    "        return base_salary + self.bonus\n",
    "class ProjectAllowance:\n",
    "    def allowance_details(self,project_allowance):\n",
    "        self.project_allowance=project_allowance\n",
    "    def add_project_allowance(self,salary):\n",
    "        return salary + self.project_allowance\n",
    "# Multiple Inheritance\n",
    "class PythonDeveloper(Employee,Bonus,ProjectAllowance):\n",
    "    def __init__(self, name, base_salary,bonus,project_allowance):\n",
    "        super().__init__(name, base_salary)\n",
    "        self.bonus=bonus\n",
    "        self.project_allowance=project_allowance\n",
    "    \n",
    "    def total_salary(self):\n",
    "        salary = self.salary_with_bonus(self.base_salary)\n",
    "        return self.add_project_allowance(salary)\n",
    "\n",
    "p=PythonDeveloper(\"Ravi\",50000,10000,5000)\n",
    "\n",
    "print(\"Employee: \",p.name)\n",
    "print(\"Base Salary: \",p.base_salary)\n",
    "print(\"Salary + bonus: \",p.salary_with_bonus(p.base_salary))\n",
    "print(\"Total Salary: \",p.total_salary())"
   ]
  },
  {
   "cell_type": "code",
   "execution_count": 21,
   "id": "30d14178",
   "metadata": {},
   "outputs": [
    {
     "name": "stdout",
     "output_type": "stream",
     "text": [
      "Anita Total Marks: 95\n"
     ]
    }
   ],
   "source": [
    "class Theory:\n",
    "    def theory_marks(self, marks):\n",
    "        return marks\n",
    "\n",
    "class Practical:\n",
    "    def practical_marks(self, marks):\n",
    "        return marks\n",
    "\n",
    "class Student(Theory, Practical):\n",
    "    def __init__(self, name, theory, practical):\n",
    "        self.name = name\n",
    "        self.theory = theory\n",
    "        self.practical = practical\n",
    "\n",
    "    def total(self):\n",
    "        return self.theory + self.practical\n",
    "\n",
    "s = Student(\"Anita\", 70, 25)\n",
    "print(s.name, \"Total Marks:\", s.total())\n"
   ]
  },
  {
   "cell_type": "code",
   "execution_count": 22,
   "id": "3e276360",
   "metadata": {},
   "outputs": [
    {
     "name": "stdout",
     "output_type": "stream",
     "text": [
      "Smartphone Final Amount: 12960.0\n"
     ]
    }
   ],
   "source": [
    "class Product:\n",
    "    def product_price(self, price, qty):\n",
    "        return price * qty\n",
    "\n",
    "class GST:\n",
    "    def gst(self, amount):\n",
    "        return amount * 0.18   \n",
    "\n",
    "class Discount:\n",
    "    def discount(self, amount):\n",
    "        return amount * 0.1   \n",
    "\n",
    "class Shipping:\n",
    "    def shipping_fee(self, amount):\n",
    "        return 100 if amount < 5000 else 0\n",
    "\n",
    "class Order(Product, GST, Discount, Shipping):\n",
    "    def __init__(self, name, price, qty):\n",
    "        self.name = name\n",
    "        self.price = price\n",
    "        self.qty = qty\n",
    "\n",
    "    def final_amount(self):\n",
    "        base = self.product_price(self.price, self.qty)\n",
    "        total = base + self.gst(base) - self.discount(base) + self.shipping_fee(base)\n",
    "        return round(total, 2)\n",
    "\n",
    "o = Order(\"Smartphone\", 12000, 1)\n",
    "print(o.name, \"Final Amount:\", o.final_amount())\n"
   ]
  },
  {
   "cell_type": "markdown",
   "id": "82408b96",
   "metadata": {},
   "source": [
    "Hierarchical Inheritnce"
   ]
  },
  {
   "cell_type": "code",
   "execution_count": 23,
   "id": "e33cef6f",
   "metadata": {},
   "outputs": [
    {
     "name": "stdout",
     "output_type": "stream",
     "text": [
      "Car -> Brand: Toyota, Model: Fortuner\n",
      "Bike -> Brand: Yamaha, Engine: 150cc\n"
     ]
    }
   ],
   "source": [
    "# Parent class\n",
    "class Vehicle:\n",
    "    def __init__(self, brand):\n",
    "        self.brand = brand\n",
    "    \n",
    "    def show_brand(self):\n",
    "        print(f\"Brand: {self.brand}\")\n",
    "\n",
    "# Child class 1\n",
    "class Car(Vehicle):\n",
    "    def __init__(self, brand, model):\n",
    "        super().__init__(brand)\n",
    "        self.model = model\n",
    "    \n",
    "    def show_details(self):\n",
    "        print(f\"Car -> Brand: {self.brand}, Model: {self.model}\")\n",
    "\n",
    "# Child class 2\n",
    "class Bike(Vehicle):\n",
    "    def __init__(self, brand, cc):\n",
    "        super().__init__(brand)\n",
    "        self.cc = cc\n",
    "    \n",
    "    def show_details(self):\n",
    "        print(f\"Bike -> Brand: {self.brand}, Engine: {self.cc}cc\")\n",
    "\n",
    "\n",
    "# Objects of child classes\n",
    "c = Car(\"Toyota\", \"Fortuner\")\n",
    "b = Bike(\"Yamaha\", 150)\n",
    "\n",
    "c.show_details()\n",
    "b.show_details()\n"
   ]
  },
  {
   "cell_type": "markdown",
   "id": "ba635601",
   "metadata": {},
   "source": [
    "Hybrid Inheritance  or Diamond Inheritance"
   ]
  },
  {
   "cell_type": "code",
   "execution_count": 24,
   "id": "a6c7a4a7",
   "metadata": {},
   "outputs": [
    {
     "name": "stdout",
     "output_type": "stream",
     "text": [
      "Final Salary: 67000\n"
     ]
    }
   ],
   "source": [
    "class Employee:\n",
    "    def base_salary(self, amount):\n",
    "        return amount\n",
    "\n",
    "class Bonus(Employee):\n",
    "    def add_bonus(self, amount):\n",
    "        return amount + 10000   # Bonus\n",
    "\n",
    "class Allowance(Employee):\n",
    "    def add_allowance(self, amount):\n",
    "        return amount + 5000    # Allowance\n",
    "\n",
    "class Developer(Bonus, Allowance):   # Diamond\n",
    "    def total_salary(self, amount):\n",
    "        base = Employee.base_salary(self, amount)\n",
    "        bonus = Bonus.add_bonus(self, amount) - base\n",
    "        allowance = Allowance.add_allowance(self, amount) - base\n",
    "        return base + bonus + allowance + 2000   # Extra incentive\n",
    "\n",
    "d = Developer()\n",
    "print(\"Final Salary:\", d.total_salary(50000))\n"
   ]
  },
  {
   "cell_type": "code",
   "execution_count": null,
   "id": "bda3e4f7",
   "metadata": {},
   "outputs": [],
   "source": []
  },
  {
   "cell_type": "code",
   "execution_count": null,
   "id": "fe21794e",
   "metadata": {},
   "outputs": [],
   "source": []
  },
  {
   "cell_type": "code",
   "execution_count": null,
   "id": "e2944791",
   "metadata": {},
   "outputs": [],
   "source": []
  }
 ],
 "metadata": {
  "kernelspec": {
   "display_name": "Python 3",
   "language": "python",
   "name": "python3"
  },
  "language_info": {
   "codemirror_mode": {
    "name": "ipython",
    "version": 3
   },
   "file_extension": ".py",
   "mimetype": "text/x-python",
   "name": "python",
   "nbconvert_exporter": "python",
   "pygments_lexer": "ipython3",
   "version": "3.13.2"
  }
 },
 "nbformat": 4,
 "nbformat_minor": 5
}
